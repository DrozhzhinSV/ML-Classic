{
 "cells": [
  {
   "cell_type": "markdown",
   "metadata": {},
   "source": [
    "# Понятие функции действительного аргумента. Предел функции, непрерывность, производная и ее геометрический смысл."
   ]
  },
  {
   "cell_type": "markdown",
   "metadata": {},
   "source": [
    "$\\underline{Источники}:$\n",
    "\n",
    "- Ильин В. А., Позняк Э. Г. \"Основы математического анализа\" (Часть 1)\n",
    "\n",
    "\n",
    "- Бутузов В. Ф. \"Лекции по математическому анализу\" (Часть 1)\n",
    "\n",
    "\n",
    "- Зорич В. А. \"Математический анализ\" (Часть 1)\n",
    "\n",
    "\n",
    "- Самарский А. А. \"Введение в численные методы\"\n",
    "\n",
    "\n",
    "- Самарский А. А., Гулин А. В. \"Численные методы\""
   ]
  },
  {
   "cell_type": "code",
   "execution_count": null,
   "metadata": {},
   "outputs": [],
   "source": []
  },
  {
   "cell_type": "markdown",
   "metadata": {},
   "source": [
    "# План лекции:\n",
    "\n",
    "- Понятие функции действительного аргумента и способы задания функции\n",
    "\n",
    "\n",
    "- Восстановление значений функции: интерполяция и экстраполяция\n",
    "    \n",
    "    \n",
    "- Предел функции и его геометрический смысл\n",
    "\n",
    "\n",
    "- Непрерывность функции и классификация точек разрыва\n",
    "\n",
    "\n",
    "- Производная функции и ее геометрический смысл\n",
    "\n",
    "\n",
    "- Дифференцируемость функции и дифференциал\n",
    "\n",
    "\n",
    "- Понятие монотонности функции и ее связь со знаком производной\n",
    "\n",
    "\n",
    "- Экстремумы функции"
   ]
  },
  {
   "cell_type": "code",
   "execution_count": null,
   "metadata": {},
   "outputs": [],
   "source": []
  },
  {
   "cell_type": "markdown",
   "metadata": {},
   "source": [
    "# 1. Понятие функции\n",
    "\n",
    "Рассмотрим движения материальной точки по прямой. Будем считать, что скорость и направление движения точки постоянны. В этом случае, мы получим процесс с двумя переменными величинами - положение точки и время, в течение которого оно изменялось. \n",
    "\n",
    "Для того, чтобы описать данный процесс необходимо определить зависимость этих величин. Обочначим через $x_{0} = x(0)$ - положение точки в начальный момент времени. Тогда уравнение, описывающее движение точки будет иметь вид:\n",
    "\n",
    "$$\n",
    "x(t) = x_{0} + vt, \\quad \\text{ где } v \\text{ - скорость}.\n",
    "$$\n",
    "\n",
    "Это уравнение является примером функции. Таким образом, говоря простыми словами, функция описывает зависимость изменения одной величины при изменении другой.\n",
    "\n",
    "$\\underline{\\text{Определение 1.}}$ Пусть $\\mathbf{X}$ - некоторое числовое множество. Если каждому значению $x \\in \\mathbf{X}$ ставится в соответствие по некоторому известному закону число $y$, причем единственное, то говорят, что на множестве $\\mathbf{X}$ задана **функция** $y = f(x)$. При этом множество $\\mathbf{X}$ называется **областью определения** функции $y = f(x)$, а множество $\\mathbf{Y} = \\Big\\{y\\Big| \\exists x \\in \\mathbf{X}: f(x) = y\\Big\\}$ - **множеством значений**. Элемент $y$ из множества значений функции $\\mathbf{Y}$ называется **частным значением** функции в точке $x$. \n",
    "\n",
    "\n",
    "$\\underline{\\text{Способы задания функции}}$:\n",
    "\n",
    "1. **Аналитический**, т.е. когда функция задяется в явном виде формулой. \n",
    "\n",
    "\n",
    "   - *Квадратичная функция*: $\\mathbf{X} = (-\\infty, +\\infty)$, $\\mathbf{Y} = [0, +\\infty)$. \n",
    "\n",
    "$$\n",
    "y = x^{2}.\n",
    "$$ \n",
    "\n",
    "\n",
    "Функция может определяться несколькими различными формулами на разных участках области определения:\n",
    "\n",
    "   - *Функция знака*: $\\mathbf{X} = (-\\infty, +\\infty)$, $\\mathbf{Y} = \\{-1, 0, 1\\}$.\n",
    "\n",
    "$$\n",
    "y = sgn(x) = \\begin{cases}\n",
    "1, \\text{ если } x > 0,\\\\\n",
    "0, \\text{ если } x = 0,\\\\\n",
    "-1, \\text{ если } x < 0.\n",
    "\\end{cases}\n",
    "$$\n",
    "   \n",
    "\n",
    "**Не всякая формула** может задавать функцию. Необходимо соблюдать условие **однозначности** по $x$. Пример: $y = \\pm x^{2}$. \n",
    "\n",
    "Данный метод является наиболее удобным, поскольку позволяет рассчитать точное значение функции в каждой точке области определения. Кроме того, зная явный вид функции можно построить ее график, исследовать участки монотонности, найти производные, точки экстремума и т.д. \n",
    "\n",
    "Недостатком метода является то, что порой функция может быть задана громоздкой формулой, что может затруднить вычисление значения функции.  \n",
    "\n",
    "2. **Графический**, т.е. когда зависимость между аргументом и функцией представляется графикиком.  \n",
    "\n",
    "\n",
    "<img src=\"images/fun_ex.png\">\n",
    "\n",
    "\n",
    "Является менее точным, чем аналитический способ задания, но более удобным для восприятия. \n",
    "\n",
    "Бывают случаи, когда график - это единственный способ задать функцию. Например, электрокардиограф, который определяет частоту и регулярность сердечных сокращений и представляет результаты в виде графика.  \n",
    "\n",
    "\n",
    "3. **Табличный**. В этом случае пары $x, f(x)$ задаются в виде таблицы. Примером может служить расписание движения автобуса, которое определяет местоположение транспорта в определенные моменты времени указанные в расписании. \n",
    "\n",
    "Плюс в том, что для имеющихся точек не нужно вычислять значение функции (оно уже рассчитано в таблице). Минус - отсутствие значения функции точках, которых нет в таблице.   "
   ]
  },
  {
   "cell_type": "code",
   "execution_count": null,
   "metadata": {},
   "outputs": [],
   "source": []
  },
  {
   "cell_type": "markdown",
   "metadata": {},
   "source": [
    "# 2. Восстановление значений функции: интерполяция и экстраполяция\n",
    "\n",
    "Предположим, что мы знаем значения функции в точках $x_{0}, x_{1}, \\ldots, x_{n}$. **Как определить значения в остальных точках?**\n",
    "\n",
    "Если необходимо отыскать значения функции во внутренних точках интервала $(x_{0}, x_{n})$, то можно воспользоваться методом $\\underline{\\text{интерполяции}}$ (Самарский, стр. 61).\n",
    "\n",
    "Существуют различные виды интерполяции:\n",
    "\n",
    "\n",
    "- **Метод ближайшего соседа** Самый примитивный метод. В качестве промежуточного значения выбирается ближайшее известное значение функции.\n",
    "\n",
    "\n",
    "- **Линейная интерполяция**\n",
    "\n",
    "$$\n",
    "f(\\tilde{x}) \\approx f(x_{i}) + \\frac{f(x_{i + 1}) - f(x_{i})}{x_{i + 1} - x_{i}}(\\tilde{x} - x_{i}),\n",
    "$$\n",
    "\n",
    "где $x_{i}, x_{i + 1}$ - ближайшие слева и справа от $\\tilde{x}$ точки, в которых известно значение функции. Оценка погрешности имеет вид: \n",
    "\n",
    "$$\n",
    "|R| \\le \\max_{x \\in [x_{i}, x_{i + 1}]}{f^{''}(x)} \\cdot \\frac{(\\tilde{x} - x_{i})(\\tilde{x} - x_{i + 1})}{2}\n",
    "$$\n",
    "\n",
    "\n",
    "\n",
    "- **Квадратичная интерполяция**\n",
    "\n",
    "$$\n",
    "f(\\tilde{x}) \\approx a\\tilde{x}^{2} + b\\tilde{x} + c,\n",
    "$$\n",
    "\n",
    "где коэффициенты $a, b$ и $c$ являются решением системы уравнений\n",
    "\n",
    "$$\n",
    "\\begin{cases}\n",
    "ax_{i - 1}^{2} &+& bx_{i - 1} &+& c &=& f(x_{i - 1}),\\\\\n",
    "ax_{i}^{2} &+& bx_{i} &+& c &=& f(x_{i}),\\\\\n",
    "ax_{i + 1}^{2} &+& bx_{i + 1} &+& c &=& f(x_{i + 1}),\n",
    "\\end{cases}\n",
    "$$\n",
    "\n",
    "а $x_{i}$ - ближайшая к $\\tilde{x}$ точка.\n",
    "\n",
    "Оценка погрешности имеет вид: \n",
    "\n",
    "$$\n",
    "|R| \\le \\max_{x \\in [x_{i - 1}, x_{i + 1}]}{f^{'''}(x)} \\cdot \\frac{(\\tilde{x} - x_{i - 1})(\\tilde{x} - x_{i})(\\tilde{x} - x_{i + 1})}{6}\n",
    "$$\n",
    "\n",
    "\n",
    "Описанные методы являются примерами локальной интерполяции, т.е. на каждом участке $[x_{i - 1}, x_{i}]$ строится свой интерполяционный полином.\n",
    "\n",
    "- **Интерполяционный полином Лагранжа**\n",
    "\n",
    "\n",
    "\\begin{multline}\n",
    "f(\\tilde{x}) \\approx f(x_{0})\\frac{(\\tilde{x} - x_{1})(\\tilde{x} - x_{2})\\cdot\\ldots\\cdot(\\tilde{x} - x_{n})}{(x_{0} - x_{1})(x_{0} - x_{2})\\cdot\\ldots\\cdot(x_{0} - x_{n})} + \\\\ + f(x_{1})\\frac{(\\tilde{x} - x_{0})(\\tilde{x} - x_{2})\\cdot\\ldots\\cdot(\\tilde{x} - x_{n})}{(x_{1} - x_{0})(x_{1} - x_{2})\\cdot\\ldots\\cdot(x_{1} - x_{n})} + \\ldots + \\\\ + f(x_{n})\\frac{(\\tilde{x} - x_{1})(\\tilde{x} - x_{2})\\cdot\\ldots\\cdot(\\tilde{x} - x_{n - 1})}{(x_{n} - x_{0})(x_{n} - x_{1})\\cdot\\ldots\\cdot(x_{n} - x_{n - 1})}\n",
    "\\end{multline}\n",
    "\n",
    "Оценка погрешности для данного метода имеет вид: \n",
    "\n",
    "$$\n",
    "|R| \\le \\max_{x \\in [x_{0}, x_{n}]}{f^{(n + 1)}(x)} \\cdot \\frac{(\\tilde{x} - x_{0})(\\tilde{x} - x_{1})\\cdot\\ldots\\cdot(\\tilde{x} - x_{n})}{(n + 1)!}\n",
    "$$\n",
    "\n",
    "Интерполяция полиномом Лагранжа является примером глобальной интерполяции, поскольку функция $f(x)$ интерполируется на всем отрезке $[x_{0}, x_{n}]$ единым полиномом. \n",
    "\n",
    "- **и т.д.**\n",
    "\n",
    "\n",
    "Если же нам необходимо восстановить значение функции в точках, лежащих вне отрезка $[x_{0}, x_{n}]$, то необходимо воспользоваться методами [*$\\underline{\\text{экстраполяции}}$*](https://en.wikipedia.org/wiki/Extrapolation), которые во многом схожи с методами интерполяции.\n",
    "\n",
    "$\\underline{\\text{Аналогия интерполяции и экстраполяции с машинным обучением:}}$ как обычно устроен процесс построения модели регрессии или классификации: имеется некоторая выборка, которую мы делим на 2 части - *тренировочная* и *тестовая (валидационная)*, в пропорциях 70/30 или 80/20. На большей из этих частей мы обучаем модель и рассчитываем некоторую метрику качества. Затем применяем полученную модель к тестовой выборке и сравниваем качество, полученное на обучении с качеством на тесте. В случае, если модель обладает хорошей обобщающей способностью, т.е. качество на этих двух выборках не отличается, мы начинаем использовать модель в реальном времени, предполагая, что поведение объектов будет не сильно отличаться от того, что было на обучении. \n",
    "\n",
    "Так вот, по сути, интерполяция это процесс обучения модели на тренировочных данных и оценка ее качества на тестовых данных. А экстраполяция - это применение модели к реальным данным. Отличие в том, что при интерполяции мы заранее можем оценить погрешность рассматриваемого метода, в случае же машинного обучения это неверно."
   ]
  },
  {
   "cell_type": "code",
   "execution_count": null,
   "metadata": {},
   "outputs": [],
   "source": []
  },
  {
   "cell_type": "markdown",
   "metadata": {},
   "source": [
    "### Пример интерполирования функции в Python\n",
    "\n",
    "Про то, как интерполировать функции в python можно посмотреть [*здесь*](https://docs.scipy.org/doc/scipy/reference/tutorial/interpolate.html)"
   ]
  },
  {
   "cell_type": "code",
   "execution_count": 1,
   "metadata": {},
   "outputs": [
    {
     "data": {
      "image/png": "[encoded data removed]",
      "text/plain": [
       "<Figure size 1296x504 with 1 Axes>"
      ]
     },
     "metadata": {
      "needs_background": "light"
     },
     "output_type": "display_data"
    }
   ],
   "source": [
    "import numpy as np\n",
    "from scipy.interpolate import interp1d\n",
    "import matplotlib.pyplot as plt\n",
    "\n",
    "x = np.linspace(1, 30, 15)\n",
    "y = np.sin(x)\n",
    "\n",
    "f1 = interp1d(x, y, kind = 'linear')\n",
    "f2 = interp1d(x, y, kind = 'quadratic')\n",
    "f3 = interp1d(x, y, kind = 'nearest')\n",
    "\n",
    "x_new = np.linspace(1, 30, 200)\n",
    "y_new = np.sin(x_new)\n",
    "\n",
    "fig, axs = plt.subplots(figsize = (18, 7), nrows = 1, ncols = 1)\n",
    "\n",
    "axs.plot(x_new, y_new)\n",
    "axs.plot(x_new, f1(x_new), '-')\n",
    "axs.plot(x_new, f2(x_new), '--')\n",
    "axs.plot(x_new, f3(x_new), '*')\n",
    "axs.plot(x, y, 'o', markersize = 8, color = 'black')\n",
    "\n",
    "\n",
    "axs.legend(['Исходная функция', 'Линейная', 'Квадратичная', 'Ближайший сосед', 'Узлы интерполяции'], \n",
    "            loc = 3)\n",
    "axs.set_title(r\"Интерполирование функции $\\sin{(x)}$ на интервале $(1, 30)$\", fontsize = 20)\n",
    "plt.show()"
   ]
  },
  {
   "cell_type": "code",
   "execution_count": null,
   "metadata": {},
   "outputs": [],
   "source": []
  },
  {
   "cell_type": "markdown",
   "metadata": {},
   "source": [
    "### Сравнение рассмотренных методов интерполяции с помощью средней абсолютной ошибки (MAE)\n",
    "\n",
    "$$\n",
    "MAE = \\frac{1}{n}\\sum\\limits_{i = 1}^{n}|fact_{i} - pred_{i}|,\n",
    "$$\n",
    "\n",
    "где $fact_{i}$ - значение исходной функции в точке $x_{i}$, $pred_{i}$ - значение, полученное с помощью интерполяции в точке $x_{i}$. "
   ]
  },
  {
   "cell_type": "code",
   "execution_count": null,
   "metadata": {},
   "outputs": [],
   "source": []
  },
  {
   "cell_type": "code",
   "execution_count": 2,
   "metadata": {},
   "outputs": [
    {
     "name": "stdout",
     "output_type": "stream",
     "text": [
      "MAE LINEAR    = 0.2114621487759041\n",
      "MAE QUADRATIC = 0.1087151303315791\n",
      "MAE NEAREST   = 0.3113750257959466\n",
      "\n"
     ]
    }
   ],
   "source": [
    "print('\\\n",
    "MAE LINEAR    = {s[0]}\\n\\\n",
    "MAE QUADRATIC = {s[1]}\\n\\\n",
    "MAE NEAREST   = {s[2]}\\n'.format(s = [abs(y_new - f1(x_new)).mean(),\n",
    "                                      abs(y_new - f2(x_new)).mean(),\n",
    "                                      abs(y_new - f3(x_new)).mean()]))"
   ]
  },
  {
   "cell_type": "code",
   "execution_count": null,
   "metadata": {},
   "outputs": [],
   "source": []
  },
  {
   "cell_type": "markdown",
   "metadata": {},
   "source": [
    "### Зависимость средней абсолютной ошибки от количества узлов"
   ]
  },
  {
   "cell_type": "code",
   "execution_count": 3,
   "metadata": {},
   "outputs": [
    {
     "data": {
      "image/png": "[encoded data removed]",
      "text/plain": [
       "<Figure size 1296x504 with 1 Axes>"
      ]
     },
     "metadata": {
      "needs_background": "light"
     },
     "output_type": "display_data"
    }
   ],
   "source": [
    "f1_abs_err = []\n",
    "f2_abs_err = []\n",
    "f3_abs_err = []\n",
    "\n",
    "k_min = 11\n",
    "k_max = 60\n",
    "\n",
    "for i in range(k_min, k_max):\n",
    "    x = np.linspace(1, 30, i)\n",
    "    y = np.sin(x)\n",
    "\n",
    "    f1 = interp1d(x, y, kind = 'linear')\n",
    "    f2 = interp1d(x, y, kind = 'quadratic')\n",
    "    f3 = interp1d(x, y, kind = 'nearest')\n",
    "\n",
    "    f1_abs_err.append(abs(y_new - f1(x_new)).mean())\n",
    "    f2_abs_err.append(abs(y_new - f2(x_new)).mean())\n",
    "    f3_abs_err.append(abs(y_new - f3(x_new)).mean())\n",
    "    \n",
    "fig, axs = plt.subplots(figsize = (18, 7), nrows = 1, ncols = 1)\n",
    "axs.plot(range(k_min, k_max), f1_abs_err)\n",
    "axs.plot(range(k_min, k_max), f2_abs_err)\n",
    "axs.plot(range(k_min, k_max), f3_abs_err)\n",
    "axs.set_xlabel('Количество узлов')\n",
    "\n",
    "axs.legend(['linear', 'quadratic', 'nearest'], loc = 'best')\n",
    "plt.show()"
   ]
  },
  {
   "cell_type": "code",
   "execution_count": null,
   "metadata": {},
   "outputs": [],
   "source": []
  },
  {
   "cell_type": "markdown",
   "metadata": {},
   "source": [
    "# 3. Предел функции"
   ]
  },
  {
   "cell_type": "markdown",
   "metadata": {},
   "source": [
    "### Предел функции и его геометрический смысл\n",
    "\n",
    "Рассмотрим функцию \n",
    "\n",
    "$$f(x) = \\frac{\\sin{(x)}}{x}$$.\n",
    "\n",
    "Данная функция не определена в 0. Давайте посмотрим, какие значения она принимает по мере приближения аргумента к 0:\n",
    "\n",
    "|        |                 |         |        |          |          |         |         |      |\n",
    "|:------:|:---------------:|:-------:|:------:|:--------:|:--------:|:-------:|:-------:|:----:|\n",
    "| $x$    |             0.1 | 0.05    | 0.02   | 0.001    | -0.001   |-0.02    |-0.05    |-0.1  |\n",
    "| $f(x)$ |            0.998| 0.99958 | 0.99993| 0.9999998| 0.9999998|0.99993  |0.99958  |0.998 |\n",
    "\n",
    "Из таблицы видно, что при приближении аргумента к 0 и слева, и справа, значение функции стремится к 1. В этом случае говорят, что функция $f(x) = \\frac{\\sin{(x)}}{x}$ имеет предел в точке 0 равный 1. Стоит отметить, что существование предела функции в точке не зависит от того, определена ли функция в данной точке или нет. Единственным необходимым условием существования предела функции в точке является наличие в любой ее окрестности точек из области определения.\n",
    "\n",
    "Сформулируем определение предела. Для этого рассмотрим функцию $y = f(x)$, определенную на некотором множестве $\\mathbf{X}$ и точку $a$, которая может не принадлежать множеству $\\mathbf{X}$, но в любой ее проколотой $\\varepsilon$ - окрестности имеются точки из множества $\\mathbf{X}$. \n",
    "\n",
    "\n",
    "$\\underline{\\text{Определение 2.}}$ Число $b$ называется **пределом функции** $y = f(x)$ в точке $x = a$, если $\\forall \\varepsilon > 0$ $\\exists \\delta > 0$, такое, что для любого значения аргумента $x$ из проколотой $\\delta$ - окрестности точки $a$ выполняется неравенство $|f(x) - b| < \\varepsilon$.\n",
    "\n",
    "С геометрической точки зрения, существование $\\lim_{x \\to a}f(x) = b$ означает, что в пределах проколотой $\\delta$ - окрестности точки $a$ график функции $f(x)$ лежит между прямыми $y = b - \\varepsilon$ и $y = b + \\varepsilon$. То есть, мы можем сделать значение $f(x)$ сколь угодно близким к $b$, выбирая $x$ достаточно близким к $a$.\n",
    "\n",
    "<img src=\"images/geom_limit.png\">\n",
    "\n",
    "Аналогично определению обычного предела, можно ввести определения односторонних пределов:\n",
    "\n",
    "$\\underline{\\text{Определение 3.}}$ Число $b$ называется **правым пределом функции** $y = f(x)$ в точке $x = a$, если для любой $\\varepsilon > 0$ существует $\\delta > 0$, такое, что для любого $x \\in (a, a + \\delta)$ выполняется неравенство\n",
    "\n",
    "$$\n",
    "|f(x) - b| < \\varepsilon.\n",
    "$$\n",
    "\n",
    "В случае **левого предела** нужно рассматривать точки $x$ из интервала $(a - \\delta, a)$.\n",
    "\n",
    "\n",
    "$\\underline{\\text{Утверждение 1.}}$ Если у функции существуют оба одностороннних предела в точке $a$ и они равны\n",
    "\n",
    "$$\n",
    "\\lim_{x \\to a - 0}f(x) = \\lim_{x \\to a + 0}f(x) = b,\n",
    "$$\n",
    "\n",
    "то у данной функции существует предел в точке $a$, который равен $b$. Если же хотя бы один из односторонних пределов функции $f(x)$ в точке $a$ не существует или существуют оба, но они не равны, то предел функции $f(x)$ в точке $a$ **не существует**.\n",
    "\n",
    "\n",
    "$\\underline{\\text{Пример}}$:\n",
    "- Функция знака \n",
    "\n",
    "$$\n",
    "\\lim_{x \\to 0 - 0}sgn(x) = -1 \\neq 1 = \\lim_{x \\to 0 + 0}sgn(x),\n",
    "$$\n",
    "\n",
    "$$\n",
    "\\lim_{x \\to 0}sgn(x) \\text{ - не существует}.\n",
    "$$"
   ]
  },
  {
   "cell_type": "code",
   "execution_count": null,
   "metadata": {},
   "outputs": [],
   "source": []
  },
  {
   "cell_type": "markdown",
   "metadata": {},
   "source": [
    "### Предел на бесконечности\n",
    "$\\underline{\\text{Определение 4.}}$ Число $b$ называется **пределом функции** $y = f(x)$ при $x \\to +\\infty$ ($x \\to -\\infty$), если для любого $\\varepsilon > 0$ $\\exists A$, такое, что для любого аргумента $x > A$ ($x < A$) выполняется условие $|f(x) - b| < \\varepsilon$.\n",
    "\n",
    "\n",
    "$\\underline{\\text{Пример}}$:\n",
    "\n",
    "- $\\lim_{x \\to -\\infty} \\frac{1}{x} = 0$\n",
    "\n",
    "    Возьмем $A = -\\frac{1}{\\varepsilon}$, $\\varepsilon > 0$. \n",
    "    \n",
    "    Исходя из определения, необходимо показать, что для любого $x < A$ выполняется условие \n",
    "    \n",
    "    $$|f(x) - b| < \\varepsilon.$$ \n",
    "    \n",
    "    В нашем случае, $f(x) = \\frac{1}{x}$, $b = 0$. То есть нужно показать, что $\\big|\\frac{1}{x}\\big| < \\varepsilon$.\n",
    "    \n",
    "    Поскольку $x < A$, то $x < -\\frac{1}{\\varepsilon}$. Из этого следут, что во - первых, $\\frac{1}{x} > -\\varepsilon$, а во - вторых, в силу положительности ${\\varepsilon}$, что $\\frac{1}{x} < \\varepsilon$, а это и означает, что $\\big|\\frac{1}{x}\\big| < \\varepsilon$."
   ]
  },
  {
   "cell_type": "code",
   "execution_count": null,
   "metadata": {},
   "outputs": [],
   "source": []
  },
  {
   "cell_type": "markdown",
   "metadata": {},
   "source": [
    "### Замечательные пределы\n",
    "\n",
    "\n",
    "При нахождении пределов сложных функций часто, в качестве промежуточных вычислений, используются два замечательных предела, представляющих собой неопределенности вида $\\frac{0}{0}$ и $1^{\\infty}$:  \n",
    "\n",
    "- Первый замечательный предел: $\\lim_{x \\to 0}\\frac{\\sin{x}}{x} = 1$.\n",
    "- Второй замечательный предел: $\\lim_{x \\to \\infty}\\Big(1 + \\frac{1}{x}\\Big)^{x} = e$.\n",
    "\n",
    "Вывод данных соотношений можно найти, например, в учебнике Ильина на странице 134.\n",
    "\n",
    "$\\underline{\\text{Примеры}}$:\n",
    "\n",
    "- $\\lim_{x \\to 0}\\frac{\\sin{2x}}{5x} = \\lim_{x \\to 0}\\frac{\\sin{2x}}{2x} \\frac{2}{5} = \\frac{2}{5}$.\n",
    "\n",
    "- $\\lim_{x \\to \\infty}\\Big(1 + \\frac{1}{7x}\\Big)^{2x} = \\lim_{x \\to \\infty}\\Bigg(\\Big(1 + \\frac{1}{7x}\\Big)^{7x}\\Bigg)^{2/7} = e^{2/7}$."
   ]
  },
  {
   "cell_type": "code",
   "execution_count": null,
   "metadata": {},
   "outputs": [],
   "source": []
  },
  {
   "cell_type": "markdown",
   "metadata": {},
   "source": [
    "### Пример отыскания пределов в python"
   ]
  },
  {
   "cell_type": "code",
   "execution_count": 2,
   "metadata": {
    "scrolled": false
   },
   "outputs": [
    {
     "data": {
      "text/latex": [
       "$\\displaystyle 1$"
      ],
      "text/plain": [
       "1"
      ]
     },
     "metadata": {},
     "output_type": "display_data"
    },
    {
     "data": {
      "text/latex": [
       "$\\displaystyle e$"
      ],
      "text/plain": [
       "E"
      ]
     },
     "metadata": {},
     "output_type": "display_data"
    },
    {
     "name": "stdout",
     "output_type": "stream",
     "text": [
      "\n"
     ]
    },
    {
     "data": {
      "text/latex": [
       "$\\displaystyle \\frac{2}{5}$"
      ],
      "text/plain": [
       "2/5"
      ]
     },
     "metadata": {},
     "output_type": "display_data"
    },
    {
     "data": {
      "text/latex": [
       "$\\displaystyle e^{\\frac{2}{7}}$"
      ],
      "text/plain": [
       "exp(2/7)"
      ]
     },
     "metadata": {},
     "output_type": "display_data"
    },
    {
     "name": "stdout",
     "output_type": "stream",
     "text": [
      "\n"
     ]
    },
    {
     "data": {
      "text/latex": [
       "$\\displaystyle -1$"
      ],
      "text/plain": [
       "-1"
      ]
     },
     "metadata": {},
     "output_type": "display_data"
    },
    {
     "data": {
      "text/latex": [
       "$\\displaystyle 1$"
      ],
      "text/plain": [
       "1"
      ]
     },
     "metadata": {},
     "output_type": "display_data"
    },
    {
     "data": {
      "text/latex": [
       "$\\displaystyle 0$"
      ],
      "text/plain": [
       "0"
      ]
     },
     "metadata": {},
     "output_type": "display_data"
    }
   ],
   "source": [
    "from sympy import *\n",
    "import math\n",
    "\n",
    "z = Symbol('z')\n",
    "\n",
    "# Замечательные пределы\n",
    "display(limit(sin(z) / z, z, 0))\n",
    "display(limit((1 + 1 / z)**z, z, math.inf))\n",
    "\n",
    "print()\n",
    "\n",
    "# Примеры, где для вычисления предела применялись замечательные пределы\n",
    "display(limit(sin(2*z) / (5 * z), z, 0))\n",
    "display(limit((1 + 1 / (7 * z))**(2 * z), z, math.inf))\n",
    "\n",
    "\n",
    "print()\n",
    "\n",
    "# Односторонние пределы для функции знака\n",
    "display(limit(sign(z), z, 0, '-'))\n",
    "display(limit(sign(z), z, 0, '+'))\n",
    "\n",
    "\n",
    "display(limit(z / (z*z + 1), z, 0))"
   ]
  },
  {
   "cell_type": "code",
   "execution_count": null,
   "metadata": {},
   "outputs": [],
   "source": []
  },
  {
   "cell_type": "markdown",
   "metadata": {},
   "source": [
    "# 4. Непрерывность функции. Классификация точек разрыва.\n",
    "\n",
    "\n",
    "### Понятие непрерывности функции в точке\n",
    "\n",
    "\n",
    "Пусть функция $f(x)$ определена в некоторой окрестности точки $a$. \n",
    "\n",
    "$\\underline{\\text{Определение 5.}}$ Функция $f(x)$ называется **непрерывной** в точке $a$, если у нее существует предел в этой точке равный частному значению $f(a)$:\n",
    "\n",
    "$$\n",
    "\\lim_{x \\to a}f(x) = f(a).\n",
    "$$\n",
    "\n",
    "Если функция непрерывна в каждой точке некоторого множества, то она непрерывна на этом множестве.\n",
    "\n",
    "Перепишем данное определение. Рассмотрим произвольную точку $x$ из некоторой окрестности точки $a$. Пусть $x = a + \\Delta x$. Тогда непрерывность в точке $a$ равносильна следующему условию:\n",
    "\n",
    "$$\n",
    "\\lim_{\\Delta x \\to 0}\\big(f(a + \\Delta x) - f(a)\\big) = 0.\n",
    "$$\n",
    "\n",
    "\n",
    "То есть, если функция непрерывна в точке $a$, то малые отклонения аргумента от данной точки приводят к малым изменениям значений функции. \n",
    "\n",
    "\n",
    "\n",
    "Аналогично можно ввести понятия непрерывности слева и справа.\n",
    "\n",
    "\n",
    "$\\underline{\\text{Определение 6.}}$ Функция $f(x)$ **непрерывна справа (слева)** в точке $a$, если\n",
    "\n",
    "$$\n",
    "\\lim_{x \\to a + 0}f(x) = f(a) \\qquad \\Big(\\lim_{x \\to a - 0}f(x) = f(a)\\Big).\n",
    "$$\n",
    "\n",
    "$\\underline{\\text{Утверждение 2.}}$ Если функция $f(x)$ непрерывна в точке $a$ слева и справа, то она непрерывна в этой точке.\n",
    "\n",
    "Действительно, поскольку функция непрерывна слева в точке $a$, то у нее существует левый предел в этой точке, равный частному значению функции в точке $a$. Аналогично с правым пределом. Таким образом, в точке $a$ существуют оба односторонних предела, которые равны частному значению функции $f(a)$. Следовательно, существует и общий предел равный $f(a)$.   \n"
   ]
  },
  {
   "cell_type": "code",
   "execution_count": null,
   "metadata": {},
   "outputs": [],
   "source": []
  },
  {
   "cell_type": "markdown",
   "metadata": {},
   "source": [
    "### Классификация точек разрыва\n",
    "\n",
    "\n",
    "Если функция не является непрерывной в точке, то данная точка является **точкой разрыва**.\n",
    "\n",
    "Классификация точек разрыва:\n",
    "\n",
    "- **Точка устранимого разрыва** - это такая точка, в которой существует предел функции, но он не равен частному значению функции в этой точке либо функция в этой точке не определена. Примером функции с устранимым разрывом является следующая:\n",
    "\n",
    "$$\n",
    "y = f(x) = \\begin{cases}\n",
    "\\frac{\\sin{x}}{x}, \\text{ если } x \\neq 0,\\\\\n",
    "2, \\text{ иначе}.\n",
    "\\end{cases}\n",
    "$$\n",
    "\n",
    "В данном случае имеется устранимый разрыв в точке $x = 0$, поскольку предел в этой точке равен 1, а частное значение равно 2. Данный разрыв можно устранить, переопределив частное значение функции $f(x)$ в точке $x = 0$ предельным значением в данной точке.\n",
    "\n",
    "\n",
    "- **Разрыв 1 - го рода** - это такая точка, в которой существуют односторонние пределы, отличные друг от друга. Примером функции с разрывом 1 - го рода является функция знака.\n",
    "\n",
    "\n",
    "- **Разрыв 2 - го рода** - это такая точка, в которой не существует хотя бы одного одностороннего предела либо хотя бы один из них равен бесконечности. Примером функции с разрывом 2 - го рода является следующая:\n",
    "\n",
    "$$\n",
    "y = f(x) = \\frac{x}{x^{2} - 1}.\n",
    "$$\n",
    "\n",
    "Данная функция имеет 2 точки разрыва 2 - го рода: $x = -1$ и $x = 1$. Действительно,\n",
    "\n",
    "$$\n",
    "\\lim_{x \\to -1 - 0}\\frac{x}{x^{2} - 1} = -\\infty, \\quad \\lim_{x \\to -1 + 0}\\frac{x}{x^{2} - 1} = +\\infty,\n",
    "$$\n",
    "$$\n",
    "\\lim_{x \\to 1 - 0}\\frac{x}{x^{2} - 1} = -\\infty, \\quad \\lim_{x \\to 1 + 0}\\frac{x}{x^{2} - 1} = +\\infty.\n",
    "$$\n",
    "\n",
    "Для доказательства достаточно построить график функции. Можно также решить аналитически: для этого необходимо представить функцию в виде $\\frac{x}{(x - 1)(x + 1)}$. Очевидно, что в нулях знаменателя функция уходит на бесконечность. Остается разобраться когда и на какую. Для этого найдем все нули числителя и знаменателя: -1, 0, 1. Далее исследуем знак функции на интервалах, полученных разделением прямой этими точками\n",
    "\n",
    "|        |        |             |           |        |\n",
    "|:------:|:------:|:-----------:|:---------:|:------:|\n",
    "| $x$    |  < -1  | -1 < x < 0  | 0 < x < 1 |  > 1   |\n",
    "| $f(x)$ |     -  |      +      |     -     |    +   |\n",
    "\n",
    "Результаты приведенные в таблице подтверждают сказанное выше.\n",
    "\n",
    "\n",
    "<img src=\"images/break_point.png\"> "
   ]
  },
  {
   "cell_type": "code",
   "execution_count": null,
   "metadata": {},
   "outputs": [],
   "source": []
  },
  {
   "cell_type": "markdown",
   "metadata": {},
   "source": [
    "# 5. Производная функции и ее дифференциал\n",
    "\n",
    "Пусть функция $y = f(x)$ определена на интервале $(a, b)$. Рассмотрим две произвольные точки $x \\in (a, b)$ и $x + \\Delta x \\in (a, b)$. \n",
    "\n",
    "$\\underline{\\text{Определение 7.}}$ **Приращением функции** $y = f(x)$ в точке $x$ называется разность\n",
    "\n",
    "$$\n",
    "\\Delta y = f(x + \\Delta x) - f(x).\n",
    "$$\n",
    "\n",
    "При этом величина $\\Delta x$ называется **приращением аргумента** функции в точке $x$.\n",
    "\n",
    "Если существует \n",
    "\n",
    "$$\n",
    "\\lim_{\\Delta x \\to 0}\\frac{\\Delta y}{\\Delta x} = \\lim_{\\Delta x \\to 0}\\frac{f(x + \\Delta x) - f(x)}{\\Delta x},\n",
    "$$\n",
    "\n",
    "то он называется **производной функции** $y = f(x)$ в точке $x$ и обозначается $f^{'}(x)$ или $y^{'}(x)$.\n",
    "\n",
    "Аналогично можно ввести понятия односторонних производных: $\\lim_{\\Delta x \\to 0 - 0}\\frac{\\Delta y}{\\Delta x}, \\lim_{\\Delta x \\to 0 + 0}\\frac{\\Delta y}{\\Delta x}$. Для существования у функции производной в точке $x$ необходимо и достаточно, чтобы у нее в этой точке существовали обе односторонние производные и они были равны.\n",
    "\n",
    "$\\underline{\\text{Пример:}}$ Покажем, что функция\n",
    "\n",
    "$$\n",
    "y = |x|\n",
    "$$\n",
    "\n",
    "не имеет производной в точке $x = 0$.\n",
    "\n",
    "$$\n",
    "f_{-}^{'}(0) = \\lim_{\\Delta x \\to 0 - 0}\\frac{\\Delta y}{\\Delta x} = \\lim_{\\Delta x \\to 0 - 0}\\frac{|\\Delta x|}{\\Delta x} = \\lim_{\\Delta x \\to 0 - 0}\\frac{-\\Delta x}{\\Delta x} = -1,\n",
    "$$\n",
    "\n",
    "$$\n",
    "f_{+}^{'}(0) = \\lim_{\\Delta x \\to 0 + 0}\\frac{\\Delta y}{\\Delta x} = \\lim_{\\Delta x \\to 0 + 0}\\frac{|\\Delta x|}{\\Delta x} = \\lim_{\\Delta x \\to 0 + 0}\\frac{\\Delta x}{\\Delta x} = 1 \\neq f_{-}^{'}(0).\n",
    "$$"
   ]
  },
  {
   "cell_type": "code",
   "execution_count": null,
   "metadata": {},
   "outputs": [],
   "source": []
  },
  {
   "cell_type": "markdown",
   "metadata": {},
   "source": [
    "### Физический смысл производной\n",
    "\n",
    "Пусть функция $y = f(x)$ описывает зависимость пройденного пути $y$ от времени $x$. Тогда выражение, стоящее под знаком предела в определении производной будет определять среднюю скорость движения за интервал времени $\\Delta x$. Устремляя интервал времени к нулю $\\Delta x \\to 0$, мы получим мгновенную скорость точки в момент времени $x$.  "
   ]
  },
  {
   "cell_type": "code",
   "execution_count": null,
   "metadata": {},
   "outputs": [],
   "source": []
  },
  {
   "cell_type": "markdown",
   "metadata": {},
   "source": [
    "### Геометрический смысл производной\n",
    "\n",
    "\n",
    "Рассмотрим график произвольной функции $y = f(x)$. Зафиксируем значение аргумента $x_{0}$ и его приращение $\\Delta x$. Через $M$ и $P$ обозначим точки графика функции $y = f(x)$ соответствующие значениям $x_{0}$ и $x_{0} + \\Delta x$.\n",
    "\n",
    "<img src=\"images/geom_deriv.png\"> \n",
    "\n",
    "Прямая, проходящая через 2 точки графика называется **секущей**. Таким образом, прямая $MP$ - секущая к графику функции $y = f(x)$. Её уравнение легко получить из следующего соотношения:\n",
    "\n",
    "$$\n",
    "\\frac{y - f(x_{0})}{x - x_{0}} = \\frac{f(x_{0} + \\Delta x) - f(x_{0})}{x_{0} + \\Delta x - x_{0}} = \\frac{\\Delta y}{\\Delta x} \\Rightarrow y = f(x_{0}) + \\frac{\\Delta y}{\\Delta x} (x - x_{0}).\n",
    "$$\n",
    "\n",
    "Устремляя $\\Delta x \\to 0$ мы получим, что с одной стороны, секущая переходит в касательную, а с другой стороны уравнение этой касательной:\n",
    "\n",
    "$$\n",
    "y = \\lim_{\\Delta x \\to 0}\\Big(f(x_{0}) + \\frac{\\Delta y}{\\Delta x} (x - x_{0})\\Big) = \\lim_{\\Delta x \\to 0}\\Big(\\frac{\\Delta y}{\\Delta x}\\Big)(x - x_{0}) + f(x_{0}) = f^{'}(x_{0})(x - x_{0}) + f(x_{0}).\n",
    "$$\n",
    "\n",
    "Таким образом, производная функции в некоторой точке $x_{0}$ является угловым коэффициентом касательной к графику данной функции в точке $x_{0}$, т.е. $f^{'}(x_{0}) = tg(\\alpha)$, где $\\alpha$ - угол между касательной и положительным направлением оси $Ox$."
   ]
  },
  {
   "cell_type": "code",
   "execution_count": null,
   "metadata": {},
   "outputs": [],
   "source": []
  },
  {
   "cell_type": "markdown",
   "metadata": {},
   "source": [
    "### Дифференцируемость функции и дифференциал\n",
    "\n",
    "$\\underline{\\text{Определение 8.}}$ Функция $y = f(x)$ называется **дифференцируемой** в точке $x$, если приращение $\\Delta y$ этой функции в точке $x$, соответствующее приращению аргумента $\\Delta x$, может быть представлено в виде\n",
    "\n",
    "$$\n",
    "\\Delta y = A\\Delta x + \\alpha\\big(\\Delta x\\big)\\Delta x,\n",
    "$$\n",
    "\n",
    "где $A$ - некоторое число, не зависящее от $\\Delta x$, а $\\alpha$ - бесконечно малая функция при $\\Delta x \\to 0$, т.е. $\\lim_{\\Delta x \\to 0}\\alpha\\big(\\Delta x\\big) = 0$. Величина $A\\Delta x$ называется **главной частью** приращения дифференцируемой функции. \n",
    "\n",
    "Таким образом, функция дифференцируема в точке $x$, если найдется окрестность этой точки, где ее приращение может быть представлено линейной функцией от приращения аргумента, т.е. в данной точке не будет излома. \n",
    "\n",
    "$\\underline{\\text{Утверждение 4.}}$ Функция $y = f(x)$ дифференцируема в точке $x$ тогда и только тогда, когда она имеет в этой точке конечную производную.\n",
    "\n",
    "Давайте докажем данное утверждение: пусть функция $y = f(x)$ дифференцируема в точке $x$. Разделим представленную выше формулу для приращения на $\\Delta x$:\n",
    "\n",
    "$$\n",
    "\\frac{\\Delta y}{\\Delta x} = A + \\alpha\\big(\\Delta x\\big) \\Rightarrow \\lim_{\\Delta x \\to 0}\\frac{\\Delta y}{\\Delta x} = A.\n",
    "$$\n",
    "\n",
    "Пусть теперь функция $y = f(x)$ имеет в точке $x$ конечную производную:\n",
    "\n",
    "$$\n",
    "\\lim_{\\Delta x \\to 0}\\frac{\\Delta y}{\\Delta x} = f^{'}(x).\n",
    "$$\n",
    "\n",
    "Тогда \n",
    "\n",
    "$$\n",
    "\\frac{\\Delta y}{\\Delta x} - f^{'}(x) = \\alpha\\big(\\Delta x\\big), \\quad \\text{ где } \\alpha \\text{ является бесконечно малой при } \\Delta x \\to 0.\n",
    "$$\n",
    "\n",
    "Следовательно, \n",
    "\n",
    "$$\n",
    "\\Delta y = f^{'}(x)\\Delta x + \\alpha\\Delta x.\n",
    "$$\n",
    "\n",
    "Таким образом, данная теорема позволяет отождествлять понятие дифференцируемости в данной точке с понятием существования у функции производной в этой же точке. Кроме того, мы выяснили, что \n",
    "\n",
    "$$\n",
    "A = f^{'}(x).\n",
    "$$\n",
    "\n",
    "\n",
    "$\\underline{\\text{Утверждение 5.}}$  Если функция $y = f(x)$ дифференцируема в точке $x$, то она непрерывна в этой точке. Обратное неверно. \n",
    "\n",
    "$\\underline{\\text{Примеры:}}$ \n",
    "\n",
    "\n",
    "- Функция модуля в точке $x = 0$\n",
    "\n",
    "$$\n",
    "y = |x|\n",
    "$$\n",
    "\n",
    "Посчитаем приращение $\\Delta y$ соответствующее приращению аргумента $\\Delta x$ в точке $x = 0$:\n",
    "\n",
    "$$\n",
    "\\Delta y(0) = \\Big[f(x + \\Delta x) - f(x)\\Big]\\Bigg|_{x = 0} = f(\\Delta x) - f(0) = |\\Delta x|.\n",
    "$$\n",
    "\n",
    "Не является линейной по $\\Delta x$ поэтому не дифференцируемо в 0.\n",
    "             \n",
    "\n",
    "- Функция Вейерштрасса:\n",
    "\n",
    "$$\n",
    "w(x) = \\sum\\limits_{n = 0}^{+\\infty}b^{n}\\cos{\\big(a^{n}\\pi x\\big)},\n",
    "$$\n",
    "где $a$ - произвольное нечётное число, не равное единице, а $b$ — положительное число, меньшее единицы. Пример реализации этой функции и ее график будут представлены ниже.\n",
    "\n",
    "$\\underline{\\text{Определение 9.}}$ **Дифференциалом** функции $y = f(x)$ в данной точке $x$, соответствующим приращению аргумента $\\Delta x$, называется главная линейная относительно $\\Delta x$ часть приращения этой функции в точке $x$ и обозначается $dy$:\n",
    "\n",
    "$$\n",
    "dy = A\\Delta x.\n",
    "$$\n",
    "\n",
    "Поскольку \n",
    "\n",
    "$$\n",
    "f^{'}(x) = \\lim_{\\Delta x \\to 0}\\frac{\\Delta y}{\\Delta x} = \\lim_{\\Delta x \\to 0}\\frac{A\\Delta x + \\alpha(\\Delta x)\\Delta x}{\\Delta x} = \\lim_{\\Delta x \\to 0}\\Big(A + \\alpha\\big(\\Delta x\\big)\\Big) = A,\n",
    "$$\n",
    "\n",
    "то выражение для дифференциала функции можно переписать в виде\n",
    "\n",
    "$$\n",
    "dy = f^{'}(x)\\Delta x.\n",
    "$$"
   ]
  },
  {
   "cell_type": "code",
   "execution_count": null,
   "metadata": {},
   "outputs": [],
   "source": []
  },
  {
   "cell_type": "markdown",
   "metadata": {},
   "source": [
    "### Геометрический смысл дифференциала \n",
    "\n",
    "\n",
    "Рассмотрим график произвольной функции $y = f(x)$. Введем следующие обозначения:\n",
    "\n",
    "- $M$ и $P$ - точки на графике функции $y = f(x)$ соответствующие точкам $x$ и $x + \\Delta x$;\n",
    "\n",
    "- $MS$ - касательная к графику функции $y = f(x)$ в точке $M$;\n",
    "\n",
    "- Точка $N$ такова, что $MN || Ox$ и $PN || Oy$;\n",
    "\n",
    "- $Q$ - точка пересечения касательной $MS$ с прямой $PN$.\n",
    "\n",
    "\n",
    "В этом случае, приращению функции $\\Delta y$ будет соответствовать длина отрезка $NP$. Определим чему будет равен в наших обозначениях дифференциал $dy$. \n",
    "\n",
    "Для этого вспомним, что производная функции в точке совпадает с коэффициентом наклона касательной в этой точке, который равен тангенсу угла между касательной и осью $Ox$. В нашем случае это угол $\\angle QMN$, т.е. $f^{'}(x) = \\text{tg }{\\angle QMN}$. Таким образом, если мы рассмотрим прямоугольный треугольник $MQN$, то согласно формуле для дифференциала функции он будет равен произведению тангенса угла между гипотенузой и катетом на прилежащий катет, а это в точности равно величине противолежащего катета, т.е. длине отрезка $QN$.\n",
    "\n",
    "<img src=\"images/geom_dif.png\">"
   ]
  },
  {
   "cell_type": "code",
   "execution_count": null,
   "metadata": {},
   "outputs": [],
   "source": []
  },
  {
   "cell_type": "markdown",
   "metadata": {},
   "source": [
    "### Реализация функции Вейерштрасса и ее график"
   ]
  },
  {
   "cell_type": "code",
   "execution_count": 11,
   "metadata": {},
   "outputs": [
    {
     "data": {
      "image/png": "[encoded data removed]",
      "text/plain": [
       "<Figure size 1296x504 with 1 Axes>"
      ]
     },
     "metadata": {
      "needs_background": "light"
     },
     "output_type": "display_data"
    }
   ],
   "source": [
    "def weierstrassFunction(x, a = 3, b = 0.5, n = 100):\n",
    "    \n",
    "    n_list = range(n + 1)\n",
    "    return list(map(lambda arg: sum(map(lambda i: b**i * np.cos(a**i * np.pi * arg), n_list)), x))\n",
    "\n",
    "fig, axs = plt.subplots(figsize = (18, 7), nrows = 1, ncols = 1)\n",
    "\n",
    "x = list(np.linspace(0.03, 0.06, 2000))\n",
    "y = weierstrassFunction(x)\n",
    "axs.plot(x, y)\n",
    "axs.set_title(\"Функция Ве́йерштрасса\", fontsize = 20)\n",
    "axs.set_ylabel(\"y\", fontsize = 10)\n",
    "axs.set_xlabel(\"x\", fontsize = 10)\n",
    "\n",
    "plt.show()"
   ]
  },
  {
   "cell_type": "code",
   "execution_count": null,
   "metadata": {},
   "outputs": [],
   "source": []
  },
  {
   "cell_type": "markdown",
   "metadata": {},
   "source": [
    "### Правила дифференцирования суммы, разности, произведения и частного\n",
    "\n",
    "$\\underline{\\text{Утверждение 6.}}$ Если каждая из функция $f(x)$ и $g(x)$ дифференцируема в данной точке $x$, то сумма, разность, произведение и частное этих функций (частное при условии, что $g(x) \\neq 0$) также дифференцируемы в этой точке, причем имеют место формулы\n",
    "\n",
    "$$\n",
    "\\big(f(x) \\pm g(x)\\big)^{'} = f^{'}(x) \\pm g^{'}(x),\n",
    "$$\n",
    "\n",
    "$$\n",
    "\\big(f(x)g(x)\\big)^{'} = f^{'}(x)g(x) + f(x)g^{'}(x),\n",
    "$$\n",
    "\n",
    "$$\n",
    "\\Bigg(\\frac{f(x)}{g(x)}\\Bigg)^{'} = \\frac{f^{'}(x)g(x) - f(x)g^{'}(x)}{g^{2}(x)}.\n",
    "$$\n",
    "\n",
    "(Ильин, стр. 166).\n",
    "\n",
    "\n",
    "$\\underline{\\text{Примеры:}}$\n",
    "\n",
    "- $y = x\\cos{x}$\n",
    "\n",
    "$$\n",
    "y^{'}= (x)^{'}\\cos{x} + x(\\cos{x})^{'} = \\cos{x} - x\\sin{x}.\n",
    "$$\n",
    "\n",
    "- $y = \\frac{\\sin{x}}{2x + 1}$\n",
    "\n",
    "$$\n",
    "y^{'}= \\frac{(\\sin{x})^{'}(2x + 1) - \\sin{x}(2x + 1)^{'}}{(2x + 1)^{2}} = \\frac{(2x + 1)\\cos{x} - 2\\sin{x}}{(2x + 1)^{2}} = \\frac{\\cos{x}}{2x + 1} - \\frac{2\\sin{x}}{(2x + 1)^{2}}.\n",
    "$$"
   ]
  },
  {
   "cell_type": "code",
   "execution_count": null,
   "metadata": {},
   "outputs": [],
   "source": []
  },
  {
   "cell_type": "markdown",
   "metadata": {},
   "source": [
    "### Производная сложной функции\n",
    "\n",
    "$\\underline{\\text{Утверждение 7.}}$ Если функция $x = \\phi(t)$ дифференцируема в точке $a$, а функция $y = f(x)$ дифференцируема в точке $b = \\phi(a)$, то сложная функция $y = f\\big(\\phi(t)\\big)$ дифференцируема в точке $a$, причем для производной этой функции справедлива следующая формула:\n",
    "\n",
    "$$\n",
    "\\Big(f\\big(\\phi(t)\\big)\\Big)^{'} = f^{'}(b)\\phi^{'}(a).\n",
    "$$\n",
    "\n",
    "(Ильин, стр. 175). \n",
    "\n",
    "\n",
    "\n",
    "$\\underline{\\text{Примеры:}}$\n",
    "\n",
    "- $y = \\ln{(\\cos{x})}$\n",
    "\n",
    "$$\n",
    "y^{'}= \\Big\\{b = \\cos{x}, a = x\\Big\\} = (\\ln{x})^{'}\\Big|_{b} (\\cos{x})^{'}\\Big|_{a} = \\frac{1}{b}(-\\sin{a}) = -\\frac{\\sin{x}}{\\cos{x}} = -\\text{tg(x)}\n",
    "$$\n",
    "\n",
    "\n",
    "- $y = \\sqrt{\\sin{x}}$\n",
    "\n",
    "$$\n",
    "y^{'}= \\Big\\{b = \\sin{x}, a = x\\Big\\} = \\big(\\sqrt{x}\\big)^{'}\\Big|_{b} (\\sin{x})^{'}\\Big|_{a} = \\frac{1}{2\\sqrt{b}}\\cos{a} = \\frac{\\cos{x}}{2\\sqrt{\\sin{x}}} \n",
    "$$"
   ]
  },
  {
   "cell_type": "code",
   "execution_count": null,
   "metadata": {},
   "outputs": [],
   "source": []
  },
  {
   "cell_type": "markdown",
   "metadata": {},
   "source": [
    "### Пример отыскания производной в python"
   ]
  },
  {
   "cell_type": "code",
   "execution_count": 6,
   "metadata": {},
   "outputs": [
    {
     "data": {
      "text/latex": [
       "$\\displaystyle - z \\sin{\\left(z \\right)} + \\cos{\\left(z \\right)}$"
      ],
      "text/plain": [
       "-z*sin(z) + cos(z)"
      ]
     },
     "metadata": {},
     "output_type": "display_data"
    },
    {
     "data": {
      "text/latex": [
       "$\\displaystyle 1$"
      ],
      "text/plain": [
       "1"
      ]
     },
     "metadata": {},
     "output_type": "display_data"
    },
    {
     "name": "stdout",
     "output_type": "stream",
     "text": [
      "\n"
     ]
    },
    {
     "data": {
      "text/latex": [
       "$\\displaystyle \\frac{\\cos{\\left(z \\right)}}{2 z + 1} - \\frac{2 \\sin{\\left(z \\right)}}{\\left(2 z + 1\\right)^{2}}$"
      ],
      "text/plain": [
       "cos(z)/(2*z + 1) - 2*sin(z)/(2*z + 1)**2"
      ]
     },
     "metadata": {},
     "output_type": "display_data"
    },
    {
     "name": "stdout",
     "output_type": "stream",
     "text": [
      "\n"
     ]
    },
    {
     "data": {
      "text/latex": [
       "$\\displaystyle - \\frac{\\sin{\\left(z \\right)}}{\\cos{\\left(z \\right)}}$"
      ],
      "text/plain": [
       "-sin(z)/cos(z)"
      ]
     },
     "metadata": {},
     "output_type": "display_data"
    },
    {
     "name": "stdout",
     "output_type": "stream",
     "text": [
      "\n"
     ]
    },
    {
     "data": {
      "text/latex": [
       "$\\displaystyle \\frac{\\cos{\\left(z \\right)}}{2 \\sqrt{\\sin{\\left(z \\right)}}}$"
      ],
      "text/plain": [
       "cos(z)/(2*sqrt(sin(z)))"
      ]
     },
     "metadata": {},
     "output_type": "display_data"
    }
   ],
   "source": [
    "display(diff(z*cos(z), z))\n",
    "display(diff(z*cos(z), z).subs(z, 0))\n",
    "\n",
    "print()\n",
    "display(diff(sin(z) / (2*z + 1), z))\n",
    "\n",
    "print()\n",
    "display(diff(log(cos(z)), z))\n",
    "\n",
    "print()\n",
    "display(diff(sqrt(sin(z)), z))"
   ]
  },
  {
   "cell_type": "code",
   "execution_count": null,
   "metadata": {},
   "outputs": [],
   "source": []
  },
  {
   "cell_type": "markdown",
   "metadata": {},
   "source": [
    "# 6. Понятие монотонности функции\n",
    "\n",
    "$\\underline{\\text{Определение 10.}}$ Функция $y = f(x)$ называется **неубывающей** (**невозрастающей**) на множестве $\\mathbf{X}$, если для любых точек $x_{1}$ и $x_{2}$, таких, что $x_{1}, x_{2} \\in \\mathbf{X}$ и $x_{1} < x_{2}$, справедливо неравенство\n",
    "\n",
    "$$\n",
    "f(x_{1}) \\le f(x_{2}) \\quad \\big(f(x_{1}) \\ge f(x_{2})\\big).\n",
    "$$\n",
    "\n",
    "Если функция $y = f(x)$ принадлежит к одному из этих двух классов, то она называется **монотонной**.\n",
    "\n",
    "Если в условиях определния **неубывающей** (**невозрастающей**) функции неравенство будет строгим, то функция будет **возрастающей** (**убывающей**), а класс таких функций - **строго монотонные**.\n",
    "\n",
    "\n",
    "\n",
    "$\\underline{\\text{Примеры:}}$\n",
    "\n",
    "- $y = \\text{const}$ - является одновременно и неубывающей, и невозрастающей функцией;\n",
    "\n",
    "\n",
    "- $y = x^{m}$, $m = 2n + 1$, $n \\in \\mathbf{N}$ - это пример строго возрастающей функции;\n",
    "\n",
    "\n",
    "- $y = \\frac{1}{x}$, $x \\in (0, +\\infty)$ - является строго убывающей в рассматриваемой области;\n",
    "\n",
    "\n",
    "- $y = \\cos{x}$ - не является монотонной функцией на всей числовой прямой, но, например на отрезке $[0, \\pi]$ строго убывает, а на отрезке $[-\\pi, 0]$ строго возрастает. \n",
    "\n",
    "<img src=\"images/monotonic_ex.png\">\n",
    "\n",
    "$\\underline{\\text{Графическая интерпретация рассмотренных понятий:}}$  если идя по графику функции слева направо вдоль оси $Ox$ мы можем либо подниматься, либо оставаться на том же уровне, то функция неубывающая. Если всегда поднимаемся, то возрастающая. Аналогично для понятий невозрастающая и убывающая."
   ]
  },
  {
   "cell_type": "code",
   "execution_count": null,
   "metadata": {},
   "outputs": [],
   "source": []
  },
  {
   "cell_type": "markdown",
   "metadata": {},
   "source": [
    "### Связь монотонности со знаком производной\n",
    "\n",
    "$\\underline{\\text{Утверждение 8: Необходимое и достаточное условие монотонности функции:}}$\n",
    "\n",
    "Для того, чтобы дифференцируемая на интервале $(a, b)$ функция не убывала (не возрастала) на этом интервале, необходимо и достаточно, чтобы производная этой функции была неотрицательной (неположительной) всюду на этом интервале.\n",
    "\n",
    "\n",
    "$\\underline{\\text{Утверждение 9: Достаточное условие строгой монотонности функции:}}$\n",
    "\n",
    "Для того, чтобы дифференцируемая на интервале $(a, b)$ функция возрастала (убывала) достаточно, чтобы производная была положительной (отрицательной) всюду на этом интервале.\n",
    "\n",
    "(Ильин, стр. 265). \n",
    "\n",
    "\n",
    "$\\underline{\\text{Замечание}}$ Заметим, что в случае второго утверждения положительность (отрицательность) производной **не является необходимым** условием возрастания (убывания) функции. Примером служит функция $y = x^{3}$, которая возрастает на любом выбранном интервале, но при этом, ее производная в $0$ не является положительной.\n",
    "\n",
    "$\\underline{\\text{Геометрическая интерпретация:}}$  если производная в точке положительна (отрицательна), то угловой коэффициент касательной к графику функции в этой точке также положителен (отрицателен), т.е. касательная \"смотрит\" вверх. В этом случае,  направление касательной задает направление движения по графику функции. Соответственно функция либо возрастает в данной точке, либо убывает.\n",
    "\n",
    "Таким образом, исследование монотонности дифференцируемой функции сводится к исследованию знака первой производной этой функции.\n",
    "\n",
    "\n",
    "$\\underline{\\text{Пример:}}$ \n",
    "\n",
    "$$y = \\sin{(x)}, \\quad x \\in [-2\\pi, 2\\pi].$$\n",
    "\n",
    "Найдем производную и исследуем ее знак на сегменте $[-2\\pi, 2\\pi]$.\n",
    "\n",
    "$$\n",
    "y^{'} = \\cos{(x)} = \\begin{cases}\n",
    "> 0, \\text{ если } x \\in \\big(-2\\pi, -\\frac{3\\pi}{2}\\Big),\\\\\n",
    "< 0, \\text{ если } x \\in \\big(-\\frac{3\\pi}{2}, -\\frac{\\pi}{2}\\Big),\\\\\n",
    "> 0, \\text{ если } x \\in \\big(-\\frac{\\pi}{2}, \\frac{\\pi}{2}\\Big),\\\\\n",
    "< 0, \\text{ если } x \\in \\big(\\frac{\\pi}{2}, \\frac{3\\pi}{2}\\Big),\\\\\n",
    "> 0, \\text{ если } x \\in \\big(\\frac{3\\pi}{2}, 2\\pi\\Big).\n",
    "\\end{cases}\n",
    "$$\n",
    "\n",
    "<img src=\"images/monotonic_sinx.png\">\n",
    "\n",
    " "
   ]
  },
  {
   "cell_type": "code",
   "execution_count": null,
   "metadata": {},
   "outputs": [],
   "source": []
  },
  {
   "cell_type": "markdown",
   "metadata": {},
   "source": [
    "# 7. Понятие экстремума функции\n",
    "\n",
    "$\\underline{\\text{Определение 11.}}$ Точка $a$ называется **локальным минимумом** (**максимумом**) функции $y = f(x)$, если найдется такая окрестность этой точки, что для любой точки $b$ из этой окрестности будет выполнено условие $f(a) \\le f(b)$ $\\big(f(a) \\ge f(b)\\big)$.\n",
    "\n",
    "Точки локального минимума и максимума называют точками **локального экстремума**.\n",
    "\n",
    "<img src=\"images/local_extr_ex.png\">\n",
    "\n",
    "\n",
    "$\\underline{\\text{Утверждение 10: Необходимое условие локального экстремума:}} $ (Ильин, стр. 261)\n",
    "\n",
    "Если функция $f(x)$ дифференцируема в точке $a$ и имеет в этой точке локальный экстремум, то\n",
    "\n",
    "$$\n",
    "f^{'}(a) = 0.\n",
    "$$\n",
    "\n",
    "Заметим, что данное условие является **необходимым, но не достаточным**. Т.е. равенство нулю производной в точке не гарантирует наличие экстремума в этой точке ($y = x^{3}$).\n",
    "\n",
    "\n",
    "\n",
    "$\\underline{\\text{Утверждение 11: Достаточное условие локального экстремума:}}$ (Ильин, стр. 304)\n",
    "\n",
    "Пусть функция $f(x)$ дифференцируема в точке $a$ и\n",
    "\n",
    "$$\n",
    "f^{'}(a) = 0.\n",
    "$$\n",
    "\n",
    "Тогда точка $a$ является точкой локального максимума (минимума), если\n",
    "\n",
    "$$\n",
    "f^{''}(a) < 0 \\quad \\Big(f^{''}(a) > 0\\Big).\n",
    "$$\n",
    "\n",
    "Если вторая производная равна 0 в рассматриваемой точке, то необходимо найти минимальный порядок производной отличной от 0 в данной точке. Если этот порядок нечетный, то экстремума нет, если четный, то экстремум есть и его характер определяется аналогично случаю второй производной. \n",
    "\n",
    "$\\underline{\\text{Примеры:}}$ \n",
    "\n",
    "\n",
    "1. $$y = \\sin{(x)}, \\quad x \\in [-2\\pi, 2\\pi].$$\n",
    "\n",
    "Для отыскания точек локального экстремума необходимо решить уравнение \n",
    "\n",
    "$$\n",
    "y^{'} = \\cos{(x)} = 0, \\quad x \\in [-2\\pi, 2\\pi].\n",
    "$$\n",
    "\n",
    "Решениями будут точки $x = \\Big\\{-\\frac{3\\pi}{2}, -\\frac{\\pi}{2}, \\frac{\\pi}{2}, \\frac{3\\pi}{2}\\Big\\}$.\n",
    "\n",
    "Исследуем в них знак второй производной \n",
    "\n",
    "$$\n",
    "y^{''} = -\\sin{(x)}.\n",
    "$$\n",
    "\n",
    "Получим\n",
    "\n",
    "$$\n",
    "\\begin{cases}\n",
    "y^{''}\\Big(-\\frac{3\\pi}{2}\\Big) = -\\sin{\\Big(-\\frac{3\\pi}{2}\\Big)} = -1 < 0 \\text{ - точка локального максимума},\\\\\n",
    "y^{''}\\Big(-\\frac{\\pi}{2}\\Big) = -\\sin{\\Big(-\\frac{\\pi}{2}\\Big)} = 1 > 0 \\text{ - точка локального минимума},\\\\\n",
    "y^{''}\\Big(\\frac{\\pi}{2}\\Big) = -\\sin{\\Big(\\frac{\\pi}{2}\\Big)} = -1 < 0 \\text{ - точка локального максимума},\\\\\n",
    "y^{''}\\Big(\\frac{3\\pi}{2}\\Big) = -\\sin{\\Big(\\frac{3\\pi}{2}\\Big)} = 1 > 0 \\text{ - точка локального минимума}\n",
    "\\end{cases}\n",
    "$$\n",
    "\n",
    "\n",
    "2. $$y = x^{3}.$$\n",
    "\n",
    "Найдем точку, являющуюся кандидатом на экстремум: $y^{'} = 3x^{2} = 0 \\Rightarrow x = 0$. Исследуем вторую производную в точке $x = 0$: $y^{''} = 6x \\Rightarrow y^{''}(0) = 0$. Вторая производная в рассматриваемой точке равна 0, следовательно, нужно исследовать третью производную в точке $x = 0$: $y^{'''} = 6$. Данная производная отлична от 0 в рассматриваемой точке, но поскольку это производная нечетного порядка, то у нее нет экстремума в точке $x = 0$.\n",
    "\n",
    "\n",
    "3. $$y = x^{4}.$$\n",
    "\n",
    "Найдем точку, являющуюся кандидатом на экстремум: $y^{'} = 4x^{3} = 0 \\Rightarrow x = 0$. Исследуем вторую производную в точке $x = 0$: $y^{''} = 12x^{2} \\Rightarrow y^{''}(0) = 0$. Вторая производная в рассматриваемой точке равна 0, следовательно, нужно исследовать третью производную в точке $x = 0$: $y^{'''} = 24x$. Третья производная также в рассматриваемой точке равна 0. Идем дальше: $y^{''''} = 24$ Данная производная положительна в рассматриваемой точке и, поскольку это производная четного порядка, то точка $x = 0$ является точкой локального минимума."
   ]
  },
  {
   "cell_type": "code",
   "execution_count": null,
   "metadata": {},
   "outputs": [],
   "source": []
  },
  {
   "cell_type": "markdown",
   "metadata": {},
   "source": [
    "Предположим, что функция $f(x)$ недифференцируема в некоторой точке $a$. **Как исследовать функцию на экстремум в такой точке?**\n",
    "\n",
    "$\\underline{\\text{Утверждение 12}}$ Пусть функция $f(x)$ дифференцируема всюду в некоторой окрестности точки $a$, за исключением, быть может, самой точки $a$, и непрерывна в точке $a$. В этом случае, если в пределах указанной окрестности производная $f^{'}(x)$ положительна (отрицательна) слева от точки $a$ и отрицательна (положительна) справа от точки $a$, то функция $f(x)$ имеет в точке $a$ локальный максимум (минимум). Если же производна имеет один и тот же знак слева и справа от точки $a$, то экстремума в точке $a$ нет. \n",
    "\n",
    "$\\underline{\\text{Пример}}$\n",
    "\n",
    "$$\n",
    "y = |x|.\n",
    "$$\n",
    "\n",
    "Данная функция дифференцируема всюду, кроме точки $x = 0$ и непрерывна в точке $x = 0$. Ее производная равна $f^{'}(x) = 1$ при $x > 0$ и $f^{'}(x) = -1$ при $x < 0$. Согласно приведенному выше утверждению, данная функция будет иметь минимум в точке $x = 0$."
   ]
  },
  {
   "cell_type": "code",
   "execution_count": null,
   "metadata": {},
   "outputs": [],
   "source": []
  },
  {
   "cell_type": "code",
   "execution_count": null,
   "metadata": {},
   "outputs": [],
   "source": []
  },
  {
   "cell_type": "code",
   "execution_count": null,
   "metadata": {},
   "outputs": [],
   "source": []
  },
  {
   "cell_type": "code",
   "execution_count": null,
   "metadata": {},
   "outputs": [],
   "source": []
  }
 ],
 "metadata": {
  "kernelspec": {
   "display_name": "Python 3",
   "language": "python",
   "name": "python3"
  },
  "language_info": {
   "codemirror_mode": {
    "name": "ipython",
    "version": 3
   },
   "file_extension": ".py",
   "mimetype": "text/x-python",
   "name": "python",
   "nbconvert_exporter": "python",
   "pygments_lexer": "ipython3",
   "version": "3.6.10"
  }
 },
 "nbformat": 4,
 "nbformat_minor": 4
}
