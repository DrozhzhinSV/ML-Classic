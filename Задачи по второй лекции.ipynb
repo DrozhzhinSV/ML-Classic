{
 "cells": [
  {
   "cell_type": "markdown",
   "metadata": {},
   "source": [
    "# Задание 1"
   ]
  },
  {
   "cell_type": "markdown",
   "metadata": {},
   "source": [
    "Найдите область определения следующей функции\n",
    "\n",
    "$$\n",
    "f(x, y) = \\frac{\\sqrt{-2x^{2} + 5x + 4}\\cdot\\sqrt{-y^{2} + y + 5}}{(x^{2} - x - 2)\\cdot\\lg(3 - y)}.\n",
    "$$\n",
    "\n",
    "Посчитатйте сумму целых чисел, входящих в область определения переменной $x$, а также сумму целых чисел, входящих в область определения переменной $y$.\n",
    "\n",
    "В ответе укажите сумму полученных чисел. "
   ]
  },
  {
   "cell_type": "markdown",
   "metadata": {},
   "source": [
    "# Ответ:"
   ]
  },
  {
   "cell_type": "code",
   "execution_count": 56,
   "metadata": {},
   "outputs": [
    {
     "data": {
      "text/latex": [
       "$\\displaystyle \\left\\{\\frac{5}{4} - \\frac{\\sqrt{57}}{4}, \\frac{5}{4} + \\frac{\\sqrt{57}}{4}\\right\\}$"
      ],
      "text/plain": [
       "FiniteSet(5/4 - sqrt(57)/4, 5/4 + sqrt(57)/4)"
      ]
     },
     "metadata": {},
     "output_type": "display_data"
    },
    {
     "data": {
      "text/latex": [
       "$\\displaystyle \\left\\{\\frac{1}{2} - \\frac{\\sqrt{21}}{2}, \\frac{1}{2} + \\frac{\\sqrt{21}}{2}\\right\\}$"
      ],
      "text/plain": [
       "FiniteSet(1/2 - sqrt(21)/2, 1/2 + sqrt(21)/2)"
      ]
     },
     "metadata": {},
     "output_type": "display_data"
    }
   ],
   "source": [
    "from sympy import *\n",
    "import numpy as np\n",
    "\n",
    "x1 = Symbol('x1')\n",
    "x2 = Symbol('x2')\n",
    "\n",
    "display(solveset(-2 * x1**2 + 5 * x1 + 4, x1))\n",
    "display(solveset(-x2**2 + x2 + 5, x2))"
   ]
  },
  {
   "cell_type": "code",
   "execution_count": 57,
   "metadata": {},
   "outputs": [
    {
     "name": "stdout",
     "output_type": "stream",
     "text": [
      "-0.6374586088176875 3.1374586088176875\n",
      "-1.79128784747792 2.79128784747792\n"
     ]
    }
   ],
   "source": [
    "print(5 / 4 - np.sqrt(57) / 4, 5 / 4 + np.sqrt(57) / 4)\n",
    "print(1 / 2 - np.sqrt(21) / 2, 1 / 2 + np.sqrt(21) / 2)"
   ]
  },
  {
   "cell_type": "markdown",
   "metadata": {},
   "source": [
    "Тогда область определения по $x$:\n",
    "\n",
    "$$\n",
    "(-0.64, 2) \\cup (2, 3.14),\n",
    "$$\n",
    "\n",
    "а область определения переменной $y$:\n",
    "\n",
    "$$\n",
    "(-1.79, 2) \\cup (2, 2.79),\n",
    "$$\n",
    "\n",
    "Тогда ответ\n",
    "\n",
    "$$\n",
    "1 + 3 + (-1) + 1 = 4\n",
    "$$"
   ]
  },
  {
   "cell_type": "code",
   "execution_count": null,
   "metadata": {},
   "outputs": [],
   "source": []
  },
  {
   "cell_type": "markdown",
   "metadata": {},
   "source": [
    "# Задание 2"
   ]
  },
  {
   "cell_type": "markdown",
   "metadata": {},
   "source": [
    "Найдите расстояние между кривой \n",
    "\n",
    "$$\n",
    "y = x^2\n",
    "$$\n",
    "\n",
    "и прямой\n",
    "\n",
    "$$\n",
    "y = 2x - 2\n",
    "$$\n",
    "\n",
    "и округлите до 3 знаков."
   ]
  },
  {
   "cell_type": "code",
   "execution_count": null,
   "metadata": {},
   "outputs": [],
   "source": []
  },
  {
   "cell_type": "markdown",
   "metadata": {},
   "source": [
    "# Ответ:\n",
    "\n",
    "Необходимо найти минимум выражения\n",
    "\n",
    "$$\n",
    "\\rho = \\sqrt{(x_{1} - x_{2})^{2} + (y_{1} - y_{2})^{2}} = \\sqrt{(x_{1} - x_{2})^{2} + (x_{1}^{2} - 2x_{2} + 2)^{2}}.\n",
    "$$\n",
    "\n",
    "Что эквивалентно минимуму\n",
    "\n",
    "$$\n",
    "y = \\rho^{2} = (x_{1} - x_{2})^{2} + (x_{1}^{2} - 2x_{2} + 2)^{2}.\n",
    "$$\n",
    "\n",
    "Найдем частные производные $\\frac{\\partial y}{\\partial x_{1}}$ и $\\frac{\\partial y}{\\partial x_{2}}$."
   ]
  },
  {
   "cell_type": "code",
   "execution_count": 1,
   "metadata": {},
   "outputs": [
    {
     "data": {
      "text/latex": [
       "$\\displaystyle 4 x_{1} \\left(x_{1}^{2} - 2 x_{2} + 2\\right) + 2 x_{1} - 2 x_{2}$"
      ],
      "text/plain": [
       "4*x1*(x1**2 - 2*x2 + 2) + 2*x1 - 2*x2"
      ]
     },
     "metadata": {},
     "output_type": "display_data"
    },
    {
     "data": {
      "text/latex": [
       "$\\displaystyle - 4 x_{1}^{2} - 2 x_{1} + 10 x_{2} - 8$"
      ],
      "text/plain": [
       "-4*x1**2 - 2*x1 + 10*x2 - 8"
      ]
     },
     "metadata": {},
     "output_type": "display_data"
    }
   ],
   "source": [
    "from sympy import *\n",
    "\n",
    "x1 = Symbol('x1')\n",
    "x2 = Symbol('x2')\n",
    "\n",
    "display(diff((x1 - x2)**2 + (x1**2 - 2 * x2 + 2)**2, x1))\n",
    "display(diff((x1 - x2)**2 + (x1**2 - 2 * x2 + 2)**2, x2))"
   ]
  },
  {
   "cell_type": "markdown",
   "metadata": {},
   "source": [
    "Выразим из второго уравнения $x_{2}$"
   ]
  },
  {
   "cell_type": "code",
   "execution_count": 2,
   "metadata": {},
   "outputs": [
    {
     "data": {
      "text/latex": [
       "$\\displaystyle \\left\\{\\frac{2 x_{1}^{2}}{5} + \\frac{x_{1}}{5} + \\frac{4}{5}\\right\\}$"
      ],
      "text/plain": [
       "FiniteSet(2*x1**2/5 + x1/5 + 4/5)"
      ]
     },
     "execution_count": 2,
     "metadata": {},
     "output_type": "execute_result"
    }
   ],
   "source": [
    "solveset(diff((x1 - x2)**2 + (x1**2 - 2 * x2 + 2)**2, x2), x2)"
   ]
  },
  {
   "cell_type": "markdown",
   "metadata": {},
   "source": [
    "Подставим в первое и найдем решение"
   ]
  },
  {
   "cell_type": "code",
   "execution_count": 3,
   "metadata": {},
   "outputs": [
    {
     "data": {
      "text/latex": [
       "$\\displaystyle \\left\\{1.0, 1.0 - 1.0 i, 1.0 + 1.0 i\\right\\}$"
      ],
      "text/plain": [
       "FiniteSet(1.0, 1.0 - 1.0*I, 1.0 + 1.0*I)"
      ]
     },
     "execution_count": 3,
     "metadata": {},
     "output_type": "execute_result"
    }
   ],
   "source": [
    "x2 = 2 * x1**2 / 5 + x1 / 5 + 4 / 5\n",
    "solveset(4 * x1 * (x1**2 - 2 * x2 + 2) + 2 * x1 - 2 * x2, x1)"
   ]
  },
  {
   "cell_type": "markdown",
   "metadata": {},
   "source": [
    "Нас интересуют только действительные решения, поэтому\n",
    "\n",
    "$$\n",
    "x_{1} = 1, \\quad x_{2} = \\frac{7}{5}.\n",
    "$$"
   ]
  },
  {
   "cell_type": "markdown",
   "metadata": {},
   "source": [
    "Тогда, итоговый ответ"
   ]
  },
  {
   "cell_type": "code",
   "execution_count": 5,
   "metadata": {},
   "outputs": [
    {
     "data": {
      "text/latex": [
       "$\\displaystyle 0.447$"
      ],
      "text/plain": [
       "0.447"
      ]
     },
     "execution_count": 5,
     "metadata": {},
     "output_type": "execute_result"
    }
   ],
   "source": [
    "round(sqrt((1 - 7/5)**2 + (1 - 14/5 + 2)**2), 3)"
   ]
  },
  {
   "cell_type": "code",
   "execution_count": null,
   "metadata": {},
   "outputs": [],
   "source": []
  },
  {
   "cell_type": "code",
   "execution_count": null,
   "metadata": {},
   "outputs": [],
   "source": []
  },
  {
   "cell_type": "markdown",
   "metadata": {},
   "source": [
    "# Задание 3\n",
    "\n",
    "Найдите частные производные функции\n",
    "\n",
    "$$\n",
    "y = (x_{1} - x_{2})^{2} - \\sin{x_{1}} + 4.\n",
    "$$\n",
    "\n",
    "Рассчитайте две точки:\n",
    "\n",
    "$$\n",
    "\\Bigg(\\frac{\\partial y}{\\partial x_{1}}, \\frac{\\partial y}{\\partial x_{2}}\\Bigg)\\Bigg|_{(0, 2)}\n",
    "\\quad\n",
    "\\text{и}\n",
    "\\quad\n",
    "\\Bigg(\\frac{\\partial y}{\\partial x_{1}}, \\frac{\\partial y}{\\partial x_{2}}\\Bigg)\\Bigg|_{(1, 0)}\n",
    "$$\n",
    "\n",
    "и найдите между ними расстояние, округлив ответ до 3 -ех знаков."
   ]
  },
  {
   "cell_type": "code",
   "execution_count": null,
   "metadata": {},
   "outputs": [],
   "source": []
  },
  {
   "cell_type": "markdown",
   "metadata": {},
   "source": [
    "# Ответ:"
   ]
  },
  {
   "cell_type": "code",
   "execution_count": 9,
   "metadata": {},
   "outputs": [
    {
     "data": {
      "text/latex": [
       "$\\displaystyle -5$"
      ],
      "text/plain": [
       "-5"
      ]
     },
     "metadata": {},
     "output_type": "display_data"
    },
    {
     "data": {
      "text/latex": [
       "$\\displaystyle 4$"
      ],
      "text/plain": [
       "4"
      ]
     },
     "metadata": {},
     "output_type": "display_data"
    }
   ],
   "source": [
    "x1 = Symbol('x1')\n",
    "x2 = Symbol('x2')\n",
    "\n",
    "display(diff((x1 - x2)**2 - sin(x1) + 4, x1).subs(x1, 0).subs(x2, 2))\n",
    "display(diff((x1 - x2)**2 - sin(x1) + 4, x2).subs(x1, 0).subs(x2, 2))"
   ]
  },
  {
   "cell_type": "code",
   "execution_count": 10,
   "metadata": {},
   "outputs": [
    {
     "data": {
      "text/latex": [
       "$\\displaystyle 2 - \\cos{\\left(1 \\right)}$"
      ],
      "text/plain": [
       "2 - cos(1)"
      ]
     },
     "metadata": {},
     "output_type": "display_data"
    },
    {
     "data": {
      "text/latex": [
       "$\\displaystyle -2$"
      ],
      "text/plain": [
       "-2"
      ]
     },
     "metadata": {},
     "output_type": "display_data"
    }
   ],
   "source": [
    "display(diff((x1 - x2)**2 - sin(x1) + 4, x1).subs(x1, 1).subs(x2, 0))\n",
    "display(diff((x1 - x2)**2 - sin(x1) + 4, x2).subs(x1, 1).subs(x2, 0))"
   ]
  },
  {
   "cell_type": "code",
   "execution_count": 11,
   "metadata": {},
   "outputs": [
    {
     "data": {
      "text/latex": [
       "$\\displaystyle 8.816$"
      ],
      "text/plain": [
       "8.816"
      ]
     },
     "execution_count": 11,
     "metadata": {},
     "output_type": "execute_result"
    }
   ],
   "source": [
    "round(sqrt((-5 - 2 + cos(1))**2 + (4 + 2)**2), 3)"
   ]
  },
  {
   "cell_type": "code",
   "execution_count": null,
   "metadata": {},
   "outputs": [],
   "source": []
  },
  {
   "cell_type": "markdown",
   "metadata": {},
   "source": [
    "# Задание 4\n",
    "\n",
    "Найдите величину наибольшей скорости возрастания функции\n",
    "\n",
    "$$\n",
    "y = (2x_{1} - x_{2})^{2} - 4\n",
    "$$\n",
    "\n",
    "в точке $(1, 2)$ и округлите ответ до 3 -ех знаков."
   ]
  },
  {
   "cell_type": "markdown",
   "metadata": {},
   "source": [
    "# Ответ:\n",
    "\n",
    "Необходимо найти длину вектора градиента:\n",
    "\n",
    "$$\n",
    "|grad| = \\sqrt{\\Bigg(\\frac{\\partial y}{\\partial x_{1}}\\Bigg)^{2}\\Bigg|_{(4, 2)}, \\Bigg(\\frac{\\partial y}{\\partial x_{2}}\\Bigg)^{2}\\Bigg|_{(4, 2)}}\n",
    "$$"
   ]
  },
  {
   "cell_type": "code",
   "execution_count": 15,
   "metadata": {},
   "outputs": [
    {
     "data": {
      "text/latex": [
       "$\\displaystyle 24$"
      ],
      "text/plain": [
       "24"
      ]
     },
     "metadata": {},
     "output_type": "display_data"
    },
    {
     "data": {
      "text/latex": [
       "$\\displaystyle -12$"
      ],
      "text/plain": [
       "-12"
      ]
     },
     "metadata": {},
     "output_type": "display_data"
    }
   ],
   "source": [
    "display(diff((2*x1 - x2)**2 - 4, x1).subs(x1, 4).subs(x2, 2))\n",
    "display(diff((2*x1 - x2)**2 - 4, x2).subs(x1, 4).subs(x2, 2))"
   ]
  },
  {
   "cell_type": "code",
   "execution_count": 16,
   "metadata": {},
   "outputs": [
    {
     "data": {
      "text/latex": [
       "$\\displaystyle 26.833$"
      ],
      "text/plain": [
       "26.833"
      ]
     },
     "execution_count": 16,
     "metadata": {},
     "output_type": "execute_result"
    }
   ],
   "source": [
    "round(sqrt(24**2 + 12**2), 3)"
   ]
  },
  {
   "cell_type": "code",
   "execution_count": null,
   "metadata": {},
   "outputs": [],
   "source": []
  },
  {
   "cell_type": "markdown",
   "metadata": {},
   "source": [
    "# Задание 5\n",
    "\n",
    "Найдите производную по направлению функции\n",
    "\n",
    "$$\n",
    "y = 2x_{1} - x_{1}x_{2} + 2x_{3} - x_{1}x_{2}x_{3}\n",
    "$$\n",
    "\n",
    "в точке $(1, 3, 2)$, если $\\cos$ угла между направляющим вектором и осью $Ox_{1}$ равен $0.5$, а угол между направляющим вектором и осью $Ox_{2}$ равен углу между направляющим вектором и осью $Ox_{3}$ и является острым. Ответ округлите до 3 знаков.  "
   ]
  },
  {
   "cell_type": "markdown",
   "metadata": {},
   "source": [
    "# Ответ:\n",
    "\n",
    "$$\n",
    "0.5^{2} + \\cos{\\beta}^{2} + \\cos{\\gamma}^{2} = 0.5^{2} + 2\\cos{\\beta}^{2} = 1.\n",
    "$$\n",
    "\n",
    "Тогда, поскольку угол острый \n",
    "\n",
    "$$\n",
    "\\cos{\\beta} = 0.612372435695794\n",
    "$$"
   ]
  },
  {
   "cell_type": "code",
   "execution_count": 25,
   "metadata": {},
   "outputs": [
    {
     "data": {
      "text/latex": [
       "$\\displaystyle 0.612372435695794$"
      ],
      "text/plain": [
       "0.612372435695794"
      ]
     },
     "execution_count": 25,
     "metadata": {},
     "output_type": "execute_result"
    }
   ],
   "source": [
    "sqrt((1 - 0.5**2)/2)"
   ]
  },
  {
   "cell_type": "markdown",
   "metadata": {},
   "source": [
    "Найдем частные производные"
   ]
  },
  {
   "cell_type": "code",
   "execution_count": 32,
   "metadata": {},
   "outputs": [
    {
     "data": {
      "text/latex": [
       "$\\displaystyle -7$"
      ],
      "text/plain": [
       "-7"
      ]
     },
     "metadata": {},
     "output_type": "display_data"
    },
    {
     "data": {
      "text/latex": [
       "$\\displaystyle -3$"
      ],
      "text/plain": [
       "-3"
      ]
     },
     "metadata": {},
     "output_type": "display_data"
    },
    {
     "data": {
      "text/latex": [
       "$\\displaystyle -1$"
      ],
      "text/plain": [
       "-1"
      ]
     },
     "metadata": {},
     "output_type": "display_data"
    }
   ],
   "source": [
    "x3 = Symbol('x3')\n",
    "\n",
    "display(diff(2*x1 - x1*x2 + 2*x3 - x1*x2*x3, x1).subs(x1, 1).subs(x2, 3).subs(x3, 2))\n",
    "display(diff(2*x1 - x1*x2 + 2*x3 - x1*x2*x3, x2).subs(x1, 1).subs(x2, 3).subs(x3, 2))\n",
    "display(diff(2*x1 - x1*x2 + 2*x3 - x1*x2*x3, x3).subs(x1, 1).subs(x2, 3).subs(x3, 2))"
   ]
  },
  {
   "cell_type": "markdown",
   "metadata": {},
   "source": [
    "В итоге\n",
    "\n",
    "$$\n",
    "\\frac{\\partial y}{\\partial l} = \\frac{\\partial y}{\\partial x_{1}} * \\cos{\\alpha} + \\frac{\\partial y}{\\partial x_{2}} * \\cos{\\beta} + \\frac{\\partial y}{\\partial x_{3}} * \\cos{\\gamma} = -7 * 0.5 + (-3)*0.612372435695794 + (-1) * 0.612372435695794 = -5.949\n",
    "$$"
   ]
  },
  {
   "cell_type": "code",
   "execution_count": 36,
   "metadata": {},
   "outputs": [
    {
     "data": {
      "text/plain": [
       "-5.949"
      ]
     },
     "execution_count": 36,
     "metadata": {},
     "output_type": "execute_result"
    }
   ],
   "source": [
    "round(-7*0.5+(-3)*0.612372435695794+(-1)*0.612372435695794, 3)"
   ]
  },
  {
   "cell_type": "code",
   "execution_count": null,
   "metadata": {},
   "outputs": [],
   "source": []
  },
  {
   "cell_type": "markdown",
   "metadata": {},
   "source": [
    "# Задание 6\n",
    "\n",
    "Для функции  \n",
    "\n",
    "$$\n",
    "f(x, y) = \\frac{x^{2} + 2xy}{y^{2} + xy}\n",
    "$$\n",
    "\n",
    "исследуйте существование предела в точке $(0, 0)$. \n",
    "\n",
    "Кроме того, рассмотрите данную функцию как функцию одной переменной и проверьте существование предела при $x\\to 0$ и при $y \\to 0$. "
   ]
  },
  {
   "cell_type": "markdown",
   "metadata": {},
   "source": [
    "# Ответ:\n",
    "\n",
    "$$\n",
    "\\lim_{x \\to 0 \\\\ y = kx}f(x, y) = \\lim_{x \\to 0}\\frac{x^2 + 2kx^2}{k^2x^2 + kx^{2}} = \\lim_{x \\to 0}\\frac{x^2(1 + 2k)}{kx^2(k + 1)} = \\frac{(1 + 2k)}{k(k + 1)},\n",
    "$$\n",
    "\n",
    "следовательно предела по совокупности переменных не существует."
   ]
  },
  {
   "cell_type": "code",
   "execution_count": 59,
   "metadata": {},
   "outputs": [
    {
     "data": {
      "text/latex": [
       "$\\displaystyle 0$"
      ],
      "text/plain": [
       "0"
      ]
     },
     "metadata": {},
     "output_type": "display_data"
    },
    {
     "data": {
      "text/latex": [
       "$\\displaystyle \\infty \\operatorname{sign}{\\left(x_{1} \\right)}$"
      ],
      "text/plain": [
       "oo*sign(x1)"
      ]
     },
     "metadata": {},
     "output_type": "display_data"
    }
   ],
   "source": [
    "from sympy import *\n",
    "\n",
    "x1 = Symbol('x1')\n",
    "x2 = Symbol('x2')\n",
    "\n",
    "display(limit((x1**2 + 2*x1*x2) / (x2**2 + x1*x2), x1, 0))\n",
    "display(limit((x1**2 + 2*x1*x2) / (x2**2 + x1*x2), x2, 0))"
   ]
  },
  {
   "cell_type": "markdown",
   "metadata": {},
   "source": [
    "Таким образом, предел существует только по переменной $x$."
   ]
  },
  {
   "cell_type": "code",
   "execution_count": null,
   "metadata": {},
   "outputs": [],
   "source": []
  },
  {
   "cell_type": "markdown",
   "metadata": {},
   "source": [
    "# Задание 7\n",
    "\n",
    "Найдите $\\alpha$, при котором частная производная по переменной $x$ совпадает с частной производной по переменной $y$ в точке $(2, 1)$.\n",
    "\n",
    "$$\n",
    "f(x, y) = \\frac{\\alpha x_{1} + (1 - \\alpha)x_{2}}{x_{1} + 3x_{2}} \n",
    "$$\n",
    "\n",
    "\n",
    "# Ответ:"
   ]
  },
  {
   "cell_type": "code",
   "execution_count": 8,
   "metadata": {},
   "outputs": [
    {
     "data": {
      "text/latex": [
       "$\\displaystyle \\frac{4 a}{25} - \\frac{1}{25}$"
      ],
      "text/plain": [
       "4*a/25 - 1/25"
      ]
     },
     "metadata": {},
     "output_type": "display_data"
    },
    {
     "data": {
      "text/latex": [
       "$\\displaystyle \\frac{2}{25} - \\frac{8 a}{25}$"
      ],
      "text/plain": [
       "2/25 - 8*a/25"
      ]
     },
     "metadata": {},
     "output_type": "display_data"
    }
   ],
   "source": [
    "from sympy import *\n",
    "\n",
    "x1 = Symbol('x1')\n",
    "x2 = Symbol('x2')\n",
    "a = Symbol('a')\n",
    "\n",
    "\n",
    "display(diff((a*x1 + (1-a)*x2) / (x1+3*x2), x1).subs(x1, 2).subs(x2, 1))\n",
    "display(diff((a*x1 + (1-a)*x2) / (x1+3*x2), x2).subs(x1, 2).subs(x2, 1))"
   ]
  },
  {
   "cell_type": "markdown",
   "metadata": {},
   "source": [
    "$$\n",
    "\\frac{4\\alpha}{25} - \\frac{1}{25} = \\frac{2}{25} - \\frac{8\\alpha}{25} \\quad \\Rightarrow \\quad \\frac{4\\alpha}{25} + \\frac{8\\alpha}{25} = \\frac{12\\alpha}{25} = \\frac{2}{25} + \\frac{1}{25} = \\frac{3}{25}.\n",
    "$$\n",
    "\n",
    "Таким образом, \n",
    "\n",
    "$$\n",
    "\\frac{12\\alpha}{25} = \\frac{3}{25},\n",
    "$$\n",
    "\n",
    "то есть $\\alpha = 0.25$"
   ]
  },
  {
   "cell_type": "code",
   "execution_count": null,
   "metadata": {},
   "outputs": [],
   "source": []
  },
  {
   "cell_type": "markdown",
   "metadata": {},
   "source": [
    "# Задание 8\n",
    "\n",
    "С помощью показанного на лекции метода градиентного спуска исследуйте функцию \n",
    "\n",
    "$$\n",
    "f(x, y) = (x^2 + y - 11)^2 + (x + y^2 - 7)^2.\n",
    "$$\n",
    "\n",
    "Для этого зафиксируйте 4 точки:\n",
    "\n",
    "- $p_{1} = (x_{1}, y_{1}) = (-5, 0)$\n",
    "- $p_{2} = (x_{2}, y_{2}) = (-5, 1.5)$\n",
    "- $p_{3} = (x_{3}, y_{3}) = (5, 4)$\n",
    "- $p_{4} = (x_{4}, y_{4}) = (5, -4)$\n",
    "\n",
    "В ответ, через запятую, укажите 4 соответствующих тройки: \n",
    "\n",
    "$$\n",
    "(\\tilde{x}_{1}, \\tilde{y}_{1}, \\tilde{z}_{1}), (\\tilde{x}_{2}, \\tilde{y}_{2}, \\tilde{z}_{2}), (\\tilde{x}_{3}, \\tilde{y}_{3}, \\tilde{z}_{3}), (\\tilde{x}_{4}, \\tilde{y}_{4}, \\tilde{z}_{4}), \n",
    "$$\n",
    "\n",
    "где $(\\tilde{x}_{i}, \\tilde{y}_{i})$ - точка, в которую в итоге пришла точка $(x_{i}, y_{i})$, а $\\tilde{z}_{i}$ - значение функции в соответствующей точке. Все значения $\\tilde{x}_{i}, \\tilde{y}_{i}, \\tilde{z}_{i}$ округлите до 3-го знака."
   ]
  },
  {
   "cell_type": "markdown",
   "metadata": {},
   "source": [
    "# Ответ:"
   ]
  },
  {
   "cell_type": "code",
   "execution_count": 18,
   "metadata": {},
   "outputs": [],
   "source": [
    "from matplotlib import cm\n",
    "from mpl_toolkits.mplot3d.axes3d import Axes3D\n",
    "from matplotlib.animation import FuncAnimation\n",
    "from matplotlib import pyplot as plt\n",
    "import numpy as np\n",
    "%matplotlib notebook"
   ]
  },
  {
   "cell_type": "code",
   "execution_count": 10,
   "metadata": {},
   "outputs": [],
   "source": [
    "h = 1e-8\n",
    "\n",
    "#----------   Функция расчета значений частных производных \n",
    "#                      (используем формулу Тейлора)   ---------- \n",
    "\n",
    "# f - функция \n",
    "# p - точка\n",
    "def calc_gradient(f, p):\n",
    "    (x, y) = p\n",
    "    return np.array([\n",
    "        (f(x + h, y) - f(x - h, y)) * 0.5 / h,\n",
    "        (f(x, y + h) - f(x, y - h)) * 0.5 / h])\n",
    "\n",
    "\n",
    "#----------   Функция расчета градиентного спуска:   ---------- \n",
    "\n",
    "#   f - функция \n",
    "#   p - старотовая точка\n",
    "# eta - шаг алгоритма\n",
    "#   n - кол-во шагов\n",
    "# eps - оценка расстояния между соседними точками\n",
    "\n",
    "def calc_gradient_descent(f, p, eta, n, eps):\n",
    "    for i in range(n):\n",
    "        df = calc_gradient(f, p)              #считаем градиент\n",
    "        dfu = df / np.sqrt((df * df).sum())\n",
    "        yield (p, dfu)\n",
    "        \n",
    "        p = p - eta * dfu\n",
    "        \n",
    "        if (eta * sum(dfu**2) <= eps):\n",
    "            break"
   ]
  },
  {
   "cell_type": "code",
   "execution_count": 11,
   "metadata": {},
   "outputs": [],
   "source": [
    "# Построение графика функции\n",
    "def plot_surface(f, ax, n_points_per_axis = 100):\n",
    "    x_range = f['x_range']\n",
    "    y_range = f['y_range']\n",
    "    \n",
    "    xs, ys = np.meshgrid(\n",
    "        np.linspace(x_range[0], x_range[1], n_points_per_axis),\n",
    "        np.linspace(y_range[0], y_range[1], n_points_per_axis))\n",
    "    \n",
    "    zs = np.vectorize(f['f'])(xs, ys)\n",
    "    \n",
    "    ax.plot_surface(\n",
    "        xs, ys, zs,\n",
    "        cmap = cm.coolwarm,\n",
    "        linewidth = 0,\n",
    "        antialiased = False,\n",
    "        alpha = 0.4)\n",
    "    \n",
    "    ax.view_init(*f['view_init'])\n",
    "    ax.set_zlim(*f['z_lim'])\n",
    "    \n",
    "# Отрисовка пути, пройденного точкой по градиенту  \n",
    "def update_grads(n, lines, grad_data):\n",
    "    for ln, gd in zip(lines, grad_data):\n",
    "        ln.set_data(gd[0 : 2, : n])\n",
    "        ln.set_3d_properties(gd[2, : n])\n",
    "    return lines[1]"
   ]
  },
  {
   "cell_type": "code",
   "execution_count": 12,
   "metadata": {},
   "outputs": [],
   "source": [
    "functions_dict = dict(\n",
    "      \n",
    "    f4 = dict(\n",
    "        f = lambda x, y: (x**2 + y - 11)**2 + (x + y**2 - 7)**2,\n",
    "        x_range   = (-5, 5),\n",
    "        y_range   = (-5, 5),\n",
    "        x_lim     = (-5.5, 5.5),\n",
    "        y_lim     = (-5.5, 5.5),\n",
    "        z_lim     = (-300, 300),\n",
    "        view_init = (30, 30))\n",
    ")"
   ]
  },
  {
   "cell_type": "code",
   "execution_count": 15,
   "metadata": {},
   "outputs": [],
   "source": [
    "# Выбираем функцию\n",
    "func = functions_dict['f4']\n",
    "\n",
    "# Определяем стартовые точки для метода градиентного спуска\n",
    "start_points = [\n",
    "    \n",
    "    np.array([-5, 0]),\n",
    "    np.array([-5, 1.5]),\n",
    "    np.array([5, 4]),\n",
    "    np.array([5, -4])\n",
    "]\n",
    "\n",
    "grad_data = []\n",
    "\n",
    "\n",
    "eta = 0.005 # Шаг алгоритма\n",
    "n = 2000   # Кол-во шагов\n",
    "eps = 1e-8 # Оценка для расстояний между соседними шагами\n",
    "\n",
    "# Для каждой стартовой точки рассчитываем последовательность точек, лежащих на пути градиентного спуска\n",
    "for p0 in start_points:\n",
    "    (ps, _) = zip(*list(calc_gradient_descent(func['f'], p0, eta, n, eps)))\n",
    "    xs, ys = list(zip(*ps))\n",
    "    zs = np.vectorize(func['f'])(xs, ys)\n",
    "    grad_data.append(np.array([xs, ys, zs]))"
   ]
  },
  {
   "cell_type": "code",
   "execution_count": 19,
   "metadata": {},
   "outputs": [
    {
     "data": {
      "application/javascript": [
       "/* Put everything inside the global mpl namespace */\n",
       "/* global mpl */\n",
       "window.mpl = {};\n",
       "\n",
       "mpl.get_websocket_type = function () {\n",
       "    if (typeof WebSocket !== 'undefined') {\n",
       "        return WebSocket;\n",
       "    } else if (typeof MozWebSocket !== 'undefined') {\n",
       "        return MozWebSocket;\n",
       "    } else {\n",
       "        alert(\n",
       "            'Your browser does not have WebSocket support. ' +\n",
       "                'Please try Chrome, Safari or Firefox ≥ 6. ' +\n",
       "                'Firefox 4 and 5 are also supported but you ' +\n",
       "                'have to enable WebSockets in about:config.'\n",
       "        );\n",
       "    }\n",
       "};\n",
       "\n",
       "mpl.figure = function (figure_id, websocket, ondownload, parent_element) {\n",
       "    this.id = figure_id;\n",
       "\n",
       "    this.ws = websocket;\n",
       "\n",
       "    this.supports_binary = this.ws.binaryType !== undefined;\n",
       "\n",
       "    if (!this.supports_binary) {\n",
       "        var warnings = document.getElementById('mpl-warnings');\n",
       "        if (warnings) {\n",
       "            warnings.style.display = 'block';\n",
       "            warnings.textContent =\n",
       "                'This browser does not support binary websocket messages. ' +\n",
       "                'Performance may be slow.';\n",
       "        }\n",
       "    }\n",
       "\n",
       "    this.imageObj = new Image();\n",
       "\n",
       "    this.context = undefined;\n",
       "    this.message = undefined;\n",
       "    this.canvas = undefined;\n",
       "    this.rubberband_canvas = undefined;\n",
       "    this.rubberband_context = undefined;\n",
       "    this.format_dropdown = undefined;\n",
       "\n",
       "    this.image_mode = 'full';\n",
       "\n",
       "    this.root = document.createElement('div');\n",
       "    this.root.setAttribute('style', 'display: inline-block');\n",
       "    this._root_extra_style(this.root);\n",
       "\n",
       "    parent_element.appendChild(this.root);\n",
       "\n",
       "    this._init_header(this);\n",
       "    this._init_canvas(this);\n",
       "    this._init_toolbar(this);\n",
       "\n",
       "    var fig = this;\n",
       "\n",
       "    this.waiting = false;\n",
       "\n",
       "    this.ws.onopen = function () {\n",
       "        fig.send_message('supports_binary', { value: fig.supports_binary });\n",
       "        fig.send_message('send_image_mode', {});\n",
       "        if (fig.ratio !== 1) {\n",
       "            fig.send_message('set_dpi_ratio', { dpi_ratio: fig.ratio });\n",
       "        }\n",
       "        fig.send_message('refresh', {});\n",
       "    };\n",
       "\n",
       "    this.imageObj.onload = function () {\n",
       "        if (fig.image_mode === 'full') {\n",
       "            // Full images could contain transparency (where diff images\n",
       "            // almost always do), so we need to clear the canvas so that\n",
       "            // there is no ghosting.\n",
       "            fig.context.clearRect(0, 0, fig.canvas.width, fig.canvas.height);\n",
       "        }\n",
       "        fig.context.drawImage(fig.imageObj, 0, 0);\n",
       "    };\n",
       "\n",
       "    this.imageObj.onunload = function () {\n",
       "        fig.ws.close();\n",
       "    };\n",
       "\n",
       "    this.ws.onmessage = this._make_on_message_function(this);\n",
       "\n",
       "    this.ondownload = ondownload;\n",
       "};\n",
       "\n",
       "mpl.figure.prototype._init_header = function () {\n",
       "    var titlebar = document.createElement('div');\n",
       "    titlebar.classList =\n",
       "        'ui-dialog-titlebar ui-widget-header ui-corner-all ui-helper-clearfix';\n",
       "    var titletext = document.createElement('div');\n",
       "    titletext.classList = 'ui-dialog-title';\n",
       "    titletext.setAttribute(\n",
       "        'style',\n",
       "        'width: 100%; text-align: center; padding: 3px;'\n",
       "    );\n",
       "    titlebar.appendChild(titletext);\n",
       "    this.root.appendChild(titlebar);\n",
       "    this.header = titletext;\n",
       "};\n",
       "\n",
       "mpl.figure.prototype._canvas_extra_style = function (_canvas_div) {};\n",
       "\n",
       "mpl.figure.prototype._root_extra_style = function (_canvas_div) {};\n",
       "\n",
       "mpl.figure.prototype._init_canvas = function () {\n",
       "    var fig = this;\n",
       "\n",
       "    var canvas_div = (this.canvas_div = document.createElement('div'));\n",
       "    canvas_div.setAttribute(\n",
       "        'style',\n",
       "        'border: 1px solid #ddd;' +\n",
       "            'box-sizing: content-box;' +\n",
       "            'clear: both;' +\n",
       "            'min-height: 1px;' +\n",
       "            'min-width: 1px;' +\n",
       "            'outline: 0;' +\n",
       "            'overflow: hidden;' +\n",
       "            'position: relative;' +\n",
       "            'resize: both;'\n",
       "    );\n",
       "\n",
       "    function on_keyboard_event_closure(name) {\n",
       "        return function (event) {\n",
       "            return fig.key_event(event, name);\n",
       "        };\n",
       "    }\n",
       "\n",
       "    canvas_div.addEventListener(\n",
       "        'keydown',\n",
       "        on_keyboard_event_closure('key_press')\n",
       "    );\n",
       "    canvas_div.addEventListener(\n",
       "        'keyup',\n",
       "        on_keyboard_event_closure('key_release')\n",
       "    );\n",
       "\n",
       "    this._canvas_extra_style(canvas_div);\n",
       "    this.root.appendChild(canvas_div);\n",
       "\n",
       "    var canvas = (this.canvas = document.createElement('canvas'));\n",
       "    canvas.classList.add('mpl-canvas');\n",
       "    canvas.setAttribute('style', 'box-sizing: content-box;');\n",
       "\n",
       "    this.context = canvas.getContext('2d');\n",
       "\n",
       "    var backingStore =\n",
       "        this.context.backingStorePixelRatio ||\n",
       "        this.context.webkitBackingStorePixelRatio ||\n",
       "        this.context.mozBackingStorePixelRatio ||\n",
       "        this.context.msBackingStorePixelRatio ||\n",
       "        this.context.oBackingStorePixelRatio ||\n",
       "        this.context.backingStorePixelRatio ||\n",
       "        1;\n",
       "\n",
       "    this.ratio = (window.devicePixelRatio || 1) / backingStore;\n",
       "    if (this.ratio !== 1) {\n",
       "        fig.send_message('set_dpi_ratio', { dpi_ratio: this.ratio });\n",
       "    }\n",
       "\n",
       "    var rubberband_canvas = (this.rubberband_canvas = document.createElement(\n",
       "        'canvas'\n",
       "    ));\n",
       "    rubberband_canvas.setAttribute(\n",
       "        'style',\n",
       "        'box-sizing: content-box; position: absolute; left: 0; top: 0; z-index: 1;'\n",
       "    );\n",
       "\n",
       "    // Apply a ponyfill if ResizeObserver is not implemented by browser.\n",
       "    if (this.ResizeObserver === undefined) {\n",
       "        if (window.ResizeObserver !== undefined) {\n",
       "            this.ResizeObserver = window.ResizeObserver;\n",
       "        } else {\n",
       "            var obs = _JSXTOOLS_RESIZE_OBSERVER({});\n",
       "            this.ResizeObserver = obs.ResizeObserver;\n",
       "        }\n",
       "    }\n",
       "\n",
       "    this.resizeObserverInstance = new this.ResizeObserver(function (entries) {\n",
       "        var nentries = entries.length;\n",
       "        for (var i = 0; i < nentries; i++) {\n",
       "            var entry = entries[i];\n",
       "            var width, height;\n",
       "            if (entry.contentBoxSize) {\n",
       "                if (entry.contentBoxSize instanceof Array) {\n",
       "                    // Chrome 84 implements new version of spec.\n",
       "                    width = entry.contentBoxSize[0].inlineSize;\n",
       "                    height = entry.contentBoxSize[0].blockSize;\n",
       "                } else {\n",
       "                    // Firefox implements old version of spec.\n",
       "                    width = entry.contentBoxSize.inlineSize;\n",
       "                    height = entry.contentBoxSize.blockSize;\n",
       "                }\n",
       "            } else {\n",
       "                // Chrome <84 implements even older version of spec.\n",
       "                width = entry.contentRect.width;\n",
       "                height = entry.contentRect.height;\n",
       "            }\n",
       "\n",
       "            // Keep the size of the canvas and rubber band canvas in sync with\n",
       "            // the canvas container.\n",
       "            if (entry.devicePixelContentBoxSize) {\n",
       "                // Chrome 84 implements new version of spec.\n",
       "                canvas.setAttribute(\n",
       "                    'width',\n",
       "                    entry.devicePixelContentBoxSize[0].inlineSize\n",
       "                );\n",
       "                canvas.setAttribute(\n",
       "                    'height',\n",
       "                    entry.devicePixelContentBoxSize[0].blockSize\n",
       "                );\n",
       "            } else {\n",
       "                canvas.setAttribute('width', width * fig.ratio);\n",
       "                canvas.setAttribute('height', height * fig.ratio);\n",
       "            }\n",
       "            canvas.setAttribute(\n",
       "                'style',\n",
       "                'width: ' + width + 'px; height: ' + height + 'px;'\n",
       "            );\n",
       "\n",
       "            rubberband_canvas.setAttribute('width', width);\n",
       "            rubberband_canvas.setAttribute('height', height);\n",
       "\n",
       "            // And update the size in Python. We ignore the initial 0/0 size\n",
       "            // that occurs as the element is placed into the DOM, which should\n",
       "            // otherwise not happen due to the minimum size styling.\n",
       "            if (width != 0 && height != 0) {\n",
       "                fig.request_resize(width, height);\n",
       "            }\n",
       "        }\n",
       "    });\n",
       "    this.resizeObserverInstance.observe(canvas_div);\n",
       "\n",
       "    function on_mouse_event_closure(name) {\n",
       "        return function (event) {\n",
       "            return fig.mouse_event(event, name);\n",
       "        };\n",
       "    }\n",
       "\n",
       "    rubberband_canvas.addEventListener(\n",
       "        'mousedown',\n",
       "        on_mouse_event_closure('button_press')\n",
       "    );\n",
       "    rubberband_canvas.addEventListener(\n",
       "        'mouseup',\n",
       "        on_mouse_event_closure('button_release')\n",
       "    );\n",
       "    // Throttle sequential mouse events to 1 every 20ms.\n",
       "    rubberband_canvas.addEventListener(\n",
       "        'mousemove',\n",
       "        on_mouse_event_closure('motion_notify')\n",
       "    );\n",
       "\n",
       "    rubberband_canvas.addEventListener(\n",
       "        'mouseenter',\n",
       "        on_mouse_event_closure('figure_enter')\n",
       "    );\n",
       "    rubberband_canvas.addEventListener(\n",
       "        'mouseleave',\n",
       "        on_mouse_event_closure('figure_leave')\n",
       "    );\n",
       "\n",
       "    canvas_div.addEventListener('wheel', function (event) {\n",
       "        if (event.deltaY < 0) {\n",
       "            event.step = 1;\n",
       "        } else {\n",
       "            event.step = -1;\n",
       "        }\n",
       "        on_mouse_event_closure('scroll')(event);\n",
       "    });\n",
       "\n",
       "    canvas_div.appendChild(canvas);\n",
       "    canvas_div.appendChild(rubberband_canvas);\n",
       "\n",
       "    this.rubberband_context = rubberband_canvas.getContext('2d');\n",
       "    this.rubberband_context.strokeStyle = '#000000';\n",
       "\n",
       "    this._resize_canvas = function (width, height, forward) {\n",
       "        if (forward) {\n",
       "            canvas_div.style.width = width + 'px';\n",
       "            canvas_div.style.height = height + 'px';\n",
       "        }\n",
       "    };\n",
       "\n",
       "    // Disable right mouse context menu.\n",
       "    this.rubberband_canvas.addEventListener('contextmenu', function (_e) {\n",
       "        event.preventDefault();\n",
       "        return false;\n",
       "    });\n",
       "\n",
       "    function set_focus() {\n",
       "        canvas.focus();\n",
       "        canvas_div.focus();\n",
       "    }\n",
       "\n",
       "    window.setTimeout(set_focus, 100);\n",
       "};\n",
       "\n",
       "mpl.figure.prototype._init_toolbar = function () {\n",
       "    var fig = this;\n",
       "\n",
       "    var toolbar = document.createElement('div');\n",
       "    toolbar.classList = 'mpl-toolbar';\n",
       "    this.root.appendChild(toolbar);\n",
       "\n",
       "    function on_click_closure(name) {\n",
       "        return function (_event) {\n",
       "            return fig.toolbar_button_onclick(name);\n",
       "        };\n",
       "    }\n",
       "\n",
       "    function on_mouseover_closure(tooltip) {\n",
       "        return function (event) {\n",
       "            if (!event.currentTarget.disabled) {\n",
       "                return fig.toolbar_button_onmouseover(tooltip);\n",
       "            }\n",
       "        };\n",
       "    }\n",
       "\n",
       "    fig.buttons = {};\n",
       "    var buttonGroup = document.createElement('div');\n",
       "    buttonGroup.classList = 'mpl-button-group';\n",
       "    for (var toolbar_ind in mpl.toolbar_items) {\n",
       "        var name = mpl.toolbar_items[toolbar_ind][0];\n",
       "        var tooltip = mpl.toolbar_items[toolbar_ind][1];\n",
       "        var image = mpl.toolbar_items[toolbar_ind][2];\n",
       "        var method_name = mpl.toolbar_items[toolbar_ind][3];\n",
       "\n",
       "        if (!name) {\n",
       "            /* Instead of a spacer, we start a new button group. */\n",
       "            if (buttonGroup.hasChildNodes()) {\n",
       "                toolbar.appendChild(buttonGroup);\n",
       "            }\n",
       "            buttonGroup = document.createElement('div');\n",
       "            buttonGroup.classList = 'mpl-button-group';\n",
       "            continue;\n",
       "        }\n",
       "\n",
       "        var button = (fig.buttons[name] = document.createElement('button'));\n",
       "        button.classList = 'mpl-widget';\n",
       "        button.setAttribute('role', 'button');\n",
       "        button.setAttribute('aria-disabled', 'false');\n",
       "        button.addEventListener('click', on_click_closure(method_name));\n",
       "        button.addEventListener('mouseover', on_mouseover_closure(tooltip));\n",
       "\n",
       "        var icon_img = document.createElement('img');\n",
       "        icon_img.src = '_images/' + image + '.png';\n",
       "        icon_img.srcset = '_images/' + image + '_large.png 2x';\n",
       "        icon_img.alt = tooltip;\n",
       "        button.appendChild(icon_img);\n",
       "\n",
       "        buttonGroup.appendChild(button);\n",
       "    }\n",
       "\n",
       "    if (buttonGroup.hasChildNodes()) {\n",
       "        toolbar.appendChild(buttonGroup);\n",
       "    }\n",
       "\n",
       "    var fmt_picker = document.createElement('select');\n",
       "    fmt_picker.classList = 'mpl-widget';\n",
       "    toolbar.appendChild(fmt_picker);\n",
       "    this.format_dropdown = fmt_picker;\n",
       "\n",
       "    for (var ind in mpl.extensions) {\n",
       "        var fmt = mpl.extensions[ind];\n",
       "        var option = document.createElement('option');\n",
       "        option.selected = fmt === mpl.default_extension;\n",
       "        option.innerHTML = fmt;\n",
       "        fmt_picker.appendChild(option);\n",
       "    }\n",
       "\n",
       "    var status_bar = document.createElement('span');\n",
       "    status_bar.classList = 'mpl-message';\n",
       "    toolbar.appendChild(status_bar);\n",
       "    this.message = status_bar;\n",
       "};\n",
       "\n",
       "mpl.figure.prototype.request_resize = function (x_pixels, y_pixels) {\n",
       "    // Request matplotlib to resize the figure. Matplotlib will then trigger a resize in the client,\n",
       "    // which will in turn request a refresh of the image.\n",
       "    this.send_message('resize', { width: x_pixels, height: y_pixels });\n",
       "};\n",
       "\n",
       "mpl.figure.prototype.send_message = function (type, properties) {\n",
       "    properties['type'] = type;\n",
       "    properties['figure_id'] = this.id;\n",
       "    this.ws.send(JSON.stringify(properties));\n",
       "};\n",
       "\n",
       "mpl.figure.prototype.send_draw_message = function () {\n",
       "    if (!this.waiting) {\n",
       "        this.waiting = true;\n",
       "        this.ws.send(JSON.stringify({ type: 'draw', figure_id: this.id }));\n",
       "    }\n",
       "};\n",
       "\n",
       "mpl.figure.prototype.handle_save = function (fig, _msg) {\n",
       "    var format_dropdown = fig.format_dropdown;\n",
       "    var format = format_dropdown.options[format_dropdown.selectedIndex].value;\n",
       "    fig.ondownload(fig, format);\n",
       "};\n",
       "\n",
       "mpl.figure.prototype.handle_resize = function (fig, msg) {\n",
       "    var size = msg['size'];\n",
       "    if (size[0] !== fig.canvas.width || size[1] !== fig.canvas.height) {\n",
       "        fig._resize_canvas(size[0], size[1], msg['forward']);\n",
       "        fig.send_message('refresh', {});\n",
       "    }\n",
       "};\n",
       "\n",
       "mpl.figure.prototype.handle_rubberband = function (fig, msg) {\n",
       "    var x0 = msg['x0'] / fig.ratio;\n",
       "    var y0 = (fig.canvas.height - msg['y0']) / fig.ratio;\n",
       "    var x1 = msg['x1'] / fig.ratio;\n",
       "    var y1 = (fig.canvas.height - msg['y1']) / fig.ratio;\n",
       "    x0 = Math.floor(x0) + 0.5;\n",
       "    y0 = Math.floor(y0) + 0.5;\n",
       "    x1 = Math.floor(x1) + 0.5;\n",
       "    y1 = Math.floor(y1) + 0.5;\n",
       "    var min_x = Math.min(x0, x1);\n",
       "    var min_y = Math.min(y0, y1);\n",
       "    var width = Math.abs(x1 - x0);\n",
       "    var height = Math.abs(y1 - y0);\n",
       "\n",
       "    fig.rubberband_context.clearRect(\n",
       "        0,\n",
       "        0,\n",
       "        fig.canvas.width / fig.ratio,\n",
       "        fig.canvas.height / fig.ratio\n",
       "    );\n",
       "\n",
       "    fig.rubberband_context.strokeRect(min_x, min_y, width, height);\n",
       "};\n",
       "\n",
       "mpl.figure.prototype.handle_figure_label = function (fig, msg) {\n",
       "    // Updates the figure title.\n",
       "    fig.header.textContent = msg['label'];\n",
       "};\n",
       "\n",
       "mpl.figure.prototype.handle_cursor = function (fig, msg) {\n",
       "    var cursor = msg['cursor'];\n",
       "    switch (cursor) {\n",
       "        case 0:\n",
       "            cursor = 'pointer';\n",
       "            break;\n",
       "        case 1:\n",
       "            cursor = 'default';\n",
       "            break;\n",
       "        case 2:\n",
       "            cursor = 'crosshair';\n",
       "            break;\n",
       "        case 3:\n",
       "            cursor = 'move';\n",
       "            break;\n",
       "    }\n",
       "    fig.rubberband_canvas.style.cursor = cursor;\n",
       "};\n",
       "\n",
       "mpl.figure.prototype.handle_message = function (fig, msg) {\n",
       "    fig.message.textContent = msg['message'];\n",
       "};\n",
       "\n",
       "mpl.figure.prototype.handle_draw = function (fig, _msg) {\n",
       "    // Request the server to send over a new figure.\n",
       "    fig.send_draw_message();\n",
       "};\n",
       "\n",
       "mpl.figure.prototype.handle_image_mode = function (fig, msg) {\n",
       "    fig.image_mode = msg['mode'];\n",
       "};\n",
       "\n",
       "mpl.figure.prototype.handle_history_buttons = function (fig, msg) {\n",
       "    for (var key in msg) {\n",
       "        if (!(key in fig.buttons)) {\n",
       "            continue;\n",
       "        }\n",
       "        fig.buttons[key].disabled = !msg[key];\n",
       "        fig.buttons[key].setAttribute('aria-disabled', !msg[key]);\n",
       "    }\n",
       "};\n",
       "\n",
       "mpl.figure.prototype.handle_navigate_mode = function (fig, msg) {\n",
       "    if (msg['mode'] === 'PAN') {\n",
       "        fig.buttons['Pan'].classList.add('active');\n",
       "        fig.buttons['Zoom'].classList.remove('active');\n",
       "    } else if (msg['mode'] === 'ZOOM') {\n",
       "        fig.buttons['Pan'].classList.remove('active');\n",
       "        fig.buttons['Zoom'].classList.add('active');\n",
       "    } else {\n",
       "        fig.buttons['Pan'].classList.remove('active');\n",
       "        fig.buttons['Zoom'].classList.remove('active');\n",
       "    }\n",
       "};\n",
       "\n",
       "mpl.figure.prototype.updated_canvas_event = function () {\n",
       "    // Called whenever the canvas gets updated.\n",
       "    this.send_message('ack', {});\n",
       "};\n",
       "\n",
       "// A function to construct a web socket function for onmessage handling.\n",
       "// Called in the figure constructor.\n",
       "mpl.figure.prototype._make_on_message_function = function (fig) {\n",
       "    return function socket_on_message(evt) {\n",
       "        if (evt.data instanceof Blob) {\n",
       "            /* FIXME: We get \"Resource interpreted as Image but\n",
       "             * transferred with MIME type text/plain:\" errors on\n",
       "             * Chrome.  But how to set the MIME type?  It doesn't seem\n",
       "             * to be part of the websocket stream */\n",
       "            evt.data.type = 'image/png';\n",
       "\n",
       "            /* Free the memory for the previous frames */\n",
       "            if (fig.imageObj.src) {\n",
       "                (window.URL || window.webkitURL).revokeObjectURL(\n",
       "                    fig.imageObj.src\n",
       "                );\n",
       "            }\n",
       "\n",
       "            fig.imageObj.src = (window.URL || window.webkitURL).createObjectURL(\n",
       "                evt.data\n",
       "            );\n",
       "            fig.updated_canvas_event();\n",
       "            fig.waiting = false;\n",
       "            return;\n",
       "        } else if (\n",
       "            typeof evt.data === 'string' &&\n",
       "            evt.data.slice(0, 21) === 'data:image/png;base64'\n",
       "        ) {\n",
       "            fig.imageObj.src = evt.data;\n",
       "            fig.updated_canvas_event();\n",
       "            fig.waiting = false;\n",
       "            return;\n",
       "        }\n",
       "\n",
       "        var msg = JSON.parse(evt.data);\n",
       "        var msg_type = msg['type'];\n",
       "\n",
       "        // Call the  \"handle_{type}\" callback, which takes\n",
       "        // the figure and JSON message as its only arguments.\n",
       "        try {\n",
       "            var callback = fig['handle_' + msg_type];\n",
       "        } catch (e) {\n",
       "            console.log(\n",
       "                \"No handler for the '\" + msg_type + \"' message type: \",\n",
       "                msg\n",
       "            );\n",
       "            return;\n",
       "        }\n",
       "\n",
       "        if (callback) {\n",
       "            try {\n",
       "                // console.log(\"Handling '\" + msg_type + \"' message: \", msg);\n",
       "                callback(fig, msg);\n",
       "            } catch (e) {\n",
       "                console.log(\n",
       "                    \"Exception inside the 'handler_\" + msg_type + \"' callback:\",\n",
       "                    e,\n",
       "                    e.stack,\n",
       "                    msg\n",
       "                );\n",
       "            }\n",
       "        }\n",
       "    };\n",
       "};\n",
       "\n",
       "// from http://stackoverflow.com/questions/1114465/getting-mouse-location-in-canvas\n",
       "mpl.findpos = function (e) {\n",
       "    //this section is from http://www.quirksmode.org/js/events_properties.html\n",
       "    var targ;\n",
       "    if (!e) {\n",
       "        e = window.event;\n",
       "    }\n",
       "    if (e.target) {\n",
       "        targ = e.target;\n",
       "    } else if (e.srcElement) {\n",
       "        targ = e.srcElement;\n",
       "    }\n",
       "    if (targ.nodeType === 3) {\n",
       "        // defeat Safari bug\n",
       "        targ = targ.parentNode;\n",
       "    }\n",
       "\n",
       "    // pageX,Y are the mouse positions relative to the document\n",
       "    var boundingRect = targ.getBoundingClientRect();\n",
       "    var x = e.pageX - (boundingRect.left + document.body.scrollLeft);\n",
       "    var y = e.pageY - (boundingRect.top + document.body.scrollTop);\n",
       "\n",
       "    return { x: x, y: y };\n",
       "};\n",
       "\n",
       "/*\n",
       " * return a copy of an object with only non-object keys\n",
       " * we need this to avoid circular references\n",
       " * http://stackoverflow.com/a/24161582/3208463\n",
       " */\n",
       "function simpleKeys(original) {\n",
       "    return Object.keys(original).reduce(function (obj, key) {\n",
       "        if (typeof original[key] !== 'object') {\n",
       "            obj[key] = original[key];\n",
       "        }\n",
       "        return obj;\n",
       "    }, {});\n",
       "}\n",
       "\n",
       "mpl.figure.prototype.mouse_event = function (event, name) {\n",
       "    var canvas_pos = mpl.findpos(event);\n",
       "\n",
       "    if (name === 'button_press') {\n",
       "        this.canvas.focus();\n",
       "        this.canvas_div.focus();\n",
       "    }\n",
       "\n",
       "    var x = canvas_pos.x * this.ratio;\n",
       "    var y = canvas_pos.y * this.ratio;\n",
       "\n",
       "    this.send_message(name, {\n",
       "        x: x,\n",
       "        y: y,\n",
       "        button: event.button,\n",
       "        step: event.step,\n",
       "        guiEvent: simpleKeys(event),\n",
       "    });\n",
       "\n",
       "    /* This prevents the web browser from automatically changing to\n",
       "     * the text insertion cursor when the button is pressed.  We want\n",
       "     * to control all of the cursor setting manually through the\n",
       "     * 'cursor' event from matplotlib */\n",
       "    event.preventDefault();\n",
       "    return false;\n",
       "};\n",
       "\n",
       "mpl.figure.prototype._key_event_extra = function (_event, _name) {\n",
       "    // Handle any extra behaviour associated with a key event\n",
       "};\n",
       "\n",
       "mpl.figure.prototype.key_event = function (event, name) {\n",
       "    // Prevent repeat events\n",
       "    if (name === 'key_press') {\n",
       "        if (event.which === this._key) {\n",
       "            return;\n",
       "        } else {\n",
       "            this._key = event.which;\n",
       "        }\n",
       "    }\n",
       "    if (name === 'key_release') {\n",
       "        this._key = null;\n",
       "    }\n",
       "\n",
       "    var value = '';\n",
       "    if (event.ctrlKey && event.which !== 17) {\n",
       "        value += 'ctrl+';\n",
       "    }\n",
       "    if (event.altKey && event.which !== 18) {\n",
       "        value += 'alt+';\n",
       "    }\n",
       "    if (event.shiftKey && event.which !== 16) {\n",
       "        value += 'shift+';\n",
       "    }\n",
       "\n",
       "    value += 'k';\n",
       "    value += event.which.toString();\n",
       "\n",
       "    this._key_event_extra(event, name);\n",
       "\n",
       "    this.send_message(name, { key: value, guiEvent: simpleKeys(event) });\n",
       "    return false;\n",
       "};\n",
       "\n",
       "mpl.figure.prototype.toolbar_button_onclick = function (name) {\n",
       "    if (name === 'download') {\n",
       "        this.handle_save(this, null);\n",
       "    } else {\n",
       "        this.send_message('toolbar_button', { name: name });\n",
       "    }\n",
       "};\n",
       "\n",
       "mpl.figure.prototype.toolbar_button_onmouseover = function (tooltip) {\n",
       "    this.message.textContent = tooltip;\n",
       "};\n",
       "\n",
       "///////////////// REMAINING CONTENT GENERATED BY embed_js.py /////////////////\n",
       "// prettier-ignore\n",
       "var _JSXTOOLS_RESIZE_OBSERVER=function(A){var t,i=new WeakMap,n=new WeakMap,a=new WeakMap,r=new WeakMap,o=new Set;function s(e){if(!(this instanceof s))throw new TypeError(\"Constructor requires 'new' operator\");i.set(this,e)}function h(){throw new TypeError(\"Function is not a constructor\")}function c(e,t,i,n){e=0 in arguments?Number(arguments[0]):0,t=1 in arguments?Number(arguments[1]):0,i=2 in arguments?Number(arguments[2]):0,n=3 in arguments?Number(arguments[3]):0,this.right=(this.x=this.left=e)+(this.width=i),this.bottom=(this.y=this.top=t)+(this.height=n),Object.freeze(this)}function d(){t=requestAnimationFrame(d);var s=new WeakMap,p=new Set;o.forEach((function(t){r.get(t).forEach((function(i){var r=t instanceof window.SVGElement,o=a.get(t),d=r?0:parseFloat(o.paddingTop),f=r?0:parseFloat(o.paddingRight),l=r?0:parseFloat(o.paddingBottom),u=r?0:parseFloat(o.paddingLeft),g=r?0:parseFloat(o.borderTopWidth),m=r?0:parseFloat(o.borderRightWidth),w=r?0:parseFloat(o.borderBottomWidth),b=u+f,F=d+l,v=(r?0:parseFloat(o.borderLeftWidth))+m,W=g+w,y=r?0:t.offsetHeight-W-t.clientHeight,E=r?0:t.offsetWidth-v-t.clientWidth,R=b+v,z=F+W,M=r?t.width:parseFloat(o.width)-R-E,O=r?t.height:parseFloat(o.height)-z-y;if(n.has(t)){var k=n.get(t);if(k[0]===M&&k[1]===O)return}n.set(t,[M,O]);var S=Object.create(h.prototype);S.target=t,S.contentRect=new c(u,d,M,O),s.has(i)||(s.set(i,[]),p.add(i)),s.get(i).push(S)}))})),p.forEach((function(e){i.get(e).call(e,s.get(e),e)}))}return s.prototype.observe=function(i){if(i instanceof window.Element){r.has(i)||(r.set(i,new Set),o.add(i),a.set(i,window.getComputedStyle(i)));var n=r.get(i);n.has(this)||n.add(this),cancelAnimationFrame(t),t=requestAnimationFrame(d)}},s.prototype.unobserve=function(i){if(i instanceof window.Element&&r.has(i)){var n=r.get(i);n.has(this)&&(n.delete(this),n.size||(r.delete(i),o.delete(i))),n.size||r.delete(i),o.size||cancelAnimationFrame(t)}},A.DOMRectReadOnly=c,A.ResizeObserver=s,A.ResizeObserverEntry=h,A}; // eslint-disable-line\n",
       "mpl.toolbar_items = [[\"Home\", \"Reset original view\", \"fa fa-home icon-home\", \"home\"], [\"Back\", \"Back to previous view\", \"fa fa-arrow-left icon-arrow-left\", \"back\"], [\"Forward\", \"Forward to next view\", \"fa fa-arrow-right icon-arrow-right\", \"forward\"], [\"\", \"\", \"\", \"\"], [\"Pan\", \"Left button pans, Right button zooms\\nx/y fixes axis, CTRL fixes aspect\", \"fa fa-arrows icon-move\", \"pan\"], [\"Zoom\", \"Zoom to rectangle\\nx/y fixes axis, CTRL fixes aspect\", \"fa fa-square-o icon-check-empty\", \"zoom\"], [\"\", \"\", \"\", \"\"], [\"Download\", \"Download plot\", \"fa fa-floppy-o icon-save\", \"download\"]];\n",
       "\n",
       "mpl.extensions = [\"eps\", \"jpeg\", \"pdf\", \"png\", \"ps\", \"raw\", \"svg\", \"tif\"];\n",
       "\n",
       "mpl.default_extension = \"png\";/* global mpl */\n",
       "\n",
       "var comm_websocket_adapter = function (comm) {\n",
       "    // Create a \"websocket\"-like object which calls the given IPython comm\n",
       "    // object with the appropriate methods. Currently this is a non binary\n",
       "    // socket, so there is still some room for performance tuning.\n",
       "    var ws = {};\n",
       "\n",
       "    ws.close = function () {\n",
       "        comm.close();\n",
       "    };\n",
       "    ws.send = function (m) {\n",
       "        //console.log('sending', m);\n",
       "        comm.send(m);\n",
       "    };\n",
       "    // Register the callback with on_msg.\n",
       "    comm.on_msg(function (msg) {\n",
       "        //console.log('receiving', msg['content']['data'], msg);\n",
       "        // Pass the mpl event to the overridden (by mpl) onmessage function.\n",
       "        ws.onmessage(msg['content']['data']);\n",
       "    });\n",
       "    return ws;\n",
       "};\n",
       "\n",
       "mpl.mpl_figure_comm = function (comm, msg) {\n",
       "    // This is the function which gets called when the mpl process\n",
       "    // starts-up an IPython Comm through the \"matplotlib\" channel.\n",
       "\n",
       "    var id = msg.content.data.id;\n",
       "    // Get hold of the div created by the display call when the Comm\n",
       "    // socket was opened in Python.\n",
       "    var element = document.getElementById(id);\n",
       "    var ws_proxy = comm_websocket_adapter(comm);\n",
       "\n",
       "    function ondownload(figure, _format) {\n",
       "        window.open(figure.canvas.toDataURL());\n",
       "    }\n",
       "\n",
       "    var fig = new mpl.figure(id, ws_proxy, ondownload, element);\n",
       "\n",
       "    // Call onopen now - mpl needs it, as it is assuming we've passed it a real\n",
       "    // web socket which is closed, not our websocket->open comm proxy.\n",
       "    ws_proxy.onopen();\n",
       "\n",
       "    fig.parent_element = element;\n",
       "    fig.cell_info = mpl.find_output_cell(\"<div id='\" + id + \"'></div>\");\n",
       "    if (!fig.cell_info) {\n",
       "        console.error('Failed to find cell for figure', id, fig);\n",
       "        return;\n",
       "    }\n",
       "    fig.cell_info[0].output_area.element.on(\n",
       "        'cleared',\n",
       "        { fig: fig },\n",
       "        fig._remove_fig_handler\n",
       "    );\n",
       "};\n",
       "\n",
       "mpl.figure.prototype.handle_close = function (fig, msg) {\n",
       "    var width = fig.canvas.width / fig.ratio;\n",
       "    fig.cell_info[0].output_area.element.off(\n",
       "        'cleared',\n",
       "        fig._remove_fig_handler\n",
       "    );\n",
       "    fig.resizeObserverInstance.unobserve(fig.canvas_div);\n",
       "\n",
       "    // Update the output cell to use the data from the current canvas.\n",
       "    fig.push_to_output();\n",
       "    var dataURL = fig.canvas.toDataURL();\n",
       "    // Re-enable the keyboard manager in IPython - without this line, in FF,\n",
       "    // the notebook keyboard shortcuts fail.\n",
       "    IPython.keyboard_manager.enable();\n",
       "    fig.parent_element.innerHTML =\n",
       "        '<img src=\"' + dataURL + '\" width=\"' + width + '\">';\n",
       "    fig.close_ws(fig, msg);\n",
       "};\n",
       "\n",
       "mpl.figure.prototype.close_ws = function (fig, msg) {\n",
       "    fig.send_message('closing', msg);\n",
       "    // fig.ws.close()\n",
       "};\n",
       "\n",
       "mpl.figure.prototype.push_to_output = function (_remove_interactive) {\n",
       "    // Turn the data on the canvas into data in the output cell.\n",
       "    var width = this.canvas.width / this.ratio;\n",
       "    var dataURL = this.canvas.toDataURL();\n",
       "    this.cell_info[1]['text/html'] =\n",
       "        '<img src=\"' + dataURL + '\" width=\"' + width + '\">';\n",
       "};\n",
       "\n",
       "mpl.figure.prototype.updated_canvas_event = function () {\n",
       "    // Tell IPython that the notebook contents must change.\n",
       "    IPython.notebook.set_dirty(true);\n",
       "    this.send_message('ack', {});\n",
       "    var fig = this;\n",
       "    // Wait a second, then push the new image to the DOM so\n",
       "    // that it is saved nicely (might be nice to debounce this).\n",
       "    setTimeout(function () {\n",
       "        fig.push_to_output();\n",
       "    }, 1000);\n",
       "};\n",
       "\n",
       "mpl.figure.prototype._init_toolbar = function () {\n",
       "    var fig = this;\n",
       "\n",
       "    var toolbar = document.createElement('div');\n",
       "    toolbar.classList = 'btn-toolbar';\n",
       "    this.root.appendChild(toolbar);\n",
       "\n",
       "    function on_click_closure(name) {\n",
       "        return function (_event) {\n",
       "            return fig.toolbar_button_onclick(name);\n",
       "        };\n",
       "    }\n",
       "\n",
       "    function on_mouseover_closure(tooltip) {\n",
       "        return function (event) {\n",
       "            if (!event.currentTarget.disabled) {\n",
       "                return fig.toolbar_button_onmouseover(tooltip);\n",
       "            }\n",
       "        };\n",
       "    }\n",
       "\n",
       "    fig.buttons = {};\n",
       "    var buttonGroup = document.createElement('div');\n",
       "    buttonGroup.classList = 'btn-group';\n",
       "    var button;\n",
       "    for (var toolbar_ind in mpl.toolbar_items) {\n",
       "        var name = mpl.toolbar_items[toolbar_ind][0];\n",
       "        var tooltip = mpl.toolbar_items[toolbar_ind][1];\n",
       "        var image = mpl.toolbar_items[toolbar_ind][2];\n",
       "        var method_name = mpl.toolbar_items[toolbar_ind][3];\n",
       "\n",
       "        if (!name) {\n",
       "            /* Instead of a spacer, we start a new button group. */\n",
       "            if (buttonGroup.hasChildNodes()) {\n",
       "                toolbar.appendChild(buttonGroup);\n",
       "            }\n",
       "            buttonGroup = document.createElement('div');\n",
       "            buttonGroup.classList = 'btn-group';\n",
       "            continue;\n",
       "        }\n",
       "\n",
       "        button = fig.buttons[name] = document.createElement('button');\n",
       "        button.classList = 'btn btn-default';\n",
       "        button.href = '#';\n",
       "        button.title = name;\n",
       "        button.innerHTML = '<i class=\"fa ' + image + ' fa-lg\"></i>';\n",
       "        button.addEventListener('click', on_click_closure(method_name));\n",
       "        button.addEventListener('mouseover', on_mouseover_closure(tooltip));\n",
       "        buttonGroup.appendChild(button);\n",
       "    }\n",
       "\n",
       "    if (buttonGroup.hasChildNodes()) {\n",
       "        toolbar.appendChild(buttonGroup);\n",
       "    }\n",
       "\n",
       "    // Add the status bar.\n",
       "    var status_bar = document.createElement('span');\n",
       "    status_bar.classList = 'mpl-message pull-right';\n",
       "    toolbar.appendChild(status_bar);\n",
       "    this.message = status_bar;\n",
       "\n",
       "    // Add the close button to the window.\n",
       "    var buttongrp = document.createElement('div');\n",
       "    buttongrp.classList = 'btn-group inline pull-right';\n",
       "    button = document.createElement('button');\n",
       "    button.classList = 'btn btn-mini btn-primary';\n",
       "    button.href = '#';\n",
       "    button.title = 'Stop Interaction';\n",
       "    button.innerHTML = '<i class=\"fa fa-power-off icon-remove icon-large\"></i>';\n",
       "    button.addEventListener('click', function (_evt) {\n",
       "        fig.handle_close(fig, {});\n",
       "    });\n",
       "    button.addEventListener(\n",
       "        'mouseover',\n",
       "        on_mouseover_closure('Stop Interaction')\n",
       "    );\n",
       "    buttongrp.appendChild(button);\n",
       "    var titlebar = this.root.querySelector('.ui-dialog-titlebar');\n",
       "    titlebar.insertBefore(buttongrp, titlebar.firstChild);\n",
       "};\n",
       "\n",
       "mpl.figure.prototype._remove_fig_handler = function (event) {\n",
       "    var fig = event.data.fig;\n",
       "    if (event.target !== this) {\n",
       "        // Ignore bubbled events from children.\n",
       "        return;\n",
       "    }\n",
       "    fig.close_ws(fig, {});\n",
       "};\n",
       "\n",
       "mpl.figure.prototype._root_extra_style = function (el) {\n",
       "    el.style.boxSizing = 'content-box'; // override notebook setting of border-box.\n",
       "};\n",
       "\n",
       "mpl.figure.prototype._canvas_extra_style = function (el) {\n",
       "    // this is important to make the div 'focusable\n",
       "    el.setAttribute('tabindex', 0);\n",
       "    // reach out to IPython and tell the keyboard manager to turn it's self\n",
       "    // off when our div gets focus\n",
       "\n",
       "    // location in version 3\n",
       "    if (IPython.notebook.keyboard_manager) {\n",
       "        IPython.notebook.keyboard_manager.register_events(el);\n",
       "    } else {\n",
       "        // location in version 2\n",
       "        IPython.keyboard_manager.register_events(el);\n",
       "    }\n",
       "};\n",
       "\n",
       "mpl.figure.prototype._key_event_extra = function (event, _name) {\n",
       "    var manager = IPython.notebook.keyboard_manager;\n",
       "    if (!manager) {\n",
       "        manager = IPython.keyboard_manager;\n",
       "    }\n",
       "\n",
       "    // Check for shift+enter\n",
       "    if (event.shiftKey && event.which === 13) {\n",
       "        this.canvas_div.blur();\n",
       "        // select the cell after this one\n",
       "        var index = IPython.notebook.find_cell_index(this.cell_info[0]);\n",
       "        IPython.notebook.select(index + 1);\n",
       "    }\n",
       "};\n",
       "\n",
       "mpl.figure.prototype.handle_save = function (fig, _msg) {\n",
       "    fig.ondownload(fig, null);\n",
       "};\n",
       "\n",
       "mpl.find_output_cell = function (html_output) {\n",
       "    // Return the cell and output element which can be found *uniquely* in the notebook.\n",
       "    // Note - this is a bit hacky, but it is done because the \"notebook_saving.Notebook\"\n",
       "    // IPython event is triggered only after the cells have been serialised, which for\n",
       "    // our purposes (turning an active figure into a static one), is too late.\n",
       "    var cells = IPython.notebook.get_cells();\n",
       "    var ncells = cells.length;\n",
       "    for (var i = 0; i < ncells; i++) {\n",
       "        var cell = cells[i];\n",
       "        if (cell.cell_type === 'code') {\n",
       "            for (var j = 0; j < cell.output_area.outputs.length; j++) {\n",
       "                var data = cell.output_area.outputs[j];\n",
       "                if (data.data) {\n",
       "                    // IPython >= 3 moved mimebundle to data attribute of output\n",
       "                    data = data.data;\n",
       "                }\n",
       "                if (data['text/html'] === html_output) {\n",
       "                    return [cell, data, j];\n",
       "                }\n",
       "            }\n",
       "        }\n",
       "    }\n",
       "};\n",
       "\n",
       "// Register the function which deals with the matplotlib target/channel.\n",
       "// The kernel may be null if the page has been refreshed.\n",
       "if (IPython.notebook.kernel !== null) {\n",
       "    IPython.notebook.kernel.comm_manager.register_target(\n",
       "        'matplotlib',\n",
       "        mpl.mpl_figure_comm\n",
       "    );\n",
       "}\n"
      ],
      "text/plain": [
       "<IPython.core.display.Javascript object>"
      ]
     },
     "metadata": {},
     "output_type": "display_data"
    },
    {
     "data": {
      "text/html": [
       "<img src=\"data:image/png;base64,iVBORw0KGgoAAAANSUhEUgAABGUAAAJxCAYAAADrfQ/pAAAgAElEQVR4XuydB3gc1fn13101W5ItWb1bsmXJFdMM2MQ0Q+gtED5KQkJIgkkIvYdUSAghoQQChJBQYpI/ofcSmgEDBptiXLAl2ypWlyxZsmT1/Z5zV1eanZ3ZXTWvtDr3efxY2ml3fjNaac6e97wOl8vlEg4SIAESIAESIAESIAESIAESIAESIAESIIG9SsBBUWav8ubBSIAESIAESIAESIAESIAESIAESIAESEARoCjDG4EESIAESIAESIAESIAESIAESIAESIAEgkCAokwQoPOQJEACJEACJEACJEACJEACJEACJEACJEBRhvcACZAACZAACZAACZAACZAACZAACZAACQSBAEWZIEDnIUmABEiABEiABEiABEiABEiABEiABEiAogzvARIgARIgARIgARIgARIgARIgARIgARIIAgGKMkGAzkOSAAmQAAmQAAmQAAmQAAmQAAmQAAmQAEUZ3gMkQAIkQAIkQAIkQAIkQAIkQAIkQAIkEAQCFGWCAJ2HJAESIAESIAESIAESIAESIAESIAESIAGKMrwHSIAESIAESIAESIAESIAESIAESIAESCAIBCjKBAE6D0kCJEACJEACJEACJEACJEACJEACJEACFGV4D5AACZAACZAACZAACZAACZAACZAACZBAEAhQlAkCdB6SBEiABEiABEiABEiABEiABEiABEiABCjK8B4gARIgARIgARIgARIgARIgARIgARIggSAQoCgTBOg8JAmQAAmQAAmQAAmQAAmQAAmQAAmQAAlQlOE9QAIkQAIkQAIkQAIkQAIkQAIkQAIkQAJBIEBRJgjQeUgSIAESIAESIAESIAESIAESIAESIAESoCjDe4AESIAESIAESIAESIAESIAESIAESIAEgkCAokwQoPOQJEACJEACJEACJEACJEACJEACJEACJEBRhvcACZAACZAACZAACZAACZAACZAACZAACQSBAEWZIEDnIUmABEiABEiABEiABEiABEiABEiABEiAogzvARIgARIgARIgARIgARIgARIgARIgARIIAgGKMkGAzkOSAAmQAAmQAAmQAAmQAAmQAAmQAAmQAEUZ3gMkQAIkQAIkQAIkQAIkQAIkQAIkQAIkEAQCFGWCAJ2HJAESIAESIAESIAESIAESIAESIAESIAGKMrwHSIAESIAESIAESIAESIAESIAESIAESCAIBCjKBAE6D0kCJEACJEACJEACJEACJEACJEACJEACFGV4D5AACZAACZAACZAACZAACZAACZAACZBAEAhQlAkCdB6SBEiABEiABEiABEiABEiABEiABEiABCjK8B4gARIgARIgARIgARIgARIgARIgARIggSAQoCgTBOg8JAmQAAmQAAmQAAmQAAmQAAmQAAmQAAlQlOE9QAIkQAIkQAIkQAIkQAIkQAIkQAIkQAJBIEBRJgjQeUgSIAESIAESIAESIAESIAESIAESIAESoCjDe4AESIAESIAESIAESIAESIAESIAESIAEgkCAokwQoPOQJEACJEACJEACJEACJEACJEACJEACJEBRhvcACZAACZAACZAACZAACZAACZAACZAACQSBAEWZIEDnIUmABEiABEiABEiABEiABEiABEiABEiAogzvARIgARIgARIgARIgARIgARIgARIgARIIAgGKMkGAzkOSAAmQAAmQAAmQAAmQAAmQAAmQAAmQAEUZ3gMkQAIkQAIkQAIkQAIkQAIkQAIkQAIkEAQCFGWCAJ2HJAESIAESIAESIAESIAESIAESIAESIAGKMrwHSIAESIAESIAESIAESIAESIAESIAESCAIBCjKBAE6D0kCJEACJEACJEACJEACJEACJEACJEACFGV4D5AACZAACZAACZAACZAACZAACZAACZBAEAhQlAkCdB6SBEiABEiABEiABEiABEiABEiABEiABCjK8B4gARIgARIgARIgARIgARIgARIgARIggSAQoCgTBOg8JAmQAAmQAAmQAAmQAAmQAAmQAAmQAAlQlOE9QAIkQAIkQAIkQAIkQAIkQAIkQAIkQAJBIEBRJgjQeUgSIAESIAESIAESIAESIAESIAESIAESoCjDe4AESIAESIAESIAESIAESIAESIAESIAEgkCAokwQoPOQJEACJEACJEACJEACJEACJEACJEACJEBRhvcACZAACZAACZAACZAACZAACZAACZAACQSBAEWZIEDnIUmABEiABEiABEiABEiABEiABEiABEiAogzvARIgARIgARIgARIgARIgARIgARIgARIIAgGKMkGAzkOSAAmQAAmQAAlMLAJnn322PPXUU/LJJ5/I/vvv73Xy1157rdx+++3y0ksvyYknnjix4PBsSYAESIAESGACE6AoM4EvPk+dBEiABEiABEhg7xCoq6uTefPmSUZGhqxZs0bCw8P7D7x27Vo5+OCD5dxzz5XHHnts70yIRyEBEiABEiABEhgTBCjKjInLwEmQAAmQAAmQAAmEOoEnnnhC4Ji5+eab5aabblKn293dLYsWLZLq6mrZsGGDJCQkhDoGnh8JkAAJkAAJkICBAEUZ3g4kQAIkQAIkQAIksJcIfOtb35KXX35ZPv/8c5k7d67ceuutcuONN8ozzzwjp59++l6aBQ9DAiRAAiRAAiQwVghQlBkrV4LzIAESIAESIAESCHkCcMRAjCksLJSHH35Y9ttvPznllFMELhoOEiABEiABEiCBiUeAoszEu+Y8YxIgARIgARIggSAS+Ne//iXnn3++JCYmisPhkI0bN0pycnIQZ8RDkwAJkAAJkAAJBIsARZlgkedxSYAESIAESIAEJiyB448/Xl577TVZsWKFnHfeeROWA0+cBEiABEiABCY6AYoyE/0O4PmTAAmQAAmQAAnsdQK//vWv5Te/+Y0UFRVJfn7+Xj8+D0gCJEACJEACJDA2CFCUGRvXgbMgARIgARIgARKYQAQoykygi81TJQESIAESIAEfBCjK8PYgARIgARIgARIggb1MgKLMXgbOw5EACZAACZDAGCVAUWaMXhhOiwRIgARIgARIIHQJUJQJ3WvLMyMBEiABEiCBwRCgKDMYWlyXBEiABEiABEiABEaAAEWZEYDIXZAACZAACZBACBCgKBMCF5GnQAIkQAIkQAIkML4IUJQZX9eLsyUBEiABEiCB0SJAUWa0yHK/JEACJEACJEACJEACJEACJEACJEACJOCDAEUZ3h4kQAIkQAIkEAQChx9+uLz33nty3nnnyYoVK4IwAx6SBEiABEiABEiABEgg2AQoygT7CvD4JEACJEACE47Av/71L7n44oultbWVosyEu/o8YRIgARIgARIgARIYIEBRhncDCZAACZAACexFAk1NTTJ79my5/PLL5YYbbqAosxfZ81AkQAIkQAIkQAIkMNYIUJQZa1eE8yEBEiABEghpApdccom88cYbsn79eomKiqIoE9JXmydHAiRAAiRAAiRAAr4JUJThHUICJEACJEACe4nAZ599JosWLZIXX3xRTjjhBHE4HBRl9hJ7HoYESIAESIAESIAExiIBijJj8apwTiRAAiRAAiFHoLe3V5YsWSIpKSnywgsvqPOjKBNyl5knRAIkQAIkQAIkQAKDIkBRZlC4uDIJkAAJkMBEJ+ByuaSjoyMgDE6nUyIjI9W6Dz74oFx66aWyYcMGmTlzJkWZgAhyJRIgARIgARIgARIIbQIUZUL7+vLsSIAESIAERphASUmJ5OXlBbRXtL1+9913pb6+XgoLC+UnP/mJ3Hzzzf3b0ikTEEauRAIkQAIkQAIkQAIhS4CiTMheWp4YCZAACZDAaBDYvXu3PPXUUwHtOi0tTY477ji57LLLZMWKFfL+++9LdHR0/7YQd0477TS58847JSEhQaZOnRrQfrkSCZAACZAACZAACZBAaBCgKBMa15FnQQIkQAIkMIYJQHh5/vnnfc7w9ttvl6uvvnoMnwWnRgIkQAIkQAIkQAIkMNIEKMqMNFHujwRIgARIgARMBFavXi1VVVVeXE4//XRBidPll18u8+fPl/z8fLIjARIgARIgARIgARKYQAQoykygi81TJQESIIFgELj33nvl6aefluXLl8vcuXOloKBAoqKigjGVMXfMiZYp09bWJo899pjqPrVu3TrZuXOn5ObmykknnSQ33nijxMfHj7lrxAmRAAmQAAmQAAmQwGgSoCgzmnS5bxIgARIgATn22GPlzTffFLSExkBHohkzZsicOXPUPwg1+H/27NkTLlNlooky69evl3322UeWLl2q7gu0B1+7dq089NBDSpzB18zV4ZsGCZAACZAACZDARCJAUWYiXW2eKwmQAAkEgcApp5wiCMd99NFHZfPmzerf119/3f91WVlZ/6wyMzP7xRqjaJOcnCwQMDjGNwF0oaqsrFTCjHH885//lAsvvFD+/Oc/y5VXXjm+T5KzJwESIAESIAESIIFBEKAoMwhYXJUESIAESGBwBFwul2oFvWzZMvXAbTVaW1tly5YtHkINhJutW7dKd3e32gSdibRIY/w/JydHOW/GwsC53nfffXLCCScE3DJ7LMx7LMyhpaVFOWQgzMA1w0ECJEACJEACJEACE4UARZmJcqV5niRAAiQQBALt7e0SGxsrf/rTn+THP/7xoGbQ2dkp27Zt63fWaHcNBJw9e/aofaG9NMqezIINAnMjIiIGdbzhrgwHCJw+zz33nJx66qnD3d2E2h4iHK7j9ddfL7feeuuEOneeLAmQAAmQAAmQwMQmQFFmYl9/nj0JkAAJjCoBhLkuXLhQXn31VTnssMNG5FjIpikvL/dw1mjBprGxUR0jPDxcdTIyZtbga7h2YmJiRmQe5p289dZbcvTRRysRCWHGHIETOP/882XFihXy+eefq/uFgwRIgARCgUBJSUlAzsnp06cL1uUgARKYmAQoykzM686zJgESIIG9QuCJJ56Qs88+WzleUlNTR/WYKB+qra3tz6oxZtfAxaIH/vg1Omt00DBKpIYz0GXqqquuEpRjQRQK9QHeHR0dAZ0mSswiIyMt133wwQfloosuUm3B77zzzoD2x5VIgARIYDwQwO+DZ5991naq6EwId+W5554rjz/++Hg4Jc6RBEhgFAhQlBkFqNwlCZAACZCAm8BvfvMbueuuu5SzJZjZL7t27bLMrdm+fXt/Vyh0AjKXQUGwycjICChk+Kc//amsXLlS0GFoIoxAPwEGi8MPP1zeffddLyx4GDnzzDPluOOOUw8mE0HMmgj3Bs+RBEjAPwE4SQ855BBBNtqnn34qU6ZM8b8R1yABEghJAhRlQvKy8qRIgARIYGwQOOeccwTCB0p7xmL3JGTeFBUVebhr4LDBa9oFgj+UrUKG0dY7LCysH/RRRx0liYmJ8uSTT44N+KM8C3TUeuqppwI6SlpamhJejOONN94QdOY6+OCD5bXXXpPJkycHtC+uRAIkQALjnUBzc7MceOCBqhvdJ598IvgAgIMESGDiEqAoM3GvPc+cBEiABEaVAMpb9t9/f1mwYIE88MADo3qskd55T0+Pqu+HQLNp0yYP0QadgjBQjoOMGi3Y3H333XLWWWcJ/p80adJITymk9gdH0fHHHy/z5s1Tgh06L3GQAAmQwEQhAIcgSpf+/e9/Cz684CABEpjYBCjKTOzrz7MnARIggVEjgHbWcXFx8vOf/1zlhYTCgNBUVVXlFTIMAQclWsilaWpqUsGO5pBhfE/xQWT16tUqEDk3N1eVew03y2es31cQ+G6//XbV6hv3SHZ2tvzwhz+Ua665xsNpNdbPg/MjARIYGQJ33HGHyh+75JJL5J577hmZnXIvJEAC45oARZlxffk4eRIgARIYuwQQ7jtz5kxVznPCCSeM3YmOwMzefPNN1Qb7vvvuEwg3uhsUnDalpaX9R0A+jXbW6IBhfI88m7FY3jUCaDx2ARb77befwG2E1tcoazIOhEEfc8wxI33YoO7vJz/5idx///1ywQUXyJIlS2TVqlXyyCOPCF7/61//GtS58eAkQAJ7l8CHH36oMrZQuvTee+9JRETE3p0Aj0YCJDAmCVCUGZOXhZMiARIggfFP4KWXXpKTTz5ZvvrqK0H+SigPlCzBEVRdXS2xsbEep4ruG1u2bPHKrSkuLha4iTCmTZtmGTKMAMhgBiSP9DVD2O+RRx5pu1u7QOCRnsfe2h/ufbT4/tnPfqbK2vS47LLL1CfkX375pSrv4yABEgh9AnV1dUqU7uzslM8++0yysrJC/6R5hiRAAgERoCgTECauRAIkQAIkMFgCKNn41a9+JTU1NSFfpnHxxRcLgmu3bt0aMKauri7VKly7avT/EHDa2trUfqKjoz1ya7TLJj8/37bFdMAT4IqjTgBC3e9//3t1nVHSpgfCryFUYvktt9wy6vPgAUiABIJLoLe3V775zW/KO++8I6+//roq4eQgARIgAU2AogzvBRIgARIggVEhcOGFF6o2nx999FHIl+bAkr5z50456aSThs0Sf7zv2LHDS6xBKRSOgYHW0RBmzF2hZs+eLTExMcOew3B3cNttt0l9fb3KUpnI49hjj1VuGDiozAOlWvjUHJ2nOEiABEKbwC9+8QslwOIfxFgOEiABEjASoCjD+4EESIAESGDECSBXZenSpSoz5LHHHhvx/Y+1HX7wwQcqF6agoGDUpgamsL9DnME/OGu0uwZtVfVAyZNVyDDade+tsWzZMlWSFWjL7L01r719HJQmoUvX2rVrvQ6NzmRwS6HEiYMESCB0Cbz66qty4oknqn8vvPBCyH9IEbpXkmdGAqNHgKLM6LHlnkmABEhgwhKAgJCcnCwXXXRRyH8qiO46b7/9tiC4NzMzMyjXvLm5WeXWGAOGIdygbAbOGwxcD6OzRgcNY84jHTKMQGM4pW6++eag8BgrB0XQNRwxcFKZB0J/a2trBdlCHCRAAqFJAN365s+fL3iPRtcliNV24/TTTx8TTsfQvBI8KxIY2wQoyozt68PZkQAJkMC4JIAcGbhkHn30UTnzzDP9nsPGHWEe68zN6vG7zVhZAZ2EPv74Y1m0aJHEx8ePlWmpebS3t6uHfu2u0f9DwOno6FDrTJkyRVD2ZC6FQuYJyqQGO3bt2qU4PP7443LuuecOdvOQWp9OmZC6nDwZEhg0AX/h5sYdImsqNzd30MfgBiRAAuOfAEWZ8X8NeQYkQAIkMOYI6D9EV69erT4l9DfMoox5/bEs0iAvBCUoRxxxxLhpbwp3D9pTG0ugtGCDT3QxUHaDciyzWFNYWCiTJk2yvaQQqBYvXqy6iyAzZSIPZspM5KvPcycBEiABEiCBwAhQlAmME9ciARIgARIYBIH77rtPtQFGBoqvB3i9S3+iDNYrr3dI6lS3g2bfGa5BzGZ0V0XHJQTzop3zeB8oO4PIZO4IBcEG7icMlDrBRWMWa/B9XFycPPzww6p0affu3ap71EQeN954o9x666223Zew/He/+91ERsRzJwESIAESIIEJT4CizIS/BQiABEiABEaewKWXXiqvvPKK6jwTSF7JYEUZ84yDKdKsW7dOOjs75cADDxx5kGNoj42NjZYhw2VlZQIxByM9PV25hbDuH/7wh37hBrkqgdwHY+h0R2QquP/hFoJAeffdd/fv87LLLpN77rlHvvjiC9lnn31G5FjcCQmQAAmQAAmQwPgkQFFmfF43zpoESIAExjSBY445RpW/PPnkkwHNc7iiDA6yvdolmQluceCg2Y6AjjsSK6HlNzJU4BSZiKOtrU2FDOvyp5deeknl1aA8Ct2FMDQf7a7RIcPTp08Xp9MZ0tiWL18uf/vb3+SCCy6QQw89VFatWqXcRAjBfuCBB0L63PXJrVmzRlasWKECsZGbgbbt8+bNkxtuuEGOPvroCcGAJ0kCJEACJEACdgQoyvDeIAESIAESGFECcE3gYfuMM84IuDTDnyhjLF2ymqxRkLE7mdEQanCueNCcNWuWoBU1h0h+fr6gJfa9996rynaMLbzxNQSc1tZWhWry5MmCjBpzKRR4QtQLhdHd3S1//OMf5aGHHpKKigrVoeuHP/yhXHvttUMKUh6PTBD2vXLlSvWegFbgKG2DMLV+/XpBqePFF188Hk+LcyYBEiABEiCBESFAUWZEMHInJEACJEACmoDuvnP//ffL+eefHxCY0RZltlX2yvQU76ksnu/Z9SmgyRpWgksEzgc8aCYmJg5285BbH2ILum799re/lSuuuMLy/NCiG+LEpk2bvLpCNTQ0qG3CwsKUuGMWa9AlKjY2NuS4hfoJ4WcE5X1RUVH9p7pnzx7Zd999Ve4UWoMPpdNXqHPj+ZEACZAACUwMAhRlJsZ15lmSAAmQwF4j8Mknn8jBBx+sHCT4P5ARLFFGz614R4/kpbtLnr6xMCKQKat18ECJXJClS5cGFGgc8I7H6Ypwwnz729+Wu+66S4466qhBnwV4ameNUbSBiKNHdna26PIno2iTlJQ06OON9gYo34JQNdZapY/2eQe6/6uuukruuOMOKS8vl6ysrEA343okQAIkQAIkEFIEKMqE1OXkyZAACZBA8Ak8+uij8v3vf191JJo2bVpAE3rjy3CP9bISPbsrDbd8yc4pYyXKWE3YTqgpKSlRJTpHHnnkhAyyNbMarfbgLS0tquxJd4WCcIOvwR7OGwyIMubMGnyPh/1ghQwjb2jJkiUq8JqBvt4/Weecc4489dRTKhiaDqiA3iq5EgmQAAmQQAgSoCgTgheVp0QCJEACwSRw/fXXy2OPPSZFRUUBPwyvK/EMe63e5fk9mvvodthW5+YvU2Y4okxxWbfMzLIuc0qILFL5GIE6goJ5XfbGsfd2e3AEChcXF1vm1mAZBh72UfZkdNXAaYO23qNdMvPPf/5T5cfALYP8HI4BAnBCoXzppJNOkqeffppoSIAESIAESGDCEqAoM2EvPU+cBEiABEaHwGmnnSZNTU2qJXagwyzKmLdbUxwmCTHd/S/npnquMRxRBqVLGLp8yXxsX6LMR59XS05Kj2RkZHhsdtj+A9kZgTIIhfXGSnvwnp4e1f1JO2p0SRT+R+YRBoKEEShszq1B8PBICSjXXHONEhzg6OEYIIBrsHjxYqmsrFQuIgSDc5AACZAACZDARCVAUWaiXnmeNwmQAAmMAgF0I8JD7uGHHy533nlnwEfwJ8qU1oqkx7vLVDB2NHi2vMZxdTtsq4P6csoY82SstrUTZVzikg8+rZDZeVGSlOidZ1JU1i2zcjzLskJdrBnr7cFxn6DEyijWoAwKpVF4HQOlTnl5eV5iDe7rwWbDwAWCY7788ssB/yyE+ooI+D322GMF2VOvvvqqKv3jIAESIAESIIGJTICizES++jx3EiABEhhhAigZQbnIbbfdJsuXLw9o7/4EGezELMqYd7xqg0tS49yOFz1mZAyUHI2GKIMQVzhl9p0dJ1OmTPE6VytRRq8EIcgs2Czdd3y3gEa2C8KdCwoKxmV7cOSa6NwaY3YNHDcQVjDQWcoqZBivW+XWzJw5U04//XT505/+FNDPQqiv1NnZKaeccoq89dZbKkvm1FNPDfVT5vmRAAmQAAmQgF8CFGX8IuIKJEACJEACgRJYv369LFiwQDkDjjjiiIA2GwlRZmtFj2QnD4QDl9V6HhqizJH7WufCDNUps7t1t3y2oVEOWpgiUZHegspgRRk94607eiQ/29NhM5iOUAFBH4WVkJvy4Ycfhlx7cLQ9Rz6SsQQKog2ybCDMYcTFxXmFDMNtM3/+fHnooYfkBz/4wSgQH1+77O7uljPPPFNefPFFlTl13nnnja8T4GxJgARIgARIYJQIUJQZJbDcLQmQAAlMRAJPPvmknHXWWeqBNT09PSAEoyHKmA8MgcQhniVPWAdulaGKMjt3Nsj64jb5xoGZli6JkRRl9PlAXMrP9haXlsz3FHECAj/CK9XW1qp8kInSHhyCzPbt2y1zayBQwTGGEGg4h/bff3+Pcihk2URFTZzcIbiozj33XHniiSfkgQcekIsuumiE777xuzu4y5YtW6ZOAOJffn7++D0ZzpwESIAESGBIBCjKDAkbNyIBEiABErAicPPNN8uf//xn1Q7b6fTsoGRH7JU1bpEhK8mzDbZxfX/lS2anjHFbiCMYeWmeokyJO0JEtu7olumG4OCCXE/Xi12mTFV1lWyvdMni/azFp70pyuA8SqpdYizZMvM+ZG5g12OodzYECvyb6O3BUepUUVEhf/vb3+SOO+6Q733ve/0dourr6xXesLAwQWmTOWQYXaKsSuGGek3GynZXXnmlypg67LDD5Ec/+pHXtI455hhJTTWld4+VyY/iPCDsoVV6eXm56tBFUWbkYaPL129+8xtZu3atVFVVqd9L+Nm74IILVIktAr/1QED47bffrtxtuCbZ2dmqexoCu/EzaxyDWXfkz4p7JAESCDUCFGVC7YryfEiABEggiARQkoAHi3feeSfgdthfbHOLJZU7PUUDLdJAkMEwBv2aT9GfKGMWZIzbbyntkvy+ltdwohhH8Y5uyUt3qjBf8ygtLZGapmhZtE+yJfGxJMqU1th3l8Lky+sccsbS4d04KF3DgyXbg7s5XnHFFQLnGARKPSDK6JBhY26NcR08CJrFGnyfnGx9nw3vqu2drVHKuHLlStuD4f0i0HLHvTPjvXOUW2+9Ve666y7lIsL/FGVGnvsbb7yhMp3wvpSVlSUQU1atWiX/+c9/VL7Rc88913/Qn/zkJ3L//fcrwWbJkiVqvUceeUTw+l//+lePyQ1m3ZE/K+6RBEgg1AhQlAm1K8rzIQESIIEgEYBD4MADD1RBqHAJBDq0KGNc3yjQlNa4JCnWLY5YDQgyGMZMGeN6EEcCFWXM+/96e4cUTI+QrRWeYg3Wq6mpkdipsbL/nGmW8xovogwEGYzcNOsrhk5X01Pcy/adYe9mWr16tcTExKgcFeFFKFsAACAASURBVA4RdF5Ca/gPPvjALw6UOemQYWNnKLTSxkMkRmJiohJrzEHDEHGsQob9HpQrBJVAWVmZup733nuvat8ONwdFmeFfkjVr1siKFStU6Dice3hPmjdvntxwww1y9NFH9x/gkksuUUILXFzPP/+8ugbIPYIY89577/U7Yy677DK555575LPPPpPXXntNuWj8rYsyTmSrcZAACZBAoAQoygRKiuuRAAmQAAn4JICHR7QMvu6669QfuoEOK1HGuO32Kpd0d3uLIlqk8eWSwX5GQpQxnwvO9eMvqmVXe4IUTPcO+YWzZjyJMnaCDM7bKMqYOVQ2OiW7r+wMYgKEgyMPSAj00of0euhAFh0dLT/72c+GfJ7oZrZ169b+kGHtroGA097ervaLh06UPWl3jRZtUKIRHh78rCF98ui2NH36dFm0aNGQeYTShujKhXIatJGHIENRZmSuLsKk4co644wzVJYTBM+HH35Y4OS777775OKLL1YHgnsGZUkYcMZAZH/llVfU90ZnDISdGTNmqH1BmAlk3Z///Odyyy23jMwJcS8kQAITggBFmQlxmXmSJEACJDD6BEpKSgQdZxDmCZdAoCMQUSYjwVuU0R2Wtlb2SkY8OhZZd1caDVGmbc8eKS0pke6wHJk/K9rjVLWrpri826uLki6DsmqJrXdi1X1JL7ML+sVyX5kyvsqX4JQJxCVjdT21KINsDIQ7ozxAZ6JUNzklM9HaWTM3y7N9eaD3ynhZT7cHLywsVLkUIz0gCsJpYXTV6O5QcOdgRERECAKFjaVQEGwwp8mTJ4/0lPzuLzc3V/7f//t/ArFqog90p0PpDNxlcBf++te/pigzjJsCwgtEFuTGoAPczp07VZYTSo8w9uzZo7J76urq5JNPPlGs/+///k/wczp16lTlooGzZt26deoehTMGbhf8vCBjBiIL1kWXteuvv95yXe2MQTbSfvvtp1w1HCRAAiQQKAGKMoGS4nokQAIkQAI+CeBTxhNPPFH9MTuYDiJDFWX0ZCB+oLxmW5W3AAChZjREGTz4fr6hSQ47JEecTu+uTpjb19s6ZPYMzywaLdhsq+iR/CxPF0Nh37rjRZSBIIMBpwyyZCASwJ2hgzN9iTK1zU7bjKC6FqekxfdKfur4FW50e/ADDjhAEhL2nnMIJYTV1dVe7bsh2OB1DJQ6QSCxyq2ZNs26FG+4b326GxUcC9///veHu7txvT0cTiinOeqoo+Tvf/+7OheKMsO7pPoDAXT8w8/cSy+95CHKYO+LFy+Wjz/+uP9AECYh1sBR8/TTT6ufU/xcwNEFZwyEGIg7yJiZNGmScqb5Wlc7Y+CogUj91VdfDe+kuDUJkMCEIkBRZkJdbp4sCZAACYweAXRdwh+yaI0caNmEP0EGs0X5kpVTxizKmM9MizTF5V2SY8hIRUaMcRiDfs370Jky5tdhdd+8vVOWHpxlC9RKlNErf729U+YYwoONAcP4eqZZsMlzl0iNJaeMsXQJDy9ggjIanW8yXFHGCmz9bqekTHG7pmakjF3RRrcHR7ehsdL6GkKizq0xhgzjgRZiDgY+5Tdn1kC8wcPucHJrUPaBh2U8FE/0IOhf/epXyomBa5GUlERRZgR+JaHMDyHamZmZKhcGLjHtlNFdktAZsK2trf8+h8iCTkx470JuzF/+8hdZuHChfPHFF+rnAB8soLQM5YePPvqoKoPCvq3WNTpjkEmDn384BzlIgARIIFACFGUCJcX1SIAESIAEfBJAq1s8dOFfoA9woynK6MluLu2SmRluVwfKhoyjur5bvrGvd2elAfHEHfRrHmiXWl4bLov3t07H9SXIYF9mUca4/80lnV4Om22V7odmhB7PyPQu0yrIjdjr5UtGUQYuDDzw4BNmDAgyGHblS4E4ZaxuNqMoY7V8Z6tTkvpEm9ykIIk2bW1SuWqVVJWVyQEnnCCSbt0yfay8ncAtgIBZXf6kBRu8hk/8MVC2AcHNLNjAWWBuFWx1Xo8//rh85zvfUcHH2NdEHciQQYknOnNddNFF/RjQeenuu++Wd999Vy3PycmZqIiGfd5mUUZ3SYIAgw5mEI8xkPeEe3/Dhg3KCYP3rrS0NJXzA7cLOqKh3Alh27jvMbC+zpgxrmt0xtApM+xLyB2QwIQkQFFmQl52njQJkAAJjCwBfNIOV0BKSor861//CnjnL6727qhk7qI0VKeMnoRRlDFPbNO2Dtu5zpkRJXZOGXwKunN3nCxa6P6k2zz8uWSwvtEpY9zeSpTRy+HqKexzzejXStxVKYKMnbw+8ck8n8ioCMlLty6zGmqmjFGUQTcSuKPwSTWGL5cMlu8NUcbMoLHNIYmxAyVuOQkjLNr09orzvffEuXq1NG7YIN0dHZIya5b0zp4tPccfj/ZJAf9cjIUV8XCLB1Cr3Bq4BjDwMFtQUOAVMowsG6ND6KabblJhqxUVFWPh1II2B7gw4KrwNRDcrPkGbaLj6MBoeY2SI+TJoGRIC4lwylx11VUqSwZleciEwdcbN26U2NhY1UEJAyWXaIsNJxcGXDdwu+BaQbg56KCD5NVXX1XLjj/+ePnjH//ota7RGcNMmXF083CqJDCGCFCUGUMXg1MhARIggfFKAKIM/hi98MIL5Re/+EXAp/H5Vk+hYEe95/f1zS6Jjx5a+ZKehD9RpiDHu0PNlrJutfmWkg6P7Jc5+ZPUH/d4UN3Tkyb7zYu3PFd/ooydIIOdDVaU0RMoLu+xdPWU1oqU1yPM17qleGWDQ47c3zokOdDOSyjFwIMPPonG8Fe6hHXS473Dm/G6zpSxAuvLKQOXDIZ2ypi3N4syxuVNbQ5JiPacT5ZFuLSvG9v5v/9J2GuviaOyUqqdTgmbPFkg2Tk6O6X3oIOkG1kqsbEB/2yM1RXxsw5xxVgCpV02cBZgwD0D54HOrXnzzTfVa/hfB0GP1fMbzXnt2rVL3nnnHa9DIHQWAenIL0FY9mCC0kdzvuNh38go+s9//qNaUENQQZclDIgy+JAAQb3IuULw7vLly1VZUUZGhnLCYOB+xL2Jfw0NDcoZg+wYOGggTOp1sR66y8HtZV5XO2W0i+bGG2+U3/3ud+MBH+dIAiQwRghQlBkjF4LTIAESIIHxTAAPY/gDGJ+Gn3XWWQGfilmUMW/4/nqR5Fh3CYUeM0xuEB30a3VQCDIYunzJvA6cMlaijF5vY3G7zO5zpsClgtHV3SV19XWyq3WaFPblwsyd5dnNZqiijD9BBsc3O2X0XO1EGSxHwPAsC/EJy77c7pSUadYumqpGp8rjybVw2WinDDIbIMrAJYNOJhj+RBk7QQbbDkeUsRNksN/BijLGewWizbSYAZdN5jSToNTUJOF/+Ys4N2+W3oULpWz9epmSnS3TEhLEgYe/9nbpOecc6T3ssIB/Nsbjisj1MJdB4fvm5mb1YIz3CYgOViHDEPQCLXscj2x8zZlBv4FfUZRJPvbYY/LCCy+obkkQUtBqHd2sIJgj2wwD5XJwuGA5SsMgymjHyxFHHKHaZkNgxPq//OUvldCC+/S8886TJ598Ujo7O9V+8L4GERJBwHDP4N7V61566aWqi5POlEHeDPKCsB5cORwkQAIkECgBijKBkuJ6JEACJEACtgTwBy7+0EUw4mD+GPUnyiDY1hjyi7bPxlHb2CsH5NtfGF8uGWzlS5SBIIOhRRl9lF3Nu9Qf6b1hOTJvVrRsLvEUjbAeHDYFuVFiFmuwbLB5Mvq4VqVLepk/QQbr2YkyKA/Lz7J2ypTUQNBySOVOb5dN9a4wyUpySVdnp9TvbJB9C6epchaMUBdljHfcLgg2tdvE+dFH4oqKkrS6zRJ5220qRNR18MHSc+SR4ly7VnqPPFK6DTkiE+XtBO4FCC4//elP1XuD0WGzdetWgaiHgYdeq5BhtBQHy1AeFGV8X12UDEGEgfjb2NioHCwIST7nnHPUPYXSpYceeki5XrAcQ3dM0ntGyRLKwhACDFEFQb8Y6NSEfB+r0jqsh/sT9x8EH7hocK1QohsfH99/rBNOOEE5RfGhBPb1wAMPhPLtynMjARIYBQIUZUYBKndJAiRAAhONAP4IxUMXauvRajTQMVhRxrzfN9d0idm1YHS+DFeUMQsyOD4+7W9sapRuR5bMmekWIcxjY/EeCQv3LovCejU7e+Sog6dYbufPKTPSLhkIMhj+RBmryZbVOpSDBnb+7dUdkpaa1u90qG0Ok4wETwEtJ8X9/VDzZLCtv/IlX6VL2N6YKWM8J6vyJb0cyzCMThnjtkqUqdwiYR99JL3x8dLd2iqTVq1Sq/QWFsrOJcsk4YsPxZWbK6lnHBXoj0bIrIfOS0uXLpX//ve/cuKJJ3qcF9wIEGaM7hqINggZRqgqBnI9rEKGkQWCB2yO0Cfw7W9/W9BWHfcBXDG4X+B6QSgvwpEPOeQQ+ec//6nKZ40D+TwoLcJ9BheW7jIGIQcuGww4uCDmwFFjFnKwzTXXXKOcNhAX4YzBHBAejKwZiDb4IAL3IRxgP/zhD+Xaa68NuPtg6F85niEJkECgBCjKBEqK65EACZAACdgSuPzyy9UnmQhaDLQEwZ8gg4OZnTLmCRSVdUtuquerxg5LRaWdMj0VbhfrDkv+nDJWosyOih3S090trV0pPkWZufnW4tS7n7ZJRor1w2Ttzl458hBrwWY4TpmhumRAFk4Zq6FFmdqaGmluaVEtZPVAhs30FM+tINRgQFhJn+Yp2OD1rMRen6VLelvdEts8J2PnJfMyX6VLWNefKGMnyGBbJco0lovzww9Fenulq7ZWJm3ZoqbQ8O3vSfyeOnFUVIhr/gLpPfhgj6k173FIXLSbRVqcN5NQeMtBO2E8xOJBGg+ugQy4EsrKyixza7QTAg/CuOd0KZR22RQWFiohhyO0CKCVOq71I488ok4MHd/gojrzzDNVpkxLS0t/+SSWw0kDwaWyslIWLVokn3/+uXLYqN8r27bJgQceqNphYyDkF24bPbQzRq8Ld8yKFSuUWwYhwB9++KEShxAWTGdMaN1nPBsSCBYBijLBIs/jkgAJkEAIETj22GOVxfvpp58O+KxGS5QxTgDZLvhD2mpAqBmKKLNt21apaYxWrX19OWXsRBm4aOyWvbe2XdJTIi3nW9fUK0ccFGO5zF/50lBFGV+CDCYCp0x5eZmaU3b2QBtfK1FGT7xip0Pl1JhH/e4wadjtlFSbAOA9XQ6Jj3HJWBRl4qO6xPnuu+Lcvl16ysokorFRXAgOPe9HkrBpjUhMjPQsPkQk01OUMIoyZh67INhMdo17sQZizMcffyzf/e53h12GBKcDWhprZ42xMxRcExgQhfHAbJVbgxKpYA+I1//4xz/kmWeeCaideLDnu7eOj2sLN4oeEDyQA3PuueeqbkkoD4IL5eqrr1b3Ebq9oYTo0EMPVa4Z3AtwsQQy4HiBswblTOgehtBfZNVgIJsG2UgQXnAv/exnP+t3x0CAQekS1kWwOeZCZ0wgxLkOCZCAPwIUZfwR4nISIAESIAGfBPDHdF5enpx66qly6623Bkzr+Y89cyJykr2dAkNxyhgnAFHGqjRnS5k7BwYtr2dmDOSpzM0fKEcyhvzqfbrEJZu//lpaOpLkwH3sWxz7El58Ldu0tV3m5lt/yv/B5x2SlmJdEgVOJx9u3dnHV8hvIHkyVhdUu2SwDN1Mpk6ZIimpA5aloYgy2BeChZFTYzWKa8Mleaq1wIb127scMjPVus21v5BfbG/uvqTnYA75Nc4NLhmM+JhecdTUiuOTTyTsf/8TR2+vuKZOlcYjTpD45kpx5edL78J9oRh4nFogoozdD9R4cdbAPYf8DrgVRnOgs5FV++6SkpJ+YRYP9lZiDTrsBOrwG+453HDDDfLvf/+7vyXzcPcXKtvjOuH3SCADzpZ58+apwN8777xT4NREOdGnn37avznCd3Hfbdq0SQX5QrT7+9//LnDcrF69un89iDLIqtEDotmLL77ose6yZcvkrbfekiOPPLK/exbacKNLEwcJkAAJjAQBijIjQZH7IAESIIEJTAC2cbhG/vrXv6o2pIEOo1OmrM67RKa7y/2AbQz6Ne/bqnzJuI6dKIN1II4U5g64UhDA67Ht1j0ya3q4zJs14E5BNkHx1mLp6E2XfefGWZ4q9osxFKeML1EG54KW3FYDWTQRUdYOm5KqXsnPDpcCw7nqfQxXlHH19srXm7+W9PQM9ak1hi9BBsvtnDJY5kuUQXiwr3uhfGdYfymQmRFcJ3MyrQUbX6VL2I8/UQaCjB6OdV9JxIMPqm97Z82SnRBl4sLFNT1HxOEpQvoSZLC9dsrY/Tz5Wj4qgk1Pjzi2bRNHbS16XksvHqANQpzdPOGSQVculBcFY+DBHBk15q5QeE132MH8rMQaiATIDRnJAfEajhC4QCb6MLpj4Fq5+OKL1b2CjJhnn31WOaxuu+022bhxo9x1110euJADAxfLb3/7W+U8govFbkCgOfvss+W6665TuTPYH7JgMHA8hNRDjMF4/fXXVfckvS5au6OjEsqlEFi9ePFitS62xzw5SIAESGAkCFCUGQmK3AcJkAAJTGAC+HQSn1Lik8TB/JHqq3wJIs326l5JjhnobGRuhQ3kIynKmC/hhqJWr6va3t6hOm7gE/f5BdaOFl9OGOxwqE4Zf6LMnBnWgg1cQZFR1hk2peiulOV235hLnHTnJatbWztlOtrbZdv2bZI7PVcm9+V4BEOUqdmFnBp7Fw3ChSdHWTtwmvc4ZVpMr21Z1KBEmVdfk4iXX1bIui67TJqyZkn8ZLvjDuTJWDH2Jbr4FWzaHDLV4rjp8UPLrXFUVUnYiy8qUUaam0XQDSklRbX/7jn+eKSlWr4D4qH77bffVtkvKCkaSwP5InBnWLlrIDRjREVFqfIWCDbGzlB4DcuGMrAtAo/h8Jhow6pEKdCSIziZUKaEfcCdhzIiCCTIeEGJ03HHHafcTuimhByj888/X5XTInMGQ7tdUlJSVCD9ggULVAbaTTfdpPKL4F7CPQHBBSWvp512mnzjG9+Q999/X70GMQ3uGHyNNtgIBkZZFQcJkAAJjAQBijIjQZH7IAESIIEJTAB/HOMP4PLyctXWNtDhL1PGWLqEr82jp9v9mjnoV6/nyyWDdcxOGfP+IcqYM2Ma6hukrr5ONpalSmGetwgCoWaopUs4/nCcMr5EGbug46LybuUWKqn2vmrldSJ5GQPuDmMZmBZlUDJSWVkhBQWF/Y6CoZYuYQZDdcoEIsqkxVmLNnUt9oIN5tTRLZKTYL0typc8nDJ33S0RxcXimjRJ6n/zRyVejCVRBufT1JdVo694hj+hZtcuCX/kEXF+9pm44uPFlZgo0t0tjspKkcmTpXfZMuk57TTLH3t0UPrggw8ETgUEr46HgYd+hMMaW3drlw0e5jGQaQIHhdFdA9EGAgOcF3YDDhmEEKNb3Y9+9KPxgGNE5ziYEiWE9B522GFy3nnnqTIlhPNiez3w3jNr1iwljkA8gfMIuUUQYlCmhE5IcLNAtEFODEqWkEekOyphOzhsbrzxRtVdCeV16OR0//33C8rZIMKgGxMcVShnQlj1c889p+aDDLXB5KeNKETujARIICQJUJQJycvKkyIBEiCBvUcAf9QiNBGtbQPNZfAnyGD2vvJksKy4vFsypw2UpBRM93SDjIYog4c1PFi1dabI3FneTpmNW9vl6617ZPZMz85L2lUzHJcMmPgqXxqOKGN1txizaMrcz6L9Y0e9ux12S/NuadvTJqmpKTKjL5tnrIkycMlg+BJlUn0INilTe6Wl3boDFUqQ8lPdHV2kq1sirr1WHF1d0jt/vjR8b7mtIIPV/eXJYB0E/VqNoTplsC+zKGPeP4QmdITSYo1z5UoJ++9/UechuxOnyO7OVkmcnCDhjjBxrF+PhGfpQulIWprXVBGYiq43eGiePNm6G9nee6ca/pHwIG8ug8L3cFrokZmZ6VUKBcEGpS/r168XtGOG+wJMJtpAidLjjz+uRC10z0KWC3LIUIKE1+BaQdkQnFUoR7rvvvvk5JNPVoIJHIoQxbQ7ZeXKlXL00Ucrdwu2wesIT8b9htcPP/xwdc/h9xNKl+DihLCCNtlwy8DpBOENHyRgH++8845y3litm5iYqPaLbk/o2PTJJ58IunxxkAAJkMBIEaAoM1IkuR8SIAESmKAEvvWtb6luFYPJSBiuKAPUaBFtdMmglMk4quu7ZckC67IdrOfLKWPlksE227eXqDarTbvjLEUZrLN+S6vMK/DskgQHDMam4j0yx9QqWws2w3HJYN9WoowONPbnlLG6dX0FBEMUy88Okx3lO6Snp0fCYnP7d1HR4JQcU5tyLMxLcw45Twbb+8qU8eWUgShjJ8hgv3DK+BNl7H606+Gyiehz0dTUStg7b6tVe/fbX9pnFkiWjcMG6/gTZewEGWzrs7TJpnRJn4MvUUYHF+s23djGuepDcW7aJL25uVLaXCovvXiJOMQhy/e7SHJ6YsVRXy89550nvUuWeGFCBx2Umhx11FEBC7bj8W20tbVVCQxmdw2Eat2GGQ//EGYg4kCEQEtmOG1ycnKG3ZVqPDF7+OGH5cc//rFqYQ2X5fLly1U3I7hRvv3tbyvhBf/mz5+vSo/wOt5zly5dKk888YQSX+B6gfCCDkxNTU22p4+SOYQCIycG5U3YF8QchC3DFYMBVwzKoiCWIbjXbl0cC8dExg3W5SABEiCBkSRAUWYkaXJfJEACJDDBCMDqjy4YaEsKC3igYzREGfOx3/20TZIssnjn5LmzIAYryrhcIlu2bBZ8alrTMHlQooye2/rNrTK/cECw0WINlm/e1i5zDA4bo7AznDwZX4IMjmsMOzYyDESU2bZ1q0RHx0ha+oBLAqVQMzM9Q213NLidJtXormTRDhvLoiLDbDsvqW19BP0GQ5SBIIORPMUtyoS9/LKE9YW3dl1/vVRNyZLYSdZOl6gw9+tG8cPI3q8TxlSC5LHtMEUZ85ycK98T59at0jt9uqwPc8iWjc+qwx0/8ziZ1C3i2NkovQcfLBkHzfT68d+wYYN6+B5M1lSg7yHjYT0ECaPsRufWwCGzZs0aJdSgtAsD5UxwXRgzayDWwC0CN0koDJwzXEYo+7nmmmtU6Q+4XHHFFfLyyy8rQevmm29Wv0PQLQkuGQT9Isz3Bz/4gXod/xDsC1cSyuFwX4EPnC/GfB6UhiGoFwJZVlaWYg+nDVw6yJG54IIL5C9/+YuaDzoxofV1IOvSHRMKdyLPgQTGLgGKMmP32nBmJEACJDDmCeChA59c/v73v1fW8EDHC6sHHtqzbVog+2uHbXbKmI+NdtfmdtjGDkubt+6RmVnuzirmNtRWTpmuri4pKiqWPV2pMmlS1IiIMsY5b9jSKvMNDhsIMXqgu5KxJGrerIFSECwbzdIlq2uKawPhZfPmr1UrbGOWkJUoo/dRWgvHjHcpUGWjU2p2hUlmorWIsbvDKQum2wf5DlWUgUsGYyhOGYgyWpDBPsLvvFOc27ZJb3SMdP/hVqlvDZOkPsHGzLBql0PibAQbbDMaIb+YA1wyGLZlUX2lS8b5Oj//Qpxffim9qamyNlKkdPMrEu4Mk5PzTxbHzp0qN6fn0CXSOCVD4qM9r19l8ceqhAQPwxyickrgKoQ4gwwuo7NGf40yHXU/hYcrYcYcMgwBB0LEeBpwxiAQHiVAJ510kgrrhRgD9wrKiJ5//nnlUoHwgfOfOXOmbN++XZV7/fe//1VCDrZDS+qKigq54447bE8fAgyEGIjnl156qVrvT3/6k+qehGOhTAqlY3C84HuE1AeyLt0x4+mO41xJYPwRoCgz/q4ZZ0wCJEACY4YAWovCKQNbOEoUAh1fbHM/HFq1woZI40+QwbZDEWX0/DYWoR22+1Noo1tFL6+s7ZSjDpnicTq7d7eqT2k7JUMWzrYP87QqX9I7MjtljAcwizLGZXD1eDhnDO27i8u6pLDP/aO30e24Ub40WqVLnR2dKkcI5RcxsQMPiUMRZfS9YBfavK48QjIS7DsHRUY4bLsv+Spf8lW6hDlhOTJlrIaHKNPRIRHXXSeOnh5pnz9fnBddJPW7nbaiDJYlx3rvt7VPh2tud8hUk2ijBR6/LhofTplA82SM5+uoqxfnxx9L4+Qk2dxVLRXb35b4qDg5MnGREmVceXnSe9hSadwT7iHK4Gpt2bxZEhITJTkpSXa2OWVan2iTnWDdnjzQ94/xuh5Kcvbff38VXGs1IFagdEfn1hg7QyHPSg+U5ZhDhvH9YILWR5vhH//4R2lubpZbbrlFiSCYM/JkEJAMAeb2229Xr6H8FY4YOGHQfhxOFjhdIF4hJBriye9+9zvlJqqqqlKlTuh+h31CrEF5knmsW7dO5cxgewwtwlgJK4NZd7SZcf8kQAITlwBFmYl77XnmJEACJBAwAXx6ia4i+KPZOHTLUdjPEXAZyNCCjNW6WqQpqeqVpL522MYOQHobCDIYdg/xWGbllNHbG0UZq3n874MmSU9yt4rWo7WtTaZMqpceZ47Mswj5xXoQZDDMmTJ6HyMlyhjnBVHJOB84Z/Qo3oHuSp6te3VHKd15yer8AyldamlukR07dqgOKOERbla+BBkst3PKYBmuvd31RLDwdIucGmxXsdMhk6I8y6WM5wRhZf88axFgpEQZx4YNEvHAA+qwe771LWlctEx9beeUsRNlsA2WqW1Noo0WbHaZBBujWwfbIRfGqh02lg1FlMF2ji1F0lS/R7avfEjEJZIQFS+5qbPFlZoqvQfsLzItQRpbHR6iTFd3t+pck5WVKd1h8f2CjNX9trPVIQuzPTOhrNYbz6+hzTLKPJGbcuWVVw76VNBtyCq3Bo4S7BsDAbZGsUZ/jffmQEPYBz0xmw2OOOIIJZ6gfTQ6b6FU6aqrrlIun4ceeki5ZDAvHQCNbCq4LZG3g/IkVMlhjQAAIABJREFUCChoba2DlOGUQbYMBwmQAAmEIgGKMqF4VXlOJEACJDBIAuhU8d5776l2nytWrPDa+sQTT5S3335bfVpp/KMf2yCsEQ/nsIUHMnyJMnp75ZSZ1qscM+YBkWY4Lhnsz58os35Lm8yd6dnyGvb3zds7pK4pRmbP8Fw2vzBWTdOXS0YtN2XKGM9tME4Z43ZmUca4zCqLRgcib63okYJc74ccOGsCEWUa6uulvqFBCgsKRfoqkvy5ZDA3q/IlvD4cUSbbR7flrTVhEu++PF4Dbpf98qzFAF8uGezI6JQJe/ZZCXvbHfLb8fOfS0Nshq0go7a1ccroZWZBxjjxOjhwDIKNFmuwDsKDp/R1bLJy4gw25Nd43MryWnntzVskvl2kMHmuzJt3pLiys0ViYpQgg2EsX2pta5XS0jLljGjrmexXlNEuGvNFykkMDVcNHB6rVq1SThmUy4zUaG9vV2HK5pBhCGLoFIcBJ4qVWINrYxbaR2peEGQuvvhiJbTgawj4OB4EF4T7vvnmm2re55xzjnzve99TIs0jjzwip59+ukDQwf+XX365KnnC7xbkEqGki4MESIAEQpEARZlQvKo8JxIgARIYBAGIKvjjGR1E7EQZ2MDXrl2rQhhRsoT/YS/HwB/M6enpkpeXpx44EMaIT0Pxz+qP6MGIMlanodthZxjaYc/K8fxj3ZdLBvsciihTWlYqYc4waWqN98iT2VjU1j/NjUWtMid/oJRn/uwBNcCXIIMd7C1RRk9WZdGYhKfiHe4H4O1VLjEz1dvBFYPOS5UVlYJMody8gc5L/kQZO0EG+x4NUaZyp1sssMuqQZbNpCjrdtcNu52ycLq9e8MoykTc9kdx7CiXrthYcd16q8/SJcxnJEUZ488I5qTdObsHIon6V0Hp08xka5FDt8K2e+vYWFMt933xe7X4/AXny6L0Rf2rml0yWLCzsVFqqqulcPZsadoTZivKwCVjJ8i4WTkkIca7dC03aXyJNShL+vLLL1UXoUmTPEXdQbxdB7wqnCclJSX9IcNG0QYhuRhwnhQUFHiFDOO14cwRbaMhPMElA0EGWTD4/YEsGJQw4fcCWl0jzBcdut544w350Y9+pAQY/C75+OOPZeHChWofELKwD3wfqPAfMCSuSAIkQAJjhABFmTFyITgNEiABEggGAbQTnT17tvpEEm1C7UQZq7nV1dWpBwyEMsbHx6tPPdFJBPvSA0GKWqDR/2+rj1Ofzvqy02unjB0TuD10OYsuZTKuiwcSc8ivcbkvUcbKJYNttxRtUedZuzPaPuT3692ihZgNWwbEGmy/cUtr/3bz53jm1fgSZNS2pkwZ47kM1imjt7USZfSyLWXdMjvP20WD66KEl6wwJcpFRIRLXFz8wMP5bocstmlD7q90CTsZavmSnVMGooydIIPjQZTJtMmqqWpyymTPyi+P2xEVW6p0qLVVIm64QRwulzTPmyeTli/3myeDHVk5WfC6yqKxyJvBMrhkMOyWG0UZ88+ODjWepFt4m1aIDHPZdoNqanXKlp1b5LGNf1FbXX3w1TI9bvrAdTeVLmEBnGUQevH+YMyTMc9rqKIM9gPhLNHAaiwLNSgzwj8IFHu7lMjIHLk1yGYxO2vwPYQjDIgfENm1u8bYGQplrP4GhBTkuECEeuedd1S5FkqYUF4FVyWWI3z3pZdeUrlUb731lvznP/+RBx98UCDoIOdlyZIlSryBGxPzQJlkMLn5O2cuJwESIIHhEKAoMxx63JYESIAExjmBSy65RH1KiS4XEFAGI8pA+Jg2bZpcffXV6p8eaPcKqz4eyPQ/tCNFC1g8ENR1ZCtRJioqUiIjo9T/ODa+xkM+XBoYKF+yG0ZRxmqdF1fu9nrAnz1j4Al7sKIMzhXtsDMyMqW8OiwgUcY8r/WbWmwFm01b22TuLLfDRpdC6e39CTJYzy7jxm8rbZNTRh/TTpTB8uLyHpk1PUJ1XkpOSvYoxVhb5JKUBM/cIb3PHfUiR+1vXX7gyyWD7f1lyoyWKJOZYH0Poj13VJ9m5SzfIc6+QNHWffaRqHlzBYLNUPJkcK7+RBlfpU3+RBm7beGq2bXHKXGTvM83eWqvQJR5o/S/8l75e+py3nbkbRIdEd1/i1s5ZUrLytTDfUxCzpBLl+CSwbByyuB1syhj/JnTLcsh2uTZuIP25ts33mPxfog2zGN1QBDRIcNG0QZuFj0yMjK8SqEg2kBw0aLJ3//+d1WiBOEFAb4Qe84880zl3MHvBgg1KIlF6RUEGbgvwQadk3AsrHfYYYepoGA4bNAhCQ4aDhIgARIIVQIUZUL1yvK8SIAESMAPgc8++0z9EYzOSSeccIL6g3owogw6EaF7BizqsKL7GwijXLOlR8pqXQLhZkpEk8o86OjoVGINBubQ0pUgidF7+oQaLdhEenxK6k+U2bQN7bAHMm6M7aWrarukt6dHUhKcorsUGedu5ZRp29MmpSUl0t6TLhEREcMWZcysVGnT7FgxlkLpdeCEgWAzv9C7De5wXDLYv7l8SR/TnyiTlylSXFQsWdlZMiV2wPUDJ41d2dO2SpdERlkLNhX1DslJc1jmzfgSZDBfBP0ORZTx5ZLBfuGU8SXKpMe7BYywJ56QsD5Rpu7KK6UndabshIPDoh12Wnyvz9Il7C8YogyOCyeNOTR4d7v7jmja45QvaldKxe4KiQqLkuWLTvO4ha1EmS1FRcpZFh6TOixRxk6QwQT8iTJGF435Zw6cF+W5A8P3xli9erXExsaqbnXjbUAwQciwsSsUvoY7Eu/lGBDo4WhB6RPKXeEKwvs6vodL5pVXXhF0n0I2DIJ+X3/9dfUej/yYNWvWKJclxB2jQANHD0plly1bpthxkAAJkECoEqAoE6pXludFAiRAAj4IQCCBPRyfbr7wwgtqzcGKMq+99pocf/zxKgcAf3gHMr7c7hZKyt1xNO7hEoETJSG6VQk0ZbVOiXY0KMFGdxXBasg/wB/xtbvcWTUoX8L3VjkDZlHGODftkoEDxWr09rq8Qn5R5lVVVSndjmzbzkrY13pD+ZJ530anjNeyPlHGaj4QbBZAsCnue0I2rLSlpEPm5E+WeX0uG+P2o+GSwf7hlMlM6lTtwVGaYuyI4k+UsSspK6l2SYSNYIMSpOxk95lZZdIEV5RxScSvfyOOhgZpnzZN9lx/nbR0ukWqNAunV2Ob01ZIgMjjS5DBPs0hv8br7cslo7ZF3oxdWZSFIGPcN9qKP/TV76WipUKypmbJT/e7vn9xY5tD4vrChVP72ofj53kzOrJlZEhPxLQRz5PBwSHIYNgJL+DhT5Sx4zHSzhqIE3CHIOg2N3cgg8nyDWgcvdjV1SXbtm3rL4WCu2bDhg3KDQM3JEqSjj32WBXaixbY3/zmN5Vj5qKLLpJ3331XBcfDeYMSJXCByG8UaBBWDJfNUUcdxc5L4+i+4FRJgAQGT4CizOCZcQsSIAESGDME8Me+7rDhb1IQL/QDNGr3L730UvUHNB6sMQYrytx5551y/fXXqz+a4R4JZGhRxmpdLdSUVLkksa8ddnZSjzo/BMoqV01nh5TXhEtseEP/LnBsd/mTW7TB8oLpEbZdRfyF/D71aoNXVyLY6JPjd0tHT7qtSwYTGk1RxooZnDXzCmPl623ego07M2ay2szsCBpKngz2A0EGbFHmgOuOEFdjTO5wRJkZmdbdu0pq3GIMxBfzqGp0SlZf5yWrPBpfmTL+8mRwLL9Ombo6ifztb9W06vbZR2J+cIHUt0RaCjJ67ih9gmPGOCDWYMBhk2ASTrQjRx3DR97MaIsyf/r0WmntapUFKQvkov1+3D/9ml1OQYlTS/vA9ens6hJ054JDolsiZXqidRnYSObJmO8NX6KMP/HL1/KhCDYo03n//fdl3333leTkPoUxkDfMcbgOhBqI9BBjbr75ZiW2/PnPf5Zzzz1X4BZC9yW8Z3/yyScqGB4tsZExs2DBAnW/GAUaZNLoDxDYeWkc3gycMgmQQMAEKMoEjIorkgAJkMDYI4DaewQyBjLQ9hqfTiKgFZ9QolUp/mjWY7CiDD7thE0df1wHGsDoS5TR89he7ZL0+B7rdthpDkHpUlZSz4BQo0qg3MIN/tU0RktiTLOEhYdJlMqsiZJI5NZE4v8oKSrpksJcexEJ5Uvmsp4PPi4Xl7ikuj5KZs9wCx0YHt2VfLhksO5wnTJW11iLMpbLivfI/IJo+Xp7p9fi4rIuKexr620+V3+lSxBlUFaAjCB88q+HL0EG66B8yZdTxp8oY3WOZbUiuWkOFdhrNaqbEPQrkpPs3b3HnyhjJ8jgOBBWIJY433tPwp98Uh265OSTJf2bx0hNU9igRRk9d7Ngo8UaLG9ucwg6AkdHus/FLOz4y5PBNkNxysAl09XTLb9ffZk67mE5h8lZc77dj1uLMkb+TY1wllXJtPR5Ej3Jmz3WTY1ziS9Rxq7rkj6Ov9IlrGfrovEhbmE7X6IMjmuXF2QXNNzQ0CAoFz300ENVmU4oDwTAQ4i59dZb5YwzzlBtruGOQUAwcnUQANzY2Kg+EEBQPDpBffHFF6qsCe4aLdBAvProo49UZhWEHHZeCuW7hudGAiRAUYb3AAmQAAmMYwII0H3qqacCOoO0tDQ57rjj5LLLLpMVK1aoT26NDwgQd0477TSBAyYhIUH9Ee1rQOTBemhxGujwJ8pAkMGAKGMeeOjH2LqjWzL6ludnewbH4lPVDUVtkpHgdtV0dgw4bFAmhVG9c5Jkp3QrgcYt1Azk1uiOSV6toouLVHZKXVOszCsYeKiCM0aPDZt3y9y+ZQvmeLKDIINhFHGM56czZaw46vIlq2WBiDJW26G0ae6saIFjxjy27uiRglx3KPLsGZ4dmLRTpqS0RJWQZWVm9W8+VJcMdoDypeGIMlbnWF7ndm6gzA35MOahBJsEV7/TxrjcV56Muof6RJmwBx+UsK++EldYmBT/9KcyfdYstcyqdElvZxZTjMe1ctHo5cZlRrFGL2/oK9exOrav0iVsb5Uno/cLUabHUSm3rPqdeunUglPlmLyj+6dtJcrU1tSqkNapKQWS0lfSZObf3O6Qna1OiY/2dNGkxbl/UIcrygy1dMmfi8aXKIN5W4lFcJY1lq9RZTiBCthW9/R4eA3i0znnnCP333+/6piEkib8rigvL1cljxBi8GECujDha7yODkxYB2KNFmggpq9cuVJ9gIB/oc5tPFxbzpEESGD0CFCUGT223DMJkAAJjEkCEF6ef/55n3ND/b+xo5J5ZZRNQeS54IIL5Je//GVA5+lPkMFOtEvG1w5VyG+Ke42iMu+gzq4utMM2PYS7RDq7OqWjvUMQjpuWsEc6VTlUZ39uDf7or26YJDOznH2CTaT6PyI8XIVcpqWnS0VNhIcoY5znV5ua+zsnrd88INZgHQg28wpiZYGpFTaWQXTB8CXYIFPGagxXlLHapypt6nPRwDVjHNsqUb4UKdU11RITHSMHzE/oXzxUUQaCDMZoiDK6bbrVeSJAOCfFpUQU81CiyzSXZFs4bLQgIz3dEnHd9eLo6JDWnGyp/853VYeYvSHKWJ1PdeNARyjz8tYOh8xI9RY6sZ5ulW0O+dX7gChT17FB7lt7n3rpgn2+LwekH6C+hiCDgfIl4ygvczvLJsXl2ooy4JQS57kdhBo9UMoVH23tCvLlksH2/kqXsI5tW3E/Lhpfooxdzo12liWkzZTEWGvnUHaC9fWx/MEfwy9CeEEIMLonQXxBmSPyy+CMQRnXAQccoBwzcDWifAnrIrMLXam0QINtES786aefyoEHHiiZmZlj+Iw5NRIgARIYPgGKMsNnyD2QAAmQwLgigLp+PCSYB8IY8Wnl5Zdfrrpk5Ofn254XSqBgL//HP/4hZ599dkDnPxqijPnAEGkgKkxP9XzwKcx1Oz6QJ4Ohy5ewVndXd5+rxi3YpCe0K7Gmp6+riD4Gsg+q6qJkdv4kVRIVFRkpzrCBbkJGUcY8r682tShBxuis0etoYcVKlPHnksE+kCljNRBkjPIlq6GdMlbLjKKMefmWsi7JzwlTIlVPeI7Kg9BjexU6Lw2UhRm7MA21dAn71pkyVnPV5UtWy+CUsRNlIMhgQJSx3LYeHZ1cUrPLu1tUzS6HW7BpLJKIu+9Wm1ctXixy3LGSmJA4ZFFGi0N2ThqfLppG75wa43ltrw+TqX1hvObzRUmUnSCDdSHKFO1aJf/e8G+16RUHXSEzp7nL1qxcMngdXXngLHNMTh+UKGOcG843tU+0Qbtu42hodUpCdK+kW4QpYz1/oozPtuI+RBktutiVL9mJRejcFh4RLjHTsm1FGcx71x6HTIuxzt/B8kxTFpHlzRvEF+FUhMgCIQZlSsiEwVi4cKEqc50yZYrq0ITfQejMBQcMnDXIA8PvHKNAU1NTo4QcdGeKi4sL4lnx0CRAAiQw+gQoyow+Yx6BBEiABMYFgcFkyqD0CZ9mov4f4ZWBjFfXDjzgZiRYPwz7c8oYXTJWx/x6e4d6eaYhNFa/hte/Lm7vd2TMzZ/ktQtjngw6yMBNg09x8a+2MVrSkzqku2vAnYMSHlUGFRUlpRWi3DBRUZESHhYuxgRcLcpYzRlCjcNpnYlSWdMpxx6RaIl3OC4Z7BDlS1bDnyiTndojpaUlMiNvhkyaNMCwqLxbtPiF/epyM3ztLk/yFDhm9ZWeDbV0CfsdjihjJ8hgv+V9oowVnx0NDomKdIrjy3Xi3LhRrVJzwAESm5MjXTJJpsVYd17CeoGWJ1kddziiDMqxrMQelA9ZCRgZCW5hAIIMxmd1r8mLRS+qr3+99NeSFO2+J61EGVevS5WsTIqfITExk4ckyhgFGSsWCHjG+ZjFGqzb1umQGSn2rhNf5UlYhmEn2gyldAn7g4iJltERMSnDEmXQotxc7mXk09bRK1MnI0vH+v3E8gd+BF/EeybKjyDOwAXz4YcfKvEeAj9KkZBBlZWVpcJ8ETCfnZ2tymjxGspnjQINSpoqKytVO2y8v3KQAAmQQCgToCgTyleX50YCJEACgyAwGFEG3ZuWL1+uPhENNLjyq1L3g4J2KRinpkWakRBljIKM+fThHkFQrXbMmJfjYcKcJ4PgSmQddPZmqNIlrKNLn1TAcF8Z1NbSHslKdQs2CKV0d4SCYBMp28tcsnB+nESER3iINVgXooxVWZNeJjaCTXVdl3zzcBvBZhguGRxXly+Z+cApkxrfJlXVVTJ79hxxOgbKTcyijHHb4h09YnTObK8aEOXK6kTy0j0FG11+5sslg/0HS5TJThIJv/12cZaVSW9srHz13e9I/qxZUrML19y7S5RmER7usBRHsNyX6OJvOUqX7Bw2Ok/HbnnlTpRqebozINZgoLQJ2SyfVX8mW3Zuke2t78vty26XyeFuMc5KlEGJINokT0kukKwkb6eRZmFVvmRcpl0y5nsQggyG3fmU1odJXF/Zk3lb3SRub5Yu9fR0y5YtRTIt1S1i2pUvwSWDYeeUgSCDEYgoY/e2j5IhjNgo63t0SszwxA90XoILBgIU8mQgxMyePVt9j9BeOGbgrvv444+VmA/nDESZefPmSWpqqodA89VXX6kSJ4QjB9rdz+68+ToJkAAJjHUCFGXG+hXi/EiABEhgDBK48sor5ZlnnlH28kADGLUoYz4dLdI0tIh0dvRK7KSe/swY87qBOGUCEWWskEKo2VjU6tUOOz66Ubq7u6WlPclnnozLJVKYFyntqhNUX0coBA2jjXeVU7LSehQrz3DhKNla1iP7zo/3EDj0/FSLbYscGix/84MmyUyzfoiqru+WY5ZOs7xzhlO6NDsvSuXJ7G7Z7VXeNhhRxjgxOGryszwDmyHGYJTXuSQ3zftT/xkZTp+CjHtb3+VL/kqX7H7s4JTJnrRbIm+8QRAevWeffaRo6VKZPbtQdtSjRbe1CwyuE4gYVmJCZqI722YopUuYpz9Rxle4sJUoo88dLcVRqvXIukektSNanOKUs+acpYTFxt0OiQhzd4PKTBoQdZp3NUtFRYVMS58jafHWFH0JMup8DKVL5j1ol4zd9cFyq7Kmpjan6qpkFQCc0SdK+eu6hGMOtnSpra1NSktLJSmzQNLi7UUqf6VLgbhkMD84ZewGRA47QUZv09PRJpOiPH8evfbX1iThkd5Ow+4ot8gCQQblSciEQYYMxJp169bJ4sWLBeH0EFwgtqCDG9wxBx10kBKxjQINxB2ULcFxg65MHCRAAiQQygQoyoTy1eW5kQAJkMAoETj++OOVY+TZZ58N6Ah2goxxYzyIp8W5yw50FybjcoT7jqYos6EvcNfslHl3VYnKPNhRE2bbDttXngwe3L/Y0CT5ueHublBKsEH77g6B3X9Hdbhkp/dIRAS6QOEfMmsilcsG7bv3mWvdBctX3szbHzVLeqq1YFPT0CPHfMP6adlf6RJEGQR54qE8Jzun//L4EmSwktkpY7yuVqKMXu5e5vlAVlrrXrqjHp2VvAWbvHS3C2A0RZnppWsl/JFH1HHqTz5ZGmblS17eDOUCsxNllJjjQ7CxEiL0vvy6aPw4ZXy5ZHAOdtksWpS5d829snnnZomLipNbDr/Fzb/BIRAzGnZ7Xp+W3S2yp61NMjNTh1S6hH0PVZTRLhr78/EWbJr68mqaWkV6XA4PJ4sWazCnoZYuNTU1SlVVtaTlzJWkKdaCHfY/EqKML0EGxxhtUaa5J0zWrl2rXDA41saNG1WHJWSYwT2FzDK8fyAAGOWvKE9CjgxyY9CtSws0cF/CZYOyJ2TQBCr8B/TLiCuRAAmQwBgkQFFmDF4UTokESIAExjIBdF5CHsCJJ54ot912W0BTHawoY96pFmnQrjm9T7ixcsQgP2aoThmIMmZBBh1kNn+9WVJSUqSyLrI/h8Uc2IvuSnPy3R9Rm0uRPPJkel0iyKSJilQuC5XBsGGXzMhx9rlr3KINwofVg29NuORlO/qDhd1tvN1dob7e2iFD6cr07ietkpHq2epa8y4q7ZLTj7EWbFC6BFGmqLhItUtPTUntv0xDdclgB4MVZfRBcU/AMWMcug12RQM6K3nfmrlpbsFGd16yunn95cmo0qUVK8S5erXafOvy5eKMj1cdYoYqymA/OG5WoudDu850qYFzxBDyahR+4JLB8FW+NJjSJSMTLcr84aM/SEVLhWROyZTrF1/vZtgnypgZwiXT0Botk6cmSXyMN+HspF4lupg7L+k1A82Tsbp2di4Zva4/V5A560oLNtgeJV1Gl41ZsME6Vi4cBNY2t4epbJWxXLqE+cMlg+HTKdPWpNaxcspUNberPCGE/KLlNUQXfL1p0yblkFm0aJESauAeQleloqIiQWg8HDS4b7RAgy5NKHHab7/9JCdnQPy1uuZ8jQRIgARCgQBFmVC4ijwHEiABEtiLBNCqFFkA99xzj2qJHcgYriiDY2yt6PFwGhSVeYd5dnV22YoyyJPBQKaM1bASZfBp79atxZKTM12273DZhuNCeJlfGCP43zxUO+xCdzvsyJ/9TC3uuvY6cWVn2ebJ9PT0KpHmq693S26mS3WDQnaNzoTAPqrqo2Tm9HC3YKPya+CyiRKED28q3mPblQkdppCNYzVQ2hQWbl0qUFzerUq7XB3bJCMjQ+LjBsSboYoyOgzYXL6k52bllNHLrEQZvQyuqxl9jhn9mjHLCKKNud21Fmz8izIuibjpF+LYtUt6szJlw2mnS2JigiQlJQ9ZlMExMcyijHHuRiFGizVYXt3kkNQ4t5hj5cSxC/nF+v5ECqyD8qVfrPyFNHU0SWFCoVxy4CXqWHaiDBwR7ZIkc/K8HV71fa6a2l0OrzbaRlfQUPNkfIkyOFf3+Vh3N4IAZRdArn7eGp2iA5CNYg2WNZoEG6MIBmdIT9hUyc+2qeUaIZcM5hHM0iXnlEQlskCIgQsGJUooW0L50Zo1a1SWDLJjUNIUExMjc+fOVaHAyN/aByWABoEGOV7YHvtBHg0HCZAACYQ6AYoyoX6FeX4kQAIkMMIEYE/Hp5z/+9//ZMmSJQHtfTREGfOBP/i8Q+Imux0mxqFFGB3yazdhK1EGpRg7ysul05Vl60rB/rQoY7VvLdQ4mlsk7JWX+1fpOflkqWgJl+OOSracklWejAshw52d8tXm3SrnJjutR4k3eK0XLpy+kGF0ipqVG+EWa/rcNRGRkaoMwJ8oM7fP8WOeFEqbel296pPtpMQkiYgcELcgmBXkRKpMHfMYaukS9jOSooyeV2mNSG6a5ywh0uiBr7OSBpYb22pDiMhp3yERfQ6xrmVHycbCQsnMzJLmTnfb3qGUL1m5ZIwz9OXAKa8fEHNqmz0FtaomhyC7dW62nRBhnb+CY2uXDL6+5q2rpb2nQ/ZN2Vcu3PdCNTUrUQYuus2bvxZHdK4UZFuHm2C+ipPBFaTFGrwOkSllap/IlOzpHBpqnoz7fOzPVZ+vnShjFGSsfljh7knvczLtavd0byEM3TkpQVL78mTS4r1LmMZC6VJALhmcvE2ejCM2QeXG4L0Ivx902+uCggKVFQPHy/Tp01XnpdzcXPU1uvelpaUp56VRoNm+fbsqczr66KM9OrzZvXfzdRIgARIY7wQoyoz3K8j5kwAJkMBeJvD444/Ld77zHXd4ZZLh6dVmHpt2hEnFTvdDr90n4DrYVWfKWO3K7JQxr7O5pMvLHeHRDnt7u8xIdz8wzZ7hnbdiJco0NDRIXX2ddLuyZK6NuwT78yfKqJKm9g6JvObqgWlHR8uLh/xIMueYFIK+NSCg2IX8mvNk8DCMT6XRDWpTcbvkpPeor+Gw6e1xO4qwv7pdscoJU5jndte4s2si+1tyqxBgH6JMRmKHVFRWSGFBoUf45pbSLluHzbaqHsnPjrB0KA21dAnnM1injAZvJcoY7yX3ck+RRi+HUJFds0GcX32lXko6eoFsczhkxoyZUtcyyVYRByYpAAAgAElEQVSQwbq+MmV8iTLa4WMn9hhFGfPPhHb91Oyydj+FhSHI1945ApcM7q3L/neZoJTvoIyD5Lvzv6vOBcNYwoPv3c6yrRIVN1Py0q1L5HzNF/tACZo+17oWz3lrwcYqpHkoeTLG66rOJ8E682UwoozxGvT09spXRfUSHx8nM9Ld7znN7Z6dj1o6nDI5olcmG3AlTx24JiPVdWmkAn5xDubSpfC4ZPX+AxcMXJTouIRMGAT+omwL4suCBQvUMrTJhjMGQcAQaJAZk56e7iHQIEAeJU7Io2Hnpb38C56HIwESCAoBijJBwc6DkgAJkMD4JXDTTTcJWmLj08xAAhghyuihxRn9vRZpjCG/dmSGIsoY9wWHCNoy6zIm83F6urq9MmUqqyoFLX5bO5N9li5hXyhfshoemTJte1RArHPTRrXqlwn7yPwF06TnlFNEIj0fYp94oUbmF8Za43A6A8uTcbmUo0YLNAgOzkh2hwx3dw+Uf8H1UtsUo0qf3IKNuxTK2PUETpnEKc3S1NQkBbMKPOYFUcbKJYOVdGkTHDPmUVLtUp2X8rO9u734c8lgX+ZMGb1/q/IlvcyXKGMWZMzzRQvumf/6kzhLS6V84TJpPvab0tzcoj7thxMDXZQwrPJshiPK2AkyOFYgoozVTYSfy45ulD55izKYv3bKdPV2yZVvXql2sTR7qeq+ZFe61NLSorJEohMLJSfZO4TZ73wNgozVnMvq0L3Mer8t7Q6Zl2MtMGFf/kq1Ai1dMs/L6JIxL0N3oc1lLTInd4oq37EaaDtuLHfa3eEp2rR2uGRajLdYpPNr2jrc5xzM0iWIMniPgSNmxowZSqyHUwaBvxhwwRx88MGCrJgvv/xSDjnkEPW+hLImuGoQ7GsUaCDu4DVk0LDzkvWvAL5KAiQQWgQoyoTW9eTZkAAJkMCoEzjzzDOlurpaXn/99UGLMubJaZGmrE4kfpK79MiuQ81IiTJWgN5ctUtSLCIfoiNqVBeknS1T/ebJ2IH3EGWwksslYW+/LWEvvChfxs+ThTvXiSspWbrPPUdcs2b17wblS+bQYL3wvy/VytwCa8EmLMwZUJ4MQoZVN6i+Ft7F5b2SlrDHI7cGIg3EmZqmaCnIjVAdUjBQeuBAC6a+EYgoY8UHQk1BToQqUzIPCDYzMt2CnrkDky+XDNYfNVGmdI/M+vO1ak49By6SimO/KchYQvkFukKhQxiGzi/R54T7XAs2eh3j+fpzyvhyyWA/dlk0vvJxymqtO0WhbTdGVaNDUuNd0tnTIc9sfkZ2dH4oy3KXyWkFp9mKMg0N9VJS3Sv7z0VJnqe4oM/Xp4jkQ5SBIOPr/WFTRZgkxFo7XSIihle6hOPqPBnzfepLlGna1SQl1Z2ysDBJwpzWYpJZlDHvHwHDKQbnjF7e1uk+1/bOHp+CDNYJlw5JjLW+HupeDiTgFyvalC5BlIFYCzEFLhi4q3Tba+TDIC8GnZcQ5gsnFb7G7xAEACM3Bq4YLdDATQOBBu8x8+fPD+h3jNV7C18jARIggfFEgKLMeLpanCsJkAAJBJkA/tiGDR2feiLoN5BhdMrYrY8HruQpPVJS4/1QBZHGnyCD/VqVL+njwSWDAaeM1diwpU1mz/B0qrhcIm+/v01iY2OkrNIphTMm9W9qDMoNqHTJ4qCOkhLZ8N8PZd/yj/qX9hx6qPSceqrI5Mm2IcBYGeVL82d7izJ4ffO2dpk7y9q14wwP8xnyi9IltDpHGYpy1/T9K612SnLcbvWwhRHmDJPIPjdN9c7JyiWDMij8Mw9/IcAQZawGOm3l54TL9irve6K0ZqDzkhZu9D50KZw56FcvH6pTBi4Z2bZVZv37LrWr7gsukO2JieqT/KysLA9Rxnw+WrCp7OuUZF7e1OqQfXKtBYVA82SsGA5FlMF+1LlCIE12SWN7o/zyvV/KzClLZX7yApmfPF8qGxyS1lf2ZBSZEPKKMq59ChIsr6lVnoxxRWPpknkHeI+wE2yxLhjnmDJo8DpyduxaimtHENYb6dIl7LN4R6vsad8jCwusyzwhyGDYdceCIINhJcpoPsijser6pJfDaTMlwv3+ZzdcnbtlcpR1iZveJrqnxbLjEgQZDAgu6KwEFwxydJAJg/KjLVu2KMEGvzPQmQnC7kEHHaTEGQgzhx56qGqZrQUaOGhQ4rRw4UKVPcNBAiRAAhOBAEWZiXCVeY4kQAIkMEIEkBuATzJ/+9vfyiWXuLuw+BuDEWWs9gWhZntlr6RMGQjxnZHh+amvL0EG+9SlS3ZztRJl0JZ6S1GRZOOBu8pp3w57y+7+sidzuZGXS8YwAbVsRpSEvfSihL27EhYa99IpU6T7lFNkXdw8WTDXu4MNVrETZbBsY1GbZdkTznFzCTJj7AQbp888GThl8IAVFxenxBflsOnolPLacEmJb1VTRzmb7gKF/6ubJqs22iq3xuH9Sb12ylhdFy3KWC3TpU1w05gHHs7z+rKDrMqbhiPKzHjhIQlb96W4nE7p+sMfpGjHDsUDLdONThmrOVk5ZLAetosIt3ZRYLnTae1owTJ/pUtYx07IsHPKYBuIMro7VU1rjdyy6hZ1SqcWnCpH5x4tYAhBA52djAMh0C1dcXL4PtZC22DyZMwMfYkyYIhhJcro8zGXlOlQZDiCkJ1jHMZ1feXJQOzB0CG/5jl/XbpLYsN22bZ1HqpLRh8HggyGP1FmWrS14Kf309HZJVOsq6sGTqlph6XoGp2cqYRciCzl5eXK+QJxBqVbKE367LPPVC4MxHyExMN5BwcMQoGxHUqcjAINcrxQ4gSxJpDMMqv3B75GAiRAAuONAEWZ8XbFOF8SIAESCCIBfNKJYMbnnntOjjnmGL8zGa4gow+Ah/DMhP/P3psASXaVZ9pvZta+79W1d+1L793qllqNZEmIEQwYs40Hht/8HhgvYSYwwSAHxmOwCdtgh5kxY8/yM4DHDoLxFhiMFyQQCIHUi6Tet1q79n3fl1z+eM/Nk3ny5rk3q7KrJdR1TkRHVec999xzv3szs85z3+/9oikudn+SiZkAHoi1OYmZWzJQhmkpAwOD2AxV4nC7Ho7wIEwzonLm2i0rtUdtohx2S45W1aICG0/fHaR84xvwTIyL3a8UH8Hh3AUE3vc+hDRPi5OBMhyXfjoHWuKhDM2BuwY20NaoX5nRHLih2iMWT0wryM6KjtE5sInGam84DSqssGFFqI1NkfYkgY1U0sgS3qMzaUhJSUXrfr0h7HagjO4G5L3SWOUTsMPemCaXkwmcbNVDEDdPmUEaFn/xN+CheXJzCzY++mvo7OxEVVUV5jesyktu4CWZbUyDYjUonYqDVaESQRk3Zcl2ocz4yjh+/8XfF+f37pZ3ozHzCa1njlV5qRP+lCoUFurfL74Uj3Oq1Tb8ZJzOx0klwzlL1Y/O54fb7TBNrWA1uwhsBqOeL2olLu7rlrokPht6Z1CW58e+8nLtZ+VuQJlEQIYHdoMy2wEy/k1LaZNlU9PQ94WNcIXpSkxDogqGaUw5OTniu+InP/kJKisrhdcMPWeoKquvr8fZs2cFdKEZsApoaCBPvzJWXnLy4Un4xWM6mAiYCJgIvMEiYKDMG+yCmemaCJgImAi8nhH4+7//e7znPe8RMvSampqEU7lXUMZ+4B9fWkdhdrwvSXPYQDYZKDM7O4eJiXH4PTVakCHnIKGMLhjXby1FUn7s20fG1vHU40paw5Yfvh/+AL5nnsGV3HYcnb0qdgk88AACb387EK50lQjIcB8ng2AnKMN9RKnsZmuRZW//8PwS9lcCc3NzKCsrB31rZGP6jpPJb+fAFur2WZWgZEoUf1JxNb2ci9K8ZfEUPZ2pT6J0t2UyPDyTBp/HK9KXdM3NBFhCGd1+d8aCwhxYLtTtfajGeOyoHtgMXhlD81f/QOzif/e7sXL6tFg8coE5uZTpCGTYP2kVTViRYp+n9KwZnolPu9kfXv8nSl3imE5eNapSZrtQhtf0letTKCwsREttNNVPnfvLPT5Uaao97a/wxFRd0l0XvpYslHECMomuDeOg7msvOT65SGATNne2pU4RUl3tmsL+ijQUFsQbVr1WqUu7oZIhlLEDGcZOQhlp2kuIcuDAAVF5iRCGVZUIYjo6OlBUVCQADVUyhDHPP/88WkU5+SqcO3cOxcXFAtAwjYkpTlTc6NIhE37pmA4mAiYCJgJvwAgYKPMGvGhmyiYCJgImAq9XBP7gD/4AX/jCF0DvCK+DcaU6tx/djKYxOPkiSD8Zp3OSJrCqUsbet3vQj/22ytKsFiRb550N1FdYUn+7MoNpPWx2Txn6HVAts+bf52jy6wZkOCahjM77hdu++8NpVO2LL82N1TV4r1zGsUvficw/5PMh+PDDCDz1FK6PpziO6ZS6xIHcgAy3u0EZlsouLVzGzPQMWlpbYyxc/+nHq2jdrzkPpt6keLVKGD5ZZypVVekWNoVvzSY2NjewtbklSi/PruShPH9VpDoI75o0/iS0SRMQp2+MVZv0HhjbgTK6e43mwXPLHpQW6A1R524M4vQ/fFHsuvmZz2A+NVW8D1j+d2ja66qS4T7JKGVkmpDTe4PeOio0GJmNAqWRaaAyXA2K+9crZb7dVDLsGwNllsfx+y8lVsosLy/jWvcijrUXOy6mmW4moZE8JwmYCJFUM1019SxZPxl5Lm4qGbdrY4cy9utADxw5tr189+QCgI0xARsIF+xAaTdUMpxPIqXMawFlCFoJXGpra0UlMqpgaPjL9ypTllhFieDm0qVLQknDduHCBRw/fhx5eXkxgIaGv3zfsx+Nxk0zETARMBHYCxEwUGYvXGVzjiYCJgImArsUgQ996EO4ceOGqI6xnXLYXWPWwpm+DPYmIc12oEwiIMOx7VBGHo9AgY2L+Ft98YaXt3rW8LOPxaf0UEZPQ9v51cJ7AmWusbqSxqyXc/2rb4/jYPEavJcuwTMzGw2dz4dQays63nEMyI5XtSQLZRIBGU4gP2tWqF3s5puEX+2NemXEv7y4jpY6fXoSgY3d5DcUskyGu4cCqChcw8bmpgVtNjcQClqKhLn1AqT4fKgpC4ShTRjWpKXB6/GISk5MX9I1qZTRbmO1p0oHb5dQCFe+eRWlo7eA3DyhXFpaWhS+GVQOeX2epKAL5+GqonFQyoj9bEDGfk7944BMt7GXoh+egqgGtX9f/PmqJr8cc1yBMu9pfQ8aMh7Xpi/Nzs6gc3ADDx4mHY0HWzogo865b5Tzib6iAia1OpX9GiXjJyOP4hZ79nGDMiqQ0d1PPSMbCCz3obm5BfPr8e+BmRUv9uVHvV6qimOVfk5Vl+SxtmPwy773OnWJx2ApdKpdqIKhco6eMKdPnxbKOqoqZbUlelLxd1Zk4vcIjYCpopOApqCgQHy3MMWJHjTbAf+79NVmhjERMBEwEXhdI2CgzOsafnNwEwETAROBN04EKMdnZQ3K0r/61a8mnLgEMrqOEtKw6sz6RhBZadaCpKoo3pDS7idjH0+nklH7EMo4qSrYjwoS/9ZW3DQnJibQ0ZSFybmspKCMm0qGB3ODMlTgHGzPFeWzvVevwveP/wjP2JjwmrlechiHFm8j2NyEYGsrkBH1gaEp7G6nLjF+7U0Z6LvTh4yMDFRWVEZiJdVITlCGpbJp9Ktrz5zbdExPYvngmNSlUAibW5aqhiqZsryVSEoUS3uzSZPh+fUC1JYFY1Q2cnGXLJS5c30Kvu99D019ZxF485MIvOvnRHUZcdzMOgxN0Rg3/iypzkq08H8toIx9ZhKQDM/EwxOqhY42RvdQoYybpwxVQyMzKThxQBMIlinXqGTkUQhk2JzAKj8D6sPAbGQmFiTRJ4hpWI0aoLZTPxk1Ton2TQRlbvUvI9U/ipaWeLMrWYVLqmdmV2Ih4uKaBxnpQE567OdhhZL6tR0o81qoZBgzqgrpKUN1y+zsLPr6+gR86enpEQDm4YcfFibh3MbvEKb9DQ8PCyjDSk3Xr18Xv/M7RqY4scy8aSYCJgImAnslAgbK7JUrbc7TRMBEwETgLiPAxS+l+B//+MfxG7/xGwlHc4MycufhaS+Kc6xFNRdX9kZI81pAGXtKE8/1hy/2YzOQCwKCirLok+4OxXclkZ+MU+qSG5BhDCJQRgYkGIT3lZfh+6d/xjVPDY6E/WZCKSkIPnxagIJrk2m43as38qW5b7J+MoQybU0Z6Oy8jdKSUnEPyOamkiGQYXOCMoRprOika9+7sIWman3qAhU2ErJxEecPBMIpUBsYnPSiKGtRABt/IFqtKzUlFekZ6ZhbzRMLf5kSxaf6sjF9yUkpM/DPF9H8L38uum49/TRCtbViwUkzU6ZrEDio6UFyTKrAdMBGptIlBDZJKmVUlYwuvm6A5GIPUKL49C5vLeM73f8ohjlacRRv6+jQXrP+/n7MreXhSGuhfnsCKOMEZDiYCmXsg/eOBJHmUM55fhk40eJc2cot/jtJXbLPiWXM5+fnkJe2gP376+LiQSjjZsI8seCNA9Tza9HzWN7wIDMthGwbtJEHKs0LgqWwXwsow1REQhb+I4ih2TOVMwQ0VMywsbw1U5f4fmNaEyEMFXFMX1IBDZU17EeVDSuamWYiYCJgIrBXImCgzF650uY8TQRMBEwE7jICfLJJc99vfOMb+Lmf+7mEo+0UyugGJKjhArI0J7rAtntz7IZSxg5lVtdWwUXmZqgKh20pRjTale1m1yrawqk7rMCkNjelTCKVDMcRShl78/tx89kbOPryt+CZmYlsZYnm4MmTuNr6Zhw8FVWyyA43ulZAuKICJbmNryVKX2qq8wkIUV1Tg9ycnMhxE0EZJyDDAdygjFup7O+/suWYnuT1eSPbCNYsg+GoZ83YbDry06PpYFwkSt+amZVc4TvE/9PLIpKeFwph8H//A5qufR+hoiJs/c7vIBgKibQMGpkubFgmrjoow9cJe+zbCGvYXIHNhBVmRz8Ul/QlNygjy4jbvV3kRbWnES1tLuHTz38atRlvQnvOUzhUHQtdGqssWHDuypioynWgUXPfbkMpsx2VjO4zglCmoVLvA3SZgMnBIygl1QJyTl4/iVKX3K4NoYx/uVdUD+I9Ym/JQBl1jOllL1TVjH38iSUvPAiiKNu5FHbAv4m8zNjt9rLYiQx+eVxCGaYi0ZyXKhh6yFBRR8Pfl156ScCVpqYmvPjiiwJgUgFz/vx5MFWJRr8qoOF3DBU1rOwnTYR119y8ZiJgImAicL9FwECZ++2KmvMxETARMBG4RxF49tln8dRTT4k/umlumqjtBpThAlJdfEjTX/XYvcN+PHLQeTZu6UtUj7DZoQyfco+OjSHoq0VHk75MtIQzhBpUttjbza5ltDdl4WBrvF9NIiijBTJU0HSuWD40gQC8ly7C98yz8IxbZbTZrpUexcGSdQQeexwhKho80cUq/WYOaOZys3sNXXc20aY5T54741ezz4+hoSGxoFIroiQLZdyADM/DDcpwW3ON3jPmBxcDqK/Ub/P5PEIJw0Ukn9LLalD0qxHluxcyUJBJd1aIJ/o8TwKa7OlpLDx3XaQu+d/8ZgTf9S6sr6+LFA3660wuZjoCGY6lgzLyenHbfsWAlykxsllmu9G7Sqpr5CtunjKJoIwTkOHYdiizEdjAJ5/7pDjsoyX/L9537IGYW52AKRgMoGtwHbVlHrEgZ1N9fXYKgtQDJFLJsK8TlOkTwCZeKcO0LaeUMznvRFDGraLT8DSwOntbAAlWHbK3ew1l5tc8KMtzBjKcz+pGCEW2inUsj622oH8NWenx8SstjIJZwk9pzktPGVZbouEvAT6rMPG7gnGgVwyrMJWXl4vX+VnCPvSTyc/PF4CGKhumOD322GOm8lLcXWNeMBEwEbifI2CgzP18dc25mQiYCJgI7GIEvvSlL+Hpp58WHgGsquHWtgtkOIZMX9KNZ4cy9j5coE/OBpCfGV8Om0/wVZNf3fiEMnYgw34TkxPiye9mqNLRxJaARKc8kcchqAkF4+fF7VSu/Nuf1cvz41KXlIlHoIx8jZ4z167B+8wzuLFWhMPTVroAW6isDIHHfgbBUw/i5qCVIqaDMnz9Vs86OmxKH/l618AmasoDIiWBT7qlh2t7QwbuBZRxAzKckxuUoWqiSQNsCBoGqFhxMPLlvXJnLISqkq0orAmX8S784fNYXEgXUKb7fe9DoKZGqGho8ksVxPRyNpqqU4XJsL0RurC5qWhUKKPuT+8cuZ8Ka9hnaj4I+gedaNErRJKFMjpvF1bD+tizv847CmeKPoh/e+KhuPNcXV3BxZtzOHGgGOnpGXGpiIy9hBg6fyc7CIqJg+InYz+wm0qGQIbNKSWN+0qVjzougc30fAglhfEwQvrWJPKT6Z8IYGO+S8CJ7OxYKLsbQIbzdVPKJAtl7PFd3/Qj1+bhXZgTm1bIUuhUwVRWVgrIIj1hqBJ6+eWXceLECfF+Ibh54IEHhAqNpsBHjx4V5dNVQMPUJfo/UXFjKi/pvrHMayYCJgL3awQMlLlfr6w5LxMBEwETgV2OwK/+6q+KP6D5x3Wiyktnu6PQxqlkq+on4zTV7UCZ2tL4J8JUYrARKKjpCS21sQsKJygzODQoTHaXNkqSgjJSOWNPaZLnqVPWRGIQCulTl1SljD1goRBuvjSAI53PwXPlKjyhaExCmZm4evLn0PFYC1AeD4KcgIw8BMFWQdacgBCq+SYrWfUM+dFaH195qa0+DW4mv8mmLhHIsDkpZZygDPcR2zRltAljBib1lYgaKz1I/d3PoTe/GfWztzD18Y+LilAs/8zFKBuNhQszF5CWmhqtBhUu3z06l641oJWxtStlYmCEAmXsl1uoRyo8ojqQrnFhKysv2bcnMtzVpRE9/dzTWA+s42TBz+MXTj4Sd0h6gdzoXcHpYxXweOJhBq8bAYhuvtOLwKk2Z9+XREqZnapk5OSdoAy385gN4bQs2X9YMRgemfagxvZWaqiwzoGpS4WZSxgeHkJTUzNSU2M/c3YDyiQCMpyHm1JGp5KxX1QdkGEfO5RZWVkRaUpUwVBZRrDy4IMPCoh78+ZNPProowLk37p1S3jOUAlDU+AzZ86AKhsJaKgoItAh+KUHjam8tMtf4GY4EwETgZ/qCBgo81N9eczkTARMBEwEfnoiQEk5Zeb/9//+34ST6pu0UkhoWKlrBDX3EsrIYxLKqE/Kb/dtxkyn8846/vWZ+PSknp5uTC3kIC8vL2ko4wRkOAGhhnEoh/0335lAR0s0PcAeP6cy2je6VkWqFL1mvC/8CN6zZ+FZs0qAXys7hsNTlxFsaUbwzBkEDx8BwotFNygjfGiaMoW/Dp9cs1St2oRSpiEeytzu3wTTynTlsKlMuhso4wRkOK9koIzTIpxqE8/sDGZe7cFybin2py8gdOyYOP200KhYUFZVVaFvNICy3FWlfPemAmzyUZKzIhar6WlpSAv/TM/IEKbEFNdsRyljvwcklNG9t6gQYQUlnZcK3wvJQJnP/eRz8K03IStvEh8/+fG4w45PjOPOKPDgkXLt+11CGd1Ggj1finPKGfdxUjglUsq4qWQ4rk4p43Q/yLlLNZG6r1q+e3SGZtPLAtwxVYdapv0VUUXTawFlkkldsl+b7UIZVk+ioS9VMFQXdnd3C/hCA9+xsTG86U1vEn5U7McqTAMDA+LzhLBmZmYGV69eFYCGKYMyxYkeNInAf8IvIdPBRMBEwETgDRQBA2XeQBfLTNVEwETAROD1igCr3FCe/gu/8Av4nd/5nYTTkFBG11GCGi5OslMt5UNFQXyaj/ShcHsqzMWeTikjj2uHMvb53O7dwNZm1ESY20MIihKvOVnZOHEo3g9CjuGWvuRalckFyHDsuBSl8AHpQ3OrZxUdLfEeNQdbsiGhTOQcN9bhPXcevh/9CNc91QLKyBbKyUHwoQcRePgMbi3malOX2FdCGXo98El2aWnU5MQJyERjv4XW+mjVKvX1XvrC1MWnwLXUpSbtJ8MFOpsufYmvOylluE2njODrvr/5W9wZ2kJz/7lI1SW+/vL1SaSlpglISW+Xun1R+Eh1TSDsW8MS3IQywnA4nA4lNUwLG4XYV7BuqWvC/jX8ydRALkjV9CX7fZsIyjhWkZq0jLPtfihNYVWIUxrRn1z4E6wslsGf3oPPvOkzcW/rC1enUF6whprqGu1nQyIo06hRMBGKMX46aNVcmyKuJ1syShk3lYzb/WBtCznCHG7nvDMxJq55fX29mOPorHV/zC55sBn0ihLeapOqJvnZyKpzukaDX7ZESpl7BWXsKhnOhfCF0IXQnj9l2WuqYfx+P44dOybAC72cmLJE9czq6qqAOCqgIdChXxlVNiJN0jQTARMBE4E9FAEDZfbQxTanaiJgImAikGwE+Ic2SyF/5StfwQc+8AHXYdyAjLojFyoFWdbCij4O9raxHnBdfLD/3UAZAhk2LvDURhPXF18ZxdxSvtZvpr3JUobcCyjjBGTk/K53reBga7yK5nrnsiiH3dEUD2wONGfi5ov9ONzzPLxXrsATiAVg1w6/DR3HyxE8cgRIj4UohDIsW82KKFTJUDkkmxuUYeqSDsjIfXXbZcoZlR72a2JdJwvYJJO6xP13DGW2/Ej7z/8ZPWWH0bTej61Pf1oYJxNQsjx4WVm5SF1ikxCkP1wxSZ7nwHgwAmwIa1i1SZgMb2yAfYuylsIVojbFopWNaRuLm0VCmVRTGkB6Wroo4U1gI1ODkoUyjJ8d2LAstGz9Y0Gt98tXr3wN41MZmMVF/PGb/zjuvXr20phIp2JM7E2mnDmpUqiU0UEZjsN7wp5yJmPcNxZAfXmsEq+5LvpedjL5lfdCMioZ7usGZQhkxDXcHBDXq6oythLa4KQnRjUjYzU+b53H9JIPlcV6IMMS2omqLnGMRH4yu5m6xHuWaUn8fqAKhqlLvG8PHTok0pIIcltaWh/OrroAACAASURBVHD27FmUlJSgublZ+MzQZ4fpTiqgGR0dFRXN3vzmN4tS86aZCJgImAjspQgYKLOXrrY5VxMBEwETgSQjQCNHytBZWeP48eOuo2wHyqhARjcYIQ39J4qzYlUsNYp/zHaADMd2Ug0QyugW/wuLixgZGUbQVxeXusQS2Gw3e1bRWp8embrd8DdZpYwblHECMnISnJvOyPdGJ8thr1umxOtr8Ny5A29PL7C8jEOTl3C9/AQOTV0CMtIRPHoMwQdPIdjYBHg9QilTVxHCwEA/GhoakZERPedkoQyBDJsTtOFC3G6+zIW7tSAOorE6FqJJSJNs6pIc1+4h4r18BSlf+Qp66k+j/kg5gk8+KeZAqNLT2yNMXCcXshzvr8i4TBmywRpuI7CpLfcI1QVBDz1qZEUopjYVZMwLYCNhjQcesdAnoJldyUVtORmaBWxU/w03GKGDMvL+scMTqVTj9lfHXsXiXCHGAufw9JP/Bhkp0ZS1QDCAsxfHcKAxG/n5FqRSWyKVDPvuBMrIsbsGt9BcE70XJBCRcVerVVGBpbad+smo+yaCMlTudHV2CohNEKE2Jygj+4zMeBy9gCYXfZhbZSls56pKy5usuhREWb5zn92EMkzhu3jxorj/qIKhJwwVlaxKRv8xQhiaYcsqTPydKUrcXldXFwNomPbEFKcnnnjCVF7SfSma10wETATu6wgYKHNfX15zciYCJgImArsTASpkfumXfgkTExMJn2LuBpThrAllyvOt9CY2ddFlLbwC2FcQcKxss53UJR2UoSnl7NwsAt5aR3BAACIVM5yLLI8t53qrexVtjZnoaI73q3Hzk0kWyjgBGc5Hlv0+QCgjG42Bf3IHnt5edG6V4sBkNLVJdMnJQTtToqpPoWJ/qvCGaGtrFxV/ZLsbKOMGZDi+riIWXyecoWJGbRImENjYVRUylclNJWPdS/HGrin/35dFZauehodR95G3A/n54rA0MB0aHkJzUzOGpnyOUEaWb3f0NRkNOJqZziyGcLLNJ8ym/QG/KNnN0t2ENMPTKSItJC91LhIGmslafjXpmFrKFnNiWhR9OuyxcpqPGzz5Qf8P8OLtEUzgHP598+dQmFkYGXZrcwtdgxt4y6lUZGYq91i4RyIo4wRkuLtOKSMPbIcy6nl2DfghTb1lBSy5ndclL9uLknzADmuc7oXovolTl2pL/eju6bGUZbm5MfG/GyjDgaioUcukxwxOpc2yF9kZ7qWwN/whFOfE91HLY2+n6hKPTZBIFQxLXjNVS3rC5Obm4vz58yJ1iel4LHtNmM9y6TQFPnz4sIBWKqChLw3h5OnTp03lJfuFNf83ETARuO8jYKDMfX+JzQmaCJgImAjcfQQ++clP4m//9m+F3DyRAeO9gjL2s+Dian09Vkkj+7CUcLJQZnhkGHeGIRYNTvDADmXUudHbRSpndFWW6Avz3rcVay/KvYIyMUBGOfKt3nVgYwOHZq/Ce/48vIODYuu1MksNdbviOFr8g1gpL0dOe7tQ00hj33sFZZyADOejgzLydHSpTdJ3hN4kDVWxgEICHK2fzMIC0j7zWSAQQPfD78H+f/dEJGozM9OYmppGa2urKKPtBDnEuA4luDlY72h8KpE8yMu3gigt0Je7ZgoVVSBUKchUKFaE2ljfEOBmYiFTVINiS/GlIF2kPqULSDM+nyGURqkpVJjEju8GT350cxB/O/iHYsx/f/jDOL4vqpabX5jHuet+NNYVxJUFlylnu5W6pL5ptgtl7G80KrUIY+ywRvabWQROH473O+L27fjJlOevYnBwUFQqo7mzbAQybKrprzo3N5UM+8kUp0RQprIw3p9LHmdx3ZqDznNmZcMCNYQ2mSlbSLeFoK4kVqHGvqzIRnUM3wtMOaInzMmTJ8Xr169fF+pKUZnrxg088sgjwgiY8IUlr6mukYCGiiL+zp8EOabykvbrwbxoImAicB9HwECZ+/jimlMzETARMBHYrQi8/e1vFwvAb3/7265Dvtof/cO9MMv5iW2i9CW7SkZ3UC567YaZ7CeVE1zA15REFyh2FYVT+lJfXx8m5rJw6mjU1NZ+/O1CGft+TCViC4X0C6eb3av4N2/XH9ctfSmRUsYNysRsGx+Dj3Dm5ZdxM6tZzPXgxEVrzj4vQq1tuN7yGEJV1egeB9ps5bDbwildbp4ybtt0qUsyhm5ARl737frNSFjD/exgpbHaC98//hN83/2uOHTn//NJNDy0P3Ip6X0hTVzdwIvbNgIZNkegM6IHOkwpImCqK48HNlScMHWJJa1FGtQmzYU3w541G+K16eVcAWy46I2YC8vy3TNpaKlNE7459napZxZf7flt8fLbm96Btza8NdLl1eszyEmdFt4h9sYY9I4EBERSm6zKtVM/GTmGG5BhH1UpY5+ThDK6z5SuQT/S0uPhg+w7swScPqQHNlLJV5gxJxSFrW1tMZDqtVDJcJ6JoEwiE+DljRBU1Yw89/KonVQkdNPT08JHhioYmvfSE4aVlwilhoaGBIihETDfMwQ0fK23tzdSGlsCGgJDpjgR7vBfIvCvu3bmNRMBEwETgTdyBAyUeSNfPTN3EwETAROB1yAClJTTG+Ctb30r/uiP/sj1iIMzUTXC1FL84o6gJhGQ4QESQRmZGqKDMnKCPYMBsUCVrXMgWg67u38TWekhlBV6Y1IYQgih83YnljZKcPxgNEXDftJ3A2WcSmXf6FrByMQmKsviKxbx+JybzuSX23YNysgTDQVx++wgDvW+AFy+DK8/VpF0s+ZBtBdvIHjiOEIHDwJpltfM7TuWeTIX2y37Y89DKmB+GqCMej0tf5Hofds3vIUUwseNDfQ2nkHdAzURUEGwd6f/TtjEleWwndUwiaCMm4omkS+MXXlCsMR2ZzS+WlFT2HeFsJLqmorCdQFq5D/CGvrWzCznojh7SXjUWF41VhlvLpj7Jzz4s9ufFDDxRMUD+MVDvxgJ4fkrk6A6hB4h9kY1FZs9TVC+f3uHAjHlrlVl2t2kLvGYMn3JPqdEUKZFMQu273vhdhDlRfry3SxDfvpgCsbGxwWgaGxoiNn9tYAybkCGk6FSZjehDKsn0QSc5a1Z5lqWvaYyhobpJ06cEIoZ3mMEN4Q2VMucOnUqBtCwfDgNgFmRiWXmTTMRMBEwEdhrETBQZq9dcXO+JgImAiYCO4wAFxj0CPiTP/kTfOQjH3HdW4Uy9o4S0lCGn5kSVdHQmNLetgNldgJkdItFLmxpZKs2fyCAqalJ5OXk4XBbrB+E7OcGZNhHTV+yH5dKGTcoc0BT7ppjfO/Hc5hf8murK3W0ZO0+lAmXw25tSEP39Wuom5tHzu3b8Ny6BU8ggJuVJ3Fw/FVxeqG0NAQPHUTw+HGE2tvROWKddVtD1BSY/5cLdAFs6mKBDSs8sSWrlHGrysRxE5kAq1DGe/4cUr7+dTGfznf+Curfckj8LkHCxMQ4snNykJOdg+mFEEryPXFeNrK/m5+Mm0qG+yfj/dIzFIgp1yxhjZyPLC8tQY11pULY8vvRPbCJ8oJ1URlKqmzoXcNGhc33l7+Cmc1pFKeX4ONHfj3iYXPu8oQoS60rY8xrrvNtErG9YwEb6euiqpfENRvyoz4My9pspdXvJnVJPab9/UmljBOU6eZ9a/MzUvd/tSskgM307Ax8Xi8KC2KhLhU4bqlLHEuWxrbP616nLsnjUSXDZlfK6FQyBHmdnZ2gB9eZM2dEWhLbkSNHhIcMK7W1tbUJb5mCggKhgGF6EyHfwYMHYwDN+Pi4SI19/PHHYyq82eNg/m8iYCJgInC/RsBAmfv1yprzMhEwETAR2KUISHn6M888IyTobs0Nysj9xhc8yAubUVI1o2vr68EYk197H6fUJdnPrpKx78/Fos7ngk9sKbHvHKlE7MLVGoFP8l8PKEPQo6usxDl9/yfzWFgKoF018g2fcEdTpjD63Xb6khIoAqv6aoj0A1ZLyczMBFZXRVntzttLOHjln+EJxaaohdLTcPPYO9DWlofgwQMA91GarvJSV79VjYmNqS52I1+5aN+pn0x0TAv6SdNf+70Qo5QJBZH6+c/DMzYGpKXh1kd/D40NUfPaLf8Werq7hYnr5GK2UNhIWGMfl0DkLSf1qTBufjJuKhkew904NxbKqHPqHgpE4JF9zr3DftRXeNFsq1IkfGs2NgQsu7D417g8axlCf7jyI0j3WdBtajEHlUUbwlMkkhKVlo6UFB94vd2gjM5ol2NGgM1+lkGPh7Y9Q1t4+yPxpsLcN9nUJbHvXUAZXheqc7q6uwSQKS2NpiH2jYWQkemcFjU258PPHHHwENqGwS/nTpPf1zJ1iffG5cuXhcqKKhh6wtDwl146TEVqaGgQ7xNZhYm/s3off9IUWAU0TGliihPLYRPamGYiYCJgIrDXImCgzF674uZ8TQRMBEwEdhiBb3zjG/jgBz8o5OnqQsM+zHaADPdRoYxuKjeGvEhFvIFvVVEUANwrKDMzM4NrXcsoL9+HVtsCVVYxut27DqnskPOXqhA3lQz7JquUcYMybtDluZcWsbDkR3tj/AKW1aNo9OsEbAhlKks3xGKJT7lV801h8lu6Be/lS/BevARvT0/kUt6qOomO0VcQ8vkQam1F8MgRBA8dAvJyxSLdyTyZA3Dxry7U+X/Z+kYCMaBMhTduShk3lQzHVqGM95WXkfIXfyEOGXj0UXQ9/N6Y1KaVleWIievQVErMNvVeJlyaXoCjWa/Hu3M/GY7vBmTEdptSRp2TCmXs7zsqT5iaRSBkb5NzVsrOWOgs/vrWX4nNHz3+UdTl7MfK8gpu9K6itsxKjWKaCtMd2Vj5aWY5D7XlgUg6VEZ6OlJSU4VtDcGLG5Sxv8fkvGSKnC9Fn0bk9fqSTl3iMZJRykTLiXvQ2dUlUnDy86ImLIQyTlCQxxyYBDIz9F413D61ZFVdcjL5TQRkOMZupy6x8hJVMEVFRWhqaoqUvS4sLBQVmaiYIcg9d+6cKJdNaEdTYKpkCG9UQHPt2jVRyenhhx8W1ZpMMxEwETAR2GsRMFBmr11xc74mAiYCJgI7jMBnPvMZ/I//8T9A/wA3A8btQJlEQIZTG572oDQ3WgpbLlrUadPwtCwvgLoy/ckkq5QZHRtF31AID5+ocIzSzd51qOkUNOeV7VbvGloV89v2xozINmnym0z6UrJQ5lbPOjpa4sty3+xaw/iMBTwqy2NTiWR1JUKZ4rxFLCwsCE8htcVVXpqfFwoa/ru9WogDoy/H9A95PQg1NOBWx5NoPVmJUHF89Sk7kLFfAHv6CJUzshHSNYa9U/hac3V0wZ4odYn9RfpSMIDU3/99eCYngdRUbH32s+hZzo0BL7OzM5iYnERba2u4Eo8eDBDKqClR9nN57lUqU5zNepNNXbLORa8+2w6U0d30z57fFL4vc+tzeKb3GdHlYOlBvPfkcVztWhLVdR4+XiHKGAeDIWxtSXPhTfQNh1CUsyAMhyWs4WcIfWumFnLQUMXfLe8aqmzk54sANuGUNvucCGXcKnT95OI69mkqBbU1ZAgo6ASC3FQynINb+pJUyayurQl4TZUIAVTk/twGlGms1N9L4jNxxgNWlJtY0F/b+XUfKhVozX0qCmIBWyIos5PUJY5PzxiCFX42MD2JnjD0kCFcuXr1qgAsLB9P4ML0JqbBUnVJPxleaxXQENxwDCpu7GXcd/h1ZbqbCJgImAi8ISNgoMwb8rKZSZsImAiYCLx2Efj5n/95jIyM4Nlnn33doIx6tnfGrQojfWP6CkZb6xbQUU1+1f2dUpfYhwuq8blMnDrsUnnJBmXUsalakSCGIEVtt3vW0BqGNB0KrJF9aPTr5Cmz21CGxyR0YXqTvfEcJmasGGakLov0hOIiC6JIRZBbOezOziV0zN+A98pVeG7fgscfBWy3q0+hffRlhCoqEDxwAMGDBxGqrwd83jiVjDovLojZnDw9hFKm1koPkaoFuT+BTVPYm8SuVlBVMr7nvg/ft74ldgs88QQC736PSKdS4cr4+JhYXDY0NMZtU+frBmW4jU0HTzhX/uMCXG2qWa9zeWnn1CWOlSyUkSlIvA8+/fynsbK1gvqCBryz6mO43beG/Ix57CuPOmpLJZRq8kvxjH9rS3jV0GCYkObOGFCcvSgUNqJ5gLTUNAFsxmcz0VSbEjEaVlVablCGFdXsXkYyjoR4/KdLSxTAZhdSl+bm5zA2Ni68VLxKFSs3pQxVMuJ+cIAyBDJs9ntCvT8mFn2oLY1NJaR6RrbVTQ/K8p1LZbPf+lYIjWWxMJyv6/xk+Prs7KxIQaIKhgopesKw2tLY2JhIeaT5L0E+KzHxdSruaArM6kwEvRLQZGVlCZUN1Tbt7e2m8lLMO9/8x0TARGCvRMBAmb1ypc15mgiYCJgIJBEBPt2mDJ1PQP/7f//vriNcH7ae9ObFr/Mj+yWrlFEPLKGMbjIENUxzqSqMXYCoygM3KEPjSlF56YC+8pJdJWOfgwpl4rZ1r6GjKQPXbbCG/W73rqGtMRM6WMPtryWUEfPp2xBwqae3RxjaShNXpjtNzAbEwmlfaWyaQVu42hLjG1kYr63De/MGPFevwnvjBjpLjggoo7ZQdhZCbW243fgImh+oBLKz4y5tIpNVFcrYdxbbwsoZu5msqJBU5YNnZQntX/4ca0kDOTnY/K3fQu9CVpzaZWCgXyhCqqqq7wrKOIEVzt2egqT6v/QS2FREF9tqCfBkU5d4TJm+pHtPqb4wf37lz3Fx/CK8Hi8+//gXcO36EsryV4TnkGychzUmfZui6g8Vlqgmv4Qy6wLUhIHN5ib6xzwoyV2KjJmSSkCTLvxGRqbShFKGv9tTmNygDO9pHbCRiqueYT+abEa+ssT7du4/+smMT0xgeWlJAAbZtpO6tB2VjNOHL4EMmx3KqP1nV7yosH0m2sdbXPMgMy0e3LRV6GEOvbdYTYk+Y8PDw5Gy17du3QK9uU6ePClADSEmqyoRyBDkPPTQQwLyS0BDxQ2VMseOHUNtbW0S31JmFxMBEwETgTd+BAyUeeNfQ3MGJgImAiYC9ywClKKzisZnP/tZfOxjH3M8zuh89Mn+rPKEVu4gQU0iKMPUJTZ7+pJ6YDcow36EMrW2tCbVm6R7aCuS9kQfDdlYaaa7uxsboUocbnWovOSikuE424EyuiByP6Z+6NrYxKZIx3Ay+nU18nVIX+JxnJQychsXsFx0le/bh6LCKKSKgS7hCd8OV9KZnLUW5Pb0EZFusrWF7ldG0T50Ht4b1+GZm4853dsssz36MoL19Qh1dCDY2opQbR3g9SRMHXEyk+UBVChjjy+3Ne0Lof/r34dndlZsDjz0EEL763FnlOWafTGVlSwT1wKUlpbdEygjgYZjChLn6wCYpFkvz8FeDjqRSob7qO8FNU4qlDk7fBbfuPENsfnDRz6M1cFy1FcCFZXx6X68v9SqWvYxpWKl3V6lK3wvNdX6rLLdm5sxwGZw3IfyAkuFxlQXWcI7PSMdQxOpAmwS4ngovVGaE5SR9zt/tjXGmsxK1VUv415jg5DhilCyD2NOVQgNc2praiJHfi2gjBuQ4US2C2VKc2MBTHWRHshQNcXPSqpiqIJhihI/PwlWXnnlFVD90tHRIVKa6CVDBQyVMbxehw8fjgE0LKPNstlU0DCFyTQTARMBE4G9GAEDZfbiVTfnbCJgImAisM0I8A/vlpYWfPOb38RTTz3luJcKZXSdCGomF/mE34O0cDnskpz4P/h1fjL28ZKBMjELwkE/Gio8kRLNchsXf/1DS6irzEZHg17u46aUkUbAqo+MetybYaWMLj7cV5dKxL43e9Yjfhz2fccmt7CvNMW5utJdQJmGag96+3pRV1uHbEW9ooMycl6spGQ38pVpLDSMXVoJRSr8eObm0DpxWShoPHfuoJOpTSMXYk8xKwvB5mZ0Nr4JzYdKEFIq2siOiVQy7Kd6zKgHoEqi7bmvw3vxong5dOAAtn7lV8TCWgCbap8wAmbjQnRyYlwsHMfm0vGWU7FePOq4idKXkk5BUqCM/V4geOR87elb7Edg01Dp0/qpJFLJiPiFU8Pm1+fx2z/6jCijfWzfMTSuPokDTVko1ngEqVDGPtdbTDOqTxMpQ3Hn0b+Jn308R/tZw9SlUDAkQBDfrxsbLOEd9bAZm81AeeGqMKWmsiYCbNLT0T/mxcHmLG16jAA2NiCjTkDc8/VRYKNWhLozFoykRBEwZGRk4OShqGfS6w1lCGTY3JQyVMmwbRfKUN1E3ximLVEFQ6ULDX/pL0OfGSpe6urq8MILL4hKS/z/iy++KBR3rM6kAhqmOhFmPfnkkyJ2ppkImAiYCOzFCBgosxevujlnEwETAROBbUbg29/+Nt71rncJGTr/yHZqiaAM9yOUyQmva8YdDCvX10MJVTIcy630q04pI+ctF4GEMvZGw9IrnYsoKSq1PWO3etIgNBGUcQIy3P9uoExHsx4SffO7c2jT+NOICYeFNzqjX25OpJSpKt3E8MiwgHIpvmg5351CGRlnQgO7QWvnwKa1eWMDff0baJm7Cc/4uEgjahs6H7lEnTUPom34gjAIDjU2ItjYiFBDPULl+9AzEnQsu+ymksHaGvq+dR5tZ79phaukBFtPfxLIstKnJJSRk1hbXY2YuA5Ns4KQcwljbnIy+rWAjd6w1TUFyQXIcI4Syujeo4RlHq/DfD3bU8nIcb904UvometBeeAhnM4/jVOHSoUawt62A2V0c2WKnNenjw/Pwcnkl6CHsKCugmW8LVBDDxv+HggGhE9NRdF6tGx3elokJerOCMBqZLomoaIKZdR+VBJxG4/B9MfKykrMrEQrLw1MhNBYHVsOW0Kue+Uno84vWZUMx3BSylBBeeHCBeTn54vKbLLsNavzEb4cOnQIubm5okw2lTEEmQQ0VMxUVFTEAJobN25gbW1NpEGZykvaW9C8aCJgIrAHImCgzB64yOYUTQRMBEwEko3AF77wBfze7/0exsfHY0oi28fbKZTRzYegZmzWg9z0WLNJtYrIbqlktMcfHxcL8dNHo6alsh8XmGxcoNnNYuUiMdnUJY6bSCnjBGVEdSWNWS/H/PvvEdi4GPwAjvvyfEvyl4QHBKGMmgqym1BGxldUXpLVdgIBdF2ZgpdwZmICnqkp9FQ/gJaRV0T31sEorAllZaHz8FNoKd5AqKrK+kdT4jCA0EKZ1VV4X3kFvVen4FlfR8vgeYQKCuD/2MdilDh2KDNPE9fRMWHi2jsackz3OXfdj9JCPVSwlDe7D2Vkep5jClL/liO4+pez69BVe+J9raYuyWv148Ef429u/Q1K/CdxpCQPbzvyr5GWFpvaI98vThWUpFLGCco4mfV+5/nliNJK3ZfvASc/mRBC4v21teVHbbk/AmoIbfwBS6kzMZeFmnJ/nLqGShuCMicgw30llFlbXxMGt/X760UpaDZRlakuNjZ3xqNpisMzXm3sJdCTVZecPr9300/GrpJxgzKMHRUxrDJVUlIiSmMzdYkeZJcvXxa+MQQtV65cwenTp0VFJqY1UVXD1CYV0BDuEOpxm6m8lOw3tdnPRMBE4I0eAQNl3uhX0MzfRMBEwETgHkbgF3/xF8Uf1ixf6qQM2A6Q4RRVpYxuyqOz1kK2KDs2rWl4Jtp7aJIVWwKoLtH7r7ipZMQCKpy6pDv+wOAAxmaYelCijago02tbYN3sXYv07ezbiFkwqgvLRCoZDuKWvpQMlLnVpwc2XKB2CTPeeGWA8JEJA6i8jBmxmFJNXDnPew5lbNHv6VsHpibRNvoqvF2d6PTSryN6/btrTqJlWAE26WkIFRUhVFiIrrIjaAmOWCOuropy157RUXgIfuoesoBMdTX8/+E/xJXptkOZifFxLC0vCxNX+zZ1yk7bmAY1NRfA0iriFuIS9CWrlHFTyYj73gXK8HraPXlktaueAT8aFN8ljlVVvYnf/tF/RuHmcaRkDeM3H/1U3GdDIpUMx1HLyqvxo1LGCcrowKdUsnRpymh3NGWJoZ38ZKisoZrmdt8mqkotVQ3/v7W5FZnS1FIO9leERCpURnpGRGnjS0lB94DVj9CGFYVGRkeEcsTntbyqdFBGPVemNtn9f7hdKmjG532os1XiUvfPykpxNfhl32SVMk4qGY45Pz8v/GKogmFaHz1hqHRh+hZTXukPQzPf3t5e8TuhPg2A+fvKykoE0FBNQ5UNP2MOHjxoKi9pv3nMiyYCJgJ7IQIGyuyFq2zO0UTARMBEIIkI8Kknn3LyD+avfe1rjiNsB8pYfjKIpC/pBiOUsQMZe7/BKWBffhD9ytNmtc/mhj/O5Ffd7gZlaOK6uF6MY+16s0kdlIlZTPatR1IrpL+M3H67bz3ytN2+4HRTyXB/esrsJpSRi1RdqhUXxF0Dm2itz8D09JRIJ8jPt+LBRXQklcNmzirPU+cpI7fp0pfUbU6qCvq+NKtVcdbW4Om/A29fHzy9fej2l6L1zkvorH0w7rbqrj2JlqGXY9Q1slNn4yNoas9H4MkngZTY9BLpy6IqT+h7wQSgmtrapKAMjytKMtsgh1oRisdVVStqdaXubfjJ6N5XbkCG/XVQJhIjG4iU6X9nR17C8nQJprwv462Nb8Xpjlh1WSIo4wZkxL3mcH/tRI0m71Vxjnd4T0c9gCSske8FcUzFU4am2/RLoWdN94AfFcXrVilvVucKN/rWzK7kC38bAhtWEVpdWUVzS3NEWZYslJHHGJyEqA6ma1TRzK6moKbU8aMZS5s+ZKeHkJ8ZQnmB3rSXfjI7UcnwaAQuTGmlIoYgRpa9ZkUlApsHH3xQmIQvLi7i1KlT6OnpwcTEBM6cOSPMgSWgIfRlihMr/Nnhr/NZmS0mAiYCJgL3XwQMlLn/rqk5IxMBEwETgV2JAJ8i0yPgP/7H/4hPfepTjmN2jVteFTkuHo2JVDLctIf0yAAAIABJREFUPxGUIZBhI5TRNYKaO+NBqOlO7Le/PNrbCcrwXH98YRiHW3KFT4KuuUEZqlLYHP0u+tbR3pCBm91W1Ri1yaf4uoWoG5DhGG7pS05KGe4nS17rzpOVlNoa0sSiqqysDMVFxbgVVs/0DG2hdX9shRqOQaDCxb+IgbL4VcffNSijDCrKGYdCaM6YhWdkxPo3MQHMzsE7N4uuogMCyAhgk5KCUGYWQkWFCFXsQ19KDRpq07RpSDq1S093t6hEVlZevqtQRp4OKySxSWhjN+wVZr3hBXqcsiVs8qu7njtVyahjON3zffN9+IufvICZ1Fdwuvo0Hsj6NzGH7ryzgabaFK1PS7KpS7tppK0CG8anJQbYxKb8qSa/BNWbW1uRalB9oyGU568KdQ0VI2xUFKalWSW7pxZz0FxnlfPma6rakCoZ8d4Jmyjbrx2BDJsTlOG2sTkv9rsoaaaXfaguDmJGUxFPHm9lSw9ljtbGmzBzH54nFTAsif3oo48KOEMgdeLECVy8eFGcJ1Uvr776qjDuPXDggDAF5n5Hjx6NATTT09NiG1U2OrNo3f1sXjMRMBEwEbgfI2CgzP14Vc05mQiYCJgI7EIERkdHUVVVha9//et497vf7Tji5CIwv6o3EZWgZregjBOQ4eRYBYXNntoklQis/uPfDKAkzFxURcLq2houXJ4UqUtOFUASQRknIMM5EZAQyuga1SlUrTgBm3e9RQ+J3ICMPKZTSlQiKNNY4xGLp9qa2hgTV/pnxFVXCpcwFooWW3qXmu51r6AMF/9OTcyp0iPAjVYN42DWOzUXxOlDUS+QUDAoIBVLP08vWyauTv4trqlNGqWMnLtb2Wr26R7cElV+dNWVegb9eOvD8bCM+yULZXi/s9lT9sTCPBTCf3nmm+j3/BA+jw+feeSzKMqIlk2XhthyDPX6jE/78dgpy0zZ3naauiT3Z3ogW4eDWe92PZtUWCNiLu53K646ZZn0k6FvTW9PrwAxWdlZQlUzOOETnjWlucvWND1AWmpapCLU1HI2WmpTkZaWDp/G2NhNJcPhCGTYtgNlHN8gAOZWvdinUdHsL4n19pJjEK6wBDY9Y06ePBlT9ppprjQ6ZsUles7U1NSI38+ePSu8Z1idSQU0AwMDwoeHlZekD4/bXM02EwETAROB+zUCBsrcr1fWnJeJgImAicBdRuD73/8+3vKWt4g/ujs6OrSjEcg4NRXU8EltSnjhUZgVr3Rx8pNRx5apS07HI5Rx8prhPixjK1UzXOCqjVCGKpC3n8mB12GhniyUkSqaRFBGd15cpPLpvK6xHPYTD+Vqt7mpZLhDIihTU7aFwaFB4Z/ChaRsOijjtk0uynuHA2iuiy0hrSoEYox+bWcUl76kbBfpQA5QxrXykqyuVKMHOnbw4d/cBJ/qF5eUIDVNr66R07oXUEYCGad7X6qUnLbblTWy305Sl9Sxb/Ss4sbwDbyw8Rfi5TPVZ/D+jvdHurhVKfvBuSVUlMaa38odqSTZjdQlda5SYZOUZ1Nv1JeJ97698f5r2Z8uQGXn7dso31eOosIi0U2mLvkDrAYVrQQlq0JNLWajJHdJ9E1JTUV6WF1DsJOWno7JxQw01+jjxH0SqWTYRyplnO4Lvq6DMk5Ahv39fr/4TsjOzhbfC/SEoeEvqyoRxFAZU1hYKHzIqJihAoZ96LVDyK8CGqYxLS0tCcWNqbzkdpXMNhMBE4H7PQIGytzvV9icn4mAiYCJQJIR+NM//VN84hOfwNTUlJCk65oblJH9p8PS+aw0S00ztRRfmWZtPd7g13683YQy9rEnJieE30dhvrWgsrfAVnwVFbUPIUii1CWnyyCVMrrtbtvE4rZEv2jjk/tkVDKcA9OXygqWhVcEKw2plZd2CmXkOQnooqhougaiqREENnnZHpQXW94ZdoDwekEZVQlDE9fRkRG0tLbiuVcC2pQS9ncDMjw3nadMJEZDAUf1jRuUkUDGCbz880/W0GjzseExeb8mC2Wu3F6ELzCIb899G2MrY0It81tnfgulWaWuZeN53Js9q1rVGO+7231rcelxHc2WWe9O/GTU99JdeTYpUMb+/uR8O8Ll6G/2rYnPyeLikshn5Z3RYEQ5pvts6B0NorbMHy7dvRlJiaLPCkHs4lYhyvJWhPpGpkNRVZOeniYAxticL6FKhnNm+pJT26lKhuPQV4fApba2Fvv27ROQhZ4wrJzE9CV6yPAcLl26JLxleC6ssHT8+HFRJlsFNKzIxPPjPik2XyfHSZsNJgImAiYC92EEDJS5Dy+qOSUTARMBE4HdiMCv/dqv4bnnnhN/aDtVXtoulJFAxmle14ZSkJ0av3goy4u+di+hzNDQIEZn0vHAQX3lpX/80Yp2IS7VHslCGTfowli5AhuXlKhvP7eIVod0Kaby6FIxJJBpb0jH6Nio8IloqG+IuWS7BWXUQVnph2kcETgxGOtlwYpaTNthkz9l32SVMgKeOKhkOLYdrkxNTgoD0+aWFkfwwn36FN8X9Rzlse4VlHFTwnAeOg8avt49sInG6li1kExPc1OGvXp9FpnecWwUbeCrV74qTvVQ2SH88tFfdoUyTkCG+98I+y3ZYaKsBnard00YUMt2oMWCNWyJqpslo5KR7z9HuKlAGRraDo8Mi/LxKT4rniK1qSFdm242NR9CaqoPZUXxIJKpYXfGAkKRIvxqNjaxubkh4I1UzdFkeNNbhsqiTZH+RLBhwZqob02yKhnO3U0pQ2XLuXPnhAqGIEaWvZ6bmxMpfrLaEk1/+Tth1Y0bN/DII4+IzxSqbKqrq7G6uorZ2VmhnqEfjdN3zG58l5kxTARMBEwEftojYKDMT/sVMvMzETARMBF4nSLwxBNPCIn6X//1X2tnsB0gwx2plEkEZcYXvCjIjIUyMqWJY4zMAIWZlsdBZZE+nWcn6Uv2E3rx1VHU7wPKyxVXYKUTF1iybLF8mWV02SZm/AgGghGlB19TVSHb8ZPRBZhAhs0JoLiNy6f47Uo1GTk+TVa5EJc+Gepx+TRf7NeQjv6BfqSmpIoFk2wyfcPJyNcN2NiVMupx7VBG3SZSkMLpSfRNsbfekQAaa1IczXqbNQoRjuEGZXSVl4aHh8Q1rq2rczf51XjGyPE4V7tpqzo/N0+ZREqZZNKTGAcBXvZHgZiaBtXZv4GmcPoM7wm1nbs8gZKcJTQ0NuBPX/lTdM92i82/evxX4VlodCx3nQjKOAGQG12WQbZUzfB3+f7g77d71tAaVq0cVGANt23XT8Z+b8nxtwNlpqanBGBobWmNeb84pWLR50qqZ/pG42H0yJw35l5pqKC6MCQUKIQzY/M+BPwB5KfPCWgTDEr/l6jJ8JavEJWFAZEKRWijS8tMRinD8tb0lKG6hefc19cn4As9qJjix4p9BDLcRqUMf+c+TGOamZkBTdUJYKiaIcyiGo+pTaaZCJgImAjs5QgYKLOXr745dxMBEwETAYcI8Iksn2Z+4AMfwOc+9zltr3sNZdSDjsxYFUJkRRL7hDY2Atv2k7HvGwwF8ZOXR9DRkInCgqhZqdpPB2XkdruiQF0ssg9LTMuSzvY0hmRTlxL51DhBGbEQ79+MlOdWz5GKBC7+W/anifK1BHK5OZZnDSFTIpUM+7lVXtIZxnKf7UIZ+3WTsINgg+Wi7Y0Km8Yqn3N1JRc/GbuJb19vL7Kys0W6RtKeMbaS1qpvzeRsgGtulBZYKX4xJcAVk1/dG/FujHydypDzOLwf5P3K+0lt1zoXUFXix8MPVGBseQyfP/sFhEJBFGcW4z37/hMONuqNfO8GyqhARp3Ljc4V8V+pnKGfTcx93buGtkarolI8sHEpN++SuiTioyhlWCKawESWdZYqGacvGBXK6Pr0jwNNtdFS2APhSkyy79RSCvaXR83VA8EA/Ft+lOSsRJQ1S1vZyPRMR4ZnyhN9aySkIahZC2Si0pax6aaSockvjXn577HHHhPKmOXlZWH4S8UMYQsBy+XLl4XSh40QiY2Vy7h9ZWVFlMZmSiD7EeKwyptpJgImAiYCezkCBsrs5atvzt1EwETARMAhApSiFxUV4ctf/jI++MEPanv1TwWRlR7vD6N2tvvJ6AbSqWTs/SSUcbpgP74OlOXGL8xryyxVjWryax9jfWMdF65M4VhbAbKyoikRar+dQBl1v9t3rAUJF7d2WMPXCWxa6tK0fjTJpi7JBbROKcNjOkEZMZ/+LbEY5NPtqupq5OXmCjWFiKFLdSU3YMN9d0MpY79u2zHydbpfCGz+1UP6akV26EJAKUxcy8sxs2pVwnKsvORWXckGZdS5MT6RUtgs821rjD1VNjqwdS+gjApkdDF8/qUBocSaWS4Qmy+PX8Lt2dvi99rQI/jwO2LT3uQY9wrKqKlM6nyvd0lgk619/93uXUN7YyYOtMZDJL7/nFQyPIYKZfru9CEzI1OY3Vrvayt1yantFMrYxxme9kCtHie3S3Xh8oYX/pAXlUUBBPx+bPn9ApJYvwcQCPiRmQ6kh2aRkuILp0BZZbzriv0CyPJ3e0oRoQxTkZjCRBUMy17T74bvDZr2sr+EMYRAhJhMX6Lxb3t7O65fvy48aegvw5LaVNew8pLT565jAM0GEwETAROB+ywCBsrcZxfUnI6JgImAicBuRIDmjQ8//LAwZXzggQe0Q84sB7FkVaKNaxLWJJu6ZB8wEZTpnwAqC2PTAO6MRdOcmNpUVRTdrpaRXVxcwOXbi3jwSDlSfNGn03IObkCGfdy8Nwhl3Eplc2HXRmDTF/t0X4zbv4F3PuZcXcmpmlMilQzHbguX+bXHmQv86nI/BgcGREUVLszUODiVw7aqK8WaDsuUGjcgw7HvRinjlp7EsZ18Y85e20JpoTNQVKELK+f09vairq4Oo3MZjkCGx3P1jNkmlIm7JoNbaK5JEWBL20LxnjGyX0IjXyV1SR3bDcoI75fNPlRWViE/34JUW4Et/OG5P8TGTCWy/XV4oL4OlbmV2uk63bcc1y19yU0p4wZlDrToVTuc3I2uFeGLomt8/733rcXabSqQoal25+1OlJaVorjI6v96QRk52clFH2pdxCeEK31TKSjMXBPAhilF/q0t+P0BZK5eFMPQeJdwRv2XkZEhoAzhC5Uvw8PDMfEpKCgQYIqAhpWZqIDhdwiruLE89vnz58E+VNNQZUOfJqY+ORnJ629486qJgImAicD9FwEDZe6/a2rOyETARMBE4K4j8LWvfQ0f+chHhBcAc//tjUDGqamgZnbFA5/PWqznZ+q9YBIpZQhk2Ji+5NR0UEbtS0BTU2odnwBBbUPjq1hdXcOTp3aeusRxkoUyEsg4nROBjmM57KktPHZSv9hMBGWcgAznQShTVrCC8YlxtLW2xTwp34lnjFo+mPFWy1YTMMhGIMOmGv2q8VA9ZexxclPK7NTIVx372fObMX4eG+trmJudw0PHK9A/7nFVyXAcJxUNU6wctylKGft5doWhjO4+YZwnZgIoK4oHTK1126iulASUuXJrESnBQdTXN4CLdNkGFwbwlR/9ADNpryA7NQtPP/QbKMmMQo3nzi5iYSkgSkirTaYUvdZQhkDmoAuwudm9Cl+qvmQ64/6ef2V9XlD50dPbg9qaWuTk5IjX3KAMVTJsTrDWnrqku+5OShnZNxGUYb/ZFS8qbCCbnzeVuUsixcj+j+BGbQQpPHf6TtEv5urVqwLgcwwqaJjSROBFU+CjR48KGKMCGhrIE/xQcWMqLzl9C5jXTQRMBPZKBAyU2StX2pyniYCJgInADiLw9NNP46/+6q/E00xdVQw3KKMeZm7Fg4w0H2bCZbHtUyCo2Q6USQRkOK5dKSOPJRUzEsrY5/Dq9WkUZC5iyxM1tVX7+LdYqcfhaXo4tcfJL8VNKeMGZWTakxNAef7llRhjYXW+oRDNgfWpE4lSl6iEIYjjgqyxsTEmVDuBMuqOdiUMIYNsfSPBGDWLHVrcCyiTsGy1DZ7MTE9jemYGvqxG0JTVbtbLcxHlsF1Sl9jnXkEZJ5PfH7+6jsWVYFw5bAkD7Ca/6jVzU8q8em0WGd5RtLa2gVWA1PZ3517BD+f/XLxUlVuF/3TqE0jzpYn/X+/SK2FoxDs2sQl4gH0lUQhyUEkpotHvbitl3KAMgQybLq2JrzO1yZdiweaNjXXMzs2irLQMPl8KpuaDqChNdUxfulepS+p1SBbKNJXHp4ByXIIWesPQyJcqGCpfCKDoCUOownSmmzdv4tFHHxXpSuxDBQzNfmkKTA8ZQh0JaJgay7LaTG9iOW37fbSDryrT1UTARMBE4L6IgIEy98VlNCdhImAiYCKwuxH42Z/9WVGy9Dvf+Y524O1AGQIZNkIZpzYw7WOF5rhWkhNVxSSTuqQOqKpkdPM4f3kcVcV+VFTEp1vQ+LZ32I+6fVFTTTkGF+JuKhn2uxso46ZouS3Meq3Frr195/llYdara1xcuaUuEcoMDg7C4/WgpromMsRr4RljT88RRr2yFLamilKySpmdQpnRkRGhCNhfX681+ZWGvbpy2BIyuQEZBln1lLFft0RKGcfKS6ysZEspI5STrat/M0bBpN4XblDm/KVJFGbPi4W5vdEz5ieLX8eVySti0/HyY/jFI/8eXngcoQz70ay3w141KQxGbvWsCt8X2Q60WmoU2bhvMulLiaCME5DhcQllDjRbSrWZmWlMTU+LlBwPPMKzyZfq/JnXPx7COx6NPQf1fBIpZRKpZDhWIihDlQybXSnjBGXk/CYnJ4WhLxUxrJzU3d0t4AuNfwlzCV/oE8N+TH/t7+/HwMCAgDUEOhLQUEHzwgsviBQn3kemHLb249q8aCJgIrCHImCgzB662OZUTQRMBEwEthMBLty5wKAB4x//8R9rd9kulHEDMhx4atGL3IxYKkPljNrGZj3IzwhiX4E+fWknqUtxJxMK4cVXR9BSm46isB+E2ofqBza7qWbnQNj8dnArvsxxGCSoJr+6ICZSyjjBEzcgw+MwBUlXBYnzEWa9tbHeL9xHVFcK78eFFr1C1IooiVQycgzdee6GZ4y9utLUnHUvlBV6d6W6kpy3Dtjc6esTaToVlZU7qrykVlfqGfaLSlCyqV43EkY5pTbtJpSRxyd0USsvqbCGfTr7NiL3ib0k+4svj6C6bAs1NbVxl5tQZn8t8MXzX8T4yrjY/jM1P4P3tb8PQu3SFIUr6s46KCO3X+9cjkkzkioWbufv7eExD9pgDbfT6NfJU2a3oMzo2Cg21tdFOpeIXf8m2puiaV32IPE9mJIa/x6U/YamPXjqtLNJcCIokwjI8Di61CW+7gZl6ENDwELowspL/JygJwyVMoQtNPg9duyYgDZsVMBQPUO4T4ijAhpWXmL6EvelWsY0EwETAROBvR4BA2X2+h1gzt9EwETgvogA//D9y7/8S/zDP/yDyO2nbJzlWd/xjnfg05/+tMjnt7dLly7hv/23/yaqYvCJJX9yH5Z2pTT9i1/8In7pl34pbr/tABnuJFOX3AKsgzJq/7E5C9AU5wTBxYiurW8EHVOX2N9NKbO5uYELV6dwuDkP2dnxT69F1ZtKZ0NYLpjVxbS6uO0Z3EJjdTQdw65ouBdQxgnIyLgJuGJT0Uh41Mv0m9oUjI9PoKAgH5mZWZBzTgRlnNK3eNzdgDJxC1umGNWkCMika3dGg3jLg3q1kGtJa7vvCysvdXaipLQEc2uWh8jdVl6yz9m6xyxgo1O9vBZQRo3hrd6NiAqL8Cbm/Ti1haWlRZw66BUVd+xNVleaXpvBfzn/RSxuLoku72h6B6r9j+wKlFGPee32MmSakwpr2Odm9wram7JxsE2vSkkWyqgqGfH50n9HGNVWVVrpj9uBMm31emjTFzYnT03Te9lw/PFFH+orvNgfH35x/HsJZZiWxMp8LGPN7w96wRw6dEikJTElqaWlBTSJLykpQXNzM15++WXxXcLvFhXQjI6OitRYgn8aCZtmImAiYCKw1yNgoMxevwPM+ZsImAjcFxFgqdHDhw/jkUcewVNPPSVUDjRb/MpXviJAC39ntQy1/eAHP8CnPvUpkf+/vLwsNomSqHV1Qmr+1re+VfzxffDgQTG2NPV8raEMgYxTI6gZmgZKsmO9EKqK1cpLUZPfuEVk7wpm5+bwwMFSpIY9ItQ+O4Uy6r5dA3601FqLKwk+5HamReVkebCvOCXSR92X/ZNRyrhBGWm+62QwysV/bVlALDLr99cjMzNTLDDZ7Ga9fG071ZXcgAzHuBeeMZzr5HwQZQV6mMY7wxGs2KDMFk1ce3pE5Zjxhax7WnlJV12pO6ywkfeR/f7lNd1J+pLc366UUcdVoYz9eFS7YPMO1gLlyLSVjx+b3EJFWQpkdaWhxWF86ZUvYd1vVRZ7NOdDeN9D+kpuO1HKqHNSoYx9rtcJbNpyhELH3m71rKAgLxX/6tEi7UcLAY+bn4xMXWLlpa7OThSXlKCkuESM5QZl+HniBGS4L6GMG+CkioatscqLwSk9pJ5bS0FtaexpqZ+H3KJTyiRKXaInDNUtTD2iCoaeMJWVleL7hQa+BDJUvfD3trY2UYWJKUrczu8UFdBQZUPvmccff9xUXnL8djMbTARMBPZSBAyU2UtX25yriYCJwH0bAUIUPn0kPFGbrKJE1csnPvEJ7fkzXWlkZEQ8ySSgoY8MJehUzFBmzsY0Jo7Np5oZBdVITUmBLyVF/PSEzT7Tlae72/GToUqGzZ6+pE6SShk3KDM05UF5frw55cCENQp/7iuIbreXib3auYAU/4hI1xJOo7bmBmWkYa1j2okCZezjMv1JLr5u90V9PmS/8ektPHpcn+rhlr6UCMq4ARkeu7xgVdxHjIfPG023EWWtlUo9qiJImPWG4RPHUOORSCXD/k5QIVnPGAGQHIyZeTxRDlsDbBpp1muDMoSVQ4ODaGxqwuCk73WpvKTzXOJ5TIarLr2WUEZUXgoMiYV2Zlbs/XmzaxWEFGqbWJnAjwZfQCAYwFzGRfzrhrfhbY1vAzyx77V7CWV0H3oENl6fswKOxrPbgTJ+/xa6urtRU12N3Ny8CMR0Sl/aDShDIOPWxud92K9kBEm1odxnddMLf8gTpy58uCVqwK0bn98HVMEQ+PP6//jHPxYKS1bnY6lrpi5ROUP4cuLECQH4X3rpJfG9wepMKqChQTAbob+pvHTf/lliTsxEwERgBxEwUGYHwTJdTQRMBEwE3mgRYFUMKmRY3pqqme20z372s/izP/szYfg6MTEhAA0r8fBJKavyBL0Z8G9F/4DnH9XpOUVI8fmQmpoqYM26Px0eXwZy9FxBTCNR6hL7JAtl5HkSysinxKycY29dg+vITZnHAwfLtKFJBGWcgAwHU5Uy9sFVKBM3p/4tAUB0sIZ9u4e28PY36QN7N1CGJZQnJyewsLiI5qbmmGnZoYy60e5TE1tdKRCTwqXGy00lw/HvBZSRPi+669YzFEDfaCCSSsQ58H5nus6ZE1XoIXzSGA6Lub4OlZf++SdrMT418ppIeOZaqt3mKaNeTzeljKi85BlDS2uLUEyojVBGByN+eKUfl27NYjbtkujeWtyKY+VHBQQl+EgEZLiPU+nq7ShldG9sqaLRbaOyxg3Y+FJ8EZPf5ZVl8TnJz8f0tPS7Sl3iXLajlHGDMgQybCqUsZ/j9JIPVcXxn4UtFfrKS3J/psi++OKLQgVDOC/LXq+trYFKzTe96U0itenGjRtCsUkjYH53ELzQyFcCGqY28Xf+JMgxlZe2861s+pgImAjc7xEwUOZ+v8Lm/EwETAT2dAToh8E/opmm9PnPf35bsXj/+98vDB2///3vx1XFWFixYEwwEBAVaTb4b31d/Nzc2MAmYU0oBG9GIdbX1+HLLBVPQvlPKGt8KWIxR1jzWkMZ3cm/fG0SwQBQUGD5hahtcjaAotx4k1/Zx+4no+5LIMPmlHayHSijmy+hy/iMH2VFDtVdgiGtyS/H0vnJqOdCKDM0PIRQMIja2rrI4d2ADDs5mQeLbcMBNIdVK12Dsf4v9H2hOoVN/pQHdQMyclzVLFeNlZtSZqeVl8ZGxzAw4RULSDuwUeftBmWkSbET0Em68lK/PnWJ17lrYDMupvbqSqrySY2fG5Q5f3ESBVmzaG5pibs9naAMOz5/uR/fmfpTbAQsj5ojZUdwKvPn4fOkCO+XNqW6ErdLHxi7ya96UAIZ0Vcpna1udwMviaCMkw8N05pYtaq9KUscSkI7y6zWg5TUlIQmv3ebvpQIyrgBGc45WShDNSZ9ZI4fPy7Me+kJw8pLhFLDw8MCxPT19QmlHQHN0NAQent7I6WxJaCh/45McWLKk6m8pPukN6+ZCJgI7LUIGCiz1664OV8TAROBPRWBD33oQ/j6178u/pimD0CixlQmPr1k3//5P/9nXHcJZZzG4f6ENQsrIWxsbmBjw4I1/J3bREsrFmlPm74CILAVSYUqzfPE/IGeSCXDoZzSl+T8VKWMfc6cz7lLY6iv8IlFt7197wI9VvRnSvPfRFDGCchwxLuBMk6L6RdeXcfSchDNtjLIPB5TXLYDZXp6e4Qx577yaP5DIpWMNb6+mowKZeyRFIAkXKnKbn5LVZOsVqRbhKr72sdNFsrogA0rxlD9VVVVFZfaRGWNbCzfXa8YQsekcNnNg20T3m0ow+HpSeRUDrvrjq0UdkNspR83KPPihVFUlW6gti4K7eTpuEEZqmGyy6bwvy79LyxvWjClLr8Ov3z0lzHY70VHswU52FQPmJtdK2hXth1STHsTqWQ4lhNcSRrK9KzFqHbGx8ewsrqKxoZGUSa7Z9CPNocKU+2N6QJgJjL5TeQp83pBGYL6rq4uUd6aJbDpCcOy11TGEMAzZYlVmJjmRHBDaEO1zKlTp2IADdWbr7zyiqjIxPeVaSYCJgImAiYCgIEy5i4wETARMBH4KYsAYcHGRmzVE6e56wjOAAAgAElEQVQpUvrNJ4+69uUvfxm/8iu/go9//OP4r//1v27rLFnWlOlOv/3bv41f//Vfj9snEZThDotr1m6pqeq8QuKPdZ4X/y2spYkSqmvLMwgGLCn9lq8YKSk+S1mTmoKlzRxkpvhRWeTRStwJZNh0njJ8XfrK2E0u5Un1DG1hba4T1cIPIjfuXHtHgqiviPeZkYasvVyI74vd3hD2e0iUusSDOS2+qIZxAi+u21hZqU5/L9ADRmfWy3k016QIwESIdLuzU5h1FirKoURQxgnIcOztQhl78CVYUcGH7ENg01DlE2anurabUKazs0tUlSktLUlQDptpWpbqxw6YOB95X9jVPW5AhmO5Vl5yUMpwPx2UkbHiNtVbSK2wJEphh6GevRT2zZ41sRBvrkvRljFOBGUIXmbWZgSYGV+2ymXnpefhybz/gJ85Eg95uF2FJ9c7V2Iu983O5QjMOdge+/5NpJLhQM5VmVYdtzEGaioVQQU/s6qqqsXcGMsDLVHApE74hYvrSEnxYl+JHmCmpqdu2+RXe+OzMpPNT0bXT6eUSZS6xHLYVF3y+p85cyam7PWFCxfEdwYVmfSWYaU/elIxvYnm8AcOHIgBNOPj48K/jCa/dvN5p/Myr5sImAiYCNzvETBQ5n6/wub8TARMBN5wEeDT+fr6+m3Nm/Lx559/Pq7vt771Lbzvfe8TFZT4+3bNFCk3b2pqwt/93d/hbW97W9y424UysUAm/lRmlr3ITmemU0h41RDUiHSoMLTh78uBPKytW9DD5/MiNZWpT1YqFH8PBHyoKIw1FlWP5KaSYb9bd9bgX+pFQ2OD8IOwNycow37Sm0Qtl909EPXZ4ULcSTnhppLh2PcCyjiBlUh1JQKmCohFF00509LSI/4pyUIZNyAjY5hMChKvi5P57dRcEKUFHkej352Uw/b7A0IZUF1dhcnF7ASVl6JQxn4fEdIIE2FN+W5ZDtupFDbHIjTTNd4nTia/O4Ey6thSJUPVh73d6llDXsYMjh0oRGFRbLofgQybk8Gt8I0JK15W/av46uWvomu2S+yTv3IUjx/dj8drH4/z2naFK7eWBDxhH3u70bWMjpZsHGqPrTjHfm5jcjuVOo7pSzYo09XdJQBmaalV7sgNyjB9r92mSlLn/dzFgKPijP0W1rw4fVAPdOQ4iaAMgQyb3VMmEZThZzTNeaWSkp4wNPyllw5TkfiTqhf+zlLYBN00AuZPfpepgIbfMWNjY3jiiSeEGbBpJgImAiYCJgJGKWPuARMBEwETgZ+6CLDiC6HIdhpVDQQvanv22Wfxzne+Ew8++CC++93vitLG222svMR9adxoB0PbATI8DpUy24UybvMamwMyvWsRv5p1gpuwb81aqBirwQKk+OfFk2pZCYrApqrYI8DN4GTU5Fd3nOs9SwitDognvDpfg0RQRgUy9vHlQpyvc/Gstt5hPxrCqgq7z4jsu9tKmURghfMrL1jD8MiwKG2b4rPSndiYmtNoAwNy3tv1k4mLz7CV+pMslJGpTfZxec1gqwCk9uGicrvlsFdXVtE/MIDGhgYMTae4mPxa52L3xZHHVe8F+3x5XUJBPVicmA3gzBG98kneV/cKyujeL1dvLWFyYgJFhHbpsfMam9jEE6fj1WYcRwUyctxgKIjv9HwHF65PiZfmMy/hSOlhvP/AB5CTlhM5/HagjG6u124t6Yqpia6jE5t46rH4dEUx1zBc2g6UIajo6uoUKhkqPtyAjLheCaAMFWBO1dG4/5U7XpQVOVdemllJRXYmcLTBGVQn6ydDleO5c+cEsCW0l54whYWFoiIT012piqFS5ujRoyIFkiWzDx48KIAVAQ3LyvM75erVq0IlydQnpgaaZiJgImAiYCJgoIy5B0wETARMBO6rCPCPZSpcKBl/7rnndiwP/6M/+iP87u/+Ligxt1dXmZqLTR9g4HSpU7sBZSbmrcVHQVZ8lZBg2LdmeBrI9CxEFDZU1yxtFVjX0+PBsr8QuakrwrOmsiggnspyESCrfVy+NYdMz5R4ymtv1uIe2vQlvk7FhROUkYoIx0X6oF/ACCpm4o47ZCkudCWdEwIbl/SlRFCGKUhT01OYnZ1FawvLg1tNnota8lqmb3E7gU1TdVTJoZ5zsqlLHNctBYnXxg3KNFXrF65nr/uxvBqKUTDJ82QqlF1Fw0oyfB+0tbahd9St8pKzSkbG0OlecEtf+vHlDZQVOizCgyFHlQyPebdKGd2H4sVrc0j3jAolBNML1fbN786iZX88QGIqjw7KyH2feaUT35v/31jzWzmPuWm5+OCBf4cDpQcjChhHX5iwUkY3V0IZp/2e/dEsqioytJ/7Hq/XcT/uoKYvra2tQqgaGxqQkZ5xz6HM4KSzAoxzGxOpSx6MzsanXMqTXVj3obIoCm32FVifc4mUMvSMIVjhtWd6kix7TVhDyELAQq8YesowvYlGwPQx44MBfuZKQEN1DeEOx6DvjP07RntRzIsmAiYCJgJ7IAImfWkPXGRziiYCJgJ7IwJ8Svnkk09i//794kkmvTB22j784Q8LqTnl6Xb1yPJqbErD2kZ8CdV1iiu8aa5KGaYusTF9yakRyuiAjOw/MmuNUZobOweCGZkGNTqXgozQjDAZnlvLF/09HggVyHogC2vrm6jJm0ZFRYWAS2ppVjeVDMdJBGWcFuFi3zCU0Z179+CWADZSpaL2Iah46rSLcuIuoczIyDC2tvzi/pFNVBWq1afPsI8FT6ztPC+19Y0rZr2KCa6MXzIqGXHMJKGMtV885JCpaKwGpaac0aQ0N3UGTU2N2/aTsV/TRIAuGZNfKi56Brf05bDrUl2BDOdn95RR5+xm8nvh8hRy06ctaGdb9zv5yVB5wopFbY2xEET6srC6UmnVCv7i2l9gYGEgMpUzVQ+j1fM2HOsIQ1ZbYK+7QBd2dYMyVN8csnnQyOH/9p+m0NESVeqoh/WmWKk/cu7z8/MYGxtFa1sbvB7vTw2Ucf5UBaaWvKgusaDM5EL0vfBoe6yazz4GYS2/F6iC4ecrPWFo+DsyMiLAFH+nvw4rMbEKEyswMfWP6bULCwsRQEPVpkxxclIous3fbDMRMBEwEbhfI2CgzP16Zc15mQiYCOypCPAPYlZN4tNKlr62SrRGW3l5Od7ylre4xoSpHXzKSR+A//N//k9cXzuU0Q22vB7Cql//FDor3VoESD8Zt8lsB8rYgYw6njQBrigMIoQQ/Fv+SBoUIc3obBrSAuMRWMN9+dTWKt/tQyjkFSa+VNfonuYmC2UkuHACEhLK6GLDBT5VQro2ORNASYHH0eh3O0qZvjt9yMzIQEVFZeQQblCGQIbNEa6MRNUlPcPx5bBp1stmVxy5qWTYf7ehjByTP1Voc+HqlIB4hYVFEObCClhS+9GMOJnUJR4vGSjD/Qjt7KlLUkmlK4ct02LcgAzHdYMyL708hn1Fa9hfH4V28kZxM/mlQa9aXYn73OiyVHc3u5bR1pAp3qM3p27ipbVvIAhLvbFv4zTe+eBBHCo7HHfLu0EZNyDDgdygDOfqpLD55jNzwqdGtsWFBTClkuqPA81ZCf1kuJ+Tp0yi1CWqZKz3mvWe0TWplHHsgFgoI/u1VcbDdfsYLG/NakoELgQv9IRh2etbt26B6bYnT54UVZjW1tZEVSUCGYKchx56SIAbCWi4nQ8P+F1VW1vrNlWzzUTARMBEYE9FwECZPXW5zcmaCJgI3K8RoNkvq1k4NSdDYLU/K2ywNPRHP/pR/OZv/mbMUNsBMtyBUCYlVQ9lZFWmuRVvDOgoyIoHDbsBZQhknFrfWBAr07cEvMrISMf6etRoeHNzA50T+5CTMi9293m94YpQqagpCWB8LgO+lFQ00xeGq3Zbc/MQcVPJcJhEUMap0tG/vLiGRiWNSJ2S9Cxx8qmR4KXz9m2UlpWhuKg4snsiKOMEZDgA4YmTf4u1zUoZsrc7YxYA0aWHuQGZ6DEdqjI5KGXkfnYVTXd3N/Ly81FeVoae4ViVDStvySbKYVdYx7TDmUR+Mk7x4ViulZc0UEbOp/POZkwVH4IY2dzKYbsBGe7/wtlBNNZ4UVEZhXZy3J1CGbkfAYlareiFy4M4N3IOixuLyF05hMWsq6jJq8b7HzmNgoyoaiZZKCNNgZ2UMm5Q5mb3WgywIZzgu39p0zL5pdF3u6YcdkdT5l37ySRKXeLxE0EZqmTYpFJGXoNEUIbfC3wvEMQQyjBFiZ4wBCssbZ2VlYWOjg6R0kQvmfb2dqGMIeA+dOhQDKCZnJwUfmX8PmIKk2kmAiYCJgImAlYEDJQxd4KJgImAiYCJgIgA/TOYyvOXf/mXeO973xsTld2AMnLAuRUPMtOsBcJ0OJVJPRgXD9xaXej8BJfpS4mUMm5QpntoA+vzPcJ4kgaV9sYn1+X561ZVqI1NkQLFn2Nz6ZhdzUN++jw8Hq/wq+Hio6YsICo4UVkzMO5Fo8MT7USpS5yHE+hwM9XtHvJrq/RQUdE3SiVHfAqSatZbVxFCT08PamtqkJMTNWxNFsq4ARmeo4QyurceY0/Vlq7dGQvhzSf06VTSB8jJU8YpfUnOR4UygQBLAN9GZWUlppfzHMtvW/sGItvtJbxF2fRKrxZOJVLJcGzHyks7gDJqHGlGK+GcWgqbfWQ5bHspbG4jkPBs3UFJSSmKS6LQTmxLUHlJp5SRc7JDGb6+FdjCM33P4Py1CcxlXxJdi1dP4HDZITQXNotUIaY9HRDVleLNhZNNXeJxdgJlegjt8vJQVl6O231WaueB5qiSRp7jrb51obRqq9fD6tb6NLHdzeR3t6CMHchwjomgDA2N6RtD/5j/n733AJIsqc99/2W6qr33ftqO25l1rOXuXYOR4YaeHm8l8XQhIEQIIcHbS0igAIKQuQgCJBEgAsEGhFgB8RQiCJ6kwN4Ly7LaXWb9zrIz02ba+672rkyXefHlqazKk5V5TnX19OwunRkxMd11XJ5/naqu86vv/3233HIL84RBayz8ZR5//HHq6upi//Az3k+hgHnyyScZ8IZflwhoJiYmCKqbBx54QPm+a/4UmwqYCpgKHNcKGChzXJ95c96mAqYCpgJSBR599FH2YfmZZ55hRsHiyAfKQCWDoVPK8P2JUEb1JADK7EX1ZpX15Uk6LJS5MrlH8e0JGhwctHnJYD648cfobMydXSqVZGqW5moAGwvWRCNohwoSlu3GSii2X0T1lXsM1nQ2JCgQDDJgA98a0YNF3ruTSgbrFgJl2HazCepXQCJ4k8BHBaa5kWiEYGzb0NBIfp8vo/g4CijjBk9Yq5DC+wXnwoCNRgAV2kjRHWf07R0HgTJos8ANJG4y51aDeUMZ+TllrU1tXhpVKILGZuL0ltvVHkFOKhkcQ9W+xI8tK2XEOYlQRp6rUxz25at7dLJtgSXolFfYPVcKVcng+Coow+f1xMU5eib8rzS+OZ6ZaktZC/2fg79N8VC7Ng77leFt+r3falG+vxfauoSdiUqZVDLJ2nkA7aqqqxmUUQEZPgk8X6q4cN5yNhXy0ECX+lrAa9cNyripZDAP0U9GLI4blAGMwd+Eqqoq9n7JPWGQqgT4AjUMFDJIYTp37hxTwADQQD0DMCMCGqhkYBqM1ieTvGQ+gpgKmAqYCmQrYKCMuRpMBUwFTAVMBVgFvvSlL9FDDz1EoVCIKT7EkS+UOSyQ4TcPlSVqpcTihpc29zwU2ycqD2bvzpuq7Hfq8JTRKWUml1LMe6covkB9ff05zz6gjArI8BUBBuA3Iw4oO/bj+wycNFbuZfxrZleKCPJ/a3hofa+CmqujDNh0t5AFa4IB8nl9BbcuYc86pQyW5ZOCtLq6wp53JA1xtcfKJpw+yBbDK7YUOQGmfFqXdC87NyjT26oGL//72Tj1tKphHhfeqIx+MQ8Z2MDEFWalg4MnaWLB7jUjzltUyajOh0MZ1TKAGl0cNq6ZQlQyOM5hoYxqri+8skFrKyusvc2XNrzNrJdMKYEDlh9UJcP3yduMTg+U0lOzT9F/jP4H7cX3Moc8Rb9OD959KzWUWq1D4mBx2JoxvxilX7s/dxs+V52fDJaLUCaShnbdJ04QzGsLhTJ8mrj+Tp5QO5/j9buw4dW2J2IfxcV+lrzkNAqFMlALInmpp6eHtbdyTxi857300kvMNwYQ8+LFi3TnnXcyI2CYAsNnBrURAQ3gDgAOfGdM8pLj02UWmgqYChyzChgoc8yecHO6pgKmAqYCugp84AMfoB//+Mfsg7aYvLSxbnmrYPiDagk+ljn5yfDt3VQyWA83Dzoog+UL616qK7NDmDkhBnZu1UNQ02C01ubKKgBlUnvTrEVGZTZZCJTJ3lzlRmXDfyGKVKholN3g15Vt0cyynxLJbHsWblBWdyqorW6fuppTaVgTZKoVDDeVDNbR3cTnA2UW5ufZN9iI9xVvFEXPkwOZ9ebhJ6O6DgFkMJyUMjooI5vxis8JntMTLbk3rRwyyVBmaXmZYOSKFg3ZT0ac92GhjM5T5odPRpSeOjD3dVPJYH4DXUXKl3k+ShnVhs++tEJlRcuExBw5eckpDvswUObsYLYVaCe2Qz+4+gN6YvYJKt++gbbKL5LP46N7u+6lt/a8lUr8JZlpA8roPGN+/LOVguKwAWQwOLRBotD83BwNDA4yuHAYKMOVYzoog+NOLZM2An1yMUWru0XU1eT8ty0YzCYv8TXdVDJYD4ASfjFQwQAWQu0CpcvS0hJreYQ/zOzsLI2Pj7Of0QYLA2D8DBNgDmgAY6CygfoMSkw53c959mapqYCpgKnAr3YFDJT51X5+zdmZCpgKmArkXQHEacNf5dvf/rZtm/DuDvs9GrMn6IgrAda8mlBGnMvsqoe4coanMInLZ0JEVakhqqioIKRSycMJynBoICtlRACgMqjFcsAR2bcEpsLct2Zq2Uv7sX2KJ+LEJCpIF/d6yef30+p2Kd1+KkrBQIC1Q0H670nfHTupZPhxVe1LfBk8bCYnJqgoEKC2trZMOQ6idpENeycBQdJpRTnpSmmTX9WF6aSSwfpYflAow7dTGwcnaGUjRdthskGbosRcBtoVCmWcVDKYE5QyOiij85sBkEGbm2wozCGMm0oGx9UZPjsZ/f7iuUVqrN6xQTv+/KnalxCFjYE47MEeKQ47DVucWpewTIQy/Fhz2/P0nSefpVHP/85cPhWBCvpvff+Nbm+7gy45xF1jAx2wwfEw1zODmjhsn89m8htaXqaNzQ3q7x9g83CCMjzeXtW+hG2dVDJY7gRkeBEAqlXQUXyNjYf8VCOd3r2nnaOwsT3SkxCBDRUMgAs8YWD4i0QlAJvbb7+dQRioD2+77TYGamDoe9dddzFzYA5ooKBBi9P58+epuzs3wUv1fmAeMxUwFTAVOC4VMFDmuDzT5jxNBUwFTAUcKsBVIw8++CB98pOftK3JoYxuc8Ca2H6S9pNESX+lbbWSoL3VxE0p46aSwc5VShnxoCKUUc15eploenqOJeuUlZbaVoERphuU0QEZ6wYrVynDDyBDGfHAHGrgJh0tLbiBYX41Uevf5elSKvHvsehgDHzL7Pf5yV/kJ6/Hx5KMAGsCgDWebPoQ368jlGn30fDICNXV1lJ9Q7a14yBQxnbzl1a7wKtGla6Eb/YBbHoUypVCW5dwfJ1SppBlv3hxkaVywch1fD6rsskFTHbQZntO034yqmuQe8wcFMpgX/AhkeOwh6di7DBIABKBjWge66aSwfYnT6h9Tf7zwgx1t5EN2vHzOoinDJQz2e126FRvVuEitg7poAy2/eXlbUrWjdN3h79Lq+HVzP7aK9rpDYH/i+6/pVf5VsXbmpySl1TLMJfhiSidFkx81zfWCb4y/+VOK9bZDcrogIz1nqFvXcLyawFllres92HZ6PdUm3McNpQxY2NjDMTcc889DM5AUQfD3xdeeIH5ZJ09e5apYQD0oYBBGxMG4IsIaFZWVphhMFQ2dXV2s2jlE2YeNBUwFTAVOEYVMFDmGD3Z5lRNBUwFTAV0FYAcHwaNX/nKV+id73ynbTU3KIOV96Ip8gbsgIMb//KdbYY95PVZbRWVmi4oNygDIIMhty+JE3aDMuMLcdpdGWaJIaWl9rSUF0ZTVFmidpKFz4zKT0Y89mGgjFM8sgV0fLS/H7MlQsFs+OWpGqoptXw00KADvxq/38diuxHnjRhteAR5pfhuDkzgbTM6MkLtHe1UUZGFaoeBMpirbnDwwts2xPWmFlN0383qSGsnlQz2ca2gDAAlTFxhUroWtuqRaXOatV8b7HpIwyXZr8bNT8bp+XZMZlJAGV7D4cmYDdjgdz5GJmPU22ElV8nwxUklg9Ydb3yKJe7UN9TnPK0HgTLixqJShnvI8OWXRnbpdL/1fnLDSbu8g6cr7Sfj9NjUz1hSUzRhxX5Xbp+jeO1V+h9v+B/UUm43+3Vqa8K2AEY6YAMVzVlBRTM2PkZlpWW0ulVJiytx8vp91NqYC7RYHLbG5Jef62GhDH9PdFLKAMqokpfygTKIwIZnDDxi4AkDUIk2NvjMQFmHdiT8jFZQKGCghoH3DFr/REAzNTXFzLPf/OY3m+Ql7bujWWAqYCpwXCtgoMxxfebNeZsKmAqYCggVQMwp5OmPPfYY+/DNRz5ABuuqoIxc4M09GNv6aX1Pb0gZ3T+4n4x4HAAZDNn4l68zHfIQTDqjm2M0MDBAPp89XhnfSnfU55oM87YlQIN2ySe0O90B5QRkcHw3pYzuJl1U0aguWrTXdDcnM741rB0qFmO+NSu7ZVRbarWfwZ8GyhoAG/hPLKwX02BXgKKRCOGGCfG1UNuIN4u6OblFWuugjJtnDNKg1BbPxNqMbjulhj1OQAbncxBgE41GaGx8nLq7umhho1jp7cJrND6XZMtViqBxxGG3eJXJTYW0LvFjqpQyfJkMZcTrRWxtujJhQYzMduMR6u8qolNSqxGWA1Z49iepvb2NKirtSjg3IIPtOVyRr9182pd+OWRdu+K4NLRNp4U47M3oJn1v9Hv09PzTVAG/mYqX2ep/fPMf06n6U5lNnaCME5DBDkQow6Dd8BA1NzVTTU0NXRmL0BnB/4Yf8MpVKyYb7wsnBUUQX87B2LWAMm6tS4VCGfhhwU+mrKyMpSnBEwaGvy0tLQzEQBmDGjzxxBNMMQMFDNYBtEEylQhooLKBxwwUNyZ5KeeyNg+YCpgKHPMKGChzzC8Ac/qmAqYCpgKowCOPPELvec97mH8AFDN8HAWU0VUcsGZ1x0vFRbnQpjZt7Hvo1qWQh4riS7S+vkYDA4M5U9FBGb7ixEKSuoSo7LH5LEKYXEjaUpvkG6XDQBknVYVlUquGFfCbaa9HK5RlNAxgMxsqongiQRvhCqot3WatULjRLCktpa4mmAwHWMS31+elvnY7tOJ1OAyU0Zn4Yt+AMjpPnmeuJKi+Sp+upNsO+z0IlNna2qLZuVka6B+gqWWPdj4AMhhOHkK6dKXl9STdcVZdWzeVDI4pty/x5yVfKCNf+FfGI0JKmH3pzHyY2qrn2c14sNieEOQGZQoFMpiBylMGjwOu4HqVx1pkjX7x8jzNtfy/bNHtrbfTfz/73zOrXSsog9fQ+PgYdXZ1MbWMDsrwAwOiQTEjjiFBwYT3HMBReUDhhuHWvpSPn0yhUAZwF8AFKhgox7gnDMyN0b4EDxlEZr/44ovMWwbtToA4aG/ixr4c0Dz33HNMIYNtTPKS+dxhKmAqYCpgr4CBMuaKMBUwFTAVMBWgP//zP6dvfetbzLxRTMXIB8pAJYMhty/JZeVKGV25AWQwyqXWJrQ08bG04aUKIQq7sdLeTuLWugSlDJKX8A1wV1eu2aQTlAGQwRChjHgu8B7pbrYekVtzsC2PrFV9qw1g46SUcVKsOLUK6eAJbp5GZ/appSZKq2urFIvG2LfXgDGUStF6pJLqynbSrVBF1NmYYC1QAUR4B4pobC7FfGxUg7UZaSCRk2cMgAyGDnLowAoeh09Nd0vufOD/c1AVTWglRGtrazQ4MEhj83qPIK6S0V3PThDuqZf3qb5aA5iSqK0asrmpZDAXLbCZiGlTmQBlRP8Z8Zx++NgKFXk2qLmphUgu8RHFYTsBGcxNF139i4sLdGHuApv+fd33k0/wV8JjB/WTwTZQybBjptuXtra3aG52lvoHBpivUyFQhtf3ahrsye1kSFvjY37DR70duWla3JOpUCjj1rqE4wNQIgIbKhiYjsMTBopKvD6Gh4fp3nvvZdHxo6OjLG0pFArRpUuXmBEwvGc4oEHLE5Q1HR0ddMMNN5jkJd2bhnncVMBU4NhWwECZY/vUmxM3FTAVMBXIVuC3fuu32Afw73//+7ay5Atl8gEy2DHal3QDUEYGMvK6S5teqinNghjup8DXW9jwUG1pkpqr1b4wrH1pfZRKSkqopaU1ZypuUEYHZLAjEcrIO2beI61eGptVG2sC2tx/s/pG3AnYOKlkMAc3RQtUK9NT0+yGC54yUHbgm2/EXzdVhZnZMIDN/Fogo05Yj1RRQ8UeFTHvGr+lrgGwSfvWHAbKFKp2YZHX6bQnsfYZYNNsByCiWbMMbaAWQw3gj1EolHECMpifzm8GbU1jM3ElmEJKlhuU0QEZHNMpmckJylx4YYnqyreot89uoHv5apiGroZp8IRdPYNjne4vYW1PhSplnKCMDsi4Gfk6xWGTx5O3nwwMa9fWVhmUQQKaE5TB88XqISllRCijM1fGOpZKRh1vPrFowfDVHX8G+MrvOx0N1joqpUw+UAbpSYjAhgpmdXWVecKg/QgGvqgDAA1APiDNHXfcwWKxAWl4ZDYHNIDATz75JAMyUFyZYSpgKmAqYCpgr4CBMuaKMBUwFTAVOOYVQCsAJOb33Xcffe5zn8tUI7azwVpeVMNXnDXIPYifjFOp3aAMgAyGCGXk/c2ve6mhIklzaW8ZeTlSolfzwLQAACAASURBVLaWLlNjYxMzLhXHQVuX5H3nA2VU5+/kS4L1cUNTiFLGCchgv1y1MjoyylrWGhqzZjmyqS6uEaiLAGkAQBrKdygSjdL8aoCSqSwAiyXLyeP1Ul1FijobOawJkM9rASc3pcxBVTK8njoog+UAXvB2EQf3tkHLGVcw8eWp8CSVlBQzaHe9oQzmMDqTq5pCDDZbNh2nHkmFNNBpgc7DtC5he51S5olnZqmzKUHtHR05l+/lkTDJyUJcWWLFYduBzZkB630jHz8Z1WuFm/zqlmmVMGlvGtVy7FMXhw0AJJv8MmgX36futNLODcrogAzOAUqZQqEMrwHe81RJZlg+u+KhvZiXGmpyVVn3nXGOw8b7DiAM/kERA/NreMLAc+yll15iIPfcuXOsdQlwFsAFpsAAmjfffLMN0ADaYBvEZDcICW9Ofw/MMlMBUwFTgeNUAQNljtOzbc7VVMBUwFRAUQF4JKD//7Of/Sy9733vy6wBKKMaMqgJR5OUKK5hqwYD6m913VqXsG0+UCYfIKN7knGDEg7vUyi0zICMaGrbVpti30qrTH75/mQ/GfE4TkAG63GljGpubm0wFy7FHbxUUtpWITeVDObS1ZyikeERam1rpaqqqsz0nJKOZLCSiCcy8d3Ty16qLd1ksCaRzKqCAGVw47YaLqc39IYpEAwwdQ3aP1hklIufjFsL0kGhTOY5FdKT8BhqtrS0SOXlFVReXkbLG6lM7Xta7Te2Ts+bo3+QQ1Q25qCCMny+I9P7NkA3MpVtcxmditnisAe6sq/FQlUyUMMsLy/TyRNBamwSzJTSE1JBGT5XlqAkKEReGRHjsHdt5reiMsYxDvvKtrZ1ydEzZmhHq4TBfKHqUSlwMBcWd52GSVg3tLLCoufvekMrU8lgqIx+8bjKT0Z8DzgslAGQwdBBGSyDSoYrZsRjuyllAGWgdNne3mZKGXjCQGEIc1+oXpqamqivr495zsDUFwoYtDoB8A4ODtoADSK1oa5505veRKWl9pQ+3fu1edxUwFTAVOA4VcBAmeP0bJtzNRUwFTAVUFQA327iG88f/OAHzBeADx2UkXcRjibIU1zBHt6LqtuGwjGi4mK72aW4H52fjLiO3Lokz4OrZHRPMqBMuX+TcIPQ19dvSwCZDhHNhIhaanINRDmoeTWgjBOMwI0/gxHpSGbxvKE4cYMyaF1C1O3kxCSLtS0uyZr5HATKiMfFfLjaJZVEIpRlLowWqJlVHwHg4Jt0PqCqAaxBK9RONEg39ljeNf6iIs5q2KpOdXACMthWpZThx4ePjVg/GJuOjY0x74vlrdJMS5QqvpurbFTqnkKhDIAMhtZTRoIyYu3F1iYxChvrjDBgk47D7rabyjq1Ll2Cn0p0IgfaYZ8AMhiyUobPSYYy4lwBQc4MWDfncsLS5ZEdOt1nLZNByWGUMk5+MrqWKHaeQhx2ilI0PDTMVGWLK8UMupxKn4d4fhxGXQ8o4wRkMKdCoUwikWAgBq9HeMrw2Ov29nZ6/PHH6dSpU0z1gp+RzNTY2MiSlxCFjXVEQAOVzcbGBvv7Egjkmhrr3rPN46YCpgKmAselAgbKHJdn2pynqYCpgKmApgLf/va36Xd/93fZzSgSNvjIB8qIQEZX4O0IUTjmoZRH/WEcPjJuKhns+1pAmaJEiFZWQuyb3IxEIz1xgBkoZsQB9QzG9FKKiotSVGexJzbQnsOHW+sS1lN5nuBxJ8WFW2oQtpehAI9nhvmtfEx+A8fVLpsbm8wDAu1rHq+lBHECMny5LkFJhDLy9QAPDBwfrVCAH4A1PL4b/0+s1FCJ37rRx0xYfLfP8q3xen1MEYQbOtGIGuteSyizvbNNszOzTAEwE/I5Pmc4tioFiNfogVs0HkEOShknlQz2KytlxBo7+c0MTUSZye/QRCznZTo8EaH+jiI6KbUaYcWLV7bIn5jJgXZYdhCVjHhQABkMDmXkCQHSQDnzypXtnLm+MrzDVCsqiFKoUkankuEHF6EM81u6OkodHZ1MXahrXYLCiL+25TjskwIUuxZKmaOCMjhXqGDa2toYZOGeMIA0gDW33noru/6ff/551tKEdiaAmBtvvJGpZURAg6QmvI6huMH/ZpgKmAqYCpgK2CtgoIy5IkwFTAVMBY55Bf7qr/6KPv/5zzMFCT5YY+QDZLBevlCmqEgNZDb3LBCAOOyA3+77UV1qByTXAsok92YpGo3QiRO5ZpMqKMMvDbm1aXJBgjdLKWpPm2rKZsBOrUv8xq0QLxW3lh6VfwtXfEyxtCIPbW9tsZSU2843ZV4FbioZrHgYKKN6uQEgIeW4vT5uRXenoQ1+XtgopvW9Cqoq3mSb+n0+pqTx+33U2ZCipc0SBhWgupGHk0oG68pKGZiZIn1pcPCktUxhHuz2nGH5L15By5n6jQVmyr1t6uSqg7QuyXvPB8qoZjQ0HqVkQq1wm5rbpfaaBTp5cjCnvoeBMm5ARjVPDml0IOzS8A797m9lobK4D7QhFaKUkZOXLGiXVdq5Ji9NKeKw02BsdYtYNHRzvR3ewdBZfN/RGf1iHSc/Gb4PlVLGrXUJ28I/BhHYUMEAhsITBlAFhvBXrlxhhr9obYMKBgoY+MZAdXn33Xcz/ykOaNAqCrjT0tLCFJn8b8wx/7NrTt9UwFTAVMBWAQNlzAVhKmAqYCpwzCvwjne8g5k5/vSnP82oEK4XlOGlX9/1UGnQ7tnBW5qwDmKxywIWCKkvV99A5tO+FNkYYzcYra1ttmfdCchgRTe/GUCFzkarVUYeACAdjZ5MXLa4HCoZjGsNZbiRrRaezCfZMQHicJO772/P3ggupehEcxYaiEa4Tka92EE+ShnVy42peqSEJL4envXx+QQ1V0UYrBGhTWi7jDajVVQV3GQ3uAA1fn8RdTYkmW/Nwlow07ajOq4MZaAaikQj1HOip2AfoLE5qwVJ95z+r6djOcbDWB+gplAo4wRksG+ulFHVAFBGZ/L7/Z8tU2nRLjU05vrJpBKpQ7cuyfPhKhnVPAFltMlLQzs0txChtubcJCi+r0KhDI/Cxn4YtAuFaBCQyi15aco5eQmAFF494uCGznhsY89LviIfNdbaoY34OjlKKLO0tMQisKGC2dzczMRe42/F4uIigy/wiQGYgYHv5OQkTU9PszhsJDNxQAMIg9YnwB0o0GSl2zH/82tO31TAVMBUgFXAQBlzIZgKmAqYChzjCuCG/JZbbmHmjQ8//HCmEq8FKCM+LYAyVSUWlOEpTOLyxQ0vVZckqalKDWzgJ9NcnaDh4RGqq6uj+vp627N+GCjDgYzuMsLy7iaisflcv5qpxST91/Nq1QT259a+5AhzNGoM7BcwAtvipqqiooKZdvLB2ozSChEOjfiyqaUUdaWBTbckSgCQwdDNibcvqerkBGV49K8K2iSSSRqbjVMj4ruZd42lsoF6BgPApqZkm7VMcGCDeQcDQZoO+XIMUnFjaUG71kNBGadob53fDGKysUzelvvLHKZ1CbUQjX/F58AJyjz57Dy1NcSos7PT9rSxOOyxMA10K+Kw+0ooXz8Z+Vo4DJS54WS59p38R4+tUFtz1jNJXBGQQAd75OSl+YV5piwDtMNwTF5SqGTE46qgjLjcisO2t/qMSwo9VRx2e332fQYqGQzZ6NdNKQOT36mpKfb+gOSl0dFR5gkDpQxADZajTenixYts/+fPn2emwPCoQluTCGgAdNC+hMhs8X3mGP/ZNaduKmAqYCqQUwEDZcxFYSpgKmAqcIwrAJk5+v8/+tGP0oc+9KFMJSKhGVtVvCWCmUp6CVqXMLjJr66M8JTRtS9hG6hkMGSljLg/EcqojgMoE821y8isur+fovryGI2OjlB7ewcDEeK4HlBGNW8Ah2QiF9Zg3dCm5WFTsIpGA2U4kMGN1fDwMPMRqqmx0rMwRCgjz5nDExVgml62gA0AlO5cdf4XblBGp6Lh85WXJ5PwrYkSbmIR383boZY2i1mbFAaATV3ZLjMZ9vn91NWYItx019fVM2hXaGIWlDK654z7/ejalwBm5GXc/PfqzL6tnapfaHM5TOuSTiWDGv38wjQNdPmpqSm3Lejy1T061WMHHZdGLS+VK4jDllQgvGVJNPmVr5OjgDLYpw7YYNmVq3t0eiAX6MDXRoYyk5MTFAgEGbRzTV46Aigj12th3Ztj9D0TyioON8I+arPzZ7aLfOKw0aK0vr5Od955J4MqRUVFLPb6woULLL1uYGCAnnrqKWbwCwXMs88+y3x2YAAsAhpEiON9BslLZWVWJLoZpgKmAqYCpgL2ChgoY64IUwFTAVOBY1wBSNERZQqz39/8zd9klYhvrdoqEo/uKSsUicbJW2NvA5JXBJDBcIMyTkAG2+cDZep0bU1rXppf81BFIMx8D5AYwqKYCWlLlrLGzU8G6+jisp2UMliG4QQqxPYgsX6PvpCg7iZ7Sxdfjm1cVTQuUAbf+OP57+rqssXU5gNlVBfE5CIxnxr523xW3yW0cOmjewuFMk4qGhwXy0Vgg2djH341sRhhvrWlW0xhs7hRTEiL4mMzWk2NlRFmNgyPILRCQUHD/TCczJndoIwOyODYKijD5zQyHbfHYU9nU6yuTsczPj8DnfZY+kJbly5dRfLSODU3t9igHeYDIIMhQxk+11dG9mxx2JfS5r7WtlIcthA3fb2hDI/pvuFkLnTGXIbHI3S6n4OEFKGlp6y8nG6/qdFRJYPzHDliKKMCMvLrEkoZUTnDl7spZZC8BBCDlkCoYHjsdXd3NzPwBZABzMXPMAmHXwxSmJDiBlWVCGhGRkZYO9N9991nkpeUf0nNg6YCpgKmAqZ9yVwDpgKmAqYCx7oC3//+9+ltb3sbk6T39vayWshQRlegSGyfIj59ywBuYt1UMti3yk9GPCaADAZvX1LNB0oZHZTB+vNrXipKrNDi4pJlWuqx9om2Jut/srU+tdVl1Sv5+smo5sVbl3Q1BDTQQRld3DWAwMqWlfzTUGWHNnxfTt4vXCkDw058i90/MMDMczGcgAyWO8ETDmV0dVDrgdJrp/SeMjJYEffvtIyfj05lI9YeteT1gEpmfi1A1cUbNL8WtMEaHzxrfIjvLqZzJ2JMNYE0Gty88lEolHECMti3DGXEOgAAcOXM8JRdMjY6acVhD3TbYQ22d2pdenlom3yJKerq6rZBO2ynUsnw+QDIYPBYaPl6AKA5nY6RRpqSOC4P79KpPqv1TG4pcvOUcVLD6JYByqiADJ8TlDJnBq33OKgKR0dGaC/eRMXBYhYzngU22bPgEeGvZyiD5CWoYNBuBBADTxi0uELp8swzz9DNN9/MrnnAF7S/4r0epsAw8kV7KGANYD8ADQyCMaC4MclLur8E5nFTAVOB414Bo5Q57leAOX9TAVOBY12Bv/u7v6NPfOIT7Btg/oH5IFCGSquV9YOKBmMnSkS+Uts6pUG7h0o+UMYNyOAATkoZLE/uzdPu7m4GPvFJAchwxQx/bHo5Cztm2PIsUpAVM25KGSeVDI53UCiDbVTARvR/Eb1frGNknwIOZWBYivYEfOvNh5tKBuvpIIcblNGd53MjKdoNp6hLoQpC7QqFMvmoaMQ5QUWF1wG++Z9YzJ4nVAOWVw08a2I0s+KjqsB6xrcGNYGCBgbDVny3l7UvBYJBBrtEY1Odnwz24aaSwTrcX0Z+0YlQRl42PBlj3iTDqjjsySi97R51S8kLr6xT0DPHrg9fWlnG9+0GZfIBMvI8kZCEgTYn/rO4DtKVtHHYLi1K1wLK7O3uMp8VwGs8t0PjETqTUdFYM+VR2PgZYPRkr729S2wVK8RTRqxHoUoZN5UMjrG3t8cisPFaAIjhsdfwjHnllVfojW98I1MdXr58mRn7AmjCXwbgBYMDGgBO7ActTvCgMclL8lVvfjcVMBUwFbAqYKCMuRJMBUwFTAWOcQXe+973sm8+8SGa3zzmA2WgkmFDA2V4SXcjKfIX2c1AeUsTX2djz8N8PTAq02a+4lNymNYl7AcqmcZKy7jS5/MyTxlxqKCMuByAhitnoJqxL0tRSSBFtRVEnQ25F5KTUsZJJYM96ZQybstUahbRA4Z5vzR5aGNjnaqDm+ybcD7coIyTt0uhUIbVSJG8xFu/+HzF6vLY8UKBDauhdFwkynBohxYsrcIGUdktHmZ2GktHd3Ngg1aoseUaKvFbahHchFqpUEXU2ZSkxfVipmhBO59H6kxzgzJOQAbHEj1mxFpxKKN6mwOoSWjisLc2N6myeIUGBgZzNj0qKKOLys5AGm4IJM1objFKb723TvlO7uQp46SUEVUy2PF6GtoNnjzJ3itVUEacAJRNp/uyUAZtZHzgPWWgK2CbrxiFjQUqo19xg6OEMgC2ULhABYPXBI+9RrrS7OwsAzHj4+OEtDIAGjyO33k0Ngc0UNDwFifAPZO8pLxEzYOmAqYCpgIGyphrwFTAVMBU4LhWAC0b+HANb4BvfOMbmTLkDWXyADLYqQxlxHpvhD1UErCUM+u76hSilR0vtae9X1TPVT6tS4AyMPmtqqpm39qK4yBQRj7+9LKVbMJVGarlbzytbty5nlBGnFfG+2V8jDajtVRVVSXcLArpSpJhr1vrEnYCTxnV0IEXrOu0bGrJ2puc9MSBDVMECQobDmuwjRuwsfabna8F7XzU3t7OfHHcoIzqPKGOwD4Ba2A0HI3Cv8ZS2KAlanW3gqqLN9nNKVQ0MBguKvIzyDO3GqCBzgB5ZVpzgNYleU4AMhhyig9fD1BGl8r07R8uU1N1hLWjiONUb7Fr+1KhShknKKNLSGLARgNrMG+8+gpRyshQBtAOapmedJunE5SRgYz8vEAlM3jCDmXgC8THwoaPegUjZ/laxe9HCWXwWoAXDCALYAs8YaCCgUoG1zbalxB5jZaum266iWAKvL29TbfddpsN0OCx5557jsVqwxzZDFMBUwFTAVMBdQWMUsZcGaYCpgKmAse0AsyTpKGB3ve+99HHP/5xVoV8gAzWY0qZPKCME5DBfkQoo3saVne8FInpY6NjcX3rEvYJpUxd2T6NjAxTa2ubDUJguROU4W1MoseMOE8OZXRzB1TQKRGQEFRI6xKO5aSicYMnACd47oeHh6ixsYklqfDBAYkKMs2kFTYi+MhupwcyWOcwUEYGMmKtJ5fsJsoc1mAdN2Aj1x43oUgiA7Q7DJQ50aK+VtG6lEwmqKUGsMaK7kZbFGAMVDcANrUlm6xVyIrw9tOJVg8FAwGaXvZrlTD5tC6prk/ezqSDMo8/PUM9bZ6cm2krDjtCA912qMBVIbLJr3hs0U9GnhPgSqFQxgnYzC9GqbU5N7qbHd8DYJNr8otFMpSZnpoir6C0u9ZQxv6+4qH+jqxPker1uLpbRF0COJUNfQs1+eWpbFDL3H333bbYa6gqKysrWVvT008/zV4vg4ODrL2puLiY+c6IgGZhYYH9DpNfbGeGqYCpgKmAqYC6AgbKmCvDVMBUwFTgmFYA/hlQyTzyyCP04IMPsiq81qAMgAxGhd2aIfOMhba8tLTlpcribHIOXwh1DAagTEXRLiHOFukgxcWWkSgfblBGB2SwvROUAZDptItybMf9+cUkSyRSDcRkQz2hG4eFMvi2e2zsKjPiLCuzjEwzSVGKViIst1QratUP6vBfbtCrZLClDkC5KWV0UAZAhu1XE8EtAhsR1ljngjQoa77YHr4xiO1ta2uj1T3r5rFQpYwOyjgZAENxMDIdo+aqSAbYzIb8bF4YqzvlVF++S74iPxX5/HSiDbAmyLxNxmeTBbcu6YDM5bEwQRlybrDCBu349Qgwc7LHDjou8zjssbAtDltUzbwaUMYJ2Fy5GqbTg7meOmcHrDhsbvKL84bJLyBEQ2Mja13CkD1leH0KUcqIr3XAYBHKyO8DUNKIrym8h8ljI+KjNkHk1FRlvR+6ecrgmkPrEsAtVDA89hpeOmhFwv94neDn/v5+9jOMgDs6Otj7qwhorl69yq6j+++/nxlim2EqYCpgKmAqoK6AgTLmyjAVMBUwFTimFXjsscfYN5gXLlygG264gVVhf3HCsRqeUuuG9XopZQBldEAG81jatKBNTVkulEFb0+aeh8JRD5V4d2hzc5OamppZ60hztbX+YVqXsP1hoAxAgfhNNy88vhVHhHSnwvgWKhUnIIN95KOUQVvB7OwM9fX1U1GRlcrjBEewHFBGB0iwTJeulHJQBLkd1+mYskpGvnCdlqOFC7XnCgS0Gq2urlJ9HZKX4P/i0ceYpz1lVC8UtC8VAmWgosGAQbA4kokEU9Rcnd6nxqowa4WaWfZTPBHPFHx1u4yaqqOsHSoLawLseR2Z3C+odemXIzvkiU0yaFdebk9Y42a2MpTh8748EiaeQITHLo1a/joYV0Z3abDHIqww7RXHUSlldFDmUjolKiflKZ0INTwepdPpOUI9srS4SNU1NXTLDbUH9pORrxVV+5K4Tj5QRgc5+X7gxcXVM3gv5OPe09koddU1jOQl/E1A21pfXx+DL6dOnWIKQzwOw14AFihlAG1gBIzI7LNnzzLlJQANrht4VSHVD8DxrrvuyrzPqI5pHjMVMBUwFTjuFTBQ5rhfAeb8TQVMBY5tBb785S/TBz7wAYJMHdJzjMSG5GQrVCcZ2WW/4SZxvzJXnlAUsMtZVCa/YrHRuoTBPWVUT0Q+UEYFZPi+Fte91FCRpOXlZdrc2qT+vn6aW8veoMyvEVvOR2utHe6IJr/y/ABkMOApoxpOShmu3FBBGexLBRQ4QFABG95SxPfrlpC0urpCodAKaz3g5ptuihXMywnK6G4SoQhSASbsD8DG2q9aZVMolHFV0aShDH/eYHqMVgu0ZUwtedh80MIkj9WNJDN11qmYDgNlZCDDj311xvIa6W3PtrOgbsxkOBZlqU2Nlbs0ueihxH48A8fwvIa2yqi1LsbakKCswc00YA2WOfnJvHh5g4qSs0wJwaEdn49KJZNZJgEZsX6XRqz3D66cgcmuOC6PIA7bSmqT25gAbJwUL4UsA5TRbYc54DyhmMEIh/docnKSYqk28hcV0ejUfia6m5/DqTRswu/XQylzECgj1vlkqwUAdSMSiTCwAmNegBgeew1YA8gCwAKoC08ZtDchqenFF1+k22+/nV0rHNCgDRAG8miPBLwRY+MdJ2AWmgqYCpgKHMMKGChzDJ90c8qmAqYCpgKowEMPPUTf+9732Adt3KQ5ARmxYlAVpMqzPiRYFuVpTOkV9yIpSnoD5PEFqCSQvZkU95Ovn4ybUiYfKDM9M8PMQPENrjjm1jzEZf2zK7lgYHbVQ81VyUz6krhtPn4yuvYlnUqG799R5SH5qIh+EwA2OuNb7Jub/CI1Bb4maDfIHFOTgoTlTnAku1zTviTNlx8P855ZVrd48bodBsro2pp4HUQgtry8xGJ9oRxyglNQKUE1oRoAYUcFZUQgIx97dDqeicpGywlunplnTTRK43MpZjIMtUIylZ03/GqW1orp7nP76TaoAAM2Xo8FLJ99eYXK/Ms2aMePexgoozMABqDhyhlVHPbcQoT5wpxVtBoVCmwOAmU2NjZoYWGekLyEGg2NR3PAkRiHPTGfokGhvUuMwkYdr7dShj93bkAG60Ex9sILLzCQgmsIsdf33HMPzc3NMTCFn2EEjMQlGMXj8dHRUWYKDDUiBzQlJSWZFifATpO8ZD53mAqYCpgK6CtgoIy5OkwFTAVMBY5pBd7ylrcwM9HvfOc7rAKHgTJyCfciSfIFLO+W3ahaSbIZ9lBNudU6oxvXSikDb4PyigpqbrIrfEQoI8+BQxqoZ7jhr7gOlrfUJqmjvjCljJNKBsfJxytFnrOT8e3athVSU1flodTeBCGuFsbHfLgpZZxUMmy+GrWLE2ACdJHrwNU+fL712XAom0fPQcCVWCeAKQzxuDMz06w2gHZuUEZXh2cuJ5gPR31VLpxCS5OTpwzal5yUMjooIwIZ1WuIx2Hj3BLxeCYJCgqbF4a8VFoUpkQyq5yw4rv9FN+PU1P1HvMLAawRVQ5HDWXk83hleIcpVhBtrRow8n3Lf7VDYr6eE7BxgjKiSgb7Wlpeou2tbdbOg6GCMuLcoJQ5JUAZnoKFdWZCHuoX4rDl55a/17h5yhSilMkHyszMzLAIbAAXgBd4wkARAzgDVcytt95Kly5dIihqEJkNg+y1tTW64447WFw2BzThcJi1OCGpCX4zZpgKmAqYCpgK6CtgoIy5OkwFTAVMBY5hBXDziJ7/3/7t36ZPfepTrAJHBWV05d0KeyiS8GurH4s7+8mwm6VNr9JPhu8U7Ut15XEaGhqmlpZmqqmusR3PDcrI7UzixtMhDyUSaiCztkVUXZbSGv06KWUO5ZWiUaVg3pbqxEpeevriIpWVl9v8QrhqRaXucfOTcbpBPCiU4TVWARsY9PIBpRKfqzznfPxkxOcS0K6iopx5DhUKZZhKRgGm8DjGxHySuqTlHMQcBZRxi8MeQhx2p2UmbLVCxSgaidDYbJKmF9H2l20vQuqQ3+ennnYPzS4X0ckTaIUKkN9fxBKM+JD9ZMQao30pH6WM/IbAoYzqjQLLHNKwGYV08pTRLZOhDKAdRkeHpbRzgjIykJHnPQ4VjRCHzdvT+HoLmz7qbcu+L6rgLIx+jwLKQAUGqIJWPkAZMfYa0dalpaV0+vRp1tIEryF4zUAZA5AHXzIR0MBIHvAGChoYJJthKmAqYCpgKqCvgIEy5uowFTAVMBU4hhVAqwb8AuAr8653vYtVIB8og9YlDLl9SS6hqJTRlRdQJhhQQ5nNMNHarpeKi9QtMTWlKUeTXxwTQAajIrBH4+MT1N3VxW4q+HACMlgHShg3KNNep4YyT1zykG4ZPGgKhTKuXil5QBm0t+DGq729PRNTayUr4R5WfT4ANm+0vKBzBoc9qmVu81WBF74ft2VYj6tdRFiDxx2BCAbPdgAAIABJREFUjeQnk0olmTKgpaWFNiLWzaNTVLlOKaODMtifqq0Jyhk+sFw8pqiawU17IUoZrpJRPS8AMhiAMvLAFfDzX0zR6d4SqiivyER3Q5UDBc3ssp8aqyxg4/F6WIR3b7uXQZrpBR+d7i+lQAAKOPtr96igzNlBuxExPx+0RM0tRqmtKTf1B541B1HKMGhXWUFNjZbS7lpCGbn+gL19af8gOTWMr7u2BzNqorZa9etVNPkV9++mlAGgQzsr3iOggoGxLzxh4C30+OOPM5APNRnMf3t6etjP8JDBawepTCKgGR8fZ8qZBx54IONZpn4HMY+aCpgKmAqYChgoY64BUwFTAVOBY1iBZ555hhkzPvroo+x/jHyhjBuQwb7coAyADIYOymAZoEy5Igp7dcfaFnHY5UH7TUm9YNrLTX43t7aY78HAQD/7tp+Po4QyuLHStTW9eJVoJ5LKgTZc7VFoWw7Oy02Vghv/3d1d5gmBmygeU+sEQLDfF0dTVGsFb+UMcJxCWpewIzfwomvxcpsvXy7DGhxzeomovZGImyNHoxHCDSRuOJc2SxwVCPCUuVZQhheSwxlRNSMWeWw2nkl0kuGMU/uSG5RRARkcl6UlxSaoo72DKioqcp5vqEh62omi0RjzHAGovTqdZO1R8ysBaqoJk4c85PP7qbfDQ4G0wTCiu28YLM/41og7Fj1l5AO6KWWcoIx22dAODY2F6XR/bhz26YFSm8kvvHiGGbRrZYoPABkM2YyYz/ugShn5fEUoo3q9LWbisIngeaUam4jDrk1RYzoGm6/jBmUAY/C3AcAeJuCALzD8ra+vpyeffJKpYaCQgYHv+fPn2XqANVDPNDc3M0DT2trKgM0rr7zCWpze+MY3muQl9VunedRUwFTAVCBTAQNlzMVgKmAqYCpwDCvwz//8z/Tud7+bfZNZU1NDibkRexXK1HJzlcmvXD43IIP1nVQyfH86KMOXh7Y8VF1qhzI8IhvrsNamkiRt72zT7u4enR9osE31MFAGN046JQwO4gRlptB2o0hs4t+Kz4SQ6GSvar7ABlvpvGi4ogX+D2gtwE2X12upidzgCNbRAZInXkGbVu7NIebsBomc9us2Jydg47bfpKAIioTDBCPXxqYmWt/20M396htdABlW32b1G8ZBlTJ8L05eM1iHtzbJbS5s2UycedH0deQqXgqFMhevbJE/OWNBu4BdZXJ5LEInhdYbsRKANYjw7m6F8XeUYtEojU4lLJPhZIIWQgFqqg1bypoODwWDxRQIBtgxrk7F6ezJXACE/R8FlLk8skdnFKbBl4YtBdDwZJRO91nAZj++TysrIbrzlmYqKSk9sJ+MfLXI7Uvy8nygjO4a5Pta2fFRe12SxChsLLvnlHMcNiAbkpfw3CMSm8deQ0H30ksvMd8YeMVcvHiR7rzzTtb29vzzz9Mb3vAGgrGvCGiwbWVlJVPcmOSlY/ghw5yyqYCpwIEqYKDMgcplVjYVMBUwFfjVqMBHP/pReuSRRwiyfKRiJNcXbCeW2ttWnuh+LEKx6lbyBy0TX9V4NaGMOB/ckNSVJ2ludpY2omVUV1tnm+7Cuoctb6lRp+k4tS8dBZThkwO04SoOPCa2MMjARvRScfOi4VBmcXGBQSrceGWOqTDczWcZ1kGrkAqQ4HjTIQCo3KsE885X7aK6xgoFNtiXvG0otEzr6xtMEYBa6zxKkkm9Sgb7PQooAyCDoTUBnrZam0anc2+2oaJ5650B5WuU+8moFj7/yzUq8S6yeHA5MccNypzqVUjb0mAlvp+gzpY4U9iMTsRoPxFnEAdjPhSgtsY49XZ4KRAMUjAQyPw/NBZVpi5hOwZsHNqXdMt0UIbX48pYJKOEQaLQ/Nw8JXydTOUzOrNPp3rt738nBVPf66GUyRfKyM/vQItzHDbgJPxizp07x1LGoHaB0gUQd2xsjPnDwAgYyjL8DO8ZtP7h552dnQyggZqGtzhBRWOSl341PjeYszAVMBU4ugoYKHN0tTV7NhUwFTAVeM1WAAa/UEz88Ic/ZHOUoYxu4vvRCEWD6m+0+TaxVDCTvKTbj5tSxk0lg/2qlDLi8TiUwQ0EvsWF74E4Fta91FiZpDlFC8B8Oipb5ynjBGWwDEObyqRRymAbGcjI9ROXy34TIrCRjW+5ZwzajNC6BIWMmIhSKOQAkMHQqVZEbxd+LnwuToogvk4h7UsHhT1Qi0HNgfYlJ6+fn19M5SiYcE64QeZmviqjX6xzJFHZ03FWUp3fzMj0PiUTauCYSCSVfjLY39MvLVN9+TZrQZFHoVAGEORUXy6wwY3/y5e3qbudmLJmeDxK8XiC4ok4UYpoY8fH/q+vRWKRn7XbITUM/xcVFRF8ao4ayoSWQ7SxsU79AwOsHMMTMZthMQCOOPBcD57IKowGuuwJc9dTKSPOyw3IYF20eSJlCSoYpC7htQEoAwNfABu0ul65coUBGKhjAPWXl5fprrvuovn5+QyggYIGLU433ngjdXV1vWb/DpqJmQqYCpgKvFYqYKDMa+WZMPMwFTAVMBW4ThWAFB3fXiJd4/Of/zw7aj5QBkAGI1VRr50p2pvC0QQlA0KOsbB2cdrY97BQBkAGQ25fEifGoExZgoaGh6mxoYFq67JKGQAZDEAZ1QCo0SUrYf14ItcThu/HqXUJ6+jal/gyUSUjz80J2rgBG7QYAdbgBgveGI2NjZndHwbK6MAJdq6CMpk6CelJ7NzTZsP4eWbFY1PYwBxZHIXOV7UdFAAwgAa0czRglgyC+XzQ1jS5mFQmbXFIc1RQRgdkMDdAGW4YK19Hjz8Xpobq3Datge4ievLZeepsTlB7W3vOS+NaQxkcAIa7MAcWB96j9mMx+uXwDnW1JmnoaoSBM/zjZtRQX2ztFNFt530ZUMOhDZbBp6YQpYyoksGcZmdmWftVZxouyFBGLhIUSid7LSiDdcUxu+qlvs6seqm3zXofEse1bF8S9+sGZQDI8FqAEuaee+5hcIbHXr/wwgusxmfPnmVqmOLiYjpz5gxrY8KAv4wIaEKhEEtuwt8YGAWbYSpgKmAqYCrgXAEDZcwVYipgKmAqcMwqgG8xIS//9Kc/Te9///vzAjIoEaCME5DBOgAyGN5groEmHt+LJiiyT7Sf9JPXa/fBKC/O3iS6KWXyVcngXMeujlFHZ4ct/pmrZHRPPaCMrq0J21wY8lKzpu0pmdSrZLBtoVDmICoa+bz4thMLCVpcWqaa6irmj4EBxUppMdFN2W4m2+ZOAETXuoQdcBWNKmKbL9cuC3kyLVwirMF2a9tE8ISpq8hGYosTPgiwwY3o8PAwNTU1Um1tXUFQBsdWGQBz9czKBlqiUlRflb2+T7Rkb8adPGUco7LTrUuqa9gJyGB95jej8qGZiNHFoU3qbiEqL7cr4uAlc72gDD8neLyIhropSrEEKHifwJAYP8fj+2nfGguwAsjAwwTeNYM9lqqGt0R5fT62jlP7kgxlxgHtysqYkS2rnaSUEesvAhnV84LrZKDLgjK8NU1cb3HTRz1t1hx1cBZGv4W0L+UDZQBS4BkDFQwMf+EJgzY2+MwgrQ1qMvyM1CX8/NRTT1FDQwNLZxIBzeTkJOHfm9/8ZpO8pPsjYx43FTAVMBUQKmCgjLkcTAVMBUwFjlkFLl26xL7x/N73vkf33XffNYcyOiDDy7wdpnRkrr3wW+Hs7xt7HgoUWTcnGLIiJl8os7O9TTMzs9TX32dLADkMlHHzmsFyVVRte32KARkMldEvHs9XCaO6ZPPZdm9vj90snThxgrV0YQCe6HxUsBzLnNqTDtK6JM7bUUUjQBn5XEWoJQMbrAvIdPcZ9YtaBja4uYc6ADeZKztl2vPE3iY1ShksO0gqE4c1fIYT80nqaraAjewdcxRQRgdkcHxEIj/+9AzddLqaqiqzarcr6cSh4YkI9Xfa23G4nwqMfnWeMrr2JRxTpZThtZGhjPisonXpzEAW/qLlKZZOhPrP58JUU5GgfZgMCy1cgDU9nR6aXw6ydioOa5AUxYcIZVLJFA0PD1FTUzPV1NawVa4VlFFdoVCIQd00saiOusY26+EiumNQrfDDcpj8YsDoVxxuUAYqJPjJlJWVMSUlPGHgO9XU1MRSlaCMgcKOpzBBAYN1AG2QuARAA/VdX18fU9mgxQmKG7SZmWEqYCpgKmAq4FwBA2XMFWIqYCpgKqCpwJ/8yZ/QP/7jP9JPfvITeuCBB2xr4cYW8aA33XQT+2D6ejIy/M53vkMPPvggjY6Osg/T+bQu4eTzVcoUCmXEAgPKlAbtyhlx+eq2l8rScdgw65UH95NZXV2llVCIJQ2RJ7u/o4IymMcMkpnq7TdV08vWsWdWKAfYiK05+YAV1eWar4oGvhDwfsCNFE9ecoIjL415qFZjIYR5uyllnFQyOI98lDLy+TopjbCuE2Ra3bYrgra2tphvBr7pn1v1XxcoI57P2HySTrRkr8vxOfu1PDaXZBHdqjaXqwUqZZygDNqFvPEp5idTHLR7wFwZt9oXB7uz7Tein8rQeJgGurNeKiKguR5QRqwrQA9PV4KZcDQWY541+B++NdMLXmquy3rB4LXg9/upr8tPc6EAnekvpWAwQPDegSdVV1cnU8vwdqTTfWqj84MoZVSvYw5lnP4ojyz6ta9JbBcoQjJc7nuiG5SBqhDwBR4wADE89hogC+1Lt912GyEy+8UXX2TeMlCZAeIgXYkb+3JAg8fREgjFjUleMh+xTAVMBUwF3CtgoIx7jcwapgKmAse0Atvb20xRgg+VkHXjG0Q+IMvGN4aQbOOG7vU0/uf//J/093//9+xmFDcjrzUoIwMZVW0BZSpLLPAR2s71ZVje8lJlcZISO7PMF+GEZFrqBGW48W8hqUw6KMPPAXAmF9hYS9d2LFUKhyCymqZQYIN9822RogIQIV6zhShWuEJldiU3vptDpoP4ycjPMXw1dO0bTlDG6Zg4xotXs/XF7/g2H/9wE+qkCHJSyWA/B1HKiOcqQxnbslnrxhrqGVWry9hcnN58q1qF4NS+5ARlXri0TkFKQzuP/XUFKCMCGXGuHM6Iqhlx+dAYgI0Fc2Sgca2UMuLxRCgjX1tQ9AC6oKUMIALx3dFIlEYmYqwNan61iFrq0l4wALmpFPV3FVFJSTHNAtgMlFKgKKAE8UcNZZY2fY7gEOd6ec5PKoPyNw46x2EjZQotS/ibh78LL7/8MjPwBdhGi9+9997LgC5gPtKWYPALRQx8Y/AeywENWp4QjQ31Gb64eD19YfF6+jtu5moqYCrwq1UBA2V+tZ5PczamAqYC17gCP/rRj+jXf/3X6aGHHsqY4n71q1+lP/zDP6TPfvaz9OEPf/gaH/Hod/f7v//77IP1z372MysOe+aS/qDllkljPioZrAdPmcMqZdygDIAMBocyqskvbXkptk/shsLv81NVdbYVY3MPJr5E/c3qeFg3Pxmn9iWVSkacnwrK8OVyfDRvdeLLZ0NE7el46UKBzfT0NNsdbpgyx5UMd23zdYAjmC/blxR5zb1kAGzaBU9oURHkBoKw36OAMvJxkTaDG3Nv6QmaXlanK0HN82pBGV0UNupzdRatOeo2l6W1BN151u7ZxJ9XJyjzzMUQ1ZRssBYUebhBGTEWWtz28tU9OtVjqW7gAyOOheV9QotQS1MgB9aw9SVPGXFbuX3JviyrlJHPg0MZ3Zve0HiEKWZgWr62tk67u7sU2iynRCJOoc0yaqqLkIcs35oifxH1dHgoGAgy75rpJZ8yZYofS/SUUR3fTSmTD5RZ3fEqoYzu/Y7PA/HWiMCGCmZlZYW1OaL9CAa++B2JTIAzPIUJCiJAGqQzIamJAxooaPCFBWK10SZphqmAqYCpgKmAewUMlHGvkVnDVMBU4JhX4N3vfjd985vfZB80ESOM3nooDS5cuPC6k2bj2+Fbb72VeQY8/PDDlFqddXx2U3ubbHk8GqH9mtw0Fl9xNjXFzeQX+9H5yYiTyAfKuAGZ2rIki9LFTUR9fT3V1WeTlxbXvbRvpQkrB1KXnEx+rxeUkSfHgYIMa7AeBzYqrxpRYYMbLLQacNNSbOsGSHRwRIZIOfMN2YENhzVsvk7AxgEEYdtClTKq85yYmGA302jjg/pH1U41tZRiyzok+MS9dJxUMpgvS15Ke8bINXJTyuigDIBMb2uuQozv/4mXojZjYfG4uGlWmfxinV88v0it9VHq7MhCO77ttYAy8vlfGg1nYIwMbK6M7lFVuZfe9MZq5ev0KKEMT4MCtNvfj1F3N+BCiuCtc6KNmNEw/GvGZpPMbDiRsgDvRriaWutjDAR3tSQZrGG+NcEA+1vxWoUyuCbwWgCIgQpmaGgoE3v90ksvMeUMIAtal9DmBQUM1KNQFqGFVwQ0AOFQkEJlAxNgM0wFTAVMBUwF3CtgoIx7jcwapgKmAse8Auvr6wxi1NTUsH77n/70pywWFB9MX28DRp4wa/zIRz5Cf/qnf+oKZfj5xaNhSlXaP2DvR6O204/E4pQotsww+QgG7O0V1xPK4GYJiiCkhlRUZo1RAGUaKvRGmc+P+6hBE5XNlQmq9gCc87VUyoh1dGvLYT4qmosRAOSuUynmAYGbLUQ/41rGcN2vi1JGVsnwKehUNOJyvq0Ia7B8dtWTASAdkjcPll8rKANACWiHG8e6ujotlGHHXErlABuoZ/gyGdiI6TjXG8qMTFvEURWHPTK1T6NT+9SjiGIe6CpiJr/4v6mxKedqOmooIx/w8iiiskuYWkYe80tWe5Ee2BSmlIFKRoznnpgYp2CwmEE7DKiMTvfm+sngfRVtUFdnEtTWEGPQBqqZRDyrxot6yqnI76f6asC/ZCYVCo8Rcc8py+hXNwpVyripZPDeAAN4tOxCKfPcc88xTxj83cOXEYC4MP2F5wxqAc+hp59+mv0tgV+XCGigxoN59pve9Ca2DzNMBUwFTAVMBdwrYKCMe43MGqYCpgKmAvTd736X3v72t7NK/MVf/AX95V/+5euyKlNTUyzK9F//9V/pbW9726GgjFyASDROnuIs/AjHctuDdiJEHp91U1MmRGCL+7pWSpm93T3C+eJmIhDMmpO6QZm5NS81V+dCm7k1D6G1SbWsrdZa3wnKOLUuYVsn5YkrPHFoQXppnKi2nJhJ58pKiOrq6ikQsOoBMKEz27XmpPd2cZyvpJKRrxWnbdHCAcUPji0PJCu116HNSI2gDuJjg3oA2kH9trZX4VgHFZThc5Nbm6CGyC5L2vYrK2aOQikDKKO7sQdUwOjvtLc2wcAWs355aJP62v2ZZC6sy31kXi0oo3qjhWeMU2QY/IG40a+8vVP7kh3KpGhoKAvtsB8dlMEy7vsjtnEBdjDfGkCaZS81Vu3QzEpRGtZY1wlaSKE+CVMtlRWn6IbuOFPWFCl8a44KykDxgi8aoBqDpww8YfAFBIA2fj516hRTHCIOG6AGKUswuIdiFOtANYo0poGBAQZ+0eIExQ1/n3ld/rE0kzYVMBUwFbiOFTBQ5joW2xzKVMBU4PVbAXwwxYdMDHwAxbeJr8fxwx/+kH7jN36DIEnHB2q39iV+jiqljHz+MpRR1QdQpigNBKCakcdmmNi3yRhVpeobb9HkV3UM+MmgfWl9bZ1gbItvcj3e7A2+E5QBkMFQgRc8rvKbgbKDj7kVj631STT1PSoo4wps0oBka2uT0I4xMDCYabt76rLd94WfB0tWSkORQtqX3IANjqNT2XAoo3puMSd4kOiGE2SS6wSDX3yrD/+UhfXANYMy4tzE1iY5CntlA+qlFNVVeainNRdAoTWmkPYlNygjAxk+31dGdpl3yG3nG2xQZojHYU9Gqa8jq3w7ecKewpSPp4z8vIntS/IyrpRRPdfMyHdArcL4yRMb1NKUTYESt4fJcL5QBtDu6lVAu07W8ofhBmV0NcC2gHe89txkGL41UcR4x6IU2i6hVCrBQCkbgDU+H/mL/AzawL+mtDRAvW0+8kgmzOI5qjxl3JQyOFeoYABY2traMrHXgDRQzaDlFfMCuEGiEtqZoJRB61JVVZUN0GAdwBikNWHeZpgKmAqYCpgKuFfAQBn3Gpk1TAVMBY55BcLhMJ0/f54lTOBGDuaFSKl4PUZ9fu5zn6OPfexjLDkDH5jzgTL5ABlcIgeFMqrLamOPqDTopfVdvV/GZthLLVX69iMOZWA+CbVMT2+P7VBuUEYHZLATJxNgDme4agbrQznDh+VFkwUKNmCjMc3l2x5EASLXlQOSUChEGxvr1N8/kFlFB09wPLGNSNwnbylyAy9OrU26ZaxmaaWM6voAlFG1NGFd1jKl5zU5qqC1tTX2OgC0AzDTKYagksHQLXcyAXZLZULcNQair+UxMZ+k+29Wt7I4ecoUCmVeurxJRclZVg/5vY2DmYHuLJS5MpZtXxyeiNBAlwVpZDAhGv3K53gUUOYyfGr61cAGvjXD4xE61WtffqrPMiIWlTJ4r5+ZAbTrp6KiIgZkMFTtS3gcSpl8oYzq2sbrDRAOgISra6CwYf41sRhTc1FxA1UGNsjn9zHfGryH83/t9R5a37OeH7m90g3K4FwRgQ0VDIAKoP0dd9xBSGS6cuUKM/zFawUqGHw5gdcOWpbuvvtu5ivDAQ3aIqGmQYsTPGgAb8wwFTAVMBUwFXCvgIEy7jUya5gKmAoc8wr82Z/9GYuQ/sEPfkBIqPiDP/gD+sxnPsN8WV5vA6lRTz31FPsQTWtzeU0/HygDIIMhti/JO4dKBoMrZVQH51BGNzF8CxyL6z/ob4U9VBJIMaXM9NQ0uylo78gaFBfausTn4wZlRCAjn4PY2gQIIA7ckKEtB0OOzMZjhUIZEZzMzc2yG6iuru7MofNpIxLnydUziO8GAOHx3VhHhCWFAhvs5zBQRguClrFfuyoIN5z7sRjdfLr+wH4yYk2uBZSRrxVAmp4WD11Nx2LLy8fn4vSmW9UqhEKhzHMvr1JlYJX6B/pzXn6AMiKQEVcAnJFVM3w5S1dKJam53prrqV4LfvBxvaHMlavWm9DpAbsvzOURS7Y3Mh2jU2nPmN3dHdre3qF774LpscdRJYNtrxWU0b33wbdmYZ2ovnyXqWsslU2U9vfjFE5ZKXm+kjqqCu6QT4A1UB7eNRB3jKaGohAR2FDBoPUIhuCALzD/BdwGfEGrH8AuDHxhCAyVGeKw8RhSm5DChFYsQBmY4aNt1MRh655N87ipgKmAqYC9AgbKmCvCVMBUwFTAoQJQxOBD6Dve8Q6WwIQBA0OADXyIVUXHvlYLCvk5PmjDG+Bb3/oWpSYvZqdakU0nkuefL5RxAjLYp9i6pKtRPlCmwn5fZ9vVlXk/VRZbqoPlpWUqKS2ligqr9QDmva8VKCOfP0AEoIYMa7AeYEJpgOh8TwE+KoK3y/j4GDPebG5uyRz+oFCGbwg4IyY9yf4vMBfuSMdhy5Cp0GPi2G5KmYMYD09NTdJGpIqqa2poZjkXhnFljJufDObFk5jk5zVfpYy8HYcyqtcJbv6X15JUn015t62GlignTxld+9KFF5aouSbMvETkcRAoI24LCMLVI1DMiMMCNilqaQgoY6QLbV9yUspgPjKQEeeE80SLEwYA/NXpONXXWwbnY3MJOnki++YDQ2RxHDWUWd7yKa+zRMLyrQGkWQ/7qcyzTlH2eyzTClVB81RWVpbzr7i4mK0D7y2AmHvvvZfBFx57jb9x8MW58cYbWaISBlSjMAWGcvSWW26xARpsh4QmqGyamnLNonXv++ZxUwFTAVOB414BA2WO+xVgzt9UwFRAWwF8qL355puZbBsSbiS0YCD+E8lL8JV59NFHXzcVxIdvfFCG0ucTn/gEUWiazT21u+54DvHoHqXaTjmucy1al3CAw0KZ0LaXakqThG+Vh4dHqK2tlXkeYCxtetm/2tLcVpGmdDuUzuQX20Mlg6GLy4baRaeU4W1MKhUM9smhjKrIHESojG/Z85fUm/VyAAK1ApKGGhubmCEnhluktZtiRRW/zc8F/zOzXkkRhMd5HLaqFk7HtObs3L50kJapkZERlkKF9CU50QkR2HwwYCMYC4ttTE4qGWx/VFBG6zUzE6ex2QSdaMn1qOnr8DO1hw7KPPHMHPW2e21x6bwG1wLKyNc2vF3QNsRVKuLyofEwVZZ76YG7KpXvO06eMtcKykANgrYleKxgQIF0qifrVQNzZHFMLhENdFstXCooJnrKqE6Kty/p3mh1UEZcf23Xm3l/wvsCa4OKxajKu0i7u7uZfwAtGFASAtZAQYe2KZheQxmDlijAOQAavH+iZRctTXitwIsMPjPw2YEBsAho4FmF9xl8cYH9mmEqYCpgKmAqkF8FDJTJr05mLVMBU4FjWAGkLP31X/81/cu//Av93u/9nq0CaGdCW9NXv/pVeu973/u6qA5k5kjN+PrXv06/8zu/k4EybpOPR3Zpv0R9c8S33d9Pkqey0XFXbkoZABkMeMroBtqXnJQyHMrAB2hiYpLdTJSUZL/dXtzwUr0iDhsKGowFxfKWdBKTU+sStnWDMjogg23zgTK6mrw04WHpSqrBjG8biH2Ljpjazs5OKiuzVj5KKKMDNuxcAVZ0wGaV6M6TGkWQA5BxOx/5XAHtRkaG2Q33esSCdro5A9CIIIZ7zGAbLBPjsEXFjBOQwbYw/uWeMvJz56aU0UKZ6Tj1aiKVR6f3aXQ6nhOHDUiDG/ifPz1NN/SXZ6CdOKejhDKq65aBlb5iggeMPBCH3dJQpDX6LRTKiCoZXIEjw8MMxENZiCFDGdVzNngiwGqsGlthH91+Rm98e62hjDiH3sZsEh7eE6By4ZAGMdj44gGPA8YA5OQzsC6UNnivxc8AnNgX4M4DDzxgkpfyKaJZx1TAVMBUIF0BA2XMpWAqYCpgKqCoAGTbSJz4tV/7NfqP//iPnDVwUweJNiTfly9fppaWbEswY8lUAAAgAElEQVTIa7WgPEEKrVfnW2vymiaATKq62XXdnb0oJQIaMpDeej9ZdCg/GewmXyizsbFJ8/PzdPLkSfKKyUsaKIN9L6x7iStm+AnzNCb8Pr9G1FSZVdmIpr1Y/mpAGbmNSHyisIyrUiKRMK2vrzOlDExcWauUQ2w1IBGGDlQ4HddJ7cIVQ7pIayzXefWubROd69Y7+R7Ex2ZvD3HpgHY9tLRVrD1P1ECGMmKNxdYmKCHkZRzYdCteQtcbyoxM7ysVHCNT+xTfj9PlsV3q7wywWGQ+eIvOqwVlVG88UNhkEopUK6RIa/Tr1L4kQhkoR6ASaWtvo8oKC0jnC2VUU2IqmQ4fA3G6URTwadO2sM1BlTL8OCKQUR0bEAV/E6Ci7O7uzsReA7i88MIL7D0U9YYCBsvhEwOvGahmoCTC+yzaIvEzDIOxHdqgTPKS659Ns4KpgKmAqUCmAgbKmIvBVMBUwFTgmFTg4Ycfpve///3sW9HS3ZW8zjofKBON7Vv7clDTbO7uUxxf1vrVqShlQW9erUs4TD5KmaXlZdra3KL+/r7MeUIlg6FSyuBxFZQRiwSljJjMxNuZsM76rofFG1eXpc1606a9fHvR5FcuvJNKBus6t+zYvV3kfXN4gqjjldUVlqwzE7LqIPq+8O24miefNiKn9iXtsrRKRnfxcRWNavlTV2CGrN4ymY4Rzrd9CYBqcXGBBgdP0syK11ElgyM6JTO5pTJBMSOPycUkU9io2oyw7lEoZXRQBse7OLRF/sQMS+bikfQ8bQjLh1kcdlblMZhu08Ey2ehXPFfRU0auAW9fUj2jXCmjXHYVKhq7US9f76dPbTGPGtVAq1S+UGZ3b5cZhff09GQglROUwfMFlYxucCijW35xwkNNdeqkLW6gfVRQBoDyySefZPAFcAUgBnHWUNKgNQlmvqurq+zLB6QwwSAb/jJ33nknOx2kNsFnBqoi7AdqTHjQmOQl7eVgFpgKmAqYCuRUwEAZc1GYCpgKmAq8BioA5c3f/u3f0te+9jWamZlhvf1oi/rwhz984OhtpF9AuYPWHTHa9kMf+hD927/9G0vK8KzM5HXWeUMZl/am3UiK/IHsN/DywXciKdoMezI3hPLyqpJU3ioZbDs9jfNLsXYdPnStS3z5QaGMOEcAGq6cgTGvPOZWvCymVuejoot5Zufi6KOihzKimmVufp5i0Si7JvhQgRfuATO7ak8qsicrOato3JQyOpUM5uUEZXTLMGc5WYmfoy6+e2lpkSXrwKhb9pMRnzsnlQzWczMB1hkAjy+kqLvJamGSR2gjRXWVxNKXVAOGsoW0LzlBmedfWaMy/zINDAyQh+zHHZqIkmhqi98zr6lQnJKJbLqSHAl9vaHMZRj59ucCG+5bA7h0SgI6fM6iUoZBu6VFOjl4MpMgdJRQBoo83XOK6xNjM+K3tcrhMRES43fRU4Y/R25KGbS1wi8Gpr1QukARA0N4pCvNzs4yKIPWRxgfI2EJj8NXDesA1kBVCkCDKO2f//znDO6w68ijvn7z+sNjVjIVMBUwFThmFTBQ5pg94eZ0TQVMBV6bFfjjP/5j+vKXv0zvec97WNoTvnF85JFHCI9/6UtfynvSkJnDmBG9/WhDwIdjmDHiH4AMYM03vvENKttbzWuf1wvKsJuOPaKSQO63xRth68P92o6XShRfRtem1SncTwbroq2svLyCmpuzCSDXC8qoCsugQV2KQQd5sLanupQtUpqvw819ddDGrX2JK1bQbhAIBqmttTVz+IPAE9FkeDadFMV3JIOmg+xXrIUTkMF6Tst14AqPo+0JrwsxvnttbY3qSneoo6OzYCjDvWXclDKq64FDGeWy+SQDHboBRda1hjLPvBSihsod1p4iDxnKiMsBMrhq5spYOvM+vcLCyj7zqkEc9qme3Mi0o1DK6KAMpoS5YsgqG8wDA547J9PzhBqkrmKLent62bLDtC5hezeljBOU4fUObfuYF5M4AJL5iMY95PMRVaXfD+vLrWvIDcogeQmm14AsgC1Q1QGyAN5zs/tf/vKXzAz4pptuYqb3gDeIzxYBDf7mwAAYj7cK7zPaC9ksMBUwFTAVMBXIVMBAGXMxmAqYCpgKvMoVwAdeyL8/+MEP0he+8IXMbB566CH64he/yKTiSHvKZ+DmEwkY+OAs/0PbEgZk5f/P//1/0I3nb2Ry9GBxkAIB/AuQH5/qhfFagDJ8OvgWWNW6tLJjgY4VmAAHU4ROlsWFRaqqrqKupqw65zBQRm5dkp8LUSkjL+PKGUAZ1XD2UfHQuW79DXo+UCZFlh9EfV19xrTUrT3JUbEiQBkZMq3vWJ4wtRVqyFSIEobXrBAog21VwOa5S8vMALqiopJmQnZVkNh6la+fjOp5dUpmcoMyJ5rVKoNfvBJnKhrV6G3zsghnndGvk1Lmyefnqbs5Ra0tWWjHj5EvlJHnBEiTjcO2wAcfw+MRlq7U3FBEp3oVwCZt9Ks6T0AUXfuSG5TRbYfjoF2Lw6Op6SmaCwWYeS0GFE2D3dn3EjnB6rDtS4VCGbE+63vejHIGgJqP23vS7aWKYiKFaWhoiIGYu+++mylm8Pfh3Llz9PTTT1N1dTVrebxw4QIzgAbkf/7555lvzJkzZ2yABkoa/M25//77qaKiQn2RmkdNBUwFTAVMBZQVMFDGXBimAqYCpgKvcgU+/vGP06c+9Sn2LaXYXgJ1AzwNsPyTn/zkoWYJfwB8qEYLEz4w39lUTOXlZdTQ0EiJZDaZY8cTZAobQJqygI+SVU3sd7RB6eTozFPmkO1LOpWMeNI6KMPXCW17qLoUySJRVsvuri7aSWTNh+U47MZ0DDbf3ql96bBQRgdkcGwnv5mXJ7xUU66GOcn0w25mvDDyHL16lTra2zM3S9cKysgXJffH4UbB8vK5FQ/dcVINmQ4DbNxavESlEeLBcSOKb/M3Y9VsityLhreK8HmzOOx6q9CyIsatdQnbuLUvqV7UAAA6KKNrXcLjofUE8zVqqLanl/F4Zico8/ML03Smr5TqanNNe64FlJHPk6lkeouJq1TE5cNjFrC5/071jf31gDIjoyMMSDQ2WIlyozNxOnnCgjKi1w6fN+Bdf1eRFogdVimjUsnINRWhjLispyH7/i5vg7ZZgBjAfKhgoNCE4W9vby9rRcL/SCjDz4jCxs9oj0VbKFRVUMaUlJQwQAN1IuK0AWVEs+hD/eEyG5sKmAqYChyTChgoc0yeaHOapgKmAq/dCrz1rW9lahh8oJUHPiDjw/KPfvSjQ50Al5X/5Cc/oTt77UlRMEmNRqOU2l5lEnX+r8TvpRW/9bU8vj31+/wsUSMZKKFgwEppQeJGbD9+5FAGQAbD2eTXgjKbm1tMLYRvdf3+rPIHUIZL+rEvbvzLf65Ly/3xe0uNHRy8WlDGyQT4F1e8So8aDhG4imZnd5e1GfT29lAw7evj1mKEGmgTkqT2JfHCdDMtfnlSD5kgsXFKZXLyojkIlEESFYBnd/cJCu2UZICM6gUm+s3gxlsc08spaq9XgxcnlQz2UahSxtFPZjZOva25cfKjMwlaXkvQ1m6STkjL+zv8LML4qecX6ObTNVRenpugdpRQRlVz+NAAnKnGwvI+NTf4r7lShoMWKGUAKoYRl97axlpBMUQoo5oXQJpHSHmT1/H5fSx9STfclDJHBWXw3EMFA5NeABgk9KHVFeeNx2HYi/d5qGbwdwhGwAA3UG4iKlwENPgbBuUNWp/wd8EMUwFTAVMBU4H8K2CgTP61MmuaCpgKmAocSQXwARetQ5CFy+Pmm29mN01ocTrM+OY3v0nvete7mIlwbXwrr13FwzsULa2laCzGTGIj0Sj5U3EWn4uWGIzS0nLaoBIGa8R/pSUlmZsUN5Nf7MdNKZOPSgb7AZSBceXa2joNDg5kzlMGMnIB5te91JiOuxZ9Gvh682uezHIY9oqDpzDJEdl8He4noyq6k0oG6ztBDt0y3lIE7xcAGqiktra2qLm5OWMU6gZlHM14C4QybsDmwpCX2tKqFLFWULm4tS5hfSffHXEZ/ELm5wHtBmluzZc3lJGfP97aNLmYq2SCigbpSt2KNiQAGQwY/apGIUoZ7OeqBspgGTxRuGKGHxPKGYy5pSjtbO9QT2dlxhh8oDN7U/1qQBlVSxPm+tNfbFJLg/qG31LeqI1+sa1o5CvXXWxd2gvv0eQk4tJPUEmxZRqcD5SBUkY1ppeJVraIGiUFE18XcemvFpSJRCIMrABgV1ZWMuXLrbfeyiA9/uagpQmvF/jLwOQX7yUvvvgi3X777ez9ngMaxGMjhQlqTPzNMslL6te2edRUwFTAVEBXAQNlzLVhKmAqYCrwKlcA31BCEfPUU0/lzASmv/CCgTT8MONjH/sY/dM//RNL0fCEpvLaVSKyS6nq5px1IXXfj+9TNBqj2P4+be17KRaLst/xLXNJaRlrdULLEz64e4vKKE6BDLTxeL1UGrR/o38toAyADMbs7BxT+3R3d2XmfhAooyrO/Jrl1yDGYPP1AGyaa5LUVqvxjEmb/Kr2exRQBscRAcjCwiKFw3tUVGGZlrIarVrAhg8RWrj5yWAbHQApBCLxOWgh04qH0PakAzZOKhnsW14eCi3TxsYGi3+eDmVbl+TnxymVCes6+c1MLKaYya1qrGwS3dyvfwleLyjDZ/Di5XUqpgUaPHmSJS8NT8Wyr5sVtEQlqanWUnkMdNvBg2j0K5+R6CkjL+PtS6oqQCmjgzJOrUuPXthiflKtTXY3cFW6knxcEcqsb2zQwsI8SxHyeqz3KScowxO0nKCMDMT48cfnrWtkZddPXRLAE1sej0opg/QkRGBDBQMQw2OvoTQEmILnGP4HzEcKEx4fHR1lpsB4DaH1CYAGLUyPPfYYgzuom0le0r++zRJTAVMBUwFVBQyUMdeFqYCpgKnAq1yB66GUefvb387gzo9//GOi5cm8zlgHZcSNoaKhUsuXAyMeT1A0GrGATTRK0ViUkp4gbW7tZtYpLq9lbUVMWVNUxMyFIwlAm+zNVKWUapuPUoZDmfGxcXaT0NKabdM6DJQBkMGQ42f5CVkmv0kGOlQD6T9nO/U+KqqYbOyH+7IcFoAgXcXn81N7e1tmeiIAkf1fRAAiH9tN7VIolClkv3zeUAQhvUoc2Shs6zkRz2N2doaBhs7OriOFMl2WHUnOeHY4aUuCElcAyNH5yWC9QtqXsJ1KKcOP++zLK1Rbtkk9J3py5gpYIZraDk9kgQ3ipStKPdRU56eTJ3Jj0a43lLkyHlG2NXHfmpHJWCZdiZ8oBzYilFlaXmLKsv6+LDlzgzI6IIPjQCmjgzJYDpXeCUX8uZh4thXx26Bkk+SHhf2oPGWc/GTY3KanmQk4gAt+Rgst1DGAM3t7e0w1c+nSJYKiBpHZWBcwBiAGcdkc0GDdZ555hq3T3t6uvvDNo6YCpgKmAqYC2goYKGMuDlMBUwFTgVe5AkftKQNly9mzZ1mv/z/8wz/kBWUAZDBUShmxXDKUUZVyN5Ikrz/Avom1QE0s/XOMRa56iy2oE4vsMf8Cb7Amo6rx+f1McbOx66XiQBZ68Bhsfjxu8otvyoeHhqihsZHq6moz0zkslNEBGRyAQxnVuQPUrO8QVaVVPPI6sM5wgjI6IIP95AtARkZGqaammtBi4LaduFxl1otzxTf4qjlfK4ikqmO+58puNIXYcat1LLtH1HN8fIxKS8tYO1ehShknlQyOBqWMDspgma516dHnEzmGwnz2MPHF0MZhH7B9ie/3qRcWqLMhTm1tuTfTMpQRnxsAmoF0y86VdNw0Xz48EaHKMi+Lw+bgQ9z2KJQyOiiD4/I4bFGBI0Z4X52J02DayHdtfY3a6mPU2dHJpgwgg8GNfuXrE0qZo4Ay4nFWdnzsdYexsJHrG4THd2NeOtVmzZUPJygDMAmogtQkQJmXX36ZKR2hmnn22WeprKyMTp8+zWALzOHhNYPWJcB0fJEgApqlpSUGb+69996MD4/qdWweMxUwFTAVMBVQV8BAGXNlmAqYCpgKvMoVQGvRpz/9aW36Epb/zd/8TcGzBPjAh2okOP3Jg7+Z137yUclgR/lCGX8gN/YW2wMYre8kKBm3QA0HN5gzDIgx4E/gKW6goDdGgWCQYlRB/iIL1qDdAoPHYccTCVqbH6LOzg6baakTlME31RjcU0YuEG9d0hXODcro2pqwP/ioyB41eBzQoxD1CJ8j3xY3WSMjIyw1BZ4RGIfZL1Qp8JuRo7CxX9Th9kF9fPdBwIpY68PAHrl1aWo5RbiBrKyopNKysnQcdkrpK+PUvnRUUAY3+Eofmrkki2XuaspVYyEKG+OgnjLs9UdETzwzw+KeG+otaCeOfKGMvB0gDdQzIvjg6wxNRNjxVLAG6xTavuQGZXQtUTjmyOQ+ney10pX+88IsBUuC7BrBmFhI0kCXtUyOwsZj1xvK6N6HNva85JO8hG89oY/DxnsDQAw8y6Bw4bHXSFmC4S/SlZCyhOQlpADi5yeeeIKlluF3tD3B0BeABml3aG164IEHTPKS7gkyj5sKmAqYCjhUwEAZc3mYCpgKmAq8yhVAagW+nfzgBz9IX/jCFzKzeeihh+iLX/wi69s/d+5cwbO8cuUK+8bz3//93+lN5/ry2k8+UIYBGQyhfUneOVQyGDoog2VbYQ8VB+x3E8y3Zh++NVHCzcZ+PEHx8Dpri0ryCG+PhxkkIwkq5qulqmCc1sMB2trapobGBtYWxcf6rofKAilSyf5Fk19VcY4SyuhMgAE9ADnkthzM7yDAZm8vTFNTMC3toeJi68bSDY5gHZ1Ch0MZVZ2wLM3RlNcYAMBhW7FUO3Y6HxnK4HoaGx+nrs5OWt0rz8wHihl5zISgskkplStufjI6lQyO4aSU0UEZbDc2l6QeRZvL1dkkjc/Fc2CO2DKja1+C99KTz8/TjSerMhBCrMNhoYzq+QKowetbNZCudN/tuQlQfF0nT5lrAWWgHmFx6S2tVF1jKfiuziRoMN2eBXgjD1xjb7kjt32Lr1do+5J4HFEpo6ob3iObqnOBaHe9Pg4b769QwSBpaXBwkMEXeMIgiQn+ZvibA7UMDHzPnz/PoC5MgfG3BCozEdDAFBggHa1PJnlJeWmbB00FTAVMBRwrYKCMuUBMBUwFTAVeAxX4oz/6I3r44YfpPe95D/tgi1SLr3/96/S+972PvvKVrxxqht/97ncJnjKQm7dHcmO3VTtPBEquWeuSE5DBsVVQRpwT/GTK00Ib3Mwl4vFMIhTA0GYkyBKhkpGVzGbwqikOBpmyJpysotryJIM3Kzu5CSmIxkYctq5FyQnKOKlkMBm0LxViAMy2TacnibXIJCspgI3NrDedkAT/B7QnDA6eJG86stcNyji1TLlBGV0r1ssT+ihsN8jkNl/UJ9/kJXiFzCIuvb+f5teLtNthn7iZ1sEDLLv7jPpl6da6hK2ckpdUShlso4MyDBzMJnLamtCSw7abTeR4lvR1+Nmy3b1deu6Xq3T7uQYKBnPVbEcFZbQqmfGI1iCZxWHX6+OwC4UyHLRAKQPvFKg+oBJB/DOrrQBlVM840rT4a0tejlazw0IZNyCDYxYCZQAoAVlgNI/UJAAafDkAMIUvCu644w7mKwM1DVpfAV2QEPiGN7yBiouLbYAGkdmANlDcQMFohqmAqYCpgKnAwSpgoMzB6mXWNhUwFTAVOJIK4Bvrz372s/S1r32NycDRbvLe976XPvKRj7Ae/sMMtD595jOfofn5efKu5Jm8FJqmREO342H343Gi6lbHdaCUuZZQRnWwlS0Pi8KGHB/niOhu3CAw/5polHYTleTdX2WbwvA2GAwwWANIAw+b9UgpNVcTLW6obyaQrnRjt/ob5+sNZfj5y6lNov+LaNQL1VAwuUh9fVmFlBvkcFLJ4Pi6uGwVROLz1S3jkEmlCuKAp9D54tg5yUsrK7S2ukoDgwM0E/LqYc6y/jyxXyhldKqgla0U3ZQNurJdsk4qGaxYiFKGgQMFlOEHvjodp9727LU9mo7CxvIr8H4JrFFzUxORx0sDnfb3mlcDypzqUbc6/n//a4MGeyy1lzywzWGgDG9dQvwz3n+hHOFwIR8oI9ctU/vZBC2se6mnLfe9haupdEa/fB9HBWXW19dZBDZUMHjv5LHXaO9DSh8SlpC6NDExwVKYAHehIsLjOzs7GUBTXl7OkpcAd6CiMclLh/lrbbY1FTAVOK4VMFDmuD7z5rxNBUwFjk0F3vnOdxJamCBP94TyTF4K71CqJptepCoWVCoxf5ljHQFlSsstbwbdOIhSRrUPDmWwDPGtaGmC7wEfUMKUF4XTsd2W0bAFbNB+laIw1VFxat0CNUG0Q0FhY/0f2gnS5p6HKorV7RYbux461a5vEShUKQOIgaE1AQ7ZI63FutiSlWZmaD1cQTW1NZlV3Mx6C2ldws4LgTJ8O/lcRc8aGdiINXHzx5GhDG64EeN+ors7B9iINYS6QQefsJ5T+9J/vpyi9lx7FrZ7+CQ5qWSwzrVSyvDzkaGMeJ7P/XKFqorX2Q01xshU1ih2dCpmgznc1JdvLxr9yq9L7imjer06pTIBrOigDLZT+cKgpWlp1XoNtjTYlXBiHLbOU0b0k0FCHdRlaOPJ1C8PpYwOynDTae77w/c5uZh9P1nd9VOn4BXUVmtvQzoqKIP0JPxdgAoGqUv4HYa/AC9QlN12221sOQAM1DEwBQ6FQnTXXXcx+M0BDcA3/GhuvPFG6urqcninN4tMBUwFTAVMBXQVMFDGXBumAqYCpgK/whVA+wU+XOMm46t/87G8zjSRB5DBjvIx+d2LpCia0vstbIf/f/beA0au7D73/FfsnHPO7CY5DDNDkZwkjaSRrOcnWBY8cJC00NpeWRaeFxYkyGEd1mFhwXi2ZQsPcpBsYw1rZQES7CcLz5ZsxQkckkMOJ3HIZgd2zrmru3ItvnPrVJ26dc65t6u7mXSOIEyzbjr3X7du9/3V9/8+D/n8AbJHYIsTFduXZCfAoQwec4Zv3qS6+nqqr8tG7sDkF+1J9oHa4AF9bpWoxLuZG+OdTrrZTdVSZXCbKWqCwTS0YT8HyePx0puTHnWyUvqAhbQv6QAHdmtXyojnJoKKkZERqqiopKYmK5+Zwx6dWS98bGQwSNe6xPetgkiFAhvZfkVgw6CXEIctAiU7kMG+xsbHqLiomEE72XJeRx2UAZDB6FREXk8syH1obs8D5iSpQwJsAGJ0Khkcb6/tS/xcdFDmpWsL1FobkcYYA1ZwY1soZsQxPBGl/nZLVTPYLYnDThv9yj6vBw1lcAykK9mhi2gyjPkO9mQVOGKEtwhlpqemmWqkqzsLF3RKGbQuqYAM5oVrzA5k7DWBQq+ryXoV17N9bEZ8rAVSZUSO9ffavoQWJahhoISBCgbJSYAraD9CixLud0jsg5KmpKSEjh8/zlqaMKCsEQENQA08ZbCfmpos/JW99+Y1UwFTAVMBUwF5BQyUMVeGqYCpgKnAA1wBPGDAL+BTn/oUfeajz7o604OGMrr2pY1domhC3561FvJSi+ZvfQ5l0AKGh4X29naWNsWHCspgOVoLMMQHnhSlCPuCkgbLS73rmWQo1JOPQCDIVDaNFdEMsAG48fmsfV665aOWGnkaEQxkVSa/7OFM4icjvnluoAwilG/evEEtLS1UXW2ZlroBK6q2nLVtD53skZ+P03wLhTJ7UQzZI7yxLQc2gDX4380bN1k0OMxM9wNlVEAGNVZBGSyDQkJmAoy2pvHZpBT09LR6tUAG+91L+5J4HT1/eZoGOgOZuHRxmQhl7DcOQBooZ3jUtLjcankKsPQl2bhTUIYf+8a4BZSOCq1PYoT32EyCjqTBki8+ybxk8Jnh4zChjAhkVDfnlW0ftdUnaUERhY17lwzK6Ex+AWXgFQMPHahg4CeDls+hoSHmFYN7KHx18DNSl/AzzH8bGxtZK6QIaKBOnJiYoGeeeYZ5zZhhKmAqYCpgKrD3Chgos/eamS1MBUwFTAXumwrgm1D8Uf2Vr3yFfuL8CVfzdgNl3KpknPxkAGWKg2ooAyATihIFfPnfIPOT2djxUntNgkI7OzQ5MUG9fX3ML4YPJyij+wZ6ZtWbYwCcSADWRJjpJf67uFVERclllhTFRyDgZ5AmlKihpupYuh2qiKVBwW+BfxvO/Ghs0IYrTXQQQwdkMAeulAmHIzQ+PkZdXTAtLWHTczLqxToqtcvrt9Vmvbrt+HEPQ0XjBk7xFhIANbSn4Nv8pa1iKi0iOtUjb0tzUsrsVSXDrw0VlMHysdkUdTfnfkShnsEYn0tl1BR8DZjIYgDIYPB/2z/kKqUM6vH8yzN08kgFS+CxDzdQRnZDAaiBekYEH3y9m+NhOtIVVMdhF9C+hH3LlDL8mIAyIpDJO8/JOA31BpnB8A8uTrIUKqQOYeD9GugKkphkJW6/X6XMXqCMrNZ4DbAmFPPkKWke6cq2otm3BXS+fPkyO0/4wKC1FS1sTU1NLFUJKhlcEzCcR+Q1wD7WAbSBykwENFDZwBAYrU8meUn1LpnXTQVMBUwF9BUwUMZcIaYCpgKmAg9wBb71rW/R+973Prp69SoN1qjbiMQS3GtQhicvyd6mpS0PxeMWsAGU2dzYpOaWZuIIB341nXVqzxcoYfYCZcQ5zKxaRwFYwTfPUNZEo5ZXDf67tF1MRcklptDA8Hl9Ga+azVg1tdUmWJuA9SDjoelseBTNrHiprS6rSsnxUdH4yeA4HMrAtBTeD2hd46alTlBGBU6wXxUowuu6+O7DUtGwc3XprYN14Y0xOTnFvumfXw8y+CSLwmZvVkrtKaPzk9GpZPhDviouWwZl+PU2OpvMS1Aam7Guj9GZBHULniR4jRv7AsiI/xav353dHbr82jK97US9VOGwXygj+7wC1KSScrXV3HKM3nlWHYet8s7tW4AAACAASURBVJTBcQ4CyuBzOzY6Sp1dnRkoMzqdpCPdAbqVrqP9nLy+fHNkcR2n9qWDgDI43sauh5oqcwGj7r4HoAz4AgUM1C/whEFbktfrpVdeeYW1vAI8X7t2jc6dO8fub4A4aG+Csa8IaPA61EVQ3JjkpQf4jwlzaqYCpgKHWgEDZQ61vGbnpgKmAqYCd7cCf/7nf06//uu/zhQCgYlr2clU1isndr9BmeoS62EEZpWh0A719fVmzg0qmbiayRCeD/cDZexKF7GoUMSgfQkPN8xYOBqhaMRS2KzslFGZ10qEgjcNS4RKe9bgv6s7pdTV5M0kmfA2HqyPn1sVPiqin8zi4lLatHQgM63DgDJ8TiofGl2ykm5bp2VuFUP85FdWVgg1GRoaZMlLKgAFULO6RVSj4ANQVBSilNGpZDDHvUIZfl6IvBZVMmi3EZf1tGRVZjwKG8uv3dgggLsnHm2TRjofFpRRtTX9y3c2aLBbnq7Eo8lVZr0HAWW2NreY2e3AwAD5A5Z6j0MZ1c3yu1cT1Jf21rGv09vicfSUOQgoIwMymIsOyuB9R8sSVDBQ76GVCQa++IwMDw+zhCUAXbSD4mf8/rh+/Trzjdnd3c0AGrQ8/fCHP2QGv1DXmOSlu/v73hzdVMBU4P6tgIEy9+97Z2ZuKmAqYCrgWIFf/uVfZn8049tMz+J4dv0tCwjYRzIWpmSghJIVudDGW5L7hHon25eclDIcykxMTpLP680xLdW1LuHcX5v0U12Z/Jv75uok2duXxHpBKeMEZXQmv02VADRZdY3VFhWhjYjVSlLuX2MqGqhpWCpU2mwYrTfcLNbuoyLGYXvCU5ZpqZCIUiiUOWi1C4dM8KnBqCnPfssvwpKDaOPi79ns7ByFw7vU29tLk4vq9CpAmU5FetLEItHUorzFC6CmED8ZzA9ABsPevsTnLlPKZJZp4rBvTSUyRrNcNcO3uz62SzUlG0wpwQ19+TIAGQz763w595SR3UN4+5JsmS6VCdvxtCRxWyhkbo5HaLAnH9i4SVfStS8Np1uXcLzl5WUGJY4cGSRPmmM5QRmYN/d35Mddw5QZA8lvPS1WmxkfItBzgjLcT0ZWS/5aIVAG8daIwIYKBucNXxgAF0CY1dVVOn/+PN28eZNBXawDU2Bs8+STTzL4zQEN7i9ocTp58iT19PTopmmWmQqYCpgKmApoKmCgjLk8TAVMBUwFHuAK4FtOeGj8f5/7f1ydZSKMKOxsnDQ2Su5u520L9UesIj9+BqlEfCB5ycnkV+cng/3AU8YtlMEDRVV1NTU2ZJ+onaDM3Lq6fenqmI8aKuTAprU2RToow31j1FDGQzD7zR8pgp9JXdlO2rsm2w4Vi1mtKNuJGqouQiJUFtRwpc3cup9gagtYs7S0zFKiqqqsSHIoVsqKqCCz3oOGMvy87fsVFUF8ztys165scWpdwvZiGhMePAG52tra9gVlsN/Ohvz3Dm1NE4tIrsp/VxGDvVc/GXEvBwFl7LO6eG2Rmqt3mefU8ETWEwnr3ZqMUV+bBRvyorDTSUz21/n+DxrKYL86YMPjsJuFOGxRjeMWyszOzDJVW3dPd6ZUhUIZ8foWVUxiFDbWWd0JUEf6NioDvIcBZdCKND4+zkAMfj8g9joUCrH2I7QuoQUJkAUtr/i8QE2DdCX40Dz88MM5gAYQC6a/UNnAQNsMUwFTAVMBU4HCKmCgTGF1M1uZCpgKmArc8xWA5B8pIh/96Efp//7l/83VfGVQRrYhHl6o1Er04YOpZ4SxE0kS+bMpSHxRaZH1zbGTyS/WcQtl8I0tZPcwoRRNS/cDZWZXvdRUlQ9lZtNeMvgv1DT2AYjAoppr5SayWB/QRA5l0J4kV2IkEmiFirCWiOqidIQ3WqKEuoeSdVRftstgzMbGOlVX11B9fT35/X42J7VdMtqo1Ca/haYn4VwPYls7rOH7RRuXCF74eyG2ceE1fBaGh28xw9KGhvp9QRkZkOHHxUO3vbXpdjpCe3I+lReHzZUxTq1L2L/YhiRec/b2JXGZqJSxX6cvvDxLva0eam62uQsTkZWg5CeumBG3ZXHYHX5pFDZPY5LFZGMfhShlsJ0KyrBlEiNf0WR4ZDKWo7IRYZKolBkbG2PeOriH8KGDMlDJYMiUMvz6VJkv8/3Pb/hYGpcsChvr7Ma8dLxT03+p8JPBtqr2JUAZqGTgsQQVDGKv4QkDw1+oXnA9wPQXnjOoBZRl8JzBZwf+VCKgmZycZJAGyUvYhxmmAqYCpgKmAoVVwECZwupmtjIVMBUwFbjnK4BvMfFA/rd/+7f0s+8862q+bqCMDMjYdx6KJMkfsBJ/7IPBGiLa3CXy+eXmw5UlFpDBcKOUgc8BvvmFhF6MZdUmL2lUMjiuCsrw85EpZaBGwUDbkz0OW4QwhUAZ7FemDgFwsNKgokwNUxHYoEgknANr4FuzS/XUVBnJ8a4JBgNWItSyh9BKVFuRD5KgUDkIsCK7FvazX14LewsXq386DrsjrWjBt/yAMu3tbbQettrDdJ4yuvYlFZThKgiV3wwe4ruacqtwe86q9/h8Mq9likMYJ5UMtlc9/KugDB7Mn780TQ8NlDMlnX1wKCN7z26OW3HYWMc+hm9HqR9x2OmIaXE5ByUqTxkteFG0NmH/WiVMWgE0mI7nxtzFAbPkge4AIQY+uTtCDfUNVFdfl1nFCcqogAx2gGvbLZSR1Zmd25yfWmvzwW+9oODba/sSPgtXrlxh7ZDwgUF7Kwx/oSDDz0ePHmW/NxCHffz4caaAgbEvvHYQlS0CGqhsNjc3WeuTqJJUnY953VTAVMBUwFRAXgEDZcyVYSpgKmAq8IBWAH9U449lfPt5usVqYXEadwLK8DmolDKANRhrO14qDsi1HbVlKULyEgY8ZdY3NmhudpYGh4bImzaE2I9KBvvVQRkxeUlWU5lShn8bvoZusBRRdZnoo5Ldi0opgzXcmttubVmmpfCT4QqbubUAlftXWVsUHsqt4WEPUzupWmquiqVboorZa16vVd/9pCtxhcvdiMNOh16xc4DJ8urKKnvY3AoH6ES3WsXk5CmjgzIqIIM5yKAMf9cRrYwWJz7G01HY+Pf4XJI6hWXig75OJYNtVVAmHA7TpWuL9OhDdVKFgxsoI7vuAT2SIBySMb8Uo3eckaspuMJG5imDXe1VKcMPj7YsDmRkc7o1Fbfiu0fDtLiEuPRaKi62vGsm5lMMMPEkK/v2Kj8Zvp4TlOEqGWmx0i+uhrxSKLO4mfWp2Y15Mm2W1aXZ2quUMgC4+J0AwAIQw2OvAWmgmjlz5gxTlgHcoKUJiUwXL15krUtQIYqABuvgXoG0JqjxzDAVMBUwFTAVKKwCBsoUVjezlamAqYCpwD1fgS9+8Yv08Y9/nBYWFqhsO91D4TDrewHK8CnqWpdWQx5a2fZSedB6CNnc2qLd3TA1NVq+Bvgm+bChzH5MfkXVjL01Zxpx2Olvx7nSg9fErY/K8vIKraws55iW8pYePDMnEvGMyXA4HKHFrSCVelaYbwQfUNFYiVBFtBGpYF4p8K4R47Wxri5d6bC8aNzCKX4uq6trtLAwT4ODQ/TauJeqBWNh2UeiUKWMTiWD49iVMvzYdigjzmkMcdjNWTg5OpttZ4HSo1tY1teWfVjXtS5tbmzQtbc26PFHW6UxxvuBMoiQlo3vXwpRU53iwT2Vkpr88v0cNpRBK8/UlBWXbkXUE6G2njSYlJ2Pz+9Tti5h/cOEMuJ8NsMeakwrZwBxME52ZD/H9rnjXC9cuMBUMDhXxF7D2BeJTFC+wGcGvzNu3LjBfobiEu1OMPmNxWIZQAOFFcA/wA58ZwBvzDAVMBUwFTAVKKwCBsoUVjezlamAqYCpwD1fgU9/+tP0ta99jSVl5CQvKWYOIINhN/q1r77f9iW+PydPGbd+MtgfHqjw7S5MS5e3rIeDhU0vVZfkS/+5T4zO5BfbOyllDgrK2OvLgYPURwVeNS58VBBny0xLu7OmpXafFfG4PJUJ3jz2RKjl7WIqpuXM6vhGXIzwXt0tp65GL/umHCIlcd52YGNPVsJOC1HR7BXKIDFmeztE/f19Wj+ZF69jPvIPCEtXWpSb/GILmZ8M35NOJYN19gJlxNmNCMlLozO53iNQ0XSn47D723MTgq6+uUZlvkXmESIbhwFl0GYka2vC8f/ndzfpSFd+KyOUMzogg22d2pfcKGWQOITY56GhoUw5WGtTlxwwjUzFCfC0N22GLNaQt53dDSjD59EuaXniywBcEIENFQzSleAJA0UlPHWw7IknnmApTEhleuyxx5gpMO6vTz31FC0tLWUADdoeeYsTPGhMHPY9/yeBmaCpgKnAPVwBA2Xu4TfHTM1UwFTAVGA/FfjxH/9xpnz4l//+fznvprKe3KhksKODgDJOQAbH2QuUGRkZoYqKCmpqyvZ5qJQyeB2DLZfEYTfXJAvyk+FFdk5eIqXJr1vYoPRRqbeMb/EgVVQE09IWNi2+vswUF8udorLha2H51oRzoA1e24pXU7lvjXw+b0ZZw6HNSqiEupp8ebAGxxSBjQzMFBqHLTvXiYkJ9k1+R0dHQSa/SMRa2SLaCRO11ee258CoFaNQKKMDMtivXSkjfphFKGP/kI9Mx6mv1brWb03nApu3RkNUX75DdXV1ebHXOiCDfXFPGdlNhS1TKGV0UOat8QjJvGZujEYIxsJHuiVx2GmfmEKhDG9dwnkg7hktXWKssw7KsPd7gcgOu/Be8bGw6aOeZqv+dsUbXttP+xI/BlQyGFwpw19XQRm0LcJ7CwAGKhjAFx57DVCD5adPn2aJShinTp2iN998k9Xm0UcfzQE02A5pTVDZiPdd2XVhXjMVMBUwFTAV0FfAQBlzhZgKmAqYCjyAFYBqBFJ8gJk//tTH9We4aakgkuFtijf2OlYjkvKSr1IhJ0hvrTP6xSoHCWXgYXHzxg1qbmmhmupsIpRj+9Jafhz2/Lr1EDW7lvVp4AVBDDYfTnHY+uSl/UMZ2ZuUATUpovmFBaooL6ey8jK2Kkx8T3bL472x3AnKqNQsU0tE8USC6lmEN6AN0qCsGG884CG+uzKwznwnrFYo/t8iWtoqyqQRqdKVmCpIEj/t1MZlh08w+YUfRlNTY0FQBjVSqWTwOsbkQorabB8L7hOzFz8Z8b3lD/li+5K43C2UsV8vL16dp67mJG1H82OMEYfd2+bNi8LGPnRAJrP8AKEM9smgS08ulOGmwQA2g7ZlohpH5ykjQhkxLp3XqhAoI9YZ0LGnxbqfAOrZx+qun84OqD+TKj8ZcT9i65L4ug7KQDkJoAIVDGKv8dmE4S9amuC5BEPfF198kRobG9nvkEuXLjHgDQNgEdDMzMzQzZs36T3veY9JXnL8rWlWMBUwFTAV0FfAQBlzhZgKmAqYCjyAFdjZ2WF/SP/FX/wF/cJ/fdrVGSZ3tylZm42DlW0EZUTUr48+BZAhb4DIW0w8/tq+Lycos5fkpXAkQuNjY8zUVoxl1SYvSYBMzgPVqjcv7ppHYWM9exw24AEfznHYhUEZJ7ULb0+KxeI0MoKkoQ6qqChn03rphjdP4cHnC4BRKJRRqVngWwOV1sRikmpLthms4dAGLVIYADZYBlgDc1UR2syu+lhbkwzWYFvU+Pyg/IHW3qYFo2M8PEI1tBm1kobuRPISj8JmD+ULuXHYog9Moa1L2G8hUAYQ8/nL03Sst5TFHNsHQMZAh59uTuSnKwHY/PgT8lQ1nUoGxyhEKcO3s0MZPucbt6M5ChscQxyj0/FMW5QYhY11RCgzPDzMagEowYcOyvD31q6U4dvyFDYOZWT30sVNH/n8ciPzluokHQaUwWcPIAa+UFDBoP0Ihr9o+4SB7+DgIIvExs+AMPxnxGJjHQCayspK1uaFmsFv5umnnzbJS65+w5qVTAVMBUwF1BUwUMZcHaYCpgKmAg9gBfCHN+Tm3/72t+mJfquFxWm4hTJUmlWjyPYpqmR4/LV9PXscNiKwxeGmdQnrI3kJJr8z09M0cOQI+X2WdwZvUaorlz+4zxUAZcT52ZUy/CEM6yAOu7k6e1xRtTGVtmYRjX7F/e5VAZKz7bKHtS6FQiGanJwk+DzwmFqVnwxeZ1HYEuNbrlApNLZalbwUjyeYmgbHrgpuZpQ1MBHlYzdVT3Vlu+k0KA5sitjDJHxrXrvtpRqNWa9Yc8Slj48jLr2blrZKlUAGx75TyUs8PhvHvD2fzCiG8G/xQb7Q1iXsR2xfEq+TSDRKF68t0MNHa6iszFJSiYNDGdlnG6AmlVSkKy3H6alHiqW3GR2QwQaq9iUskyll+EHsUMZ+Hvj3UE+RNL4btYVnTG+rhwEGGNYCOPDhBGVUQIbdAwSVjLQgRAQo09mYX0vcPzBCUS+hlVIc9bb72V6VMviMQQWDdiP4TXFPGFwHAC6PPPII+4xdvnyZ/f7A/QMKGgAcQCvAGg5o0LqElkC0L5nkJdW7bF43FTAVMBVwVwEDZdzVyaxlKmAqYCpwX1Xgy1/+Mn3kIx8heGnUJzZdzf0woIzqwKJShkdgi+vK4rARg80H4rABZDBgPrm2tpZjWlpI65J4fDtYyV3mIa3J77KHeKsT95fh2+NhjW97EG054rw4eOGmpUgaSqeDMwCi8pNRLeNQxW7WK867UGCDedu3taK7owzSzKz4qCKwnvavgfrBeq/xwLiTrGcPgS01iPC2gE0gAJNhS3VwAaogQbm0u7tD6+sb7EHU6/HecSiD1iUMN8lLiL8Wx/hcirhnjRiFjXUKUclgO0DMa2+t07nTTRTw5xvZOkGZI51y89sfvLxDjbXyBB4op1QmvwAyGDJPGby+HygDIKMaqB95iKKRKOEzU99gXVcYyxtETTVepdGvzE8m5x7hAGUAZDBkUIbvB/dAKGb4WEwbmIvHCceI+htz/YKwXNW+BAUlIrChdIGqEPAecdYAuWhNgpkv1C9ocYL5L9qc4DWDVif22UoDGngRYT/4TAHYmOQl5WVmFpgKmAqYCriqgIEyrspkVjIVMBUwFbi/KvDbv/3b9Dd/8zfMmNFN8hKADIab9qW9KGVUVXPTvlQufOmOCGxxiHHYa+vrlEgmaahrf34yOQ9VkvYlvlznJ4N1ABtE/xlxv1DKcJXMftKV7HUVwQpMS6EOwTfafBQCZbCtrGVKl67kFtjwOqm9ajwZeAJ/JMtk2AI2c2sBKvOtsH9jGQaADPxqWHx3tJraahNpYBNk0G5jc4OKq48QPHBEYMPrgwhsnUoG693t5CXRRBbzGWVx2NYZ9NlSgFQqGax79a11Cm2HWBy2rHmmUCgDg2B7ixCv7ze+t0UDknQlLMd7qAIyWH6YUAbzBdCdX5inIQYxrYr8x+UY9XfI4RNixw8CyuiADOZghzKye+lW2EM+X67aBrBaBWXwWUAENlQwiMZGWx/aj+CpA48YQBmkMSGtDClMUNzhdwgADWANAM3jjz/O4NUPf/hD1uIEDxqTvHR//X1gZmsqYCpw71XAQJl77z0xMzIVMBUwFdh3BZ599lkWb/qt//cLeGJ13J8blQx2clDJS9hXcdD6Vlo23LQvcaUMkkRSwQZm5MqHPQ6bx2Dz5br2Jd4+ILYgiXM8KChjP29ZolLOcZc9dH7I2Ufl9u0J9tDU3t6W2Xw/UEalsMHOxf3aIZOosLGrgnQKG7bfpSyUkdUJc8LDPPxzLGNhy7NmYSPIvGxKfatsM1z5Hq+HKWSqa6ppbbeSOhtSDNh4PGkT1iXrCNMANjajXq5SwfLDgDLwk8HghsD2c3XTvmSPwsY+xmYSBN8aWYvN5deXqa5sKycunR8XQAYDnjKygfYllVJGB2VujEdosDs/8hrAZfh2hI5IlmF9HZDB/Jzal5yUMoAyABChnRD19fZlTpm1NkkUQUxdw1oUPdTblq2R/f1zal9StS6JNXcLZeorc+8JbYK6xv4eAr4gcQnJS7hv8tjrN954g93b0b70+uuvs8/Qww8/TG+99RaDN4jPFgHN5uYmXblyhalsWlrctcdKLyjzoqmAqYCpgKmA9fdKin/NZApiKmAqYCpgKvBAVAC39ZMnT7I/pP/H73zK1TndaSijAzKYsFsog0daJC81NDZSnWBaam9f4h4zvBhIWRL9ZsQ2AV3rEn8gU7Uv6VQy2FZUytjfGB04YdsueSzKoBgcnsAfo6amhhoarGQdx/0W0NrE94v/OrVFyRRBHNjIWrj4uSpVNJr5TjKYk6REPGGBmmiUlhYXM+0Vq7vlVOFfY3UJBAIZc2FAmuXtMupu9rIWKT6wPzafxXxzYLEd6TDisA8ieYlDBPGSeWMkRC01EXrbifwENSeVDPZzkFAG+2N+M+l4az5PQByMYahvbHHYYhtUoVAGdeGqnonJCfJ5fczwlg8VlMlcF4tEfe3Z64TDNb58cdNL3U3qVrm7AWWQhnbjxg0GYqCCgWIGbUf4XXHx4kWqrq5mRr8vvfQS8485cuQIvfzyy1RSUkLHjx/PATRQ4wHYvOtd72KG8maYCpgKmAqYCuyvAgbK7K9+ZmtTAVMBU4F7rgIwc8Qfyr//+79P/+f7zrmanz0O21tipfaIg6lkMDRGvyx5iYj8AXlCC5Y5tS5hHbdQBnOC3L6jo4PKy7Nz1nnKzK5ZConG9DfMPAabnyuSlfgyvGZvRdLGYWtal7Cv/UIZFcTg6UrJRJIppKpraqikJNv/5VbtYn/PC1XYWOfq7GMjAzYwHoaJb6FQRjxXAMq3btygluZmBqomFlLUUBHOqGtw/YTDEYrForQZq2HABlAGBqcANfz/ixvFDNhw1Zk94nhiEfO1qmdXTewnDlsVhY3jFOIpA4j53OVpKisto/Ky/M84Eon+y2NyHxYnlQzmpGpfUillsI0MyvDr0L5MTFdCEtSg0BJ1xBbFDcCkUsqIUAbKkarqKmpsaMxc/nuFMvbPDe4ReO8mF+UUNRj0av1k2D3Q5ikju5GjfcmtUgbJSzDnxYAKBp4wSFfq6elhBr6Iv4bZMX4GkGltbWVGwEhdgikwAA18aI4dO0YjIyPsPgMow83EZfMzr5kKmAqYCpgKuKuAgTLu6mTWMhUwFTAVuG8qAKUEvvH853/+Z3rvqX5X806EtylVk43D5h4z4sZ4gI1VZB9c7DsuCgZJTF5SHdgJyjgBGeyXG/1ubW/T9NQUe6CA8oEPJygjQhf7PGdtfjJiFDbWxb+b0i0C9hSlw1LKQCWjAjKYE18eCu0wc+fe3h4qLi5mYGRm2SONwwa8cBuzLXsvD1uBo7twVZAJyhZxGdQyo2Nj1N3VRcuhMqWqJ5VK0thsgurLd5jCxvKwsf4LsAOfmurgBgUZqAlSUbDI+jkYpNm1YI6JrxiFjXOYnM/GYXe35D6kFxqHrQMyOKbKUyYWj9OFq3N0aqiKKsrzFQ7DkzFKyTvkaGElTk+eVgAbjZ8MV73I2pcw171AGfGaGL4do0FBYYNIbnEgDnugOyhV9nAoA/WIFZfemtP+eFBQRnYNA9Ss7fpyErewntguWSiQwX5U7UuA9VDBIPYbflPcEwZtn3j99OnTDEJCNQNoAwADcHPixAm2jQhoXn31VULtuL+Mq18yZiVTAVMBUwFTAWUFDJQxF4epgKmAqcADVoF/+Zd/oQ9+8INMXt5ZFHd1dnYoI9uIPaAqVDJcRYMI7JRfL2ePJ70H5icD88ml5WUGofjjrlPyEpQye4EyYi14mhLal/BtuH0AgLSkY2y5coKvo1PJMLCiU5a4hDIwLZ2bm2fpKl5vuvVGsi2HMTJgkxvh7ax2uZPA5tVxL+1EVGa9KbJDGXhfTM/M0JEjAzS7GlBCGQZPFkkKvnBtI7a6tjREUdYSZfnXJJOWv8hGpIbqy0NpVU0w3RKFVKhgRikBbxqewiTWa3w+STAZxuhpzU0ucuMnI6s9gAxGn21/eG07FKKrb67S2ZONUoUDoIzKT+aHV3apsUaeroR9F6KSwXYHBWXEWtyatGoAEASFj30g1eq/PF7MDLHhswK1CCAmHzoog+tEbF3KuwekVTK6Gy/al+xgcW49W9tQzEvNVRYdE9ssxX3KVDJYroIyONfnn3+eqWAQ/Q3ly5kzZxh8hI8MWpo2NjYI/jJPPvkk85JBi9O5c+eYRxUHNGiLRAoTEpgAb0zyku6dNstMBUwFTAXcVcBAGXd1MmuZCpgKmArcNxX47Gc/S3/0R39E6Pv3Lt12Ne/9Qhl+kFA4Rf6gEJskOfripoe83qwfg30VKGWKgx4SI7DFdcQ47Nm5OQqHw9Tb05NZ5bChjC4Om4MXebKSl1prk44eLLI3TKeUYV4z8HZpSNH8/AJtb28x5RAfTtvaFTgc2KxteSwAUm+Z0dofIt20J6kuvkK3tUMXcf/Yp1X/7KtbW1vkj8/S4JEjecBG3FYFZPg6EwuILxa2SKWYGSoADZbVlGwyUIMHXLSJ8LEVq6WmqghT1FgqG0tdw31rxmZTLEEJkMA+EI/d1eQhexQ21iukdQnbXbuxQZubW/TEmTZ58pIGykCZMtApNwD+1x9u04AirQhKo0JUMpivDtjYlTJi/QBlVMfEei++HqOmOh/t7O7QxvoGa+PhCUIcZsqMfrHtYUEZcf7ru14Gd5c25RAMoGavUAYAGxHYACm4ZwLaI1VpenqaqevwMwAV/o0UJvyXmwIjGhuA5vz58wxeff/732cgnMFwF0byrn4JmZVMBUwFTAV+hCtgoMyP8JtvTt1UwFTgwazARz/6UfbN53Nf/wedL2zm5AFkMMT2JVlldEoZvr4bKLO566HioBrKrIa8FEuoHW2Xt71UHrQeYkMrY+wbf7Qf8HEvQBlZ/XiikCplaXXLQ6d6FOlKGqWMCF2QkAI34M7OjswU9gpl+Ib27ezzFlU2ewU2OIaTQbCshjoowx6Ybe1LMzPTtLRdQnV19SwOPGd1LQAAIABJREFU2+5Tw1Uqe4YywuTgUyMCG0AZKxEqypQyVUUbTGETjVnJRhh+n482orXk90Mxkcx41/j8/sxnlillWrxkj8LG9jwO2x6FjWW6OOzLr69QTcl6Tlw6nxNUMhgqpYwOyqiSl/A6zHoHuvLjpXm6kioOm/vHqJbvB8qw9qXuAC0uLNLm5gb1DwywcwfMsaBLPnzicGy/UEamkrFf6xzKqH5DAdaE4ymqr8i9X1SWqJUyuDegVQvABT/z2Ovr16/Tzs4OU828+eabDNggMhvrAsZAKSMCmlAoRJcvX2briObID+ZvU3NWpgKmAqYCd6YCBsrcmTqbo5gKmAqYCtyRCuBbaXybCc+Av/2j33J1TDcqGezoIKCME5DBcQBlyjVim6VND1WXpmhpy0uL8wtUWl5GFYLJ7+KGl6pKrIcVWay1rn3J7idjLyDal1RKGag0MOw+M3wfuphnnvKjesOAqHRJRXwZvtmurKyipiZL1iGqaGT7LhTY8H3juDLIxIGNDLzsx4tGB2Vky8bGRll6TEtLK00uUaZVCPPHv7PvTe77JkKWPJWMrZB2KCMuRioTj9VOJlPZ+O5olKaWfFQZWLVi5tMDrSBQ0wA0Lm+Xs1hr/Bt+SaIiAVBBFZ6JOOxnzsgVLReuLVBbXZTa27JJQ/zYutYlABAMlVJGF4eNZXbVipiuNCCY9eIYHMLoVDJY7yCgzNTkJAHvwsyWD6iW+jtyofHodBZ+4P7R22otFxO4+Pbc5Ff1WT4IKIN9b4dzW5vWdy2QfbQlH+zC/wVeYwAxgDKvvfYa84SBjwwAC0zSjx49SpcuXWKtTWh/hKoG1x08ZURAA4NfwJunn346x4dHdb7mdVMBUwFTAVMB5woYKONcI7OGqYCpgKnAfVMBfEuPXv9PfvKT9GsffdbVvO9XKBOPxWn41i32bW1lZdbHBmlK9eVJssdg82LwOGzu/SIWab9QRgVkcAwnKKNLSLpww5PTlsPn3NmYypj8WpG3MC1tYfG2/JhuDIJlF8p+gY1KpoV0pZPdCkXQcroVK90yZZ/X3qBMikUANzY2sYhfO5QR9z2xCGCTbSES05Xws+gPZH8Qdwtl7OfCW5cAV6KxKEXT7U+ANNPLfqoIrFIy7brr9XgYqAkGrRaohc1S5hmD1zye3BYXKGVSyfx2KBz/9Vvb9PixSCYuXZyTE5RRARnsY69Qhh9XlsrEFTK3JhCHHcxMUQQ7HBKJRr/iuejal7hKBusjRQhAt6m5ObO5DMqI+8Y1yP16ZD5BS1s+evyYvP7Yz2FBGey7pVp+XPxegDkvWu6gcOGx1wMDA8zwF+lKAFNIXurr62NpdvCfgQIRgB+ABtfaQw89RGNjYzQzM0Pvfve72bVohqmAqYCpgKnA/itgoMz+a2j2YCpgKmAqcM9UAH8sA1J8+ctfpp98qE0+rwrBdIOI3EAZtyoZHFDnKXOQShmeNNTX20tFxdmHAw5lZCfPzTRh9DuXjsYW1xPjsNvq8h9wnJQyhwFluIpGBm3gXTMNH5V6YrHOy8vLVFdfT8FAkEXuuk1tOgwoo4JBMOutLVc8tHrUbU2Y416gjBWXPsIeNld2ynNUMvbztUMZcbmolMHPOQ/oCylqTxv1whvGPkSljH0ZhzKy2qNlCSoZ7lsTCSMJymqJml0NMpVDTckGi+gOBgKZJCg8JM+uBGmgM0g+by6siScS9K0XVqmtqYhKivIj6xdWE/TEqSwEEedVSOsS316mlOHLdFHZ2E6MtObqGmw7MhWnI2mFjcxg2A2UYclLN25Qc0sLi0vnYy9QRvbeXZ/yUV1V/hJ+b7gbUAbJS1DBIGkJPjDcEwYA/8UXX6STJ09SWVkZM/A9deoUU8sgben48ePU1NSUA2jQGovPFoyBxcS7e+aXoJmIqYCpgKnAfVgBA2XuwzfNTNlUwFTAVEBVgf/4j/+g9773vSxZ42idogdoM91nk94JoEyiIWuUK9u3FYfdRMFgvjcEX/+g/GR0rUs4Fm9fWl1dI0jph2A2mU4aApDBgFJGNgBldMlLMyse1vIExYxszKwSNVXBrDd/qS5dibcR2T1N+F72AhvsR+YKECSnzM4iaWiQ5tas9hUObMRtAGswDhPYYP8qKKM71ws3vHm+L3zuULLspU4wPJ6amiKoAWbXAgcCZey1Hxfak+zABusubySptoKopznfI8kJysBPRjag9OhqSjJT4UgUChvAGiu+e27N+szXlm6yxBxuLAyTYShy3hwJ0ZkT9VRclH9veO5aRJ2ulEwdWOuSeE57gTLidsMTsUxLFOCNfYxOJ+i/PlWqrB/8ZOCdMo649O5uKinNrrtfKIP2pu6m/Pebtzeuh33UXpudGu4n9uHkKYP17e1LeE2llMH1AcgCFQxUYwA0jzzyCDOlhoLmscceI3jFoK0JMddY/8qVK/S2t72NGfuKgAaR2YA72J4bVksLbV40FTAVMBUwFXBdAQNlXJfKrGgqYCpgKnDvV+Dzn/88ffrTn6alpSUKrs+4mnBid5tSNS3adSPRGFFpdY7/hX0DQBkKlOftp7Qo+4DipJRx6yeDg8AfAWqZvr7ezDF1Khms5BbKyIoBVQrSk3gstn2dmeV0upLQBsPX0bUuYZ29wAbxuNwXBYa1S0uLzJhzYOBIZhV7y46YCmUHNhzWiHN242Njr4MT7HE6V7GNKDMXSbISX8bXt+93ZWWZKYegDMAybuprny9UMhiy4+J1naeMCGXs+8Wy7ibrVShm8pbPJplBsCxdiZv8yq5DXfISWpDa62MWsGGgxlLXQEWVShEtb5VTQ0WIKcuKgkUULAqy/wLejM+pTX7/1/O7JDMVxvwAe1Rx2E4qGWyvSkmyK2XEWohQxl4jqGQAXYYnrFhs+0C6EpZvbmywNpwjg4M5cEEHZcTWJdm+AWQwZFCGrw8vLA5n5yVqvUjCQ4Ot2QQv2XFkQAbrqaDM2toaA/VQwQDE8NhrQO3R0VF6xzvewcx/kb6EFCYk96H1D68jwQztS2fPnmVqGqhskO4GDxqTvCS9xMyLpgKmAqYCe66AgTJ7LpnZwFTAVMBU4N6twCc+8Qn63ve+x77l9LiNw94DlNGduUwpsxPJ/RZ4c5fI55OrbapK3Zv8Yh4TE5OsRaO9I2taeiegjKoGXA0jWw4Ycn5Irt7B+k6gQuU3I0KX6ekp1tbS2dmVmYLOR8UtsLHDGuy8UL8ZXSsWr4MKjshqJJoM29OVAvFZCocj1NPTsyc/Gfv7dxBQxr5Pnqik8n4BGHjXI/KEskLisJOpFF15Y4UqgitUW1ObVtlEmI8NNwxe2ipnQAfeIdxsmP8XoEPmKYO2puGJKPV35BsLA7Y4QRldbPV+oYzqc/rtizHq7/Qz2IDUIbTnYPS3+zLR5HajX74vN1BGB2SwHxHKyOa4seuhgMSnubYsC/b2CmWQnoQIbChiALN57DXAy+bmJgMuWL69vc3UMTAMB9DE+rOzsxlAA9AHPxoYBHd1Ze8z9+5vRDMzUwFTAVOB+6MCBsrcH++TmaWpgKmAqYCrCrzzne+kiooK+qfPf9bV+m5UMtgRV8rsFcrY19/YIWUcNoANlDLFQXUc9nbYQ63VFty4NXyLqqqrqbExbeoB9Uza5Fc1z4NQyqj2rTXyXVSf0+o2sRYXNXjxaJZlE4WQNFRaWkbNgmnpXqCMeF45sCdtvisu5yqbvQIbN5HWe4Ey2Yfl3GQlvP7KjWXy+/zsGrGATfYMeCISXnHyk8E6YhqTWAe3Shn7NcOUMJKWJr7e6GxSk66UpHc/Kk9X0sVhv3RtkVpqw9TRno1Lx2N+PBajG7cj1FITzrRB4eEbgI+P1VAVdTYmLGVNUVZlg7Som+PRPKUMbym6NRGjgc5cCMvNeQttXcKc3ChlVJ9TxIkf6fTT9MwM8+zp7uqiW9OWMgWf4d62XBjW25r97O4XygDIYKjaGLEMUKZZYti7sp2dRySeotoy6/2pFDrRZEoZvI8wNAaIgQoGyUlodUP7EeA92pPgHQMlTWlpKR07doy1NGFAWSMCGigw4SmD/Yg+PK5+2ZiVTAVMBUwFTAWUFTBQxlwcpgKmAqYCD0gF8I13W1sbffjDH6bf/2//u6uzupNQRgdk+GRXQl6q0MRhjy36qDiQYg+MC/OLVF1TxSKP+UDi0tEWedsC1tFBGe4noyocb1+SLXf0jFn0KB/EWLKSxKMGx3H2UbFgRCqVZLG1+Na/psYyrNABGaflTjAH2yMRSDYAbFTpM3cKyuCzgAhgGJnW19fngBd7/PgUS1eyVAj5yUpqIIP1DwPKAMj0tKgh3ktvxKm+Sr58cTVJ54/LFTbPX5ml/jYfNTZacenikCUvMZPhSJQAVppqdixgE4kykMGHP+Cn5c0K6mmlnFYo7jUiU8oA4mAM347SQLcN2KTTlnQqGbat4CljPxfeviS7NgFkMABlRsfGGIRoEZOX5iknDpuvz/eFdqOeVq8S0qn8ZPj2TioZrKeCMuL5hCLEoMzGbu5ZDjbnt8mhXQkgBR46UMGIsdfwioExPHx1kMIE9Qt+hvkvrhO0KV27do0A32AGjPamiYkJeuaZZxjMMcNUwFTAVMBU4GAqYKDMwdTR7MVUwFTAVOCuV2B1dZU9hH7xi1+kDz3zmKv53G9Qhpv87u7u0vj4bdaaUlKSfTiAUiah7hJiiUsnO+XQZr9QRvft96QGyugACNpzmMpDkgQF9QbfFt4h8IbAQxXUMhiHCWVU/iw47mvjHqb8kQ5NupLl+6KOEta3eOUqZeLxGPuGHw+cq7uVbCpuPGPEKGxWw8VUBpghDUkcOiCD9URPGXstdEoZHZSBgS2GzIcGr7/4Wozqq/OBDdqk5ufn6KGBcqqusuLSxaGNw2Zql6wyBw/5UFoA0oxMJqixKsR+RsIPH4AyLLp7vZRBDivKO8jMh7kPCeCMGGktpisBBCnjsDVABsd3gjIAMmjnunnzBjWl49L5vMdtUMZeJ6akafUSYtBlwx+Qm/zydQ8aytjn0FyVPy9AtMuXLzM/GKhgeOw1T1VCzDWMe1944QU6ceIEMwLGOvCMaWlpyQE0UNmg5eupp54yyUuufsOalUwFTAVMBdxVwEAZd3Uya5kKmAqYCtzzFcAf1U8++SRLynikPRvxqpu4GyjjtnUJx9HFYR+EUoZDmfV1JA3N0tDQEMG4kw/WvlQhpzJIVGJR2OmEJntdZleJLVfFWjspZQ4Dyqhaa7gyh7cR4VvwtbVVamxqop5mSynhRu2igitO2+q2w7FVy1WqIK4IOigogySZyckJ6u3to/mNIi3s0XnG4OEb8EuWrIRlHZk47HwQclhQRgVkbk1ZwKavLT+1CRDzWxfC1N9RxCK07SNFKRqQ+MJgPahSZH4yWCa2LgF0ANbwNKjR6SQl4gmqK9+kZMr6TEJxwX1q5ldLWNsTWqIQ4c4T1Nh+b0eV6Upu4rBh5CsbvHUJqVWAmIhLLy+zICaGWygj2zeuh6Vtf56Kpq02C0ruBpQBMHv++eeZAgbqF+4JAzj2yiuv0Llz5xhUgyLm/PnzzAgYEOfRRx9lIAcKGg5o8DrURVDcmOSle/5PAjNBUwFTgfuoAgbK3EdvlpmqqYCpgKmArgJf+tKX6GMf+xiLiS6fv+GqWIlIiOK2OGxfcW6UrFsoowMymIwTlHFqXcI+OJRZWFykzY1NGhjoz5xnJg7bAcqoCoNUJW56KltndZPooS458HHjJ6OOw1ZDDJ3fCeYIZQegAUw5V1ZWqKR2kDxkAQJE8IrR3aIvyt1S0aiOC0XQNBRBWXugzFvg1MLF6rCUW0MAqvn5BRoaQvKSV6uSwfYqzxgOZWTXw+15q91JlqyE1zqQrKRoQ9qPUkYHZWRAhn321tfp1Ztb9MSjrQyMiAPKkltTcWm60pEuv2soY68RByv4TEFFw9ufItEIjc8QxRNxaqjcZpsBEGTSoIqKaGa5iIZ6i5jpsL1NjrUu9QQJJsOysbSeoicfLpIu41Bmc2uLeawgLj3gz6qA9gNlcEAAX9GvCK+JaW0bYR8B0jRKYrD5hPfSviSepEwlw977jQ3WsgQVDOrMY69xv0CLHxKWkEIF3xn8vLi4SNevX2e+MVDFwGvmzJkzzKuMtzhBXWOSl1z9ijUrmQqYCpgKuKqAgTKuymRWMhUwFTAVuPcr8JnPfIa++tWvshQNz9KEqwknwiFKVmfjsJNh6yFJHPhWOV6e70MhrsPisP1lVFac/y195mFDY/KLdZygDAcyWHdqapr5qOCbbj50Khmsw5UyqsLg4am1RgFdlonSX/ZLN9elK+lal7AzHSDRQRneagOggIcqqBTQzsUHthUfEMV0KBHY2IGEGLMtO9lCVTRO58oBk3hMnq4ka+HSQSZE+uKBsq+vz9HIVwVkMA83UEZWo7E5Kw4bahn7uD2XpPJiorcNyT8rTu1LhUCZq2+sUnlgmUEI2WBqGIlSZngyTiOTUeprzzcWhhpFZvLL969LXmLbdQeYPw18a6zobsuzBtBmdqWImqp32K4CgYClrknHd88sB+loX7FUqQHApIIFUPtwKLO8skwryyssDlvUOOmgDG9dUt0/uALPDmXE9Ze3fdRel2SG5LJRFLSuF5nRb879Nu0pI76mgjJQFKLtCIoYwFsee432PrS8Qh0DP6r19XW2DhRESGh64okn2H85oMF7Ba8ZeMuI9xlVPczrpgKmAqYCpgLuK2CgjPtamTVNBUwFTAXu6Qq8//3vZ2aO3/jGN4gWb7uaqx3KyDaylDJV2v0BykST8pYBviG+Afb5c9epLsk+tO4FyoyMjFJ5eTk1N1txthiHDWXENgR7MV4d81BNubxEq1tEJ3t0XimFKWVEiDE2NsaMN1tbWzOTsEMZcXbiMnuUtw7YYB+FQhlHdU5a9SOrogxO8Xmjvniyzqn/7m320N7e3lEwlOG+ISpow5UysvlyKCNdNpuEM7Py84QlKqNfeMoUAmUuvbpIjVU71CXEpfMJqIAMX35zIkpHbAlK2AZDFofNY66doIzoJyMWA9slkynqbknmRHdz35rFzTJqqtohn9/yrRHToKYXA0xhIwMzmDMUTIjvBoBAmw48uBCFjXEYKhn7m8yhjOzNx/1rN+7JU9GIUdjYjpv82vchgzIwRMe9Aea8UMEA2ANWQvmC1iV4/EBBc/XqVaZKggIGpsAAMA8//HAOoIGyBqlMgDUwzzbDVMBUwFTAVODgKmCgzMHV0uzJVMBUwFTgrlUALQJHjhyh9773vfTfP/PfXM3DDZDBjtxCGX9A3jLAJ7O+66GSYPYbYkAacaxue6kkKJ96XXkq07oE74obb91gJpQ1NVnT0rsJZXRqGPioKIFOugQqDxYnpQyAAd57fNPd0NDAHjIxsB2G6lt7N8DGDmv4O4MI79O98vepUGCDvcmUMvwoburA14Uh8OLCApWUllBFRSUVmq6kU8ngWPuBMqo47NEZyxdGNfBeFwJlXrwyR4h2hrmrfeigjAzIiNsDoMAXxv4a/q2Lw7ab/Nq352DHPld89t8a3aWOJihsssoaqMQoRbS8VUHNtbsMMHDvGg5uoLgZm00xf5zx8XEqLiqiltZWgkcNBtRuYhw2UpbE4UYpo1PJYF86KIPlG2EPNQlmvWIMNp9LPJGijtp8RZ8Kyrzxxhu0vb3NVDBi7DU8yJqbm5maDD5kSO7r7e1lnjMw+8XvE7Q6AV4B0ExOTjJI8573vCcn8U57wZqFpgKmAqYCpgKuKmCgjKsymZVMBUwFTAXu7QrAyBPKkc997nP0f/zEM64meyehDIAMhghl7JNc2ZbHYa+GrG0XN71UUZRi3+IuLS1TXV0te/jiA+IDlckv1tG1L+lal7At1CMqsAIgg6HyjNEBhRevq+Ow4VfiBkbggRR+EB0dHcz3AUMHXZyWOwEbVRQ2O7BHrfrRAhuNSobPV2UCbIc5eIgEpMJD5nrYUnixpKo0qBKvO6QrcbPerqZcSOjUuoT92CO0+b6dlDI6KKOCLiPTCVpaSyrjsKGwkXnKIHnpuZen6aH+MqqpzjcALxTKAMhg2KEMr4FdKcOjsLEccdg56Uo92c+xTmHDFTp2lQ3OMRqLMeVOW72VDMWgTRSqGwtgrO1UMXVNZ1OCtre2qaKykik+cA+BsoapaNKqGXj+2Mfcuo/ecUrdninzkxH34QRksK4dyuRNgikCU1RTlq+0GmiSJy9duXKFASqoYOAJA8NffDbwM9KYAHIBZY4fP87ALpKXAGSwjghooLLZ3NxkXjPifVc2R/OaqYCpgKmAqcDeKmCgzN7qZdY2FTAVMBW4JyuA5Ax8m/nv//7v9NRgh6s53mkoowMymLAKyvCTWdjwUk1ZkrY2LZNOPDjgIQtjadNL8xteqi1V52ED2iBdSTb2C2V0yUs6sKJK/uEqFYCMjvrchy0OAjiMwLfg+Ba7v78/87B0mFBGpwZ48S1Pjrkwr7UY3y2rv04lg/XdwCm+X7RnwDcD3/ovbBQrTXyxPh7EUU8ZsMF7A2DT3Zw/Y51KBmsfFpRRARu0NeH/sranGIOYS/To8VqWnGMf+4EyOiCD46gUL6JSRoQ12ObWZIwG0uob+/bc5Fd1g4OnjLgNNxkGnBmbSVJTzQ6FwxEK7+5mdgEgAxXNZqyWupqSGe8agAzRFBn+Rj6fHMrg+r5TUGYnkqLasvz7WKOV/J4zcN5QxCAaHq2N3BMGUAWqGaQoAWKifens2bMMTl28eJH9LkFMtghosD5qgvXQ9mSGqYCpgKmAqcDBVcBAmYOrpdmTqYCpgKnAXavAV77yFfrQhz7EZPmNZBlkOg03UIa1LmFoPGWYyS/isDXtS/bWJdnc3EIZPGCura7RkcEjObuZW/NSgyJ5aWbFQ+s7Hqoslnt5rIWIjrWrgY6TUuagoQxODFBApsTgAIErT7ZD2wxUnTvVnPHScFK76MBKodvqtgNkQg3bJVYUmItT6xLq4VYpA78QHpc+heQlhUc1T01SqV04eNHFYcsgiA7I4Dy0yUszas8YKGWUKprJOPWlVR72z9brt7ZpZDJGQ72l5LMlL6GV57CgjArIYH5u2pe4Ekc8Hx6HrYq8tkMZcVuY/OJ8Q2mI2d3Tw8zCmblwJEIzqwGqKV2neMxqZ2L3NL8/A2k2olWs/gAaIpTg1weUMEjc4sOurDsopcxeoAyA7YULF5gKBuCJx14jkQnKF/jMwMwXyjL8DN8YtDs9+eSTTGWE1CYAmpqaGqasAdyBB409wcvpd41ZbipgKmAqYCqgr4CBMuYKMRUwFTAVeAAq8Lu/+7v0hS98gRk6esau5p5RheUzYh+uoYwLk9+9+snY5+IEZLA+V8rMTM+wFqau7q6c3ThBmeZqNXR5fcJDVaVq81UcSNe+pGtdwrYqoKBSymAbFZThJ317gVjCDwAE2tcCFX2ZeohtOXixuznbmnO3VDSy48L/BYPFYduADYclbmPB+ckjEn5ra4sph3T15SoZ1cdfp4YZn1NfK7fnk8o2F94WU2j7UiFQ5ur1NSr1LtDg4GDeqbI47MkY9bblK0AGu4Kk85SR+cnwAxRq8ovtndqXVOlKi2tJaqrzKdU5HMqsrqzQ4tIiDQ0OIYs7UxPevoR2J9b+FE171qTboFZ3yqi6ZIOtDxNp7lXD/WvWw2XU0+JjuxRjsPkBdmNeeqhTfQ/Cem7al/YCZfBZgC8MFDGAlfCEAXzBfxF9/fjjjxNSmJDK9NhjjzGoDxXiU089xZZzQIO5Pf/886wFCh40ZpgKmAqYCpgKHGwFDJQ52HqavZkKmAqYCtyVCvz0T/80i0X+9re/TZ7lydw5bC5L55SI7FCsoVs733A0TvHShrx1iouy8nUoZQ4bynAgg4mMjY4xo8mW1myUtw7IYBsoZXRQBkqOVol5JrblnjG6QhXiJ4P9FQplOJDBPtCqg2/u8S02HyJwsLfmIF6a+6iIsIbNxxajbT/n/ahosC+l8fCC5fvCh2gybG/hEpUtYiw43xatXBiISy8UygDIsPnm++Ky1wFlZG1N7PqcTSrDlZbXU8oobGwLo1+dp0whUAbJSw2VIeYlYh8AIFCP2Af3bgGw6bfFYYvpSm79ZMT9O6lksK5KZaNrX/r3FyM0YEuJ4sflcdj479ycBTF7e3PhgugpY68HWpegioJ6RPSr4b41O0nLq6e6eIOCQSRCWUbDltkw/h+giZUA1ZTnwzyxpbJQKCNrXQJcwr0B6UsAMcPDw8wTBu1HADVo7Tp16hRTz0D5gqhrRGcjwe/RRx/NATRra2ssrQngprFRIT3T3SDNMlMBUwFTAVMBbQUMlDEXiKmAqYCpwH1eAfxxffr0aSYzh1qGliZcnVE8vEPJaolhhrB1JBonKs43K8i0NbGI1hSRL9+rQpzE+q6X/D4/84SRDSelTAbKpIhu3LjBHgxq62ozuzpsKKNrT4KPii5dSaWSweQPAsqg9aC2toYaGrIPSzoVCAc6Mh8VDmzssIYXej9QRtsyZYMy4jViVwyJ87YDG8wbpscwPEbS0H6gjArIYG5OUEZVP6g1WEyQZCyvpejsMcsjSTYKbV968cosdTWncuLS+f5VUAbLh2/HpCa+vK1oeDJKAx25yUsHEYeta3vSQZmRqYR0vlADYdxegJGvn7XowBvm0Yey0iwdkMG2gDIqIIb778wKUUPFLkWjlsFwJBJlPycS1v2OCXKKm6i+bNcCNYA2wSJaD5cS7ygLC3HY1QrVHlQyGHZPGRWUuX79OlPIAKaIsddoaYLJ8cDAAPOcwWcFyjK0K1VWVtLQ0BBTyeBcAGigngHUQfKSzJfI1S8cs5KpgKmAqYCpgLICBsqYi8NUwFTAVOA+rwBaefCH9O/8zu/Qr/7qr7qCMgAyGIVCGbFk22GigJCCJCvn2o6HonH1AyfisItzn+9MvnusAAAgAElEQVSoQTDl5VAG31SPjoxSR2cHS5vi425CGcsQVv6g/cJ1ovY6+TK0Yaj8TnBeuvYlDlbw3uNhCSoZXAPs4XPeOp7SKyXd9iR7n3TAZnWLqK7Ks6+YbdkxuSeHqhbaOqSNerFfwBo8IM8vLDCT0t1YCUuDqiknkrULacHVvF4lg+PplDI6KINoatn4z8vxnDYzcR2kLjXUePfsKZOiFD13aZqO9ZZk4tLF/RYCZbC9LHlJ9IBh6Upd2UQlMS3JSSlz0FAG8+VtY1DK3Lw5zCKfN8LZJCoxDlvmE6SDMti/zOQXxuKJhBXdDUizHg5QmXeN/RufWz7g9QJI4yuqofqKGEWoginf7L4tADV7aV2CgS+Sl7AvKGKQsIT7BBRkMPAFeAHchlfM0aNHWTw2Xkd7EpLcREAD8Lu6ukpPP/20SV66z/9eMNM3FTAVuDcrYKDMvfm+mFmZCpgKmAq4rgCUAfjG8+tf/zq979GjrrZzo5LBjlRKGfEgbqGMLn1pecubY8IL5Yw4EIddWZykcCTCTH4bGhvI77MgT1N1kvYDZXStS9bDPmKr5WCFAwUVlFHFKgMg4P+8jUg8V/5A7wbKhEIh5iOEpKHi4mK2G0evFBdQRnYRAdh45TyBre7xFghsNCoZ7NctlMG6aL2AL0Z3dxctbJRmwBQUPvYxuZBiUEwGUJz8ZFRABscAACgEyiA9SaXG+PalmBQs4Xj9HX4aURj9AmJeeGWeHjlWkwMxeS32A2WUrUvjVlS2HcTwY4px2PZoayc/Gfv64nuqUsrw9wRAJh5PpCFmWwZiWp8ZYkbJ45IobCz3B9RADMvdJC+11WVVggAmrBUqbMV2szYoKiZfbClzSri/BdMtUHFfFVMaenw+qilNMeVNeXH2wyhTysRiMZa2BBVMV1dXxhMGShcAFyhgAIaRqnTmzBlmBAwFDQAOoJUIaNC6BEh0/vx5k7zk6jesWclUwFTAVGBvFTBQZm/1MmubCpgKmArccxX4xje+QR/4wAeYH0B3meapWZj5nYQyUMk4xWHboYy9yFDKQLKP1gOkLw0ODUEEQYA1/KFIFYcNrxidp8x+oYwKyGBeKijDHwRV6Uorm0ShMOWkuWAbrvjgihZ4PczNzbFvvfk3606tS9gPDIJlQ/SqsS/XLXtllGgH8823H2KAQtv25NC6hHmoE5KsSGs+kCoD42PEpU8t+bTbYRvB5zXndPG+dTRYPiL2UWjrEvaD9iWVUkYHZW5NJahPYsaLfX7rQkQJc5prw3T1zTU6f7pJqnA4LCijgydu4rBlahmnOGw3UGYntEO3Jyaor7eXioqLMm8thzKqm/uL14l6WnJBsajs2iuUkR1nK+yhhop4GtJEKcrMhtPAJhJhTW9FpVXkja+x1idfSQ0F/H7y+f3UXZdkbUWiCTKi4dGahHsDlvHYa4Bc/K6AmS8MfpHC9Pa3v521OcFrBua/8KN56aWXGKCpq6tjQAdKGvzbJC/dc38CmAmZCpgKPAAVMFDmAXgTzSmYCpgK/GhX4I//+I/pD/7gD1i0qW912lUx7lcoMzs3x9QQvT09Oec5s+ol0TBTXPjWjJd2I/B8kPvZoM1AZfKL/TgpZQ4ayuCYACsyE15+XlzlAeNOfMt+9mSWTDhBGRWQYcfdh4pGtl/u/yKaC/NzEBVBhbQu8TqJUGZpaZHW1tYZlNGpXVh9FWAK+x1nLWBywIl0padP56cVYTsnlQzWOWgoA8+UfkUc9ncvbZI/tcHUEh7b+SBW+k5DGV3rEmrDlTKqOOz3v6NMen8DkMFQqXfwvkApA4iJ+ySSl6Ds4sMJyqC9yQ7oRG+jlZCfAUnVfQRx2KJSRgVlmoSWTXGdZCpFUL6EwnEKpLYsz5p0QlQymaLo5gwDMmVlZZn/Q40DFR0UMYjGRgsS2o9g/gtwidhrpDChHk888QRbF8sAaAC/OaBB+xNvcYIiU5V+5eoXj1nJVMBUwFTAVEBaAQNlzIVhKmAqYCpwn1fg53/+51kyBr4VzUteUpybGyjjtnUJh9B5yjgpZaCSwagsVscMc6XM+O3bFAwEqK2tLefMdFBmeoWoRROHfXHYR81V+qhaXfuSrnUJk1QBB0doIMRY29/G2+n0HyQN4SEpWdSRWQUPi/yYdrDjBF2wk4NW0eCYsv3yh1pZG5ebFi7s0w6gYEiKh1G0azjWV5WslPbkUbUgcX8S2UdrSZOupFPJYF+FKmV0UObya8tUV7ZBPT29OdPFNvOrcWqszodLgDUYKqNfLNPGYY9Hc1qXxAO7hTKy2kIpowICXp9XCWSwLw5l5ucXGKDo77cnL1ntS7IBIIMhU03x9ec3fMxrCYo8+wCo2S+U4fvciSZZ+xIf+Ckej1FRaouggBH/j7YoDChdUDcsg+EvDHyx7JFHHmHgBZ8XmMRDMYPaID5bBDQAv/CmOXfuHFPLmGEqYCpgKmAqcPAVMFDm4Gtq9mgqYCpgKnDHKgBjU8jNYd7493//95Qav+bq2CwOu14fhx33BKTJS+IBDsNPRnYC3Oh3GElDdXXUUJ9NTgGQwVApZZygDJQwbQoz3lfHPaRKQuHz3KufDN/OERoooAwHMtjPrZER5o3RJMTUQuXB25zsXipoy+lqsh4c9wJssL4T0CkE5rD92kx1c9KV4LsjJPCKhr0yRRC++S8rK6Xm5pZ9QRkVkMF8dWqYi9cTVF8lV9ggDvvsMbnCRgdk2PusaV/SQZkXr85RZ2OC2lpzISb2eXMiSkckEdKAH/MrlhFtU20uqHAVh10glNH5yWAuhcRh87hvDmUAG9B+AyNb8XOIn3VQxgnIYHtVuhhAzVbERy21WfArmpjzeaB9SaWU4evYoQxeb6jMv97QfoTkJbR6wmsKsAXn3dPTw9oda2pqaHBwkLUowT8GyjJ4y6DN6dixY2xbQBwAGqhqkHj37ne/W+pL5OoXjlnJVMBUwFTAVEBbAQNlzAViKmAqYCpwH1cA33I2NDTQr/zKr9Bv/MZvUGp5ytXZxCM7lKpS928kwju0G4lTvDQLP2Q7BpQhX4nymJUlRG6UMm5UMixp6NYtK2mooiJzTJ1KBivtB8rokpWw7+ff1KUrqVUyMhghFlHWvpR5iEyrZBLJJGtJaG1tpeqqqszmIpSxvzF8mcz4lgMbFZC4U1BGVQf7nHkLF9bHnAEo8fCIVh08aDpCL41SxkklU4iR73deTigNgBGTrTL5BZBh0EDhKaOCMlBRPH9pioZ6iqm+Lv9zrIIyOJZMCQMogjG/bAGbxtosYBrqyfqzaNOVdMDmdpQOMnmJR2Fjrrh2YIi8uLBAfW0+amwS4+PVQIbdPyStS+I1ylUyuhvvSshLbQKUAWQWRyxJ1N9ovc+64RbK4PcC1JMYp0+fZp4wwWCQ4DODzwki45Gy9OqrrzIgg3sIWpSgMOvu7s4BNLdu3aLFxUV617veZZKXnN4gs9xUwFTAVKDAChgoU2DhzGamAqYCpgJOFcA3j//4j/9I3/3ud1kiDPr9jx8/Tr/5m79JzzzzjNPmOcvxh7RMuo9vMdHKg+N88IMfPDAog4PvRhLkKc7CD9mEN8NEwUA2+ta+znY4Res7HmZIqRpoXyoJWpL8RonvC29dCu3sMFk9M+ksyj4E3k0oA8gh+4Ycag8GdBoVcdhpfw+dga0SjqShzO7uLqGdq6e7m0pKLDCmAzJOy7GtVxGvBOPhR4+oTaQLBjaa6GnM1w2cwnp46Aa0gzIAQGZ+PUgdjem2E4niSOcpgzrooIxORaM38oXJr1wp85+XY8pj4grSARmcv8xTBvV44cosPTxURRUVVly6OPYKZfi2gC68xSnz2m2rVWZ+OcGu7Kb6rMLGNbDRQJn9m/wGKJlMMIgZ93cwRQgfDLq0+ZTpVocBZezvBVQyAV/+vUJU6cmADPYjU8rAfwYqmPr6epbMxj1hcN5oRQKg4e1NgNz4HXLx4kU6ceIE2wbrA84A0gDcQHkDRSb8ZcwwFTAVMBUwFTj4Chgoc/A1NXs0FTAVMBVgFXj22WdZrOhP/dRPsf59SMjRYoSe/i984Qv0iU98wnWlPvvZz9KXvvQlOnr0aM7/8Q3mT/7kT9Lly5eZ7NyNUgYqGQydUgbLDwLKYD9rIS+VFqkf6Bc3PVRVYj2QLNuisPHa4oYVhx0K7dDW5qbla+DJ+sTsB8qgdQlD1b7kpJRRQRnsU5XSA4DAUpka8mvC2yTcwIj1dNIQ2hB8Xuthf79QRmwPEi9OHbABpLjbUAZz3dzaInjKDPT30/SKn0EO7mdj/6CtbKTojAIyFQplnD1j1FBmZDpOfQpg862L0bzkH/F8VCa/aD95+Y0VOneqkaX12MdBQhm+7xvjURrqyUJau2Ev86lJe9aIsAbbH24cdoB2d3eYkS1aeIqLs+o+FvXuk9+f8HnYL5Sxq2RkN32WvGQz+V0P5c4plohTe03+1jIoA2ALdQxUMGhv5LHXMAV//fXXGWCZmZlhkBsDrU0ALydPnmQqGviTAdBAhYlYbYAa+M6Y5CXXv7LNiqYCpgKmAnuqgIEyeyqXWdlUwFTAVMB9BfCH7ZkzZ3JUHfhjGXJyfKMPoOL2m8fvf//79M1vfpOZMeL/eLiAegYD334i9vQXf/K91NTUTI8//hiVlpaR349vq/MfNpxal/gZHgSUAZBhc3QJZWTVnV/zUl15kqWEhHZC1NfbRwvpKGysP7vqoboyuVEvYIuufUnnJ4N966CMDshgW2108lzW90U8ZxxveSPJ4rA700oPvpyrLLinzMLiIiEC+sjAQGYXTq1LWFEHXgpZduVWSumj4ghsNEoZHZjCeYjeOvg34n2RGnNkcFCrsBlL1x77lw28/s6HC0tXUicrWdenSimjgzLDinSlkekEjUzFqVfR1hTaDlERzdLQ4CB5PPnncyegjFhfEdjI0pVuTcboSFdQ2sJ0EEqZjY115o8yiPh4oR6AMv3t+fXBdYKxsO6lrubs8s6G3OvGqX2pUChjvzZ3o0nye/Lvcz2N+XPH5wAR2AApSKvjsdeAljAHRxw2fofg3/CNQdvf6uoqOyQUndxPBr9b8MUCwC/+b5KX3P/+N2uaCpgKmArspQIGyuylWmZdUwFTAVOBA6jApz/9afqzP/szmpqaYv4ohQx4AwwPD9Ov/dqv0cLCAmvZONPTxNQ4P/8Lv0Bej4e8Xh8VFQUpWFTEvikPFgXZf72puKNKBnM6KCijAzI4jqiUkdWCQ5mJyQnyeX15NZte8VCTJD1pbs16WAGUUZkAU0qtksG2dxrK4Jjjs8m8pBdR8cFUNo0eWltbZWDubQ9l/UKcoIwKurDjCgbB9vehkGXcA4bNN20uzPfL5+Ho++IigYrvc2Z2lrVkoJ1Lq3ZRADHshycreRTCrvG5JL3zYXlKT6GtSzhuIVAG2w1PxmigI7+l5NZUnK6P7FBd+RZTO4hjsCuoNPnl6zmlK9nbl/h2dqWMeFzdMnYut2OqFHIGn3Rx2KoobP6eDnQGaHFxgZAk1N+fhZhYroIyfO6WUiYLPuzeRqshH50bVCfHHSSUEZOX+PzqK/IvVoAXtGoBvkANg98RiL2GgS9+d+DLAig2oZxBZDbWXV9fZyoimGXjywN8YYDkJmyL9e2Jd4X83jLbmAqYCpgKmArIK2CgjLkyTAVMBUwF7nAFfu7nfo6+9rWv0dra2r7TLJCIgW8zv/rVr7LWJRg8xhNxikaiFIlGKBqJUCT9cyppfctaUVJM24EKpuCBtwDSOfBf/F/0FLnXoAwMJ6uqq6ixQYjjYdBFDmVwrlNL1gMLYmll48INrzYuG9uo0pWcWpewbbciQZarNWRzkkEZcT2Ag55WL42OjFJZeRmFKXuQiYUkdTVZD5B9rbkPa05gBdsUopRx2q/dg0V8qIVZL/d+sR/fTQuXWBf4NuGahmnpfqCMLmmn8HSlwlqXcH4qpYy1TA5lsOzC1Xlqr49Re0cu+IXqBKqU/vZ8mAOjXR2QwX5lnjL8fSgUygDIDAptT/bPxXOvhKm5Tu5n4i4OO0BT01OEe2BnZ1fO7nVQJhuHLVdOYUfzG17yS9qfWmstUHOnoQzakADsAVOefPJJFnuN16DQRJtreXk5a4G9dOkSa22CyhKqGtz/H3roIQZooJpByxJanLDt008/TVWCmfgd/pVpDmcqYCpgKvDAV8BAmQf+LTYnaCpgKnAvVQAycvxx/P73v5++/vWv72tqUEkg2vVnfuZn6A//8A8pNfm6fH+l1XCQoVgcsCZC8cgurVMJRaMWsAHIwYA6IBAIWuqakgpKBcuoCLCmqCjjWSIewMnkF+u68ZPBetxTRnYCUMpUl8bZw0Jba2vew4ETlFEBGRwLSpj2evm33K+MpFgbkcpvBgVTxeDqWpdw3EKhDAcyPGmouamZamqzRhNYnmlzms+tZqHABntxAi86mKMzxkWdRAiSowiaz1XY9LZkIZO9dQnvIK4PPEjW19UdCpSBEgZD1aJ08Y041VervJM8Bbcu4Zgq3xgdlHnu0jRBQdIoxKXzK4KBla5A3scNwGZ4IkoDHfnLAE2wHcZBK2WcoIyqfQnbWXHXufPlUdjss5ZePjo6woAEWjz52KtKxl4wAJnOXCESWwUtlXxsR33UUmNdO7IobLwu85SxHwvtS26UMrifw5wXRs9QwVy4cIF9Lvr7+5mBL9Qw+L2BtiQkMOHn5557jilhYAosApqRkRHW8gVjetFcfV+/uMzGpgKmAqYCpgJ5FTBQxlwUpgKmAqYCd6gC8P947LHH2B+5+KMZyRb7GZCb19TU0F//9V/TRz7yEUqtzqh3t235BWDEwrsUq8seO5FMUCKeoFg8RvFYnBKJOHl8xbS0m32w8Pm85PP7maQdSUr4OZIMksdbkuMzUJk27OXHcgNlnIAM9lXqC1lJQz09VFJcnDkXHZDBSlDKFApl0Kqigi7Y9w9eh4pGXnJUTqWSwRb7hTJoOxgbHaPOrk7mAcGHCGXsM+PL0DJkHxzY2NU1WA9ABqNQFY0KytiBTN58hTYju2HvxDzeG+v6BCRB2sytkRH2gLm8XaaJntbXnkEvAf6Ic3I28k1o0pXi1K3YL46hMvl1UslgW1n7Eh7Mn788Q6eGKqUKBxWUwf5kShjWWoRlADY2AMKNfaGSwRCNfsX66VQ0OihTiJ8Mj8NGahhMfBtqvMyT6nh/GdVUZyHmYUEZ8bxXQ152D1oSfLDE5cXp5DkVsOHryqCMrHUJnwWoYKqrq2lgYCDjCYNWJJj2wswX6kqkM506dYqpZQBlkAyIOHn8jLZa3GthCoyWQLQ+BQL5oE5+9zOvmgqYCpgKmArstQIGyuy1YmZ9UwFTAVOBAiqAHv0f+7EfY38s/9u//Ru9853vLGAvuZvgG1CkaOAbT/T8a6GMsGksEqZkZW4LkH0yO5EEkR9qGqsNirVAsVaoCHsAhlLDW1RDkfAu+waVK2pS/jIK+Pzk9fkYrFkNeSjoV0v/l7a8VBZIUaPEEwZz4n4y68ykc46GhgZzTDrvJpQBWFEBhx+8mpR+g87qnI6dVkIODRjgShl4Y8xMz7B0FR8zdLYUASojWafl2FaVrIIH27ND6vQsJxXNQUAZ+/UptngBMuEaRcsF/FOml2DMyoGN3MBVVftCoczotBrIYO4jUwllrPW3L8WU6Ur4nBWiksH95tKrS3T2VANrT7SPvUIZvj0DK93ZdCW8fiMdhz18O0JHurMpT3Y4cyehDJ8vV8mEI2F6+fVlqqurpaCQRLW67aHHHlLHPNv9ZOx1VCllxPU4lJHd8AFqcKutr8i2V4ox2HwbABkMu1JGBmVg7IvkJahg4DWG3zlI/+MKGnwxACNftDXh9wfWhzrm7Nmz7F4uAhqAG8AdbO/zyb2U9v2LzOzAVMBUwFTAVIAMlDEXgamAqYCpwCFXAGDjJ37iJ+g73/kO85L5wAc+cCBH/Lu/+zv6xV/8RfYNMGJMDxrKeIvKpfNMpZIM1qyHiAB4IgA3Ecu/JplOhILRMNqeUoE6KvInrJYomA0HgznKGsRdV5cmaXlLDm7m1r1UVZykra1N9vDQ0NBIbYI/zL0KZdjDvcSkFj4p4/NJKczpbbUeenSeMhzKLC8tMwgBKMMDtvYLZVRARwds0kncWhVNIVBGpySS1Qi1QJoZknVY/Vq9LIEpD+YwkAZ1jfwB8zCgDIAMRp8iJenWVEIKXqx0pRg7F9WQqWSw7rW3NiiYnKFBQEz+Jgk7OUgow3d7YzxCYsw1hzVY7gRsDlopw+fEoczm5gbzR2EQ05eFMFduETXWqKPp9wtldECGz3E7ko3DXrPFYPN1cA9107qE9eFVhghsqGDQwvTmm28yw9+5uTkaGxujd7zjHSyBCelLb3/725lyE61/8I0B7OWAhicvoe0JHjQmeelAfm2bnZgKmAqYCkgrYKCMuTBMBUwFTAUOsQL4o/jZZ5+lf/3Xf6V/+Id/oA9/+MMHdrTPfOYz9E//9E8szhR/MLuBMoAoGG6UMioow09gc5coKEja8a1+PBbLgTSb0WIKb68ws0gMPP4wU2Goa4qCtJOoopqyFAM2oskwP8bsqpd9izw9PUXJZIo6Oztpfj37kDq7SlRfLjfxhVeMrn1J5yeD4+val3QqGWyrgjJYNjorV1UAIiytWT42Xba0Iv5Az6EMHjChWOru7s5cT25al1QXX6HbQhHEjYXt+0YrlM5wV9e+tFcogwdOqEPgicFrJDtX3oIkAzaoPXyCzh6VQxB9upJaKaNTyWCOKijDYAYz5M0HSEhXGpmMU59kGbbDw3VV8SrzEbEPHZDBuo5GvjalDN+/HcqIxxWXibCGr7O4mqDmev+e47BRWzfJS0tLi7S2vk5HBo7klEPVvoRrE2Nhw5dRXcm8Y5yUMnuFMrJrFqAGLaXVJdn7XFmxdY3KlDKIuYZ3GVqOcJ/A/wFl8HsC1wUUMUhh4rHXMFBHnDwUNFiXAxpAcChlEKuN+64ZpgKmAqYCpgKHVwEDZQ6vtmbPpgKmAj/iFQCI+NCHPsSSkf7qr/6KPv7xjx9oRaC+QQT2N7/5TVdABgd307qE9dC+tFcoYz+5lW3rwaGsKEXxeCJjLMxUNemWqJ1kJVHE8rvxBwKsDcpKhbKgzepOKTVWEclMOrHN9DJRc3U+lAHMwZhaJmlcNluYUpv8YvGdhjI45thMfgsSf0C05mS1TC0vLzGPh0eO12bKXihYYcfVtD4VsgwtRcsbSQrtUuahlk+UK3IKhTLSyPDbt8kf8FN7W7srKCP7IKL2zO1aMZbWk3TumCIOW9O+pIMyOiCDaaigDFs2ESPR0JZPG34qb97apuaaCPOcEgc361WBDB2QwX5k7Ut8/26hjL28SHsa6i1iqU+yAeCsSmZyC2VmZqaZaqSrKwsxcSxt8tKKdS30NFv3ksml/NkFg3KjX77mQUAZ7CscTVB12q9rO5xVgHU15F6P+J0Dc14OYqCSgaoR7UdXrlxhrWzwjoGSBkqYY8eO0bVr15iaCl4zIqCB8gyx2VDT2K8j5YfELDAVMBUwFTAVKKgCBsoUVDazkamAqYCpgHMFPvWpT9HnPvc59kftxz72sbwN3vOe9zBjxUIGVCmDg4OESOw//dM/vWehTFnWYkJ6mvPrHirx7jB1jRXfnfWtwQY7yVoKptYpmUywh4iKikoGawBuYDqM9gIZlOEHQ/xye508XemFNymTiqJ6D1RGv4ehlMEcZFBGnNvIdJL62jzsW2+k6mxEslAGbVH8ARLb9LVnFR+FgBV+3EK3lW0nKlRY5LWgCOoV2nv2aoSMCGA8OMJTxo1SRvZ+62qPVqLljRQ1KNOV0BIlV9gUCmUAZDCUnjIKKINtkLwEYNPUmHt/YXHYEzHq75DEYafTlbTJSgqVDI65Xyij+gyq4rAxT7dQZmxslN0/mptbModxNPld8eR8nuzze2vGS5GYJ8/su6Ume785DCgjzqOuIveag28MzHlxH4XP2MWLF5knDNq24BUDI2yo65DChP/CbP6FF15gv4egqhIBDSLm0eaE5CWZL1Ehv7fMNqYCpgKmAqYC8goYKGOuDFMBUwFTgUOqAHr0YcKrGt/73vdYH38hA9JyxLv+yZ/8Cf3SL/3SfQtluKeMvQZoVcI3vDOrRIHEKvNJQFx3PG6ZDGPg293dVD3VloYzyhrLtybA2rl0QAbbQ6nR2SAHNlj+g9fUShoIKlReKbrWJexX1b6EZXowACDjpVgsyr4NxwNWeXlFpnSjMzCTTfvSpNsv+EIR2Iiwhh1znwbBOi8a5bJMvHT2oVIENnbfHdEDxq6UiScSdGt4mEX6Lm+Xaz1YdC1ITlBG5QmDGl54PUYN1Wrvl736yWCfTioZrCNTykAt8cOLU3RqsJI9kNuHPl0pIklXssiqk0oG64ieMuJxdcCGK2Vk90Fd8pJTHDaua4z+Dh9ryQHErK2tyxxmv1BmAXHYNr90MQobB0Ic9onOuPYWL3rKqFYUlTLiOnYoAzUQjH3hMTY0NMR+/wC2ALrA/Pehhx5iaVwAMSdOnGAgE4AGnjEtLS3s9ebmZmYSDJXNzs4Oa30yyUuF/JY225gKmAqYCrivgIEy7mtl1jQVMBUwFbhnKoDkDBg5IskJSpzk1HVXc4tFIxSt6dCuG0LShzdACX82atm+QThKFPB7czxl7OugfUmnlAGQwYDRr2qgDamI1gk+CZZJp4+i0Vi6/SlCc2sBKqYV9s0w962Bcw18a7bjtdRYGbHSoVhLVDDH9FQHZUZnLVijirX+/jV1XPbSeorOHlUnlewXymxvb9HU1BR72AKo4kOEMvZ68mViKxRfhwMbO6zB8kMDNpI2LXHOYo3s/i+351KZlihESePBcWJigkX4zq4G7ziUcfKM+dbFqDJdCfBQl65UiErmjeEQLa8s09mTDVRSUjC4hS4AACAASURBVJL30dJ7xkTyfF14W9HN8dx0Jez4aA8HNrkmv/aDHgaUwTHsShkehY1lgLJQBAFUJHdGmS9KWVnWvPwwoIz9vKGU8UvCnRrSaUsAMhhOcdgyKGMHMtgP7oOAL1DBAELBE+b06dMMUr/yyit07tw5tg4UMefPn2e1QSsTVDVQEomABnAH4B/LTPKSq1+vZiVTAVMBU4GCK2CgTMGlMxuaCpgKmArcvQrAp+Znf/ZnWZoGvgVNrs25mkwM8KKiXrtuKJIib7BUu87GjociCX1E6mrIR0G/2qNja9dDbdVWMo1scF+YVHiB1taQNDSYs5roJwPxDB4wLK8aK8J7fj1IxbTEXueDmQynfWuWQ+Ustho+NvaHDkAZFZDBvpjiokV+bt+9msgz6uXH96TFFDoFibINhrUueWl1dYUlDeGbcB69pAMy1nyzKhp7rZ2AzTNn1JHBBbc2aaAMgAyGtkbpVidApt2dEG1sbLJv+MfnKdMSZYdMOpUMjleoUkYHZYYnrWtPBVe+9VKEetPqJtlnoBAoc+36BgVTPGko9zMKIIOhblHKhzJ8XjfGIsz7JfPv9L7w72EbsDmas54e2BSqlMFxde1LPHnpzdEQU9oBUoifc0TJ9wstfvb6I9lNbAe0L5cpZcR1AGQwWoW0OPx7cTOrqIomiABoqkrVij0AGQzuKcOPIYMyGxsbTCkDFQwGWplg+Lu0tMT8YpC8BL+Z0dFR9jOS+2AKDLAPuMkBDZQ2UNkA7kBdY5KXZJ9O85qpgKmAqcDBVcBAmYOrpdmTqYCpgKnAHavA7/3e79HnP/951vOPNp67AWWKgnoog5jr8mJ1SZCiFFczGUIrQE1JktbX1ymRTFBdbR21Cf4wKpNffkTevgSfBctc2Iru5j8vbpVShX+Nre73+dKJUEUM0ixslDLFRcAfyEROi2eigzLwH1G1q3znSkLZ9oQ2CzftS3NzsywevKenNzOlg4AysncK+5VFKmNdeKycO66+BrTAxgHKqIAMjstqJPjPLMwvMMPrvv4+Gp22jJKliqA5q/ayxCJm8qsBQbr31AnKqMAKjocWJVmsNYvDnoznnKf9/ZG1LmGdl19foYrgcl7SEJY5G/m6hzLifG6MaoDN7QgdSStquLJG3LZQKOPWTwaqoZXlZebBJX6Yf/AarpXc67dHAK0HAWXsQMb+Hm6HLZXM+k5+6xsHNW5bl7BvxFuj7QiKGIAYKMgAXABkEBsPdQxauXBPxTqAMwAzADdIMOOABiD7xRdfZGpMMeHtjv2CMwcyFTAVMBX4EauAgTI/Ym+4OV1TAVOBB6MCUMngD+7//M//ZN9i3q9QprZM3boEE9/GyiRTA6ENA54Hc2vZhxdAGd4GYH9XOxtTjp4ygAZNlWEL1KSBDcyGAW9Wd6qoqmidvD4vFcGnJm0uDGAzu1rEvnFXK1rUUIY9wEtijLn/hSxZiJuyWia/Xro9cZsCfj+1tbW7gjKHBWy++0pCqSSASuUwoEwGnghQhoFJj4faOzoyUEYFmFA/XmtxHe4DJDPAxXqHAWVUQIbPS5euBLNeVRw2VCEttWFpjPFeW5dywItNKaODMnnb9WV9acRlI5MxOtIdVHrR6Dxl3EKZ2dkZ9hkXISbmIGtfEmEej8OWRWFjezdKGbdQxn69ipAmkYhRVUmSyopywY1dKYP2Tdwr8XsBKhgAFqhf0H6E1iUYo0NBc/XqVaYWhAIGbbDYDi1OIqBBRDaWAdbU1+uVlQ/Gb1RzFqYCpgKmAne3AgbK3N36m6ObCpgKmArsuQIwun344YfZt5h/+Zd/ybZ/kKEMTxqqrc0mDeGcJ5c81FqTD3UAc9jyxRQ1S5Zj2coG0cN98paBZCpFI1MxaqyygE00EqUIvHiYb02KVnYqqLZ0y2qDykR4p6O8i4qYkkOllFFBGfbgPxWXtrlwiDAKQ94WDy0sLFBZWRmVV1RQf7vVWuSmPUl1oRW6rWo7PNjak6D4sXlLkU4R5Oi5IwAZVrdbI1RZWUmNTY2uoIysDnhfVGnYUEVVlHrosRPyNq5ClTI6KKMCMnzuDK50BfJOBdu9PrxJHQ1JZugqjkwcdnf+dlgPvi+DinQle+uS/cB2pYy4nG2bhjL27ZhKpkcdhw2V1n7jsMfHx6iouJhaW1ozhweQwVC1L4kqGVkUNkDNYUIZsU5Qyvi9+fe5zvrc6xFwBRHWoVCIzp49S5cvX2b3CcRew2cGUBsGvkhham9vZx5M8JzBfRV+XSKgAdhB+hKSl2S+RHv+pWU2MBUwFTAVMBXQVsBAGXOBmAqYCpgK3GcVgLQcD1y/9Vu/RZ/85CcPFMigFG49ZQ6ifclJKVNdHGbf4FpJQ1mTTsxTBWX42wmD2PZ6OXh57vUUtdaqfRyWN5J0ZtDWUpAiisVjdGsqRk2VuxRmwMZqh0KLFB8bkRpqrY1RMcyF0wobpEL5fF7mgaFSOKigDN/vrWkoU1KE+Oe29naWNMSHvaWHwxosLxS67GdbHbDBfsfnknltXLzNZy9QJplIsnaM1tZWWt62kqhUCiZrToXFVus8NRbXEvT4CTnogKeMzshX1rqEc9BBmYwvjATKpJIp+sFLk3RisJxqa3IhJvZ5cyI/XQnHAxgpFMoAyLB9CD4y4i3VDZSR3YKfuxqmlgZ5XZ3isDnIRIsXrg+oPerqsoqP/Zj8AtKEol5qtMWj2+8nruKw0+1Lul9BgDJVEouvuvLca5mb9gKiHD9+PBN7jVQyGPgCztTV1TEog+WIj4dvDIAM1rlw4QKr08DAAFPZbG5u/v/svXmQa1d57v1Kakk9z/M8ne4+xxPYGM++GONLGDLwERKKylDcFJWQIqmQfxJCKmSmKCohhCQUSW6KEFIVLiHJJcEhcDGOje1jG9vHx/bp4fR8ep4ndWvWV8/aWtLaS3utrVarz2CvVeVyn9bea2+9e0vq9dPzPg9T3JjkpRvsDwRzuqYCpgI3ZAUMlLkhL5s5aVMBU4E3cgUgUcc3nl//+tfp3e9+93UJZdz8ZHD94CnjBmXKvXtC0pB9gXYSKINFW0+L+i569rUENdY4G/lOLyVINr/FgggtUFMLCWYs3FCxx2BNLJY1GUbL0fZRDXU1J7MKm2CQ+dlApqGDMgAyWNzjW/D5uTnq7x+gYGnWdJXt25X95lxs0RGBjQhr8oEu2IbHbMvVKhT2OMGR6XTaFQc2oreHCLFk+BQ+CrNv9Hv7emlpM6gEMtnnWhiUUYGVy/Mxdu104zSgjJNKBueA5CV4idx5WyNVlOemp43OwHQ3m9iFfcR0pTPd9sfO8rajAluXMH+hUAYQySliG7/H4Ea+vPaixw5/DBB18vLlnPj4k0AZHE9WychR2NimNOjJMfmV7xPuKVMMKIO2S0RaQwUDSAlPmFtvvZVBlRdeeIHuvPNOBo/RvgQlDQZMgW+//XamNHv88ceZ7w4ADQx/S0tL2T5oezLDVMBUwFTAVOB0K2CgzOnW18xuKmAqYCpQ9Ar8x3/8B/3oj/4oS9bo7++nxOJ4XsdgLTi1WR8S1U6HkRQlSuytDxWl9oUn0pd0SpliQRlfbJ0tMq2kIfvQQRmdSoYv6HRQBoaxIhgQjzy5ECfVMhxx2HffnF3EJBJJ5lHDU6HmVr1UX7bLfoc2NAyvz8cgzWaoinrbUNcAMx3GYoofh0OZ7a0tWlldpZHhEfJ4s2chQxnb+QrARvZTKRTYYP5iQhl+vvBuweAgI+d8l1KZ6wJjZKTNLC0uscXkzHJhKhkcT9eCdPmKBcScBqCMyodmYjZGa9tJaq53BkG4uIUqZVRQ5sKlPfKnrtCZM0PMd0gcADIYMpTh24zCrFcCNmPphCWWrpQ26+XbZ4CNZPIrHlMHZLAdb19yqq0KyvBtL1+J29qtnOKwW2uPmBn6wMAgazfko9hQRj5/QJqDqI/apOQl0QMrHyCDeZ2UMrJKBtvB7BpqF6hgAFJefvllZuwLU1+0gPK0JSiH3va2txF8Y9DudP/997P3Iw5ooMLkLU6AOiZ5SfVJaX5vKmAqYCpQvAoYKFO8WpqZTAVMBUwFrkoFPvvZz9KnPvUp5i0Cw9nETtogweXoUHKkKhtczzEUTpHPX2bb7jBi9zTYPfKQ12f/Vl3cAVAmqPmCFYkj+ShlEqEFCodh0tmXc96nBWV0QAYnASgz0O680MYCXreIgagCyg8AGQZr0u1PuDZX1nxUU7qdgTWYJxi00qDW9ipYEs/+/j6Fj45oYHAwUw8dkGHnK6loxELyxxzNb9MpR7K6BvsDyGAUrqJRKFbSiiDVTSq2f+GcD/b36fDokJqbW2hmKUG9bda8zoogtUrGei7qa1oolFElJI3PRWltK0kt9Yr0KgCbbucXkMpPBs8ByUuVJes0NDxEHgkdOqlkeJ0BZDCUwGY6TGf7s1FqHNZgn/GZMA33ZlVbZweE7Vz8ZKxjZvcVr7sOyshARr5fLKVMCV2c2Kf9vT1qaW3LCJpwz542lNlKpymJnlfr+1K7UZKovymrpHO653kctty+5ARl8HkAXxioWwBieOw1/r+2tkb33nsvS2ECjLnnnnuYwmxhYYEeeOAB9lmC1Cb8jPcmeNDAFBjQ3wxTAVMBUwFTgdOvgIEyp19jcwRTAVMBU4GiVuAXfuEXmIkjvhXFwr2YUMYJyMgnv33ooVKXOOz1PS9Vlao9W6bXfOT3qh/f2idKJYkO99cZeKqrrbX5w5ykdQnPR9e+dFIoo1vAe7wK1QTCetPAJhaLWbCGJ0JFI7Sw7qf68t3MpcC3/lDTIBlqdbeMznT5mX+NU3x1PlDG6QbFfkifchpQBN1zs7PfB7Z3V9EcH8oAyDB4IqhWFhauEHxlunt6Mu1fMETOWaQvQvlkHfNMtx2E6FQy2P4kShkdlBnqVtfv0R8cKb2HcE4qpcz5F1epuTZEfb25ENMNyuiADI4pQhmxvqMysJm2AA/GxGyUhtPQRTb71alk2L6K9iXrmthVMjnXOw1llpeW6ejoiPoHxPj4JMHIV4zDllVxJ47DPvQ6mpCL57m046HGKvu9WlNmf0/M108GJr+zs7MsfQmKGPhOwRMGbUpQzGDAGP7ChQvsPQIKGKhkAIbRviQCGkRnYzuAm+bm5qJ+dpnJTAVMBUwFTAWcK2CgjLkzTAVMBUwFbqAK4FtMyM3hGfD3f//37MxvRCiDaOuGSnUc9pV1xGEnaGJinJlTwoByaSu7kIfZZku18/5oSzpJ+9JpQhlVqwsSfqYW4tTfkaucGOouYYvQvjZi336XlpWxVgxLZROllZ1SaqzcZ/cCWp4sWGNBm+XNIGvx8Cl8IU4D2HClkF5FUxiUkU2Sp6emqLyiglpbW/WePOkWJNRZHlOLqK2XUGd5AMhgnIZSRgVlACtU0AWgAqBDdR9BBdHXQbakIf6cTgJlVEAGc8tQRqwh2pe4cgY/i2NiHsCmVKnOKQaUAahAKw98VvjIJi9lX2tyFHZlGdGbB9VeQa7JS3lAmVCESGxn2jnKPV7QF8/L5BdQ5tKlS6ydDy1L8JCByg6x1/CWgakvDHzhOYPXCjzJ0K4ELxm0hoqA5sqVKzQ5OcmSl8rLHRyGb6DPS3OqpgKmAqYCN0oFDJS5Ua6UOU9TAVMBUwEiJi0HoPjoRz9Kv/Vbv/W6hjINFREmt+/o6KTqaitZh4+5VaKOBmelDYDO7EqS2hRx2HwOlaeMm5+MqnUJ8xasqpiLKdtVLGCToL52D62urFBNbW0mphaLdyxeu5rjGUjD47vxLTgSiQBsoDbiyhoYBAPaLGz4yef10aCiTaZQYPP/no8rDXcBE7QpSJr2JTm5Cq+F8bExamlpoc1QtR6e5OELw/1sxPuMgzIVQHHzlClEKaODMgAbqthq7Pfy6C71d3qposKeVHa2P0inAWV0QAZ1FKGM/AaOFijRF0l8HK1db7tTDQR0Shl78tIE1dfXMSghQhkVZMM2XCWji8LGdt0aEQnal8TWJacPLxnKOG2zdRCnakE9Ux60YKbcvgQDX4AYACgoYrgnTHd3N0tYAniB6gUpTGfPnmVgBr8HnEGy3bPPPku1tbXMmwmeM1DLwHdG9OExH8CmAqYCpgKmAqdXAQNlTq+2ZmZTAVMBU4GiV2BlZYXa2troK1/5Cr3//e9n879elTKVJfs0P4+koX72ra84dFAG22Fh1t3kDG0AOdIeu47XB+lKADZOXio6P5nTgjKYF9HKXU0x1qLQ29vLoAyHCNMLiRyFDSKDEY88NhuhjsYoS4LiyhrLZDjJgE1zdcimrEE7VDAYIL8/wOCJSpGhBTaIgRaSoHiRcU1Wt5Pk9Xhykq14SxGek2rBLEMZPCcoZXp6emhpK6jc70TXZT6m9AianIeyyauEJDD6vZpQ5tXLh+SJzbBFdlWlHWICgMD7ZUjwfuHXBYa9Tia//HEdeHFTyWAO0WNGfMHhnACLnMa3fnBIQz25nlUcSLlBGdQ9HofSboI6OzuYIoQPy09G4eUjQBn5vDik2T4qoa50urYK/BYLyljtS9n3sVDE+rmrwa7qQssjFDGALQAx8ISBSgbvE2h1veOOO9h9jFSlt7zlLQzenD9/nt70pjdRXV2dDdAgnQmP33XXXSZ5qeif4GZCUwFTAVMB5woYKGPuDFMBUwFTgRuoAo899hg9/PDDTHqOlI18oQz8STDcjH6vlqdMPu1LgeQGrays0sjIcM7C+KRQprdV3ZoA8KIagBGqVpcTLf41ShkAGbTWsKShJStpSPSOmZizHudDVHxML9qBDWANiFQ0FqOJuSi11cG7Jg1solFKJqx2nY2Daiop8VFXU4JBGqayCQbZN+c4diFQxqpP3DFxiLcVWeebbW0SoYYMZWDgCqPSoaEhlrykbDHSqGTYOekSlOZj2oQk5X0yH2eeMEpVy1yUCmlf0illLozukj+1QIODZyjgt/vVjE6F2amOOEAQBmymAWxyIQiAykmgjArI4Fx0UAbqr2EpCQr72OKwBWgj3v/c5PcwdEizc3M0AKgrxMcXCmX4tV7b81F3swVHxJZK/jhAjRuUgUoGQ2xfcrqXZCjDt6mvtEOlw8ND1poEFQyirF966SXmJ4NEJrQ1wcAXrW2jo6P04IMPMiNgmALD/BetTxzQ1NfXM6ADuAPFjZNH1Q30cWlO1VTAVMBU4IapgIEyN8ylMidqKmAqYCpA9Fd/9Vf0K7/yKywmGn98F1Mlg/oWA8rA5BdDZ/SbD5RJHS1SKHRIA4JJJ78HThvK9CvSlbAoxOLfyZsEMAf7DTt8w++6+M8DyiBBBeadg0LykrVQtUMZ8XWC8xX9SVTAhsMaqAsAaQBdWmqPKBK2oE0ingVV/kCAtkLV1NOaYkbDHNqgRQoDChKVwkYFZVT1EVOhoNwRzVnryrZZmwWgjE5h49ZShmMrY61doIwuIUmVwnV5LkpVlV568HZ7whm/boW2LyF5qaJkjYYBMeXkpamwI5DBMS9NHrFDywCFe8CMz0QyZr38HPm2bkoZnUqGHVOhlFFBGXZ/XUnYgA2gpTjw3oC49IaKPVpeXqGzI/b4+GJCGfkzCZAmkvBQLOHJtE/KZr7sfVbyk1F9tjlBGRnIYF98HsCcF4oYgBgohGD4C2UdQC58yOBHBaXlfffdR3Nzc+wxABrAmldeeYX9Hq9htDidO3eOvc+YOGzzV4epgKmAqcDVqYCBMlenzuYopgKmAqYCRanAr/7qr9Kjjz7KEjXwB3NsZSqveSPRGEWr2123PQgnKemztz7IO20fesnnUyfHAMqUlaiTlZprkpQPlAnvzJDP57WZdPJz0UEZXesS9gdQUSlluErGDco4FRILSSzSnbxJrMVknN59n/NCnO/rOG9aKQMDTviooD2BDx2QwTYylBHnFx+Tz1lU2ADYwLOCtz+hvk1VBywdKpZWYGFemAkD0mwcVDJTYu5hU+IvyUCC40IZ8Xwvz8cz7UC4hjs72+y8GhoameeOqLARlRNuUEYFZFj9TgBlVGa9iLSWmEnmaa5uJqi1sURp9KtTypx/aZWaag6ovy83xhhKGSeVDA4MKKOCJ1xhI8dc8xOWgY28XSGtS/y+dVLKWK8jO5SRXzO4P+FVA4AJqNjUnPWTAVA9TSiDc8H7Y1utZSgtx2Djd4A0+UCZbBy2/b3UCcoAsMB/CyAG8AWwEoa/gC3xeJze/OY3M2UMVDFoWYJ6BuoatDKJgAZqPLQvoXUJahkzTAVMBUwFTAWuTgUMlLk6dTZHMRUwFTAVKEoFHnnkEdZC8vWvf53NF9/byGteQJlUeZ3rtvtHKSrxl2q3gzS/LKCOdl7d9VCNJg57Y9/LoEx1qdUq4zSubHgoGVqisrJyqqqyIBFvGcDPpwllVEAGx+VKGadz1oKV2RjbRWVsCnXJux9QAJs0lMFiq7Kykhnb8uGmksF2uiQft8ecABMHNoA1WOTBo4ZHeOP/86s+qi3boRRZi0mf15sBNGu75TTQ5WPwxh/w2xQdujYiEcjw5z49M01lpWXMY0l8XD5nZtbbbql45Ofr1rqEfc44+OPwe0GnlNFBGaZMchhjM5EclYu8maol6gfPL1JvW4o6OjpyZj4JlNG1IGFeJbCZjdBIn/VekqPC0fjJ8NqeBMrguszPzzNwDY8dDNwX2wceOox4bB5MYhw2TH4x+lrV729i+5LTNRShjNPjADXxZIoa0+lzopGvuH2+rUt4DY6NjdHm5iZrR0LrEhQviL0WDXyfeeYZZhKPFCZ4yyBZCYoYEdBAVYO5kLxUUVHheI+aX5oKmAqYCpgKFL8CBsoUv6ZmRlMBUwFTgVOpAFQSMDWFwe8f/dEfsWMUE8oAyGDooAyADMZJoMzilpcaK9VABvPPraZod/UStbW1s1SQhY2sB8zcWopaa9T7w8RXZfKLud2UMqcFZVSLdJzTky+FqaXB2XzU4/XSmS4fWyzh22sYc/LhBmV0x8xXRSPfzNjP63NetK7vJOm+24LMSBi+NVxdw31rFjYC1FC5x6aE4S8AI4/wXt4uY0oYABu5bUKGMrhTkbwEFcTWQQ2bTwVIRMNdGdgw4+Z0DLlcKzeVjO6YUMMUCmVU0AVmvB6FFRLqsba6SucGy6ipMasM4dfuNKCMDGTk+wSP43wwcuKw56w4bKf2JV3rEubSKWXE5CUoR2qqa6i5JRuTJKtkxChszL2666MHblH7TWGbk0IZzBGKZv1kdg/tx+OQJl8oA7UYQAxeM1DB8Njrvr4+ZuALCNPe3k6PP/4486PCz2hRgmE4Pk9gBAwAA0CDmqFN8u1vf7tJXjqVT3EzqamAqYCpgHMFDJQxd4apgKmAqcANUgFIywEovvjFL9LP/dzPsbMuNpQ5qUrGWtjolTJuUGZ+3UO1wRDNzs5Qb29fJv6ZX6aZ5SR1Nqrbo/775SR11Ksfh9Lj7XfY00v43NwXRnVLnEQpo1ykz1omzKrH//PpMPW2Eq1vrFNDfQMFgllDVo/HazP5Fc/bDbrojum2r05howI2lkooxZ6LaC7MfWtWd8pZfDeG3+9nxsLMXDgYoMWNIJ3tC2aMR5E2Mzk5yVQQy1ulSiCDuVxTkHr8bKEvD6hoYNaLIYMSnSoK258WlBlxML/F8V67HGKL6draOioty1VcofKFti/pWpvc2p44lJFrC0gD2Og0WBz2W9Vx2G5QBnAukUiyaOf29jb2nslHPq1LaJmUR3eac7kBGeznppTBNiKUkY/FIU0iEWVx2DwGm28nty/htQAVDGK/kVTHPWGgMIRSBq1LeD3BHP72229nXmRIarrllluYckYENPClwbjnnntM8pLqQ8D83lTAVMBU4BQqYKDMKRTVTGkqYCpgKnAaFcAf2PAJ+P73v8+SNTBer1CmjLZoeZknDdkVJG5Qhilhsh0+tksBxYVuAMr0tljfXMstJjogg+3d2pd0UEanaIHxa1t9OJM0hLhaDPizqEx1AREKBSv8ubi1NjnVUXfM/zofoYFOZxiGY43NRlnstwVsrBhv/ByPxWl9v5L52OC5A9J4PV5maIpv/Ze3ymi41+9oSqoDMjj/caQg9Ti3EnGwgjrLY3IuTv1dPnKCJDogw44JFY2mfUmnlFFBmQuXdilAC9TfP5ATH//4syFqaXRWYQGauHnKFAplVEAGNQCUUc37rScPHZOgeF3ygTJHR0c0MzNLfX1WfDwf+UAZuXWJR2Fjjp2jEupsImqvszxjnMZJoQyfMxyNU00ZTIHtx+pssN+veK5ITIIKBiCGx17j9cMNfJG29Nprr7EUpv39fWYKjM8SpCsB0KDVCYAGP+P/ADkmeek0PsXNnKYCpgKmAs4VMFDG3BmmAqYCpgI3SAW+/OUv04c//GFaXFzMfPv7eoUyvugy7e7uMem9PE4KZfJpT3LyUpm8EqO+dCqT08L5NKAMgAyOhXQVmHdi4SUOLPBl7w0OnqD0ONNtX8Dx876egA1qvboZZ347TbV2lQKASTKVJHitdDREM8Dm8OiQEnFL3bK+V0kttYes3YLHdnOVzcwSqaOn5/QKpXzULnLyD84H6UpnuvyOkc7M5NcB+PFriudZCJT54StbVO5boREkDUk9TqOTdt8X8f557Pw+tTY5gzJAFV2LkttjOpUMzkEFZQDSRgaC9vs8rSabWUrRGQGiyUCNx2EDQiwtLbPXi6h8KQTKiCfClTJL27lqGg5q3KAMVDIY7nHYFpSRR50Uhw0vGZjzAqSEw2EWew3DXxiDw1cHIAZGwIiPx8/4PfypsA3eU2AaD0CD1wzanVAz/GeSl26QPwzMaZoKmAq8LipgoMzr4jKaJ2EqYCrwRqjAb/zGb9BXv/pVFnfK/2B+vUKZ+P5cTtIQv8ZXA8o43U8AJNy3RFZPrG4kWKJOU53XUT2BhWYhShkOZQDi0KYAHwg3KMMfPw6wEUGAG7BhUEGhLnHb2+EQTwAAIABJREFUV1kDhWKFtxUhuUpMSUIrX0PVHnW0dzC1S1tdmBkOM3VNJMLuHYyNvUrqaIpRkHvXoCUKPwcCBKCiVSgV7AsTpZG0Ukm+j8ZnIwyUObUSAchgFAJlkLzUWLVHAwODObeuDsowlcxgrrE3gMvyeoyFRLU22cEehy0ngTI682AnKMOfFF53Yn1k5RsMwH/k3iCtra7R7t5uDtQtFpSRi8whTSiaTV5yisLGfrrWJXFerpQRfycDGTwG8IJWLcRbA76gjQ2Gv1DGQEWDhKVXX32VvT7QvoRtAa2QsCQCGijP4C+D7Z3Mot8In7HmOZoKmAqYClyrChgoc60qb45rKmAqYCpwzAr8xE/8BPtjGpHYfERW51xniSUSFPcEKF6a9VZw2mk/TJT06RM3tkJeKvE5t0Jgzt1DLyWSRH6vs6dLa02S8vGUOdycSCcN5cayXg9QJmexLbSkqNQTg91+5ouSu1DXtNCklTLT0+mkofa2zO5O0EWcW/e4/Ji4uJUVNvkCGxy72FCGzQmgJbX7AEL4SnxUV1vHosa59wu2B2gBwMIiFGa9rTWHLL4bsAamqBiAmpsH1dTdkmDGwmiJYuqaQJCZGJ+sBcmCMk5jdBqJRAECbMu9hyJ0pidAZyWVCLaDyS+Gqn3pqecXqaslkUkaEucuBMpgfwAbJ7WLCtiI24omv/Lz1LUu4Vqz5+lQA/xehjLy3NOLSXb9tre3GZirr69nmwx2WVHY7Oe0T5C8bzGTl5AwJw8OafKBMk5ABvPJUAbJS4D0q6urdP/999tirwFYkNZ29uxZWwoTVDWAkjfffDMzD0d0ONphV1ZWWBLTQw89RNXV1Y73r/mlqYCpgKmAqcDpVMBAmdOpq5nVVMBUwFSgqBXAAgN/XENy/rnPfY7NHdvbyusY+AM/VaYHMpgIUKbE77yY5AfaPPBSeUCdTrKy46XacrXfwtqel5Y2YQSsicNeJ4ofLFBNTQ2Vl2chUU/aJ0YHZXR+MmxRN494ZGeDUQAF3aJNVMrIhXfzCcH2zOfFwdPmMlPgOKsncExAhvGxcZY01NDQkDm0G3Rhx1QYw7rty/eTlQgisHEyv8UxC1HR6LxdZCgDEczExDgzPd4KWclL4jFFFRM8d0RgM9DlzahpphaS1FR9wPxr4vGsb0yJv4Q29qqor50sWBOwDIcRM4zh3oLkDmWcXrgAGap4pfHpMA0B2ChULatrq3S2v5Sam7NJQ/wYxYYymNcJ2LDzT48JtGH1WwocGey4QRkVkGGvX0kpI9YRQAYD7U1Tk5MW1G21oO7UQoLB4P500hZ+J0Zh49+AMroobGzjZvSral0SIU0McdhVSaopU5uR5wtlABnRfoT/QwXDY68HBwdZKxKMf2GGjZ8HBgbYz08++SR1dnYS0pleeOEFdm8D0KClaXl5mSUv4XdmmAqYCpgKmApcvQoYKHP1am2OZCpgKmAqUHAF8C0/Fhmf+cxn6Jd+6ZfYPDcilGGLnw2P1k9hcjFGoY1xFteKqFaMK+tZEDSzkqQ2RST21FKCuhpTdKbL2SfDDcqovkXHOZwEyqhaUjDv2FREGTF9eS5G77wvSJOTl6m7u5vdA3zkC1acbrpC9+X7ORkmc2Cjeq46Fc1xoAyMfxHd29HZQStbZfoWpDTUYgt6CYihtgPd1n2SSiaptz3FgA0gzfQiFs77TG3DB6AMIM3adgX1d3kysKbE72dtPnyMzRQOZXQJSR7bUbLHG50+oprSLbrj1gYGMsUBIIOhahdStS9hH5VSxu0xHNOmmpnOwhrsOzEXpRHEYQ/ktk3pWpfYNXSBMgAyANhjo6PU1tZGtUJ8/NxaViUjR2Fj7r0jL71l2BnY4nE3IINt3PxksA2UMoGSXCAjQpp8oQwUYTCAr6urY61agC/wFcK/AWhg4FteXk7nz59ncdl4/4Ap8E033UQtLS02QHPx4kUGJ9H6hLQmM0wFTAVMBUwFrl4FDJS5erU2RzIVMBUwFSi4AvAEQITpt771LXrb297G5rnaUAYqGYyTKGUAZDB0Jpfjc0cU3pmioaGhnFhWKGG6m9TfMGPRxv1EnIo9dSVOPTxdSfJFcUtXOg0oAyCDoVqMQ1UQjUVpa3uLmptabK1jq5sJ+h+K6OBCoQvOpdB9sZ8qDnttK0EP3O7gWpq+SMeBMqFQiObn5pkKYG7FW5BXD3+evC1KVjBxs95kKkX9HYjwjlIkbPnWwDy4oXIvc5/BoBjtIKXBUlraDDJFSzAYIL8fKVF2VRlvX3K6N6E00cZWp5Un8r4XRndpa3OTGhobcxbTK+sxevvdzq0ogC4YTuob/L5YUEY+XysO21ltB/Cla13CXCroB6UMoAzA2vTUFPX09tiUdiKUcar/+TEv9bTaz4tHYWP7YkIZ+f1v98h+3GQyTq3Vue9zcvsSjH0BWaCCQasWj73mChpEW8MrhqcwwWMG7UtoV8I9i32hkoHCCuAG8eFQ3HBVWMEfWGZHUwFTAVMBU4FjVcBAmWOVy2xsKmAqYCpwbSrw9a9/nX7qp36KJicn2TfAGMWEMsVoXcI5ubUvualkYNTpT6zQ1tZ2TtIQ5s8HyshtCeIVwzfxUMM4pStdno9Sf3vWL0dc/HEPEG70K98Fbu1LqoUkoIxqIY5jYAHbVHPA0peGR4ZJVEv89/OHyuQcxNkW2rrEFr4nbHtyqo8K2AAuIbJZ2fYkecpsb23TyuoKjQyPMPVLQQbKrilIWbULb2vjzwlmvYPdJSz9qac9RdG0uTCAzdyyl10vDPjWYOHLU6EW1gLsWsNo2CluuFAo88IrW1TGkpeGyeO1Kz0uTRwxA2qnwYDNvWrvkNOAMqx1yaEFi5/ffzwRomEH36WRvmBefjKAMvt7e5n4eF86Ph7zu0EZuX1JjMLG/ojDfuuQujUT2+SrlHFLXjo4ilKZIFYpD1rXVYYy8M5BBPZtt93GVC489hptSPChQrsrjIBhAAwj4KWlJWb0C7APs+yXXnqJARqoaaCyQdsT2mRN8tK1+Zw3RzUVMBV441bAQJk37rU3z9xUwFTgBqrA7//+79Of/umfssUGX9C9XqFM8nCeLTDkpKGTQhluIqpqUZKVMGK7C1ouRG8SnAsWipmFumD0K99WuphjHZTBAhajunSTwpEw9ff126ZWLeIBEXC+UGzIAy0jhSphMFeh++r2e/TJQxqQorv5ecPYVvaUgSEp1DJQBxScaqW5Xjh2vi1IsmEvgM1AZwnF4zHqbk2wVqhI1EqEWlj3s+huDLSHZAyGA0GaX/HRTWfKlQoF1makUMo8+9Iq1Vfu0qBDfDygjAqC/Nt3djK+Lzk3ijfXC0bcRgds5PYlcT83KIN6ym1NvMYzS1DCZF9zQz32FkWulAHA3N7aoiEpPv64UEauCZQyJf5cwiVGYWOftlo1uMnH5BdzRKJxqhY8Zw4jlmqmo8HeVoTPA0Rgw+QXPwO64Gf8bn9/nwEXmPceHh6yVCW0/W1sbBAUNEh0g0kwwA0UNGiDQqw22iTNMBUwFTAVMBW4uhUwUObq1tsczVTAVMBUoKAKfOhDH2JGjI899ljmW8zXK5Q52r5MZWVl1N7enlOrkyhluEpGdQF07UlYTIoJQLJ6YmI2aotsFheWJ4EyUFbMzM5QwB/IianVKStGp8OOi3gVsOHn6wZdULtiq2h09XnixTC1NtoX31tbm+T1eOnu21tOBcrogAyefz4tSE7pSmPTYept91AiHqPO5jiDNYA2aE9b2SyjlrpD1q7HlTUwW8XPM4vEYI0KyvzguUXqao07LqZ1UObS5UM6d6bc8eXwr9/ZppH+3Hazc0NlrK0JwymZidVH8pTJF8rwmqn8bwBJOQh1MszmcdiLCwsM6vYI8fEAMhjFTl7iUdiYm8Vh1yWpsbL4UAbz11XaXwdIXoJyEnDlgQceYCoZHnsNA9/S0lLmHYMUJnhznTt3ji5cuMCgPrxmAGS2trbo7rvvZjHaaJEFoEELkxmmAqYCpgKmAle3AgbKXN16m6OZCpgKmAocuwLwSLnjjjvYH9hf+tKXMvuH16/kNddRNEHR8nR0kWKPvSOilNd5gcZ32Qx5yS+1R8jTrex6qcKvXpQkEimtn8zsaor2Vi8xjwMxaYgf53qBMuLzRlyxGFUsL8gBbJCuxIeoXHBTygz3B2hifILqG+qpqbEpM4cOyLCFsQLKqB7jkAnmt7LChnt8FDOC27ZQR1KPIkKaARKplQrf9u9FGygUKaf9UIrkljK+cOfJVU63vL7dTG/Ui/lU0dT5tCDhOYkjRUkanwpTd1uKwYSOJiu+GwtsvPaXN0upozFitUIhtptFd1s/T80naW19jcGKltbc13ihUEYFbABcxqaPcoANYA0fJ4EyKiCDuUUoI1/T6aUkre+kqLnBRxvr6+QP+KmmxoILADEnVclgHjdPGbQu+R38xUVIk49SRlbJ8OcqQxn4xsArBvcKVDBQugCowIsLCUtQvMAs/YknnmCqQ/z81FNPUWtrK1OZoXUJsA+AZmZmhq5cuUIPP/wwgzlmmAqYCpgKmApc3QoYKHN1622OZipgKmAqcOwKYKGGP7Y/8YlP0Mc//vHM/tH97bzmApRJldpTWeQddw89FHBJ3Fjf91KlS1Lq8o6X6hSR2Ku7XlrYJKrTxGEDyiRDi1RfX5cTy9rX5tV6yvAoZJWnTDGVMmL9ZCgj11ZcqPM4Zb7N+AwUOFZRz0leG1DnDHb7aOLyBHV2dFJ1ddb/w00lg/lUygodsJHjinnLF+aTW6JEQ9aTAButkkiCMlAHwBMDKqrlrTIacYA5E/NWtDlAkxLYaNvNCk9PwnELMevlKUi8ZQ3zpJIpFnU8PhOmrtYkdTbHLP+aaJRQB4yVzVJqrQ9TaWmQKquq0olQlo/N6KTV/qY08tUoZXQqGqfHeMoTznVkIAtoHOOwFZ4yTq1L4mvJDcrAT4aQvDQ+Rs3NLcz4lntHiXHY/W25LUhucdgAMhjdzWqTceYnU2cH0mIUNvYvCyS1UBrb5Atl8LkAY9+qqiqWuARPGCQwAWhzA1+8Zzz99NMMvOAzBIAGnjHwJRMBDVQyMA1G65NJXsrrY9VsZCpgKmAqUNQKGChT1HKayUwFTAVMBYpfAZg09vX10de+9jV673vfyw5QTCCD+YoBZXRAhlcF0dbN1QllkcZmwxTZnWSGkzIkwrfd8JWQFz58sqmFOHU3W/9yMuTVQRld6xLmk9uXxCeggzKuipbJcMZDQ1ZQjM+Gqa+daHNzi+5/a4cNUrlBGRWQwXkfB8qIzxM14MBBhDXYRgQ2cnoOB1GqtqfjQBl4X/DXw+yy1xHKsOc4k061ElQ2YsuZrF4SQUq+fjLyTex2rXW+MNpo6rQvDOa3RooSySQl4nHm8YPobkR0Y5Eej2dfW6vb5dTfSZa6JgCFDWBNkKkjAFYwVO1Lx4UyvBZMJSOpZsQ6wdS5rdnvGIetgzLc30n0cRLnhVIGUAbqoqnJSaYSqRDi42dXhTjslVywEgh4qa+1CHHYEpSR75GVHaLGqiy4qXYIJMsXykAhA/gCFQxPT0LsNUx6oYK56667GGh5+eWXWYsS7g+YAkNVA2NfEdAA7iAuG4+Z5KXif4abGU0FTAVMBdwqYKCMW4XM46YCpgKmAte4Ao8++ii95z3vYX9cA1ZgvF6hzCuT+5Q6nGff/DqFxkwuJqgnDV7ky4KFW3+7tbByTFeaixLUNnzI6UqqZCVsfzWgjPx8sFBvrT+ii+N71NLSaktEsRQ2AUdfj+O2LonHlZUy8mO66G43YKOKOj4OlNnZ3aXlpSWWzDUxF9dCGVWLkVMMudhyBrNesYVLBFz5+Mk4vV3ogAy2zwfKOM37wsVNKitZpWRJD/m8XkqmkhSPJZjR8ORcjNqb49TWcESxmKUewkAi0dpWOQ32lDDQFwgGGLQpKYEaxHMiYCNDGfGcAZWgnBHVQOLjSOfKx0/GqQ4cyhzs77M2HChGSgTlnwhl5P1nVlK0tuuzxWGLUdjY3q11Cds4KWXkYx1G7FAGbaPiAKTJF8rs7Owwv5hbbrmFTcFjr2F0jBY/+MPAbwZeZPgZBtkwAEYKE4x/OaCB0gYqG4B/tMia5CWnO8z8zlTAVMBU4HQrYKDM6dbXzG4qYCpgKnDiCvzJn/wJffKTn2RmjDACxbgRoQxUMhg6pcyFsW0q82xSf19fTt10QAYbi1DGqehQFQx2ZSOvbelKs1Ea6Mg+xvfnIOE0oAwWsDoPDSzU6yp36DAUov6BAdtT4uk3TgtcAJv3PeJs1ummksFBVOckKmXk+ubzmKyuwRzjcxHmt6M8ptS+hNfA7t4unRk8o09ImrH7/Ijn6xZDLitebMBmJkJnhFSrcwNZ/418/GSc7ksdkMH2Ol8YJC/Vlu/Q8PBQztSvTRwil5v9Hq1QADXxRILisThNLyTorluOmLIELT8YXq+PqWmWNkqZmTNX1gQC8EPKIlKdiiYfKKN6Q3zihSOmopEHi8MWTH6d9udQZnNzgzbWNxi0488d2+ugDB5f3PTYgK0ch10a9GlblzCHG5QBkMEQlTLic+GAJpmIUFX6tuJR2NhO9pRB0hLMfblRL6KvYfgLIMMNfMfGxmhvb4+lMAHOAMzcd999hMhsABrAGtwDzzzzDIvVdkq8U10v83tTAVMBUwFTgeJVwECZ4tXSzGQqYCpgKnAqFfjIRz5C58+fZ//xbzGLCWWK0bqEJ+7WvuTWuoRvrGN706xtqaOjI6eWxYYy4gGwUBfTlfAYhwiAHIPduQ6e3Kuj0PYlHZThCTcV/lW2WO7s6rTVQxdJjMd4bLpcxJWNOL397irH+1SnksEO+YAXp4l1+wFkeLxOmigitLq0NvltprpQQcD8Fu0p2jajAqFMXi1IaRCT0242HWbqJT5EP5WTti6p3lieem6ROpqjjotpQBlVe9Jr4yFWd/CYRAJtT3GK4/+xOK1vpWik94BSKavNxuPxZgDN4pqfRgZLrTjvQCBHVVEolOEtbrL/DQdiiLsWazssxb1zKAMVVTgSYaoPPgBkMFTJSwAyGKKKTq73xfkS6sz6bBOPwebbuQEZbCerZFTXFEqZmrIUhSLZNifAGRHKwFNoenqa5ubmGFgBYOGx12hdAryHggYpTFBD3XzzzXTx4kXmRYQWJ6Q2ra6uMkCDiGw8Bj8ZJ3P1U/lQM5OaCpgKmAqYCtgqYKCMuSFMBUwFTAWu4wpgAQq5OTwD/uEf/iFzpq9XKBNaH6X6hgZqamzMuSongTKySkae3AnK8G0uTYUd03b4QnJsJpyTWMQX5FrvF41ShqsnLk9cZgadTc3CijDd7qKKJNYBm//7vT0a7nN2awbIKUQlgzoVCmzcvHFkuITWjGBpkKqrqsnj1XvK6NqXVG1YbmoXPFdVjdg148BmOi2LSN9EY1NHGUNn/OomIYq60NYlKFZKvctUVl5ObW2tOa8XNyhz05Bz2tr/e2qX2loClISqhvnUZP+D8XBrQ7rnxmOZg3PPmoXVEtYadetIFaEVSR68fcnp7RavJZUhMbZnSpl+676V4+jhNVVT7qN73xSg2ZkZBovaBah7XJWM0/nJ7UtiFDa2LwuS0uuKz5cPlAGQwQCUEUetQxw2zHlDoRBTwaCNCZ4wMPGFzwyMsPv7+1kKU2dnJ4NUUMM0Njay1i4R0ADsIH3pkUceMclL1/HfAubUTAVMBV7fFTBQ5vV9fc2zMxUwFbjBKwAoAyADtcxv//Zva6FMPCIZFLBvZ5MULbMv6OWS7B15KOXVx6AiRcTvc1Y08PlWtr1UGdDHYetalyYX4xTaGKPOjg5b0hCf/3qDMjgvcSEu1pW3FY1Nh3Pinrl6wU0pM9TnZ3HY7R3tVFOTTc/SQRd+TscFNjhfmN8O9+XeB0iFcoMuOG4+fjNOC3UlIJFiveGXMj42Tq1trXRxMkitjQ75w+nUKRj9ngaU0QEZPDfl42mzXmyTNey1qoE47OE0cDgngRJd69Jrlw/JF5+j5pZmljQkDh2QwXZQyqigzGsTeKwi550T993o1BGDerwNirdEwbdmfsVH7Y1W3LffX5JjMDyzRHSzw7ysBseAMvKJTS0myZeGQCurq1RZWUGVFZU02GXdHyeFMvkkL02ulVBrbfa9z6lFKV8oIwMZPAcZynDT3rKyMuYDA9NegBekKgHEnDt3jt0TPIUJMObxxx9nbV1QIYqA5tKlS3RwcMDgv0leusH/YDCnbypgKnDDVsBAmRv20pkTNxUwFXgjVAAeGi0tLfTlL3+ZPvCBD2Se8uHGUs7T95XmLqQAZSjo3K7CJ9g58lLA77zA5dus7yEOWx0Hi+2WtrxUX6GGMs9PeqmuzPom2GlML8XJE15mKpmSklxvCSzKVSa/mE/nKXMaShkcUwVl+PNzWlQD1GAwYCOpVm46Y11DzNvbkaLZGSt5q7QsC0vcWpew/3GhDPZhrSeD9jgY3qKDJKjhXjuw4RHeJwE2bkoZ0WQ3HAnTzPQM9fT00NyKVxn5/fhzIdZW09KQ6xEENYbOU8ZNKZOPSka+t3EPYOijqa2682hpPsfo5CEN91t1l0HJxbE9KkkusFYugAhxFKqSwRwqKGM9dkg3DduPxVvtoAYa7PGzVChAg1giTm31YYrForS8aT2HzpYYS4BCSw33rMHP0wtJOivde/z5ZJKX0uBKri+gzHCPn2LxOPNTgTKkuqoqG4e96aX+TutecGpRkv1k5PkLMfmVo7ABaYoJZeADA+DS1dXFVDE89hpQBS1Ld955J7sGaGWCkgYDCUu33347i9CGsS8HNDD8LS0tZduZ5CXHjybzS1MBUwFTgVOvgIEyp15icwBTAVMBU4HCK4BvNx966CHmJ8NTNjBb5GA3r0mvJyiDNoPWGnUc9quTB5QMzVrJS2mDUvFJPv1KjOoVfGlyPkaVZUQN1dk9bOlKksmvOC9P45E9Zfg2qvYlPK6DMjqVA9v3Mjw/shBEVFCMTYWpuy1Fuzs71NraalsIu0EZHZDBcVWPO0GZTA0mj/IGNhzWYF8dsMHjx4EyMCxFmsyZoSG6PBdTQhnVNQGYW16P0d4B/EnsLVz8nE8LyuiADLsmwn0g3ptQtHBlFYcf/PFXJw6ovnKPKeluOyfc+Gl4ovOT0alkML+TUga/d4Iy4j0itmVxwJSiFI3PhKmv08tAQUdTlKLRCEUi0YxvzdpuJfW2pWxpUIA1gAxIUlOpqXBsDmUOQiGC2e3AwAAFA1lvH6aU6SqhmeVcYAxIcxpQRryGHNAgxryh0joHpyhs9r6e9pOR39xlpcz+/j77TIBKBv4xSOa75557aHt7m2Duy9OWJiYm2M9o+4MpMIyAEaXNAQ0UeFDWAO7g88UkL+X1sWo2MhUwFTAVKHoFDJQpeknNhKYCpgKmAsWrwBe/+EX62Mc+xpKXIFVnf7gXEchgvmIoZdxUMjiOG5S5MLZDpak1tqhyGpevJKg31zqDbQpT3oGOrI/F5St2RQ5ac3hctjg3Fns6Pxlse7WgjHheWPw21RxYSUNnztgUFFDYjKTVEzntLg7wRFw0q4AMtjkulFHNKxrgygobEdi4merKSVFYWGLROTQ0RLoUKR0oU7WMZRRB8AcSzHrxHHnNtABO8JOR710dnJPBnO0eGA+xf6rgyvkXkby0TQlfd87LBQqbswPlOaoWbFhI6xLbD2lOADaSUka8D0QoI54UrjUeE8EjYA08agBqoIJjsCYSpUg0QslEGqB4kGpUS33tZEV3Q2EDk+FgIGNmzaEMEodW11ZpeHiEvALU5VDG6T0FoAZKmJ5W671DjsLG7wpRysjHOrS6uqixMklOMdh8+3yhDFKUEIENdQueN0x/AV+QsITPinvvvZcAZHgKEzxjFhYWGJSBwS8HNGiPheIGQAYeNGaYCpgKmAqYClybChgoc23qbo5qKmAqYCqQVwV+7dd+jb75zW+yP8D5t5ivVyjzw1c3qL7sgH1rKw8AGYx8oYy8PzxGhqQEpUy60nSEBhzSlTAHIo9PA8roFuM4LhbAVaWbCDNm7SniYGqFtPeI3O5SKLDRARkc+yTqHA41ctKKZtASZSlWZCUJoAv7fRo+4eeFxQW2gO/t6S06lOHP0UnRkvEHgvdLX1aBwe6PtGFvoYopNyijAjKvToSYiqqtCUlDuYvpV8dDdPNwBV1KgxTx/rk0GWLABo/L47itS/Z5j2wGxuJjHMo4venhvvAKCVxokkwlk6wdqbslTlNLSWqtO2LABtefjxJ/CYM0m6FqGuzyMl8UtPUM9GehbiZ5Ke0v43R8USkjR2Fje7c47LySl6IWkHEaIqRJJSLUUpNrkiwqZZCgNDs7mwExgC889hqKGQzEW1+4cIGBq1tvvZVgCozaoH0JAAeKMwAaQBtsB4jT1KT3HsvrA8tsZCpgKmAqYCpQUAUMlCmobGYnUwFTAVOBq1OBd77znewP62984xuZA96IUMZNJTOzlKTVtTXqarSMjeWhU8lgW1kpI+/vBGX4NgAS8mKbP/b9Zw+opT53kZSZ3+PJy9xVPh/tYjy9kA56l6iysopaW1tsu4tQRp6XPybDGmzHgY2srsFjbioZbFOIT00+MIdDD/G5INEKfjviMbGYhFoMZqbFVsrg2G4pSNhGhDbcG4jVlgEbqSUqDc5OopTRQZly/ypTjYhJQzgXABkMJ+hiPX5AHnI27R6dDNEH3pP7+sN+bq1L2MZNKeP0rgkoIyqo+Db8vkDcNa/tQJeXtT1FIxGmqLmy5mNR3vUVe5mpS0p8Gd+a7cMqGujysTqhzYektki31iVAmp2jbBy2HIWNg54Uyog1CR1FqCyQ9e4qD1heODKUgTnv7u4u3X333cxDBp4waGWCtwzePwcHB+mpp55irY9QHj777LMsxQ0+MiKgQcQ84rHf8Y53UHm5cxrdC5UIAAAgAElEQVTX1fmkM0cxFTAVMBV4Y1fAQJk39vU3z95UwFTgOq4ApOUwef3xH/9x+vSnP50502JCmWK0LuHE3NqX3KDM1GKCQhuj1NbeRrU1tTlX5SRQBkAGQ1bK8IPooAzgCW8Vkk8Ki3IoAFQR01j45mPuKs+LxS8zpB0bZ1HHdXV1mU0yLSSKOGM3YCNHTPOJVzbi9PC92YQn8ZzcwAq2PQ1gw2ogREujZaOquoqurPpopK9Ue0yVIa9b4pXyegnpSfL1wj3CaiD6A01aSh+M0ckjGk5HZfPfcXhRsFJmPEQlqSvU0NjIYo7FwVUyqrc2QBlVChIUOCpfEdzPhbQusRqk25eczkkFZfi2E/NxOquIw97YI3rw9lJKplLM5BdgoTQYpEg0yrxT1vfLqKFyn03l9XhzWqC2DitosLOEPB5n8ConL8lR2IA0xYIy0Vgsx2vmMJKg9no77EPLF0AM/HbQdsQ9YaCog4EvPLkAZpDIhIhsGMXjZ8AZqBBFQAP/mZ2dHdb6hChxM0wFTAVMBUwFrk0FDJS5NnU3RzUVMBUwFXCtAMwcYcT4l3/5l/TzP//zme2PA2VCVKk9zi7isD32P/rlHWBUmf7CVjkXoExVQG3iG0+ktCa/43MRiuxcpt7e3ox3jniwk0IZFZCxFs1qpYwOyiCSGMMJSGARCl8PFdDBwldp7jpxSAPdXpqenqHenh4qr8h+g62DLjgXNyijMnj93tN71N7ivCjDgrUQ6ILzcQM6unlFQILWi6nJKdbKheQlFVyCkW9bk1+pXjotKKO7luweSbc58Zrwe3sU0E8ANqK6RTT5lV94L4/ukT+1wJKGqqrtJr86KKMDMjgGoMzNw87vGf/86AadG8xVUwDU4DrrVDKYW/W4DsoAyGBwKCPXAX4y3hIvJRMJ5pUCgFlaVkZn0mlLM6sp6mlOMlUN96sBrMHP8LEJJeupvmyPAQm0QlnJUPznAK3v+6m7WZ06B0hzGPNm4rCdorBxzvCUUbUv8efkBGXwWG2FPRkvFosxFQwUY3g98NhrqMief/55uuOOOxhYQ6rSW97yFqYQginwm970JqaWAbiBkgaA5sUXX2SP33XXXZaSyAxTAVMBUwFTgWtSAQNlrknZzUFNBUwFTAXcK4A/sGHk+L3vfY/J1Pk42Fx13xkLgUiKSqr1PgE7hx7XOOy1XS9VlurjsBc3vdRYqYYyL00SVQbVcdmTCzHyRZeppaWVPIK/BH+iUwtx6mxI0RmF94uufUnXuoT5TwJldMa5KkNVLGChnhAX4/x5YlEOsNLZEme+DzC1RTsGH4VCF+xf6L7/+p0dx3NFfHeh0AXn47avCGUO9g8IrRZnzgzSxFxcDYkuH5FC9EAr63Fqawqo281g1jtoj/3mdS+4BWkCCVvObSG4PzDEdjKuurHuS0C9bDqXCGxefGWLSn0rTP0QCNqhaqFQRgdkrPsnlKOw4cotqMbk58n/rVPJYF43KKMCMtgXUAapaYehQ5qbm6W+/n5a2PBnXi94Xxro9OVGYadSzJ9mfiNFzVVH6TSoCPNdEX1rEv4Waq4OC/HdFrARo6O5UkaOwcZJcEhTTCgTCoVYmxJUMGhbQuw1oAogPtqaHnzwQZa2NDo6yn6GOTY8ye677z5mrMwBTX19PQM6gDvwnVGBzrw+bMxGpgKmAqYCpgInqoCBMicqn9nZVMBUwFTg9Crwla98hSlkkJohtrCEQ5Yc322EIknyBPRKmasFZeZWKfNtstN5XxjdoUByhQbPDDo+rcvzcUrEnaHO6gbSW1LUaBcMEI/EdvOTwQFVnjJuShkVlOELbpUyBQtgp9hhHA+L8c6WBB2GQtTSasVN8QV5oWDlpG1PTs8Di214qchwCbAGww26YJt8lTKbG5u0sbHOknUuTeXGc/Ob5tJlPOYMVr73zD5T0TgNqDjcPGUKbUXTQRknfx+cHxQt7LoPWbXk14+f+8XRXWqqse4PqCJuHsm+zk8DygDIiOcj1xD3rdjahOvAx8RMlEYGLbjkdL2LAWUAHlaWl2lk5KwN6uJ9xykOG1HYGE6eMgAXVmR3hDYO/FQd2GE/x2KCyXCJz0qCCgYp7qsltDEhEarEB98a65mLkAZx2H1NaiiN7fNVyiBdCYa+UMEAxPDYa5j/Li0t0f333898YqAcAoiZm5tjxsAANBsbGxlAAwiD1qdz584x5YyJw3b7RDWPmwqYCpgKnF4FDJQ5vdqamU0FTAVMBU5UgU984hP05S9/mf2BLf7BnA+UAZDBuBpQBt9GY+iUMm5QBslLtaV7OUlDvICAMn2tzuak4zNRGuzKqkmwz8RcLFP78ZkI9XfYH888mEopgQy2OQmUUQEZzKuCMuyx8QMWdcyShnp72akCGGCwqGOpheR6AzY89nh8OkLDQnoSzj/jpaKJ7ubPV4Qgy0tLFI4gaahPD3s0UOY19lhWeSK+OB97Zk8JbABOTkspo4MyKt+XV8YOaG93l1obwyzGWAY2ly6H6FwajImwht9bOj8ZVeuSk0pGrJ8MZcTHmIm0Ii3s8nyM3vdIrocU31/0k3F6M+VKmdWVFdo/OGBwgQ+852AAysgDUdgYx4nDRuoRMxlOAxv8fJQso0Q8QaWEpDQir8/LTIVZKxTaoAJBSvpKqbXWQ3tH9vevaulWzBfKALDAP4dHYPPYa6hh8J7x5je/mS5evEg4X7QsQT1zeHjIIA72BaQBoIFRMNqXoMKE74wZpgKmAqYCpgLXrgIGyly72psjmwqYCpgKaCvwvve9j0WW/ud//mdmu3yADDbORyWD7YqhlHFrXcJx3KDM+Qsr1FGfoBYpaYg/8eNCGduicCpMQz3OCol/+96usiWKzZEipS8MPGV0SpnjqmT4OQPKlJesUFlZOWstEAfzBBE8PziswTYysLH5kwgx2vJNd1o+NUy1IrTucFiD449Ph2k4bd6Kf3N1DX52UqzMzswy34/2jvZTgTI6w1347bTqFDa4DwSTX7G+qG2hShkdlKkq3WCqjI7ODvv9MZZW2KSVMznAZiJEZ8+U0y2CsiZz32n8ZHRQRgdkrPsyC2Xkew9Gzk5tM9yoWQdlAGQw0L40Pz/PBCpdQnw8V8mo3mTdorC7myxoo/OUQetSa22CYtFY1rcGyVDwrYlGGRgJlNeSP7ll+dYEAGuClCqpYm2JvpISloQFQJMPlMF8MOfd3NxkMdZoXYIXDAx/0ZaEliS0PD7zzDPMAPrMmTPMZ6aiooIpYkRAA1UN5kLyEh43w1TAVMBUwFTg2lXAQJlrV3tzZFMBUwFTAWUFkLyEiFPIzz//+c9ntrsRoQz/xrq11lm+j4XG0y8u0VBXkGqFpCH+pHVAhi3wHZQyYmEBA1RQxlLCOBsdvzpxSNw41ulCwaT1/e9qcLyGKj8ZbOymkoGaZHx8jJqbW9giSxwylFE9JsIaa2GcVdjIUcmFtkRhXt2+MpQRz1WEICKswTasJSqtsGEKixTR+MQ4NTY00OpOhRKEYV9d+5JOKeMWUe4EVlDjpZUIa1dxaovi/kCnAWWCnkX2WmlqsntGvTp2YGtlst0fArDhsdm21wng0lCF4/6nCWUcW5rSqVtiHDZvR+TnzFUy+Pfk5ctUXV1DzS3ZOO/jQBn5RYwobAzEYXelS9xWl/v+pU1eShHBlPcgnKAy774FaiJRBm/QImUNDwUCfiopa6CKshIq88cYZKkqC5DX58sx+cV+ADFQTkIFw2OvoSCDgS8gDEAufkb8dXt7O0teguKup6eHAZrKykrmRwO1DbxnHnroIZO8ZP4WMRUwFTAVuMYVMFDmGl8Ac3hTAVMBUwGnCuBbVvzx/Md//Mf0y7/8y5lNiglloJLBCPjVqRvFMPl1U8mMz0YovDPBFg1i0hB/0ieBMnzBXyiU0Rn5fvfJbWpvdk4sQgvJB97jbLLsBmXwzT9a1pCsgnuAj4zPiCIdRwts0ioI0UiWzwvT4bODZRnfGvF+PAmwyRfKyPe/eEyoLLAQhY8GfJVml7LKJbn1h/uYqDxlig1lcN4sIckhnhx1XlqNMBVEW7NdpXVT+vqp9sW8upSki5f2qIQWqKOjg6rl5CUXKCO3M4m1B9DxeJ2joZfXovQ/H7QDQr6vW+sStlO1aUEpo3qNyclLYksi5mRx2HeUUTKRZBATAKKmNtsKdRIog/lFlczytr0uHNAUGoedSMRtkCZFHoofbjDfmkB5FSutz+ujxOE6U7Hw/9AWhThswDi0rgG4QAFTVVXFoq7RuoSo7Oeee45uv/12ZgQMU2AY+TY0NNgAzYULF9hx7rnnHpO8ZP4MMRUwFTAVuMYVMFDmGl8Ac3hTAVMBUwGnCkBmDqXMv//7v9Pb3/72okOZUCTFWpfI4wwV+AHX9rwUVNix8G0WtzxUHVQnLyXiKa3J72tTIYrvTzPZvU9IGioWlFEBGczvppRxM/JVLTa/+8SWMmJ6aTVKjygWuFiM97Ql00lDZ9gCS4QyKs8PV2CjaU3hxrAqYPOB9zQ6vkjdVDJsMa5IHnJTpoitXwcHIdaegqShybk44THAGnmMTh0xD5ubHSAJgAw7H4WnjNv5FFPtgmMtQmHjAGw4NNFBmRcublFZyQr19/VTsFRKXioQyugUNqgbAGRHa66BMtRAblBG9RrBvG5QRpe8dP61BLU2+igWjdPG5jo1NDTSuYGsUUsxoYx8r3FIE0Icdl1SG3edf/JSigEmK74bLVBROtxbJ6QtHR0dEdSTfABgoz0JgObOO+9kj7/66qvM5Bemx6+99ho98MADtLe3x0yB4RuDNjEOaLAvfgbcgeLGJC+Zv0NMBUwFTAWubQUMlLm29TdHNxUwFTAVcKzAN77xDfrJn/xJlqyBb8T52N9K6+pd6gboEgs4f7ONXcuDXtoOeSjo1xOX1V0vVbvEYS+4xGE/M+qh+opscol86hPzEQom1lgcttOYvBKjroYU845wGrr2JV3rEuY6CZTRLTaxyFV5ynzniS3HBS57bmiFaQiztgK0H4gGz/m2LjnVSBd3rE/rCZHXIaKcnarHo3yObioZBkg0Pixi7eCrhCSZESQvTR4pj8n9W+TWLbb4T0eQOyVe8fvgavvCyG1kOA88h8WVMIqbo8LiPjDPvbhGlaUbrB5yfLxb+5JKKaPdLx3d7eRDg/Mdm4Z3kN2ThF8/nZ8Muy4uShm3OGykpsGwdmlxkSVzod2Jj8UtLw10lFBfu7P6xyl5SXztuPnJYNudQy+VOLwtNVZmz+M4UEZ+7dZWWJOjxRNmvcvLy8ysFwNtSvg3DH8RFw9wCRAzMzNDi4uL7Gf8fmpqim2D1xEADZQx8LdBi9PIyAiD4SZ5yfwhYipgKmAqcG0rYKDMta2/ObqpgKmAqYBjBf7wD/+QPvvZz7I/rsVvMfNtXzqIpFyTl64WlJlZSVGbwk8GT/6F1zaoOrBLvT1W0pA80LbQ3+YhtDHJY2UzTnsHCeIRt+Lj8Ipx85PB9jpPGZ1SRpmcowEyOJ5uAfz1/1in9uYoxWMxami0tz95PIjGdo44z6d1SfVSc4MyTvAAc33jPzeVyhO0wRSiksG8sgJneXmFDg9DTCnj1k6lU7TIAIPXA+1bP/luZ28gfj7FVMpgTiQoqerqdH9wD5illTCFj8JUWR6h5mbLP8UWh30KShkc2wnI8PpZSpnsfSkqrpB8xtPCZOilAzKYO5/kJUCZtdU1BmbODJ3J3OKzK9aPJSW5QIZDmmJBGdlrZv0ge8xkMkWVpSmtkgbnaZn8ZpUw/IlwKMP/DfAyPj7O0pIAKn0+H4Mvo6OjFA6H6Y477mCKGbS/on0JRr5Qy7z1rW+1ARpEaf/whz9kKhu0fZlhKmAqYCpgKnBtK2CgzLWtvzm6qYCpwOugAo899hg9/PDD7JnAPFGMZS306f3Mz/wM++P78ccfP3YcNo55taAMVDIYujhsNyjz7Mur1FYbpbY258UBhzJOtRybidAZh8hbbDs+GyXEMvd3qn0yHrrLGXJgfxj9FhvKYMEtL6TF54XHK4Pr6aShrEIKC+NLE/AvyU1JwYK5UCijAzKsBuMhJTxQmb9iUQ4YBp8aeUCp4tYqJCuM5mbnWFtbZ2fniaCMLg1LpRRYXo3SOx6oU76MC/WFOS6U4Sfw6ug+VZdvMUlVd3cX+zUHNmiJgktUe2u2pakowEYDZWQgIxcKqiXeTnZJajk7SRw2T14ClIEaJJVMUndPT+bwgDJnunJVgDPLFvhY2/dRT6v1voCUJafhppSBSsbJ/Feca3WfqL4iq5qpzu0AY5vnA2WgloFyEjAGBvDwjUFrE7yWAGHgLwQDX3jL1NbWMqUd2pvgQ3PzzTfbAM3KygpLYoLJr+xLVOhnltnPVMBUwFTAVKDwChgoU3jtzJ6mAqYCpgIsXQMmilgY4A/k40AZ+AB89KMfZX9I8/9g3ghlDL7BhLT8r//6rzNVLqZKBpMWQynj1rqE4+ihTIqeemGJBjv8VF/vrFYoFMrg2FgUyqktvKCvXQ7ZfBrk2xnpSv/fj6jTlQpRyrh5d7wyuk8B7yLzx4Dvgzh0CgonYMPVDSdpXcLxVYoOXSIPHpNbhXhbETMWHrCvTm8atmCTkxIGC1EsPNe2rW1UcMUtfrqQiHLALi8kSg5jEd5AGmCj84U5CZQJ+papuqaGWtJKGX5qmFNUtIgJSxlg02J5SN181jKT5cOtfUmllDkOlJFLODYTzWm/wjZn08lbbnHYADIYU5OTVFFZSa2t2fZHFZTh54DWJqjreMqSeG4c0hQDyhxGU9RYlYUyu0f2e4lDmnygDAyv0X6E/0MFg9hrGIHDQyYej1NXVxdTk6EtCV8M4N9PPvkkg5lIZwKggfEvvMrQ0oTWJ/iVAdqYYSpgKmAqYCpwbStgoMy1rb85uqmAqcANXoFPf/rT9Gd/9mf0oQ99iP3/OFBmYWGB3v/+9zPpOeTkGOj1xzec8A2AD8AjjzxCt9xyC/um00fOkdJyCfNRyWCfqwFlAGQwVO1LsViUnn15jW7qr6TKSvtCEfvpgAwe1yll8LgblJHhQGaRilSdM+V0aeLQ8Q5FutLIQJljfLDOT8bN82NkIMjuISykqk6QrCMuyAGXRIWNTT2hUcK4qWRQmJsdlDv4vROU4YWUHxPbXXgSFN92ZLCUxsctX6WF1RItkME+ujajQqGM6jl+/dENOisYy4o3yuJqhDpag8r6FAplWPJSaoG1nNTW1tjuTRnKiA+Kj3G1Fn+cARt42OB8R3KVY7r2JR2UEVUyTi8iQBknJdrodJjWt1Pk9XmptdFKhnOKwwaUSSVTNDY+Rq0tLVQnxMfnC2Xk88pEYYdLqCJIVF9FSjVMPkoZGcqIx8sAmmSU/N4E1VXalT1y6xK+AIAKBoAS0dfcE6a8vJxefPFFdg2ZGfbkJDPvBbD5wQ9+wD47YOgLQANQA0Bz8eJFBnLuvfdem5n4Df5xbE7fVMBUwFTghq2AgTI37KUzJ24qYCpwrSuA/n4oXP7iL/6C5ubm6Pd+7/eOBWX4+SNVY2lpicEZ/Ic/vL/5zW8yxQy8EjA+8pGP0C98+OcpGAhSMBigQDCY+Rm+AuLIB8oAyGDojH6LYfLr1rp0adpKXsI3u35/bhLUSaAMV2bolDJuUEZ1j8kLW3G7SxMHzEfDcYHr4vnR1+Wh+bk56h8YsH2D7aawcYM94rlAUcIH4BI3aZXP1w3K6IAM5leZ6h4H2Fy4tEObm5vU2NhEl2djtpYoUcGjU8ngXNBmVGwoowMr8AY6q0ie4rU/jqcM3+fFi1tU6luhvr5eKiuzt4flC2Xke5rdO2ermNeR01hai9I7/4ezYuw0oAzOQVTJoA1RHiX+EgKUiYQjND09RT09vVReUZ7ZrFAowyfgKhlVFDa2OymU4ceKRmMMyoijNOgjGcrAMwaQBe+VaE96/vnnmYcMYA0gC5R1GxsbbBrAFigxX3rpJeYnA9jPAQ28iM6fP8/gDiK05c+Pa/25ao5vKmAqYCrwRqyAgTJvxKtunrOpgKlAUSrwvve9j0nAISMHkCkUysgn8+1vf5ve9a53sT+o8cc3JOv19fXUUFuTiUuNxbKmtyUlPraA56AmVVJGJaXVVFJSwlJcnIZOJbMdsrwWrDjsXPNJcT7EYVcF7AuKrsbsPm5Q5uL4LnkiV1irFoseksZJoYwKyOAwaF8qBMrolDCYVwdsXhs/ILQ93XK2Oue5Yr+O5iitsKShYYJZLh9u0AXbFZSsI0AiEdZgPg5snOY9buuS+GSPA2V2dnZoeXmJhkdGCIlOHPTI8d2jk4d0dsBalPNWKH5MHZBh18uh1SpT9/GDoqtd/s+/r+akFck3g+paPv/iGlUEN2h4eChnMX1SKOP0PgEwp3gLYabTVwPKOJ3Xd56L0lBPgI6OwrSzs00tzS001JuFusWCMvKxRUhzFPfSTZ3qVDnsq1PK8LkBZaol+6WjSIJa6+0tfkhPQgsSVDAAMTz2Gp9B09PT9OCDD9Irr7zCICaAS0NDQyZ5CXAfnyd33XUXg3lQ2UBtg/ddk7xUlD8HzCSmAqYCpgInqoCBMicqn9nZVMBU4I1agW9961v0Yz/2Y0zV8pa3vIV+93d/t2hQ5nOf+xz95m/+Jq2trdmk5aKnDEwfI5EoRSNhJkMX//OX1dB6yMP+2AaYKfH7qcTnI7+/hHz4t6+EfctLnlxlCq5nXYUFVVZ3Pa5x2Fc2vDkmvwubWbgyv5qiBk0c9thcmCo8W0xe7zRgBtqdhjxDPbnZs7r2JV3rEo51mlBGpYKAZ4wDe2JPHfDgbXd7mDcR2hDE4QZldEAG85wE2MiwBvMBgvzUe630H3kcB7q47bu6tkr7e/tMHaCHJ1lDYrnl7NIk4JsFbOTropsT25+WL4yqTQjQzklhxJQso/vUXH9EO7s7NHQmmzTEa3haUEblJ4PajE2Fc+Ow0/5AuvYlVesSfy75Ji9trK+zqGdvuf31shcuobvO5Rr98vm5p4zq88vNTwb7Le/6qKY8C6AbhBhsPm+hUAb716TjsPlcaHeFkvL+++8n/Ax1JX7G7w4ODpgPGcx7kbYE418oMP1+P1PNYHu0RaIlFgoafG7BlwbtTGaYCpgKmAqYClz7Chgoc+2vgTkDUwFTgRusApCRwywRJol/8zd/w86+mFDmF3/xF5nUHOka4reYe1uWNF0c/qD921T8Ib53GKdw3EORKKBNhMKRiPVHetLypMGc3rImomSCKWys/wJM4u7xZNUZhUIZ8fxmEYddp/bCQfJSS3WYeYY4jYnZGPW3e5m3jDxWNmKEyNnG2lyFzdm+oKufDOYrtlKGwZP0otTp+QDKqAAJHoNpJxQydXW1tt2XViL0zoecwdU1ATbjIVtUu3iyUFYU2rqEecR9r1yZZ1N3dXXnDWXkunOw4gSXoAZCm5FT1LgOyOAYhfrCAK4o7wHJrJc/F1xjnE97E17HKapvqM88zVvOVrFzwVABFB2w4e1LTverzk8G9ZTvdbHG47ORjMeP7B1zEigjJi8tLi4y1Uhvb2/m9OdWiXw+hyjsNut9AkAGA0a/quEGZXaOrH3bhfe2jX37fGVpBaFo9Ot0PCelDLYToQwgPLxi8HwRgY3YazxvgBVEW0P9gs8ktDTBSwb1wOcHTIHhKQPFGeDV3XffzWA/9geggRLTDFMBUwFTAVOBa18BA2Wu/TUwZ2AqYCpwg1XgU5/6FH3hC19g8aQ8IaeYUAZ/LKNd6R//8R9tlTkKOXs+iBuFItY3t56AFJ2cSrE/4iPRCEUjUdqL+OnwYJ8ikQj7w53t4/Gwb1Y5pAklaqimLEWBQNBxkeOkkpEvpQ7KACA9/eIS9bX6qKnJnjTE5+FQxukWGZsJ06AiDhuLvvGpMA10On9bDqUH2h2UPiNpo1+n47oa+SqgDFPJaFQreBzJOnW1ddTUbAcw//X4JnW0OaekAKSdRAmjeo66c9Ut1v/50XU6O5gb3W3dY8cDNliIVlVX0fqOZUCrgj06/xsdXOFR4lDMyAOJVvAGcgIdOiCDebSgrAAogzlxf5T5V6mioiKTNMRb5ZjCZthu0gtYw/ZzATbFhDJiDS9NhVkcNvd2Eh+z4rDVUeP5Ji9NT00zINHW3paZHlBGfl+YWcqC4bWDEupt9ZLYZilf+3ygjAhk5P0BaJKpBNWn1TNViihs7JcPlMF7NFqT8H4NZSaPvR4aGmIGvt3d3dTT00NPPPEEAzL4+amnnmItboeHhyx1CbAGSYEzMzMsLfDhhx9mvzfDVMBUwFTAVODaV8BAmWt/DcwZmAqYCtxAFUD/PtIrPv7xjxMULXwgeenzn/88Pf744+xx/JFcyACoQLTrhz/8Yfqd3/mdzBT5ABlsDCiTA2QcTsTylLGSTdD6FI1GWDsUhzb44z+UqKbE0RbbBsaaGZNhZjYcpM1QGTXlWqPYjqaDMvF4jJ55aZXO9ZVTtZQ0hEkAZDCglHEaOiiD7bXJSxOHGeWQ09yLK2FqbfI7KyjG0GKSNRUV99cpZdxUMvg2POBdYsk6NTVSss7oPvFFtu144weWia0DCIJvzUlUNCrQg+ProAwHHXJdoaIYRSuRA7CB4kJue0qmkjQ+NkZtbe20sObXAhkcS2mcq/GFUZ0r5uMww+n+gJkzDJKPa+bMalcglGHJS7TA3h/gGSIO3Fvy/aECNuJ2fBs5IpvPfVylDN+PAxnVe+Djzx9SW3NuOyLisAFkMM72O0NIKGVYHHYqRWNj49Tc3ET1DVkjYicoI54HlDIlJbnvKRzSAMhgdDer/bSglNFBGex/FE0RWpr2wvYqyIAmHygDoA4VTFVVFfOB4Z4waPsEfEFCHx57+umnGXiBAgaABkb0UEkiAhvwCkBnfHycoPZE6xMgvBmmAqYCpgKmAte+AgbKXPtrYM7AVMBU4AaqwIULF+jIxIkAACAASURBVFhihW7gm2z0+BcykJ6BP7T/7u/+jn76p386M8VpQhmn80TrElqDgp6jHFiDBQLgUShRR4HUDlPSZFugrFYo/LEPs01d69Kl6UPa3NyiNw/XUbA0dwGmU8ngnE8KZVStS8yMN52c46igGAdYsJw5cxKLNO1LblBmsKeEZudmGdQTv8HmChsnKINzcFyQj1v3H9QeNw3ZFRR8AV4wsBkPKdtkcEwd6HB6jLe8yMAmFo9RqXeJenp7afpKqiCVTOZ8FNHdblBGl5Cken2j1ex/vs05rUgHZNi1VLQv4bEXX9mmUt8ydXf3UIWQNKS6B/j5yfeHaETNDJvTChsnMHNaUMapfQlR2BjTDLpY7wdORt0cyjDYMDlJXd3dTAXCRz5Qpj/dysT3mV/PtkDuHPmoq4motVbddnkcKCPfJyKkCXot8Cwb/cp+MoDkaGnFewPUmVDKwPAXA59JMPAFaIEp/D333MNUkWhrAoRBZDYADdL8+PsKoC+Sm0zyUiGf0mYfUwFTAVOB4lfAQJni19TMaCpgKvA6rgBSLL7//e/nPMN/+qd/oq997Wv0xS9+kTo7O+m9731vQVXAH89oX8I3nrfddltmjmJCGVElozpJnZ9MMpVi375eWScqpV3LcDittEmluG+Nl/bjDdRQfpT2q+G+NcGMT87FiT2iozkaGR4hj9cheSntJ6M6Rx2UcTX5nUBaj7N0X4Qy8rG5egKLdaeUJStdyWrdkdte3KBMV1uCpXkND4+QV6iHE3QRF9zsWOlWFfl8cY5Oyghsx5QpQsuLCJi0wEYDZXSQA8c8DrDBa+35C+vU0tpKY5NHtohp0QOm0NYlt/M5iWeM6p5dhDeQAtjogAzme+6ldaoMrrPUHJasJgy3eySf+0O+ny9NHtK5oUolgHPylOGn5KaU0XnK5BuHfbC/z9pwBgfPkD+QVXwUAmXEWkIp4/fb349kQHMSKCMeay90RKJypjRgXVcZysATBkoZKGIw0Mp033330fr6esbAF34zUMTg82NlZYUZAONnfEGA1Cbsi8fRzoTPKPjRmOSlgj6mzU6mAqYCpgJFr4CBMkUvqZnQVMBU4I1YgWJ5ynzpS1+ij370o8yMEd9w8nE9QRl+TrmeMmnfmojVCnVlw0dltMF+TiZ5bLaHGQpDTbO4GaBK3yYzccW/8U2uOE6ilDlNKKMz8uVKCKfWl9fG9hmwcVogY1GNZJ39vT0aPDNYlAU3gw4SlLEt5AVVBsCGOKCw4XApRw1UIJQBkMFwMtVl54o2IwES4TWAxSh8M+THRAWTeK7y/Pn4yajer04CZVStX9/+/gZ1tDq35cBwR2nUO7pPrY1hZtY6dGYoJ8GrGFBGrgO7JxR52DjPQqHMSUx+x2ejNL/moTO9AQodHDDgcN8d7bbzLAaU6W7Kti4t7+S2OkHYl2/7ku7zMBqLUnWaDR9F+XskUUudPSMbSUuIwOZGvfPz88zwF75meI1AKTM2NsaSl9761rcyU2C8fpC8hH3xGAANgAyHO/39/W/Ej2rznE0FTAVMBa7LChgoc11eFnNSpgKmAjdaBYoFZX7913+d/uVf/oX9AS5+i3kcKHOYtP9BL9dSF4fNt13b81LQp/ZUwHaLmx6qSieMOF2vubUUNVbECbOkkgmKxeOUYPHd+DlGK9tBKqPNzK6Q0rMI7/R/C2s+wuJopM9Z0XKtlDLKlpY8jHyxWOftSGLNoLBpb45Rbyfl+BGdxoIbx84nkcdJDYTEIpWC4jhKGPH5OwEbxPjC4BSmpfnOK7ebcbNeHEsGHoW2LnHYpTRXdknYUu33tf+7kmPWK9aormqXYrE49fb22F5uhbS38Ql00I4pkEbsrW98v+8+uU2dbbmvS27ErFPKnATK4PjTS0nW1rS0vESRcITi/qx/1/aBh+69NaD9+ICnjNy+JO7ATH4FKCNPBkhzFPdm2pucorCxD/eUyRfKiNtVV2SfA7ympqenaW5ujoEVxF4j1hqtSS+++CJrFYUKBmoYtCchhenixYuE/dDiJAIatMfiMQAdmMmbYSpgKmAqYCpwfVTAQJnr4zqYszAVMBUwFWAVeNe73sX+mP7Xf/1XW0Wc4rCdSgaj30CVs58F395qX3JOJeLbrO56qbpUDWWgksForMx+uyufj1sc9jMvLlFnY4pqaqpZqghSoaz4bvwXo/W9CorH4uT1eJnRcIkvDWz8fppZTFE/Im1zu55opN8lDlvTuoTn4Na+pIMyurhrzK17fH19jYLB0hzTY5zPB38imy4j1lkHbPJVyTjdR9pEHqT5KBQUgCA//WMtjq/mfMEK3xmtFvBn2ti1wEC+ChtbfQSPH50aKKfVTOMNpGvtwrG1Rr4uwMbRzJnFYe9TS32YLcBFE2gWh60wgca5uAGbQqHMpcuIw7YDG7TD8QFFC/dlKmYcNgcyOM7M7CxT3XW0t2eOO7dG5C2xv7f1tWbfJNyADCZygzJoXeJeWZsHdhUNBzT5ABkcS1TKiPetDGUQYR0KhZgKhsdew8QXPjMwBofqBSlMaEuC78wzzzzDvGfQ6gafGQy0wwLsIH3pkUceMclL5m8OUwFTAVOB66gCBspcRxfDnIqpgKnAG7sCMM8dGBig97znPfSZz3wmU4xwyIpSdhsHLHnJ+Zttcd9iQRkdkMHxdFAG7UxPv7hMw92lLClEHljUIRWqtTZMUbRDRaPs//CygafN6nY5NVeHKBAMsFQo/n8YDk8tpGh8Wh2XDa+MoR51HPZpQRldmtHFS/vk9yBZp43q6uz1+Pb316mjVR1dm49fiFzffFQyqvtNByW+899b1K5ozwHHyRes4LWAlouWlhZaWg8o98M5Fqp44c9DhjWYs9B0JQAZDB180z2mM3P2exapuamZ6huyCgdAF20ctgbYcBWU8v7RKGWcoAy/X6CSYTVQxGGvbibo4Xvt6WJ8X7fkJQ5lgIsnxsepobGBGhsaM7cqoIwchz29nIXLe2EvvXXYOc2NT3IcKCO/RjikSabiVF+RsvnFOL2e8oEyeB+EaS/Sk6CCQfISIExbWxsDMefOnWOqFwCam2++mRoaGtg2SGkCsIE/GczjAWigskHL14MPPmiSl9w+UM3jpgKmAqYCV7ECBspcxWKbQ5kKmAqYCugqgG9CEWv6hS98gUVi83EjQhk3lczYzBFtbG7SrWdq2GJDHio/mRSlKBaN0aWpI2qrC2cjvKMRSibSaSkeovWdSuptS1IgGLSivEuD7Ft1qG5euxyiRNw5WQWL8ZG0AbATQND6jHAVRARft3vIs+0hz5aHPDtEL+/t0W3xaqKwh1g/F768x9rQm6KLvj06V1ZO2+EdqmmppsDlIKXekqTEfZYKSaeE+Kd/W3ZsecFCu1CljJtKRhuVDYWJouXl//z7WsanRrzeUKnIYAXKKShl0Lo0s5DKG+bI91HBvjDp56Eyc0abjmNakYsSxg3YqADJhVd3KOhbpq6uLlvSkOr+4AoZGdjIps+q42FeXfuSG5QBkFENpzhsRGFjiCa/TvtzKINWyMuXLzNlSHVVlRbKiPO8dsVHjTV2eR2PwsZ2mThsTfuSqJRRPcejaJICJXaloRyFjX3zgTIA0QAu3d3dLA4dKhjEXkM1hZalO++8kwHsl156iXnLAGg+99xzzMgXnycioAHcQYsTFDcmecn8PWIqYCpgKnD9VMBAmevnWpgzMRUwFXiDVwB/YMMn4Lvf/S4zaDwNKFMMlQzOK9fk137x3KDMK5f3KRmapeHhYfL5cr+5PrbJb4qYZw3UNKNTYbZIaakNMYUNfuYj4PfT8mYpDXb50sAmwP7PFyi2OOy0Ma1tUTceyrRlMPiQIPLMecgz6aFXruzTbQs15Fn35HRVXajfpds2qx3v8Jfx2FauciD2i3G66NtVJiupFuT89ywOeyS7YMXveZtOoUoZtxhtHEPptaIANlj8y2a9kXCYygNrzOR3bCpcEJTRARmcp9tz0XnGqN6qXp04oA/+WKvjw27pW+z6KFK0fvjSBlWUrtPg4CCtrgbom98soba2JK2ve2h7f49CuzVUWkrU3p6iW25J0q23JsnvzwV6op8RvIFuHrbuDyczZ921PAmU0cVhzyylMnHYQz3ZRCVeUA5lDkIhgtktlIXBQNZ/xUkpI16MpS0v9Qlx2GIUNrYLBrxaPxlsky+UaajMQpl9SzyUGQA0ADIY3OiXPyi2LuF3+/v7dP78eaaSgd8Wj73e3t7OGPgibQmmv/CcQSITPMngG4OYbLQ7If66urqaRWMD7sCDxiQvqV7F5vemAqYCpgJXvwIGylz9mpsjmgqYCpgKOFbgq1/9Kv3sz/4sW2xAgs5HMZUy1wuUuTC6TYHkCpPUO41jQxlhktHJMDMC5QNmsRH41KTboCZmotRce0ixqLUowsBiBy1Qi6t+Gu63VDVohcLv+eKFL/I9m0SvPhkiz4qHARhKM59X6vfolk1rkStDFgZl9quJgkQpGCiniDwpD1GS6OXSXbptIxfKJH40QRe6dpQLdZ2CBufgpJThqVA5CgpB3VKoUsYNcuCc8gU2mxubdOHSDrW0tOYAG8zD4dJJW5dUb0Xa56JTw8BvRzEWl8PqOGwXXxio6Gord1h8/Jf/voReeCELMqvrd2lPgnrV1Sn6kR9JUk3DDt16zg7m+OmhdrectUAhb7vij/E4bJV/UqFQBkAGQ/aZ4ce9PB9nUfVoX5QHIA2HMkihWl1bteLjBX+j40IZ+RivXCmhzmw3FLXW5CrqCoEy4nEygCZxyNqbeAw230aGMgAuiMCGugXPG6a/gC8w8AWAAcAHkMFjSGfC40hcuv/++1k0NlqWAGjgVfbUU08xlQ18Z8wwFTAVMBUwFbh+KmCgzPVzLcyZmAqYCrzBK/DJT36S/vZv/5b9US1+i/l6hDI/fGWd6sr2c5KG+C1QTCgj31ZoXxrpL6VUMsk8api5MAM2EZqcjVNz3SFrAcCAggaApuKwghZf8dPt03VUspj7Df7LDbusHemW0kp6uWWPUjUpokqiVHmKqJzotVl9HHZ9+R6lDlPUVdJNvu/6iAIpin8wztQ3Op+RQvxk8LxkpYwY4c0UNmkT1xwFhaY9yQ3K6IAMzkl8HItKXJve3t4cRYvoASMrbETD3pO0LsnnI95DWiNfIWZcvu++/di60m8H2+quc0PNAUE91NffR//7f5fQhQsWlKlv2qXqmhSV+mpob59oedlD6VuXPd4/tEM/88EKanJoxxGhjHyuTj47fBuv12r/UfkDnSR5iUMZp4+CTBx2j5929/aotnSLBvoHbJueFMqs7/uoK12r5W27go8DmpNCGX7CsViU/N6sig+/B6CRTX5nZ2czIGZ8fJwpZwBoRANftC4BIEMBA1NgvHbQviQCGkCbCxcuMIgDjxkzTAVMBUwFTAWunwoYKHP9XAtzJqYCpgJv8Aq8//3vp7W1Nfqv//ovWyXygTIw+cXQGf0eRpK0c+ihlEcfGbvO4rDVFwOxs9FYisr8zr4s2HN+laih0r7gEGccnT6k+rLDnKQhbDPQ4SUdlNFFYWN/WSkjHpcDGdWzg4Lk7GAZW9RED6LkveCl0hdKqexKGaHN6NaNbAtS0p+kcGeYYgMxulR9SDe9tZwC5UHbN/f8OLx1RRWH3dIQZsdtbbO3vrgl6xQCZXStSzhfUSkje6pwCOIEWE4CZeT5kBBTGiyltva2vNuMctOVDujcmQoLIEg+NwWfq5uRrwbK6NqXVN5A/P6pKttkHiIdHR0UChFNTnqpoSFFW3t7NiXM3h7RM8/46LHv+aikbJftHg/X0P/6X3EaHra/Xt2gjJxIxc/lnx/dyNSV/+4mwUPmtKAMVDIYQ70BmpubpfW9SptJuD/gyzH5FV/naF3CENuX5PcBEcrIj3FIE457qKU2yYx8VQOeMmL7ktN2gDKiz0w4ar1fNtdl/XigboHSZXd3l6lgxNhrGPg2NzezljYoYOA3g3auZ599ltUFraFQ2MRiMQZooMCET9M73vEOKi9Xe/68wT+GzdM3FTAVMBW4JhUwUOaalN0c1FTAVMBUwF4BKDOQnHHPPffQn//5n2cedAIysYhkUEBEiMKOBbKpLE71rQh6aCfkoYC/RFv+1T0vVWnisBc3vNSgicLG5PjGuq3WGdpgofH0i0t0pjNIdXV1Oefy9MUY7R0kld4O43MRx4UVb1k6KZQ5V1NOvsd95H3OS55I1hQUUOaWo0qKnovS4dAh7XXsUyRpqWxmFz3U2WItqgIBPwXS5sIwGZ6aT9Cbbqohr9c59QWL9ZWVZaqqqmYR0OK42nHYHMI4mdjivJyMb/n5Atj8lCoO+zgKmxQRFAGNTY20vB5Utjzx88mnJUoFlzDHsYBNHq1LKpjh5injBNh4ulJjbYjdG5WV2XQ1XRz27i7RP/7TIY2+aiV54db74AfjdM892ddkoVAGrUtcScWv/WvjVhz2ykacPF4vtbcE6NxgbmKYk5+MeL/rlDKAMgAyGJcnJqi2rs6m+HjiYpIGOrPvbb1CFDb2kf1knN4EdVAG2+8eeai1NkWbB3azYBHQAMhgHBfK8PMRlTJovQSIAZCDCgZpSzB7hi8MN/AFmIFXDFKY8DN+j7ZQmCCLgAZpZjs7O6z1Ceo/M0wFTAVMBUwFrp8KGChz/VwLcyamAqYCb+AK4NtMLLj+4A/+gD72sY9lKrG/te5YFX/QvuAJRZKucdgAMhg6KAMgg3ESKKMDMph7bPb/Z+9NgCRJ6jPfL4/Kurruu6rrrq6qPua+GAaGGZgDhOAhtJKJRQcr3lsdz4RWYDJ2zdAuIFaG8VZmkgl7JiSeJJOEJFgWhEASA+LYgWGGueju6aOuruq67/vO89nnkZ7pEekRmZXVPV3d7T421lUZHh4e/4iMSv/l9//++1haXMTp7rIMCMHtrMDSpZhxOgMwMLaPnuN2KQ9fk43GsD3K4kzdf2ZhH489qCkbngAu/nAbd1w8Bv9rfqhWvfSAid8Vx7nOdZx+UymgURGdu7iOno6glQa1H0Y4zH/3EYlEMTUXwPHGqEgvSJXvLqRvTSFGrkaEQubK6BWx0HJCmaNUDjsFbFyqK33r+8ue6Tm5wBNeK74X6JfRerwVV6dz96Fx3ie5qGF0kMlTDZQFyngBGc4vn3LYvLdC/hm0tBxHeXnaHyaXctgzE5X4xjfSNyzBzCOPxEW1K+kno3vAUHXkdi46KCPHoMm2VM1cGt7NGNof8Gf1k3H7MyChDEEFy2FTNVRekfZimmA5bOW5MDZnV7KEQgFPlQyPmyuUUefoBDTFBbGsQMa6z+1KGTmmCmX4XqAKhuWv+XyQZa9ZsU4a+HI/WYWJ6ZY0Bb777ruFWkYFNBLusEITn0WmmQiYCJgImAgcnQgYKHN0roWZiYmAicBtHAF+i3ny5En84z/+I5588slUJHJJXWLnXKHMYVUyPFY2pUw2KHNhZBvRzSuiso5ucZAPlFEXhbqqLXL7vz23hoYaZUFCw91pH/wX/Ljo38SphRLcsWgtfBONCcTeFEP8/jhQavmwuBmfuvmMUBXEcsZdbX6E98PCt4awhulRbAQ2rU1x4WFTXlaOouKiVAnvgZE9T5+Ri0OcT6aJKxf+r3c57GzA5ktfn8ep3kwYxng64cnW1hYmJydFKsbQaDhnc2D18ZFtPvkCG2GQzHLYGjDllRaWTSXDubulor1ybllUoqJ/Cs2o1aZLb0uVw07eHxMTPvzo+QDWk6l3BDMVtRuuUEamgR0Wyuge5//03U30dxfbNvV3JtUvSZNftz8DEsrs7uyAPitdXV0oZMmpZHNCGXUcAprFrSA6GtIKl+O1dmiTDchwPKmUcZsjAU0iEUU1vaQAlBbZFTXqfrlAGRo8M02JfxtYylqWvaavDNOaHn30UWH2e/nyZaGAoW8MU5YeeeQRUXWOShkCmurqaqGyaW5uFka/bqq92/hPsDl1EwETAROBGxoBA2VuaPjNwU0ETARMBKwIfPWrX8V73/teUeKU8nTZbkUoc3ZgDYHwtIAyurKs1xPK8Ft+mvyyURET+JcAfFPWwum1uk2cmS/FuTvWEe+LI6HYu1wa3kJ/t+XDoAMznuavGnUFIQzBzPlLG2io3sX2zrao9sTXpMnw1FwQPe1WVShuEylRhSGReiDTRZwL+fSCnOWO7RBEgoTrVQ7bVQmTTG3RLfI5F6dZ7872NspLVkSlIVFdyUWZkwtY0T1fDgtsbE66ygEOUw7by+R3Z2fHikd/f8b7xctzSAVz58758aWvboup827vObmBB+6x7g9dOWw3IMP+uSpldLGnWa9aeenylbTCbWw2Lsph97ZlGmlzLAll1lZXMTs7a8VDSQn0gjLcf2Y1XQ57klXTlEZAcy2gDIfcE34yVgrTpiIWcgKaXKAMPcZo6Hv//fdjY2MDw8PDAr7Qc4kxYIUlqsrYjwa+hFX0jmG1paWlpRSgIYQhlGFZbcJOUw7bfPIwETARMBE4WhEwUOZoXQ8zGxMBE4HbNAJ/8Ad/gE9/+tOilKn6LeZRgzJUybB5ecpkU8q8cmEZZQWrorKOrnlBGZmm5ExfkuMwfcJLKcMF5cm9YgT+OQD/hOLxEkjg3P2bOPnWQqGQcTaqB5iWoVYpkn0uDW2hsiwoUnd0wCabSqKmYlOoZ0SZ2gQQiUbE71xUt7ckUulQTNuQbW6pCCc6CxAqLLSUNQLWFCIQ8Kd8X1RfGLXk8UVWV+pNe9eoi/LrUg7bIxWG5+Msa83FJlPQamvrtOWwZYwPA2UOUglKvReylcp2s349TDnsuqptUDHBxbTaJIDL1eyZYIaVm+IJoLp+A7/6y6XY2tvIuNcvj+zi599V7/okzhfKOIGM8wAjk1H0dxZhcNxeDltCGgll5ufmsLm1JQxu1XYQKOM8NiHN+j7LYVtXsEFTCpuvZ1PKsI8KZdTjqIAmFIjYTH5lP2c5bEIWCWJo0ivLXlMNQyXMPffcY6vCRPUMIR4hjgpoaBT86quvCrPghoaG2/SvrDltEwETAROBoxsBA2WO7rUxMzMRMBG4jSLwy7/8y7h48aIwbJTfYl5LIMNQHgWTX87jhbPzaKwMo7mpSXuFs0EZNyDDwbygzKWXdnHmR6XwD9phTPyhBGJPxXBhecvV70JCGd2EZVqTmwkuF+RPvUVvwsyF9bGiJaGEYWqBc9GdWnAnAEIZUb47vA/6dbQ2xkQ6VDSSrnJVUBAU5rh93YVJYBMS/8o0MadKRIU1PLYANte6HLYHlHECGc6Bi0nOl0alzu3O0t2nVLjUlwZNNwTYePjNfPN7S2hpLNTe71RGeSllKkpWQS8WxsP1/tCMrEthe/YHAXzpSwFU1GwgHq7ARz4SQa0jjefi0I4lp9E0v8+XYfKrdlM9ZZy75wplMvZLQhqCk562EFZWltFYsYvWtrZUVwIZNq9ng6qU0Z3b0lYAx2sSmFu3G3KrgOYwUEY95tbWdiq1qTCUVgY5y2EzLYkghioYtew1fWOYkkS14fPPP4/a2lph7kufGXqTMd2Jf092d3cFoJmenhbm2ay85PStuo3+zJpTNREwETAROLIRMFDmyF4aMzETAROB2yUCXJTRfJHf/H7+859PnfaNgDJXFgIo8CiHzQomx0JpxYbzGk0uAKFAHGVF+spLrXUJPPfqDLqbgqipqcm4xIdJXeJgOijjW/ch8I0ALo5u4/RscuHuT0DAmKdjSNRY344TSKipFerkcoEyuvtVwgFdKWz2J7DpaFxCTW0tamvt8cg1NSUWiyeNhS3PmsEr+2ipp9lwWnFAA1DCmem5IPpPFAsIVBgKIVhQkIKAKrDRGuAObwtfGG36lld1pQNCGS4eueCcXynOSMGyXxN66lgpOE4Fk5oS5ZzvdQE2hyiV7VYOm2oe3gOFgVlUVVahrr7Odovlen8478t//FoAL/1kGxsrFWhuTuAjH44gpPAiQhltyfPBLQyO7kMFYRzbno6UNvp1HjdfKMNxRmet9yhVcM+/OoOiomKUlVvl6btb/MhFJcO+XuWwJZRR5+0ENEWhhKi+5NXclDLqPtHIPo4VAbv79mdpXVUaLBLCEsQQ0tMXhia/NPylok4a+PJ3WYWJPxPqcztNgVVAMzQ0JNKZHn/8cVN56Xb5YGHO00TAROCmioCBMjfV5TKTNREwEbgVI8AP31yEfvjDH8bv/u7vpk7xoFDG+QFfjRW/4U34MkvUqn0293yoPea94CCUqS7VAxeOxdSlxgp3aPPSQAxbK1PifAsdFaS4/5WpaCqFQHeth66G0dFoLc6cjUBGLtzED1Eg8B0/At8KAGEfXqvfwunZEsTviCP27pgtTckLyHCow0IZ3bkQDjAFgX4QLA1eVGRXUiTi7goKLyNfmYKUiBPWENSERToU/x8eC6Opdj/lW0NPDnrUFBUWYmI2gNN9pSIdqiCUhjXy/D3feyzp7ub9cgAow3hwAUlVyMSs3xXKUEHD5vTNkXOUCht9uhnhUunB4ZIXePJQyXBOnibAA1vaSkeELhcGNlFTsSUq6bDijmwS2OSauqReu9cGtvGj5/y4cM4ql33ffXF84FeiKXWMG5Rh30sjuzijqJMuDu+khuZ7s6IsIMphn+zOfNYcFsrwPR9PxDE4MCBUZRUV1vxHpmKYW/Ojq8Wiye2azKtsKhnup4Myatw29nwoUB47VUkzX7UPgQyb9JRxe89IKOPcfqwkHTdWXqIKpq6uTpgay7LXZWVlwsCXqUtUlMkqTAStNAWmkS+BN2EN9yOgOXv2rDjUww8/bCoveT7IzEYTARMBE4EbEwEDZW5M3M1RTQRMBEwEUhFgpRl+cP77v/97vPvd7069LqFMbC+98NGFbWc/hnBhrdhUWmiX3sv+a7s+z1LY7Lew4ccxfYZF6rCHhTKXx3YR2bgiVEEF6goneYTh2WMcdAAAIABJREFUyZiALm5t6GpEfDOulsCWfQfH9tGdXJhhzofAK35g04dTM9ZC57XeTfQ+EUKiNxM8ZVPJcH9Z6tc5N8+qTF4L+YEtdB6HMObs6u4W6hXZnvn+Epob9BdDVizyWpCrfjLqfAlsCF644BNVoAhrwmHx75WJGJrrI6I7s1cIa6RnzdUZnwAHnKOzcsuFoW1Mz+2jRTNfxsyrvLIzPYl+GExfon/K8NVIVuiiu09uCLDJs1S2uC9doAy3vXJ+BcXBeaF+KC5O3sdJVQ6rb8lUMxkHCak8od3gNk50HMP/+MMCzM1ZeUo/+7MxPPaYBVMPAmXU+A+M7uHUiRIBbpyNkMYLykg/Gbf3PZUyhDJ7e7vC5JZ+VMXFlvE22+SSTzwX2K46SmET0lwrKKOqZJa37TlehDS5qGQ4x1ygDFOPqI7p6+sTKUmy7DVfv3DhgjD5XV1dFWlKNPalETBNgQle2Ah0CGiY2sSy2vX19UJxYyovud1l5nUTARMBE4EbFwEDZW5c7M2RTQRMBEwERASeeeYZvP3tbxdGjPwALtv28rz4sUBZrOtCtrMXB4osKb9bOypQ5rXhTWB3An2snKKZbK5QRneel8f20VdRgMBXAvATyCTbhY5txO+K43J8FyfalXLYyiCxaCyv1CUOcRgo01wfxvz8PPr7+myVZNxSbKiemJkPg2V0WprsagSbAe7JzFLZnKtX6g7P42RPkb10N8t47+9hfNaPliSwIUyzqkFZVaHGpoG7TlWAKVLOxuNdEmlP6bQM9pFqCyeU4SKTRr/CE2Mos4JU6pqyKpOjulSu28TxPfZlhSJdY0qUmwGuZ/UtD+jiBWQ4hx+/uoCyomX09/dlwjACP+U6v3Y5bdp7aWgn7Q2keO2Ie2BwW6iaFuZ9+H/+B0EHwCJGv/2hKHZjSQWSi+rJqZRR4yShjDZ2I7u4MhVDv6Kg6etIl/fOFcqsr68JM/Te3j7b/aZCGfX4EtAsbwfRliyH3VKdqfSjSoaNnjJujUoZt9SlFKCJh1FVmnCF43LsXKAM042YvnTvvfcK815W5mPlJUJcgnyCGAIqxoOAhq+Pjo6mSmNLQMP3qUxxcqt45/W3w2wzETARMBEwEbj+ETBQ5vrH2BzBRMBEwETAMwJ//Md/LNKWFhcXU+qR8NZaTlHLBchwoGsBZbKpZHicbOlLP7m8ihL/Ero6u7Tn5wVlpEpGu2McGPxWGKeeKQasLCbAD8QejSH2zhguT1sv9nWmF4JyHFaTuXxlF70demXKzNw+3vZGPfSS6TE6nxWOn82/hJWXdnd2hFJGbdn2yyhjPGAtpgWwQQLNjWlgo87toOPKOREG9XQErXSoZCoUf+b/0wshHG+IIBAMCp8aAWySnjUjE3HcRXDgsyM4qWa5PLyDUyfSwGZjYx11ldtCSaUzAZbzuR7bxPXKAnvcgM3M3B6eetTFzDlPKMN7q75qWyggaOLqbLlWynL6A10e2RHeQFQxnT/nx59/3gKV1VUJvOfn13HvnfZS6upx84UyHGNoPJJKa3Iq3a7OAe98U1r54jxXqZRZXFzA2toaTpzotXVxgzKy09xaAO0NwNSy/T6UgCZb6hLH8YIy8jj7kSgKAnboo1Mv5gJlCFnor/Too48K9Zgse01lzN7eHu677z5R8pqqN4IbQhveKw8++KAN0GxubuLll1/GAw88kGEmntMfGdPJRMBEwETAROC6R8BAmeseYnMAEwETARMB7wj8+q//uvgmkx+cZeWlmxHKEMiweXrKvLaIumO7aGlpyQgKgQybW/qSK5SZB4JfCOLy3h76Jy2wEu9MIPbzUSRarW++L4/saYGMnMSlkR2c7NJ77nz7h2torNUrbJi288QjFdoL7Kx05OzE7WVFSwJmOCvr5AtPnKlCqqfKzEJSYZMENs50LM9juvjCxONxnL+8ga5WfyoNSkAbmgwnEpheKBBVokKFIeFVI2ENwY0uPenZ5yfEe6CqqhqXR7ZxsicNbNT5ZoMn+apo3PbjtfM65jPfXxZeKromqiu5KE+yec2w8hIhG9Mb1Za6t/JQRInqSkr7yU98GEhWJGtvS+A//ocSbfUlmZakesqo43gpZVQgo4vRyFQcfr8dmJxoTb/nJJSZmpoE77m2tnbbMLlCGXUnFdBs7AdwT4e7Fxb3yxXKUCkj29Ze+mcJZwhk2Gj0qzbVT4bnSCBDEEMVDFUvbHfddRdefPFFlJeXo7+/X3jL0G+ICkumNxUVFeH06dNg1SbCGAIaKs/4+1vf+lbQj8Y0EwETARMBE4GjFwEDZY7eNTEzMhEwEbjNIvDYY4+hoqJCeMrIdi2hzLVQyXBe2ZQy2VQyozNx7CwPCBNK+hw424FTl+KAn0a+/xKAL+rDxaYd9K8UIvruKOIPc2P6CF5QhkCGzQ3K0MzUrSrTt55dRVNdpumwiBeBzZstM1Jd48I65J8RJr8081TbtYIytjGVdCCnemJ2ISzMf1m2mb4gzubpC6NJM6LJML/Bf21gE+0tSHrX0MMmLBbVIj6LIQFzJLAhqJmbnxPvhaU1S61xOpn2xOOrTag9kvN0zvdGABu3FDbGWZQZd6Rv8VyoYMoGZYqDczh2rAyNjQ2Z94cHkBHju4Agp2dMNAL84R8GMTXlR9vJGaFc6uy0p/FIrxg3IMPjHRbK9DtUbAQ5sk0u+/DUg4W4MnoFpSUlaGxsssUjHyijDrC8FUDQwV3ry+2Kl3ygjHqMFKCJh1FzLDN5U4UyNH+nOS/fK1TB0MCXzwgqyKSBL0GurMJEyP2DH/wAra2twn9IBTQjIyOYm5sTUEb1rXJ9MJkNJgImAiYCJgKvewQMlHndQ24OaCJgImAikI4AF8KsJPJLv/RL+PjHP57acCtCmZGpqIAyXEDwm15nOxCUmbHUMf4Ji7wQyPRWFyD681FAI1zJBmXcgIwY2wPKcIGrgxjc739+YwEne9IVc9TzjcfiOHmiGEODg1Y8KuyTvt5Qxhl74d/SWyrUIM5GNVBTfchV7UGjX3dlCrcpfjKJBCLRqIA0jGtbUyzlYROLRlOHnlsuRk+7VcbbUthYShv61kilBw2LL2rmy3Q0XhM9XMrfi8btHL08hXhCbtcym9/O+UsbCGIaTU2NAtypLdfUJd2zVmfkOzcHfOYzBThWuY29rTJ89KMR1NVZYEYCMVZXOtmTBnbOCkvXGsrIuTO1ic3nB+bm5lFeXoaSklJ0NVvv/WxAhn1k+pLb3x5CmZbaNISZX7MbphPQHBbKyGNHw3so8KfvdXq+sDkrL1EFw+vO1DXpCcPfaeBLxQyrcb3wwgvCvJdGwDQFPnPmjIA3BDRUV9EQ+fz586LK2xvf+Eatubr5e2wiYCJgImAicOMjYKDMjb8GZgYmAiYCt3EEVlZWhHLk85//PN73vvelInG9oMym9FtxxHx5M4BgQGe9m+7IsrOlBe7lsKcWgcqS9GLDeVnHZmLA3gzqausQLMhMBxqdjqE5acIpF1zqGCJ9qclvqWP+OQBfzJpv4lgCF57eRs+bAtq0C/bJF8rIkr9uShkvKHNxkAoJneqE5rc76GkPYnl5WaiGZCUqggQvICMWyV4VnbzKT3vAEwlldG9FC4LoDVDFfA8CZZQDOI+5vb2NiYlx1NTUikpQNBbeD+8jGkkrJpjqNb9cjBOdhDRp/5ogTYaTvjVivgn9fcq4/7ufylRpibjmaR6czeiZYx+kXDjVRXI+NWWbqKmtRShUYCtFnS+UkUBLN5/nfujHM9/dw/pSGdo74vid34lC9W5myfnTSf8ftRS2gB5LUTTVBV0BZS7pS06ljLxVCGVOtAWF4fSV0VG0t7WjtLRUlMIWx94IoKvJjzZNKWyxPekn4/Vnxgll1L4S0ITjPhDOVGpKYcv+9JRR05d0xySUOVZkPbv2w+l7u7oyDarpGUOwQiDD9CRZ9prqM0IWAhamJ9FT5pFHHhFGwDQFfuihh8SzRAIaVlwixKmurhaKG1N56Tb+sGFO3UTAROBIR8BAmSN9eczkTARMBG71CPDDM6to8N977rlHnG6uQGZjO4JYgbspp4zd+p4PCb+l2KjQCzewvOVHqUc57NlVPypL3IEMx55c5KLF3Zfh4ug2YltX0dfXn/LOUa8voYxcWA1P2uHOwkoc0e0YGi8E4VtIw6N4Wxzx++IYng/jqYf0nh4EMmw6k1++7uUn46WS4b75QBlrv20BHWZnZ0QlKj9lAEkwcHlk16ZI4OunTlgXLiuwuU5QhqoUXfvyvyxmzNWarwWjRKUfl32dUGZtfQ2zMzPi/mAMZMpPPBG31DTCq2YfQ2MRNNfuC5NhKs3Y/IGAgDQzi4Xo66a6xirnHWLZdcVk2AvYUBH05JvtihR5zl7AJhuU8QIyHN/Nb+als4soDS0KvxAqhCSs4T7CILlXpnjZwZ/XPeJV7prc7XN/uYdLZy3V1v/xnhieeCL9flahjPNeGBgLa4GoBC1eUIZ+MmzZoAxNbKemp9B7ohdBJddoaskHvwYoy2fJYaEM57a150N9RRyr23YFjQpoCGTYDgJl1DiWlqQfzoT1TEGiCob3+aVLl8TfCfrDsOISzX/Hx8eFoS9fn56exvDwsKi8tL6+ngI0VNN8//vfB6su0YNGepZp38zmRRMBEwETAROBGxYBA2VuWOjNgU0ETARMBIA///M/x6/92q+Jssj89peNUCa+m5lG4oxXOBoHyhs9w7ixa20OFrgTFwIZtsNAGQIZNi8oc25oHaHYPLq7ezLmTCDD5vZt98gPY+j9Sgi+3aQ6pjSB2C9EEb/bWpQPXg0jklwUOQcfGttH9/F0uWa1FC/75gtlvIAMx3VTyohtQ9uordzC5sam8IlQG8d1QhDpATMwsov+JKDhPqqCR6aZuC3yvRQt2ZQyblCGypMMw+Ck/8vAlT30O9K31Pk6j0lTUy4oqQ5w82GxYmfFh0AmwmpQrAKVrAg1PB5FY/VuyrfG5/dZpbtDhZiaLxBwS8CaUChjgfrtH6yguV4P9ujtkU/6Ut6qpsEtbG5uoaZ8QyyonU29lpnVlbaFL4wufcsLyvBasjz2l/++CttbfGZApDE1NibNshWljHM+hDKneuzOtZeupGV5ozMx9HVa23vb7Co5Qhk3IMP+UimzuLQIwgpCGRUuEMp0tdhhiSyFzf23aOKb+cixnYKXUkaMkYQy6k5OQFNcEMkKZLi/qpRRx1OhDEtes5oSTX6npqZSZa9p2Lu1tSUqKRHUUCFz//33Y2hoSMTmDW94g+gvAQ230xiYlZqcZuIZN5V5wUTARMBEwETghkXAQJkbFnpzYBMBEwETAeAjH/kIvvzlL4sP2HKhsbc4JUITKHQvEcvte+EoEsXuRrLsQyjjBWTYJ5tKhn2yKWWyqWS4sIpujQn5/PHjrRmXXlXJ2DbuAIH/GcTIfBQ9Y9ZiLn4yjuj77d4xhDI9CnhRx2D53d42y4z30pUkpVI6DHJ7e9qsV4U2+frJEMiw6dKX+DqhQ3nxsujT2mqvrKODMnK6TgiiVlciBJGeH84FMhfxbG5g4VpCmfRcd21gQM5B3E8LEVGdSVYsIqyZTFbWYXpKLlBG9/wQsTtRLEyGU7AmCW2uTMbRVGOBAr7XmOYhy3dPzPhFSt2d/WVCdaM2+tZInxrnMQk+DqOUcQVog1uoLF1DLBZFe3tHxqnmAth0/kAsmf6kS+luniNVTa+84sdf/aX1XuvsjOM//U4Ufj+QTSnjvOfUSQ9PRNHfXQihqHE0PhNygTJUg/C60idFbTooo24fnA2iWik61FxlV/wRyLCpnjLOOeqgjNpHAJrEfiq1qaTQDonUvtmgDAEgzXl5vlTEMEWJnjBUUrJCX0lJCU6dOiVSmuglc/LkSaGMoXrojjvusAEawn6W0JZm8rr3jHnNRMBEwETARODGR8BAmRt/DcwMTARMBG7jCLzzne8U8vSvfe1rqShENlZyisjNBmW2lwdEZZ36enslGZ6sDsr4Rn0I/FUQ/lUfBlvD6J4MIPaeGOKPxm2pEgQybLlAGWdgL4/uZywIZTUm9h0YJbCxqyf6u6zfD5O6xP0L/bMoKy9DgyMeB4Ey6vlcGrYgiLNSkXUeVkqU05zVOo8ksNFUCJLneRCljJyTnI/uZlYhhzz+4uICCguLsL1fLIBNU0MhTnVnlin3io/YpvHxkefBa6cqa+TP4zM+NNdZ9xHhjFq+++q0T7x2R98xWyqUGDMJbFQDXL6eS7qZZ0WrwS0UB+fFArypyV5pyAvIyOvpViXp355bR5OmdDehmIQyzAj7/OeDOH/OAgs/894YmtqTkDHpKeO8pjqljOwjgYzuPuB+4/P0jElDUef7WCplRkdHUVxchKamZttQ2aDM3HoA7YrfjFoKW7wPC3yeQIZ9skEZ9gnTT6Ykga19u/+SE9BkgzKsvEQQw3Q9qmBk2WsqpqSBb3t7O5599llRaYmGvkx/5X3S3d1tAzSMGZUzTzzxhKm8lNNfVdPJRMBEwETgxkTAQJkbE3dzVBMBEwETAZF+wVSNt7/97fjMZz6TikguUIZAhu31UMpQJcPm5SmTTSkzOhvH5sIlUWmqoiJT3WODMgnA/29+BL4egC9hpSsN3LGP9rcnAPt6TGzzUsmIfRWljPO200EZ2YfKALb+rnTqlzRKFeOO7qGvM73N1s/F5Jf7EUKw8tLgwIBYYNLIUza1spDuLaJLF5L9PCHIyG7Kf8U5bjwWs5nIOrcfFhK5nYeaXsP3wsDgABobGjG7XCTULheEwXBmm50P422PaEpsydQmDyjjBmyYAtTdHkiW7k6nQ1GZMb1QIIANfV2kskZ61vBfety4pZuxdLcrsPHw/6H6JpiYRENDgzBpVVs2lQz7ukGZS4pXjxxTKpiY5ierhe3uAl/8m3LsbFtpTO/7lU284V535V6+UIZzuDIdR19SqTY0kWkUHgwG0NMawODgAOrq6oUxutoOCmVs+y77sBUOpAzGa8v0vlkHgTLq+CqgkXAmG5ThPUcVTFlZmfCBkWWvWVXpueeeE2oYbmOZ7DvvvFM8PwhoqJ5pbGwUgIbP2a6uLly4cAE0DWYalDQT176pzIsmAiYCJgImAjc0AgbK3NDwm4ObCJgI3M4RYL4/P1z/0R/9ET74wQ+KUOQCZNgvF5UM+12L9KVsqUs8TjYoMzQZxu7KEDo6OkUpV2dLQRl6WfxtEP6Lafn/5Sf20PEUgPSX6bbds6UusbNMX3IeNxuUUUGLc18ucFXliR3Y7KI/6aHB/exgZ1sAgDFWkunoQElxerHrBUA4zmGgDEGHrn35X5dxsjtzG8/tus0nWbZazoeqgNHRK2hrb8f4jF9AGV1jzONxfSUo9k/EE55KGS8VjW4bYdH5yxvoOu5LGg0ngU14XxxrZjGEloaITVkjwQ19awjK1HFV/xcCGxVMqT+fvbiGkG9GqCCYoqK2bFDGDciI+0cDZeTYVnpS+l7852/v4oXnrfdhc9ceHn+k2DXN6FpBGec1J6SZXvGjowlYWFxEdVU1+tvt6qnDQBkeb2XHj5bqOObX7SlHKqDJF8qo50NA449sorTIh4KQ3eNL9ZPhe4FghSoYVmajUoapS7wXz549K3xjdnd3ce7cOTz88MNCaUlTYPrMFBUVCTWNBDTct7y8XHjKECqaZiJgImAiYCJwNCNgoMzRvC5mViYCJgK3QQToA8Aypc8884z4JpPtWkKZXE1+vQx+OadsUCYbkGH6we7uDsIbo6KSjN9vXxxIk9/2bR8CfxGEfy1p5luSQPQXYxiqCENXIlveItmgjBuQ4f75Qhkubtl06UBi3JG91DaZniPny1Si9iZgbW0Vj76hzbZYyleVIhbcyfQl3VtHLMZdQcdeKt1G3Ze+OFQDSfWE3NbfZS2KvQBR1vk4oMzG5gamp6aEqe0glSceUMatPPm/Pbch5tVUn0nvUoApDxWNNiWKJsORiPCTaW9JpIyGmQ5F5REbK0F1HgdChZbRMA2GZRlvn99vAa/kfJgGpbYLQ1tgOez6hgYrbUpp+UIZec/KqlbO+8QJZYi+/uxzQVy44EdN8y4eeiiGzs7Mu4t+MNcLyowvAD2tQVH+mea3wWM9CAbSRsHBoD/D5Nc5Q2f6knO7hDLq605AU1SQENWXvJpMX/LqEwvvIOi3V6gjoFGhzNramlDKUAVDECPLXi8uLqYMfJmSxNQkVltiRSaaAvNnmgBLQEOYR5UNFTOENKbykuflMxtNBEwETARuaAQMlLmh4TcHNxEwEbidI/B3f/d3eP/734+rV6+C0nS2aw1laPK7s+++mFglCFEWObrrsbDhR3HQXZ0ws+JDRZF7KeyJBaAwsSq+3dX5yVydi6N5HvCf86XSlRLVCcQeiQOlCbAc9r0e1VNuFJTxAjKMo9t2Lo5rKzbBxVck0WIL+cDYHvq7im3KGtkhX5UM988HynA/wiVbxaRhy1uETQAbRWGjqoEIiNh0FYDEfBxQZmlpCSsry+jt7csy113bfNTgXeJcXWDOd55bx9pGDP0Ojxp5jbJ50eSssEkkEI3FBKThmK1N1s8s5R1VqoPNrxQjEAyityNtNkxgw9fYXvzJAipLVxFOtGQspgn13vu0PYVHxsHLsNlLJSOutUMpw9dWVoH//t8LUFazh/BWCT72sQhU4Q5jPjIVRb+SxqeaZnMML08ZblfTl5zPHwlllpeXQShBqKvChRcGfOhoTCtcjtfan1PZgIw4x6RSxu1vEQFNNJ6AVM6U60VcKU8Zr79phDIlRen5hsMR0V1NYaTBL43fqYhhRTJZ9poVlvjMeOihhwSEYYnwBx98UJgCs98b3/hGUaVJAhoqaJ5//nlRVpseNKaZCJgImAiYCBzdCBgoc3SvjZmZiYCJwC0egd/7vd/Dn/7pnwooIxcauUAZpi7FolHECpWSIppYbe0lEAtYfcqL9VCFVUOKQu6VQrgvoUx5kReU8aPmmDv4mVgEopvjokxxW5tjcbALTHzDh47vptUzscdjiL07BiS/EH/hQiRV1cR5miNTEbQ3WMoa2bqb0+eTr58Mx+Ii1S19yZm6pB5fVcnobmHuW160BBp6Oivr8Jgne6y0IWdjlaj3PFGufVdkU8lwp4MqZUQMHFDGdp7JufI1Qha1Me5M39LFT/ZVgY2orBONoKO947pAGcZcp7CRcRblu68zsOH15kKZkIbXuaXOKufNst6ySd+asWngeENEeA4VFoYQDBbAl7zNeS4049U1L3+gbKlL1j2S6Rvzne/68YMfR7A6X4o3vCGO97PymdKGxiO260xzbLWxPPU73qQnGV5AhmNIKEPYQG8Uqj7UNrPiR2eTFRgaBquNgOZaQJnt5OnUlcWxumN/1qiAJleljApl5HxLSkrFj3xGUgFDEMPKS4QzPG+mH7366quilPuZM2eEGoapSqdPnxZpTGx33XWXDdAQYlFlw3Gqqqr0N4x51UTARMBEwETgSETAQJkjcRnMJEwETARuxwj83M/9nJCeM32JUMYGZLbXXEMSjUURrz6eNWSEMoECl691k3tngzLZgAyH4cIoG5TZXhpCaekxYUQpm28OCP55AcbK4mgb9CFRnEDsF2OI32kHPFdmYrbqKeqJj0zG0JVclMnXB8etb5/ZRiYi6GzSQ6dImN/w2ysryf10Jr/qcfOFMhIOXBm9YlXWabRX1pFQRndxv/v8Bhpr9cY6XIy7qlKypC7xWG4Kk1yhjHO+PA9CEB1cml0I4/E32IHi2NgoioqKRQUZb1VPfkoZNyjDeeu2OQ2dVdWTTN/ivtdCYZOIxwWsoZcIIc3QWBi15ZuIK+TF7/dZJsOhQkwvFoiUMv5O81Z/ktbQGHngCn2O9P5A2aCMDsjwHJmN9Sd/FsXYoJVG9dv/KYKe7jQVckIZ573wo/MRNNTaUxZlhaVcoczY2JgAEi0tdmWZCmWcxyWkWd0N4nittaWxUg+OsyllCGUIZJzNBmjiURSFIKoveTWnUkb2VaEMQQr9xqiCUcteSwNfes3QN6a1tVX4ztDwl0pLmsargIawf3x8XFReIsAxzUTARMBEwETg6EbAQJmje23MzEwETARu4QjQK4CeATRn/OxnPyvONDI7mjrjgGL+6gyD8K04llxpuMSIQIbNC8oQyLB5KWWyQRkuitg8ocxCAmtzl0Qlmaoqq5KM/5wfwb8JAPs+jHbH0LoDRD8YQcKRleEFZDiODsrIkMhKLrpS2fw2f3gigu4WvfklU00OYvKrXgYvpYwFcwoxMDgoSmGrlXUkCKJSRtck6HBuIxgYvLqPPsVYWPYhdMo3dYljHBbKaM9jdA/xmLp4TWBubg7lZWUCzLgpejiWN1xxT186KJSR8+b5s0mVzUUlfYuvqwobFdZwW77A5tLQNgKJSWHySpPW/f20ufDIRByxWBSNNda8qNsgrBB+NYWFmJwL4kxviXiNvjViHoNWytnQeFikxqXuDaWqmC51Sb12z70cxpe+UAYkfGhsSuCjH40gmHzrZIMyArx0pOHn4HhaGTS54BOeMVLt4rxfqJTpPh4AU3dYdYkxUZsXlGG/hY0AWmsTwixYbSqgyRfKqOOtb+2jQgEyRaG0743aLxuUiUajePnll4UZOlUw0hOGsJIghq9R9UJAQ8UMY8I+rNLEiksENPX19ejp6REqG3rMUCljKi9pH6nmRRMBEwETgSMTAQNljsylMBMxETARuJ0iQJNQVl76xCc+gd/6rd8Spx5fm8spBLlCmcOqZKxFzeFTl6qKdoQkn74GJcWlCHwjgMC3rBUdgczxijiivxDTVlc6LJTRARkZZHrRnGjTL56+/r0tsVjUtdnFCGorcjP5de5PONDd5seVK1esyjqlaRNXL5WMBDZuJreX6e+SNOCVx7yY9HUZGmcqUbrai7pA9vJh8QIyPEa2+eY6V75sDG6NAAAgAElEQVQX6IvBb/6//YLdn0SeC+csjWrdxvU6l8NAGffjJX1zqAhywBrOWwIbJ6zhNi9g89rAJoKJKRGPsjK7ya84jxMlwp+GPjWWX42lsuHPk/MFaK618m0KQgXCYJjpT1TYTMwHhGkwU6ScCqZhpiB1F9ngiYw9TXzZzr9ciuees96373p3FE89aalHvKCME8g43w9jcwkBlpwtlZK0AFF5iVDGioddYZUrlFHHVwHNXtSHk8fd/bC4n5tSRh0zEgmjIpn5pXp4OeFMNihDxRSBC58NVBXSE4ZpSbxmTF+ieobvF5rE01uG6U5U0zC9SRr7SkDD16nGI/g3lZdy+tNqOpkImAiYCNywCBgoc8NCbw5sImAicDtHYHh4WFSa+cpXvoKnn35ahOJWhTKl/jWwWkjv8T4U/U0hfJeT31oHEhh+bwQtD8etr/w17XpBGQIZNjcoM3Q1AqdhqZze1767gRNt+jQijpdNKdPaEMHk1JRINygIpsc5DOTg3JxQRs6XqiA1/ebSSNr/RZxnMoVLhTXcN1+VjNg3mb6ku6ZOgLS5tYWpyUnx7f6VybjWIJlzHhwLo8+RbpYrYLpeUMYN2PC8Le8XfcoMTZLf80Sl9p7/yYVVFAXm0NPTLRQvarNUT5m+L9bx9tDXFUJ4PwlpwvtCZUN4EwlHMLdSjKbaPQSDQTEulTVWSlQI43MBMEWK/zkbs6hO9RRhZwf4/U8VYGvTh4KCBD72sSiqqxOHhjInHPBzZDLtWTO7FkBLbRThjRF0d3eL+aotHyij7j+9HrApXKpLM6/XQaGMOr4T0GSDMqwy9cILLwgVDEGKLHu9urqaMvBlyiv/frDaEg1+qYh585vfLLxnJKChwurZZ58VcOeOO+4wlZdu5w8b5txNBEwEbooIGChzU1wmM0kTAROBWy0CX/va1/Ce97xHfKCmguRaAhnG6lr5yXCsw5r8BiPz2BneQfe3euBbSi76yhKIfjCK0dI4nBVT1Gt9UD8ZdV+mL7kpZbxUMhzDC8pwXzdg80/f3USPC7DpbQuKhXp91TaWl5bQy0oyyiL4MFDGDcjwXJxQRo0Rt/V3F6ZUKOo2qife9Ra7UkNuzzZX9stVKZOqrNPfj0EHQMqYq5Jy4waXuI8TML3eUMbreJzfd55fd/UH2lzfQHnxMvr6+1PmvjIO2aCMmzcQfWsuDO+gozlheddQWUPT4XBYlF2eXysRxsNW6W6rhDcBCA2HWdJepsZdverDCy/4sThZiHvuieNXfzV6zaGMes0nl3zY3d0RlYYsPyof2urTqW+HhTJru340VVkgZnHTnuIkAc1hoIw8Fwln/OE1FIf8CBbZwZr0lGEaHz1lqIhZWVlJlb2mkowVyh5++GGhGuI2VmeiApEmyG9605tECqAENFTQPPfccyJFlr4zppkImAiYCJgIHO0IGChztK+PmZ2JgInALRqBT3/60/jUpz4lPkj7/f5rCmWOlJ/MIlD4kyXU/1M9fBFr0ZNojyP6f0aRqOSCL+EKZQhk2Nrr9TeBl5+MACt5QhkCGTY38OIFZbjNCQQ4FlUMLO1NQ97i0DboHVFbY/ljSLVONtCRK+Rwggy30tzsJ6GMLsI8l4TN+yXdKxaNiSpRuualkmF/p1JmZjZZWaezKztAUqCM8zwJl6xYW2lFstE4t6zUh6b6Apdr424e7KUWyhv0XLH8YHTxY1rRhaFNNFXvo7auznYe/V3SH8hdKeMGZXiddfdPPJ4AU28uX9lHa2PEUtmItKiwSI1hW9w8hrbGWMpo+O//VzlWVqw0pre+NQZ/YQJvutuuYJETzyV9yamUUU+aUKbEv4Cd7W10dXeLTWOzFpRZ2gqgtAi4s9PdXFd6ymhvVAAqlFH7qIAmGo+ho8bbwFdNX3I7Vnx/S2wKIK0EIpxRTX5paMz/qYIZHBwUnjBMP6JihmbwhCxMXaLaiQoYAhymM9177702QEPQyX1YJpsmwKaZCJgImAiYCBztCBgoc7Svj5mdiYCJwC0agQ984APiQzP9A/hh+1oqZXQqGZbRVtvGrg8+v34hJfstb/kRCrrkFQGYX/fjWMi9FPb6tg/b80DdsyQx1jjxrjji98cBPzC5BBT446g6pl/wjM8n0FQZR2udfnu+Jr+ch5dSxkslI/f1AjY6KCP34zYuugqLCtHc1CxShNgIbNa3YjjRnk5nUlOrDpIOpF7nbCoZ9pUww/lWY4xULxp1+z99ZxMnFPNWua23PXig1CXuxyoxNCJlZZ1s83UzX/aCS2JbEuY4gc38ckzAh8cesEoSO9v1gjJuQIvH/+GL0+hsAY4fT1dYkx4wllnvwf2B3KCMPF/6xtCAOtUSQCQaFT41w5NRNNXspYDN3FwIX/5yLxIJH7pP7eDhh1cRCgUFKOD/TLvpTarFDgNlCGS6mv2ighDHVOPBec6u+RHw259PzdX251G+UEa9D1a3EzhWmH4GHdOwyFyhTHHIbiweDu+jvNqCJrwPL168KFRBVMGoZa9VA1/+zaDxL9O5fvzjH6OyshJ9fX0C0BD23nPPPaKkNn2rWHmJvjKmmQiYCJgImAgc7QgYKHO0r4+ZnYmAicAtGAGmC1CG3tHRgb/4i7+wPpDnYPJLQ0/RN1l5Kb5nVVVxtu39OKKhKtvLx4rsixdCmVCB3hdF7kgoU+rBbRbW/agscYEyUWDu20E0fi2pjvElEHtvDPG3pP1jCGUIXdza1XngeE0CV6b1Rpw0CW2tydyfyhovlQyPly+UkV40h4Ey/AacVWRYOUU2p8JGGvvK7awU1dse0nrg6Ex+5X5ZIYe6EFcuhDxPNyijAzZUA7GxDLkT2DB1i805Vy51hwYHUVNbg6V1y8TVTdmjwhXnPZMrlMnYjzCiU5++xb5UBHkZ/eazLZsiKhCbEFW5dAqHbP5AfUlD594O+3vbC8pII18blFECxfcSYyRbNBbF330hgBdfKkRDWxh3n9rAqVOLwnxYtqXNMgFoVnfL0NaYQDBYgBPHAwgEg6mUPb5/2dyUMhLKDA8NCfBQV2+XzBHKOFV0UzI9kimc+37c0e7+fOGx3ZQy6n2yE06g9pg1zvqO/TkqAU2+UIZjFh0rF2PHYjFReYkeP1TBsNoSPWFocMwKSydPnhT3BL1iTp06Jaos8XV6UxFY0YuG9w29ygYGBrC2tiYUN05fItcHrtlgImAiYCJgInDDImCgzA0LvTmwiYCJwO0aAX745qL8Qx/6ED760Y/qgczmUkZ4IvSBqG5Lve72YXt3PwYU2auUOAfLBmUIZNjygjJbQPDzBZgu8KHhNSBWEMPO+7dReJ/9K+ZcoYzuPhmbtRZJbY7UJmkSOjoTR3u9XuUztxxFVWk8L5Nfr9QlzsctfUlu6zrux8jwsFhosVqKbF77sbqNVN84YQ33H5mK4B1vTJc6VuN1GCjjBmTkuXgBG1UtdHnUqgYk5kpgk1RRUAnEb/ZpWspF5fRiyBXIcN/rCWV099jA2D5mFyJoqMksmy6rQV1rKHNxeAf+6LiIB81anc3zehIwdekB09xSFI89qFcDZahkHAd1Qhlu3tgEfv/3C1BeF8HuWhF+77+GUVwcT5kMyxSo6ZUQqkvWRAoUm9/nE2CGkCZUEBTlruldQ6UUFYNqI5Rpb0hgaGgQzc0tqKiosG3XQRm1w8WpIFqUtKO6skxAc1Aoo46vAprCQLr6ku5e4mtMX3IqZfi6hDJMQ6IPDFUwfD7wZ8KZoqIiYeB7//33C/8fKmiY0sS0Vypl7r77bgGtVEDDPvz7QG8awjHTTARMBEwETASOdgQMlDna18fMzkTAROAWjMD09LRYdH3hC18QZr/xyQvas/QV2xch0f1dxCsaPCMigIz4pO8OZQhk2LyUMtlUMtxfq5SZ9SH4uSD8y35M9idQOxXD8FPDaH3oOAoK7JVkvKAMVTJsVMroGqGME8io/Uan4+ho1EOZb76wh45Gu6mnum9kz73yUj5+MnJs7nu8LiJSC5h6oEK1XKGMMxZDExHMLUZQX50JDtg3Go56K088lDIHUcmo88r1XAiYuHinaSkVAFdn6K9ToIVlXkCGxz6sUkZ3jxHKuMWAaVBMJerrsEvJpILKy2/GSylz7vIGQphGV1c3iorsY3sBGRGDJJTRncv/fnkHDbWZi3MqmPKBMjzGd7/nx3Mvx7E0XYRH3xLDz/27TEXb6GwCPa0By1RYMRieWAhgba8M1aWbYrqVhWuibLeoBpU0Gl7eLsHxuhjGx6+iq7MLhUV2qJsNyixvsXKTBWLmVu3vdwloskEZVSXj9eDd39tGUVKc5AbLs0GZ7e1tME2JihiCGFn2mhWZaOD76KOPimpLVMFQAcP3DVOWHnnkEQE3CWiYulRVVSVUNs3NzcKDhvDGNBMBEwETAROBox0BA2WO9vUxszMRMBG4BSPw7W9/G0899ZSQqvMDeGJpMqezzBnKHFIlw8lkgzI6IOO75EfwL4Pw7fkEkEnUJeC7bx7zO/Po62MlmTQkIZBhc0tfkqlLboE5DJRhOhS9KnRtZCoG+ozUZIoURPf55SjecFr/zXM2lQz3ryvfEgur/v5+2+FzBRnOORPK9LXbYZfs8+yru1jfjGWU75YVqbKZ/OYDZWTak5uvjqr64TxXVlcwPzcvKg2NTEQRj+nTTaj0ePO9emNhngebmzeOp8Immb6kuxe8oMyA8NvJjLv0CCKw6VWAjUzf4nG8oMwrr62gJDiP/v6TokS12g4DZUTcHfOVCqYrU1GbqXWPo0S1TinDecViwGc/D4xeLhJVov7zf46gudkOUQll1HNXz2d8HmhriImy3VS2xWJRRCMxRGIRlAVXsBWtRnXJutiFqrLCwiIUhkIIiVLeIcxvFLiagFvPsDSUUY+rApq9qA+9Tfr0SO6TC5SJRqy0vfJiIAXFkwdUAU02KMPnAn3GqIihr4wse00PKhrCE76wChP70cCXXkwEvCyHvbi4iAsXLogqTHzOEsqcPn1awF+nAimnPzamk4mAiYCJgInA6xoBA2Ve13Cbg5kImAiYCAB/8id/gg9/+MPigzQ/tOcCZQhk2HJSytwAKON7zo/gF4PwJQ19J94RQ/XjUcwsJCvrdHXZLv1hUpc4kBeU8VLJcN9sUKa7xf2b5R+eDaPWBdhEwuk0I+d9LqHL7Owsdnd30eWIx/WAMlxM03jX2STEGJmKoqc17T3Sczx93l4mv9m2uQEZzsMJZbjYpEKAi0duc3qhyLk/+/IuGqr114ULeTcgw/1fTyjD4+n8eKTfDreLFK6kobNq5sxtP/7JAmrLN9HT06O9bq5+Ox4qmVTcNRCJ24Ynoqn0uIExCzDIxkpHJ9pCcHtPPPtSDP/rC1Za1IkTcfzWh6KpIu9eQIb9xxeA7pZMhRdTdHhvLmwEUVm0LlQ2dceoqgojGrUqo7GF/fVoqNgTz1CqiqTShqbAbG5QRu6/sefDTtiH8qI0SKossUOlXKEMgYyzqYCGc8wGZQhfCF2oguG/9IR56KGHbAa+hDZsd911lzAF5rOEEEcFNNyPKhuaBTc0eCsrM2dtXjERMBEwETARuBERMFDmRkTdHNNEwETgto7Ab/7mb+I73/kOXn31VWB5KqdY5KKS4UCvu59MAgh8I4DAt6zFfwIJxN4dw+S9CdSVx3H16phIW2JlHbUdBsq4+cnI8a8XlGG1Jzb6YOjav/5wF12aRWZXsy/lNXN1/CoKglalIdm8gAz7OEGGemwvpYwblOH+XIirZsWq7wu3j07HQMWEbjGeL5TRncf4xLhIr2g93uoJZcS+GkXQwOieWMD3JH1q1NhQEZQ17ekaK2V4fK/4yO0EVzp/oAsjW2ipjeChuzLrwOfiJ+P2MNEpZWRfFco496dyTNfkfcHt33umGBdes4DZr/16BGdOW2AjXygjjzez4kcgMoml7VJUV1Vbz5dEAjWluyIVikqZyqI1obQhuJGNUIZKmliwFo2VkVQ6FH1rUsSIvjh7PjSUp5VZ0kdLjkNAcxgoo8aNz+Xg7hIKQwXwF6W9pNiHnjKsvHT58mWRkkQVjFr2WjXwZXoTU/1o7kufGSqIqLYkoNnb28N9990HpsfSTPzJJ580lZfc3hDmdRMBEwETgSMWAQNljtgFMdMxETARuPUj8Na3vhWlpaX44he/mJNKhhHJBcq87n4yoTgCXwgi8LIFKRLBBKK/EkXi7jimV/yoPRbD0NAQamqqUVtrlX2V7bBQJl8/GS+VDOfGRaabKoBQxg3IyH1lapB6roNjYQE5CGwWFubFQunYsTIQ1rBlU8mwj2s6kEf60kGgjDpfaZZMfxem8Dgbz+Wph/QpU9nOxXkeQ8NWZZ36uvq8oAznpjtPOW+ei6oGYn+pCEpVHVIqC6nnmk/6kryeuZogO2P7w5emhfKjvCxTjsVKUPkoZQhkxD2Ug1LGOR++H5zqJZaMl41l6+srCvD//b8hxGNAY2MC/+W/REAbk2sBZaJbIygrK0dDQxpSMe2JbWUniOO1CTRUxAWsEb414X3s7e2LnzcjxShKLIptbEzjUT1rEsEyNFYCBaFMk2EJaOLxCKpLEygpdFfPMX1Jp5TJeOPsrsOfSEMuCWcIZWj+ThDDOdK4l2Wv6QnDCn008GVFpcbGRvEzUx9pBsyfqbhjhaYXX3wRZWVlAtDwmbu0tITHH3/cVF7KuAjmBRMBEwETgaMZAQNljuZ1MbMyETARuEUjwAUCTX7f97734ZOf/OS1hzIHSF3a2df7d6zt+OwVO2Ix+La2gN1dIB7HYkEtSuJx+F85Bt98crESSiD2aAyoS4iysfthoCQUExCisrJKGFfKxu3hcBwVjlSBxmR57BvlJ8P55QtluJ8OyMhz5vbORlaSGRIqmfKKChDWsI3NWMBGts6mtJdINpWMWGy7eMocBsrICkm6t+EPz+6jrjLTRJkw6yBQhgvRwaFBtDS3YH6txDV1iXNwU8qIbS5pWtzmpQgisJHlmHXX7vWGMlRL/ODFKdx9qgKVFZUZof/6/95Cr04R1Jo06+3S16/3UsnIGLlBPx2UUSfG9CYa+f7DV+IYHraeBQ88GEN3dwJkIW5+Muznlr4kx59a9mF/bUAACII7Z1vYCAgvG7UR0Mgm0pdq4ghHaDIcxj6r14Wtf/m/L1SBUHxFqGcIwghsCkNJo2EaDodCCEcTKAikU5p0cOYgUIZKGdki+1aqWEltM1h56fnnnxdlrgli6AnDstcELdLAl1WUqI6hGoZzY38a+dbU1NgADeEO1WdMXzKVl27RDxLmtEwETARuuQgYKHPLXVJzQiYCJgJHOQKrq6uorq7G5z73Ofz7px8VU81mxJiLn0xiZwN74SgipZlpD2o8tvaARKBEvFRRrK9stLbrQ1EoCQl2d+G7Mgrf0iJ8hDL+ABZL2lD5jW341o+zKDUSNQlEfyOKRIM13vyaH9WlcWzv7GB8fBzdXV1iwSMbVTT1StpAahGWNP9lKdyGcnfzzYkFoKnKWnzxm3K1MXWJza3y0mH8ZLyUMl5QRqaANFfvYfzquPh2W60kc4VApzUNZSSs4XkwVUsCm05HNSmv1CXuexBYocZQwArN4p99hPKkzcXoeCycBEz27VIR5ARM9MMYuzqGzs5OTM4HXaFMSulxjeGTiE/yXKTPjowDU6KOFQNvuksPOtyMfrl/vuldF4a3EYhNoLOjE8XFmSYluuvN9C1xXabshs4qZLpeUEYCGR5/axP4xCdC2NsDKPL5xQ/uYH7DbzPUbnc8mrygDFOXIpEwoltX0N7egZISezwIZNhalfc/IY7aggFfqvpSxt+EBLC2k0B5aDsFaghu9vb3QEWSbMfKK1Ec2E2lQMX8pQJ0BAL+lHomXygjj1FQVi28YaiO6evrEylJsuw1X5cGvkxtYhUmGvvSCJj+Mg8//LAYhoCGPjMENCylTbhDxY2pvJRx5c0LJgImAiYCRzICBsocyctiJmUiYCJwq0aA33rST4bfcPbWlIhvPK1vaUPCe4Xf/Pp81jfOEtZENlcQL7U8FdxalGqWgkIkSqo8+23vxREs0Fex4Y42IJNIwDc0BP/4OBLHjrEECrDsw/JELSqfHwRQhkRzHyL/dxmgZFtIKLOyuioq6/T399nAkxuUkROfWnavysQ+Ews+tCRLZUt/GbkvgY3cpgZCLt5uFJThInltdRU0+mX6gU8pU+uEMuq8r0zHhRkqq/k429hcHG+7Rw9ICBzYdEa/fN2pIFHHzhfKcAzrXNJzcgNM7FtVvGbFo68fBF5uJr9eKhmOky98UqGMM7aMD014ZYqTc3s0EtVWX2K/fKHMuQGrHDYX5gF/pm+RF4QT17PDUmE4ARMrG7n5A3E/tnyUMiqU4RjfeiaAr3/dmvc73hHD6Qdi6G62fuf7Tm0ENNmgTFXxOmZmZkTqjjTvlWMQyqhAxnl9CGi2wgE0VVuQlpDY2ZyeMnI7FVxCWRPeF0oZf3RV/E7FjWwFxdUIBgtQUBBEcciP8qKoAM8ENk71Tmqn3XXhKeNshDJMN6LC5d5778XOzk6q7DWrK01NTQkQMzo6KuLBCkt8nb/TFHh5eRnnz58XgIa+Oc8++6xIY6LvTDbgnzEZ84KJgImAiYCJwA2JgIEyNyTs5qAmAiYCt2MEmLpEmTo/QPPfY+E18WE/kYijCmHxAToQDIgFCD/cBwNB61vZRAyx5l7bB2x1Uc9Y7ocjhwYyHMcGZTY34b94Cb69XSRqauCb8mFpth6IAZWvLCFRP4PYz3YgfuqE7XJKKMPKOlvb2+jp7rZtPwyUUYGM7h6i30RrnUM9M2MtyFY2gM3dhHYxR4+afFOXOHY2pQyhzPzcHDa3tmyVdbyADMeVUEZ3rlxsx6P6FLRwWF95SY5zPaCME8g456ye6+DVCDY3NrC7t4v6+gaMzVAR5IeauiX3z5a6xH75wKdcoIwu7oRWMZfS3TKFKx9PmZcvLKOiaAW9J3ozDptNFaVCGefOvDfdSo3zda9qWV7pS04oQ2bxyd8vwNqqD6EQ8H/9dgRnuvVeLD+5AuzsAe1J9dfxJGSVc6dSpsS/KCoQ9fbany/skw3KsM/qjj+lqKNqRzYJaNygjBq/vXBMeMqwMb1MpD8R1iTToVgRqqIkiFjEqo63sxdOp0IVErizfHchQrFdFBXqgQz3o6KQqY2PPvooWIWJlflo+Ksa+L722muIRqO45557hCnw5uYmHnzwQRugoYKGKhu+zrQv00wETARMBEwEbo4IGChzc1wnM0sTAROBmzwC/DBNKMMP9rLFh160qhXFYohEothBSMjnpe8BF0zlRUFKZrAZKhcf8KWqRips5DfI4UgMiZJKmwLDGbJsKhn2V6GMb3ERvouXgOJi+JZLEPhmAPN31KDylVXET8WR6J5Foq4G8bvvTlU1IZBh48JnfGIiWVmHaU5WI5Bh06Uv8fWDqGR0t4QOysh+V+cS0BkE07iWTWzXVJDlt/rZUpe4v5unjAQ2/HabCRatbW2pqWdTybCjrmwwXyeU6VbKWMtBh69GQRVNZ5N9QdzRaPXwAjLcnq9SxgvKcJuIkZKmNTExKep10ajUSxE0vxLDw6czF7Qcz0slk+1cDwNl3NK76EPD+6n7uF3BJM2jvTx3Xjg7j5aasIiHsx0WyjhLb3N8qph4zzvn2qV4Gh0EynDMH7/gx9/+rXXub3k6hl/4Gd27lO9zH9R0vLE5O0j1+3wIRqcE/Gpvz4xHNiijAhnnDCSgoQqms04PNeU+KpTRnwkQD2+jwB8RFaH2IzEBTvj/+uZ26nlfVeRDLBqxedYQ1pRUNwjYzmpJCwsLQgWjlr2mgW95eblQ11FlSW8dKqkIXujTdfr0aQFotra28MADDwjlGX+nmTz9aEwzETARMBEwEbg5ImCgzM1xncwsTQRMBG7iCBDGfPOb3xSAglWX6BlQH9+0jCWTkveM00skwJSk8OYaNosqsS8qilgGlfzALxuVNAQ0xSWliITKUt/SSoNHKV+nsiZXKNNdb3kz+K5ehf9b3wJo0ltai4L/WgD/VT8i/z6C+Hvi8F28gPjJk4i/613aq0MZPb+tpYxetu9eKHAFMuxzGCgjq7I4lTLy2G5Qhtu5ja3DAWVGksBmfC6B9oZMc1upsMlm8svtI8PDKK8oF8oQ2bJBGTcgw/3doExqWzJ1RB5LerOME9go29qVc1YrL+kuqpenTDYoowIZjj0yMiKqUDU2Nngqgn70WgR1FfoHQCQcy0slw9GuB5TRxUdN4bKATTo1qas5Dc6ee3kGPW0BNDYk6ZlyytlSl9jVLf3L8pvRp7mJ1CYFIMl7RB56chF4/F59CXinUob7JOLAZz5TgKkpH473xvEffiGB5ubMa+eEMmoPAhqa9BZhSaR19rbZS0iz72GgjDzW4qYPx4rSUKZMk9WZK5Q5VmR/NuyHo+ATJU7gHgd8u+vY32cpb0tpE0s+w+c3dgVcIZinj9D9998Plr2mJ0x3d7cw8OW/NAfnz3yW8mcaARPe0RT45ZdfFvsS0PA9RYXi2972NlN56Sb+zGCmbiJgInD7RcBAmdvvmpszNhEwEXgdIyBLtU5PT4tvM7e3t8W/1eFVigREo9qlsMiq/MF/CVmKCouEX0FsdwuJmhbbjKm22dvbA6Xz+/yXlURowLuT9m3Y3toQpZf5YZ0giD/L3wlqpAGkpxHkzg4C//IvAs4k+vuBNT/8g37EH44D6+vwzc8j9pa3IHHPPRkRJTj63ve+JxYKLO16rdqrI5lgRI7tpZJhn2xQxglknAtFp9GuNPC9Op9AhwPYSEWO7NPd7BM+EYxFhVJJJl8o4wVkOG+x3QFl5PkI8+AkDJCeIqkYLiTQ0eiH05RVbr9WUIb38MDAIJqaGrGyYxEXNwBFFY0sY61eEwIELuC78lQEvV5QRp2zACRJKEPVjKF8pH0AACAASURBVGysVHR5bBudzX6c6c6EENmgjBuQ4fgHgTLqXCWolCWl1W0EeToowz6DA3589rNBHD8RR3VJAL/xG2mILMfwgjLsM7fmx/byZTQ2NGArZvfTYpW2awFltveB2rJkauO2/bkiAU2+UEaNFQFNcGtePNd9Jda9TgjD5/ZmBCINiX8f+HeAFZNo+EtlTFVVVcrAl+BGVmHi85x9zpw5g7q6OhugocqG7y2mPpnKS9fqr44Zx0TARMBE4PpHwECZ6x9jcwQTAROB2zQCTENi0y1q4jPDVonWZMUPkbK0ty++RU3ELVpDYFJVWoi9sjoU0gy4qAiFVQ0CruhgCj+M8wO+BD/8l//TOFKmTXE/CWj4rwQ2hDdcFBDYSHUN+/rOnYP/pZfgW19HorGRtWPFz1heRryvD/HHHgM05WrX19dB6T29DSoqXGQO1/G+eHkoc/B8oYxMrXBCGXkEble3SRDD7RLY0EOIZp539lbaKutcDyhDIMOWC5RxRklAjma/SHFytsXVOO7v13uEsO9BlDKEiqOjY+joaMfsapErkBHjukAZbhPwSSknztek2uOqQxGkQjcvIMMxpNGv7hbNN71LBTLOcff29/Hya0u473Q1JhczU7UWmMJ1Rp/C5eUnw+McBsqoqh45Z6mmEmAlCcSc6rS//lIAP3k+JHb50IciOHHCnp6UDcpML8extzqEtvZ28YySjcodtvW9AJqrE6g9pk8/8kpfkmOpUEa9HitJQOOL76GiGCgM6VVGch+mLzmVMs7r69tehT+Rfk9JOEOTX74XqHzhc5fpSazQx7LX0n+MgIXPdXrKPPLII+J5TlPghx56SIAXVlu64447BKBhFSZW96NhsKm8dB3/wJihTQRMBEwErnEEDJS5xgE1w5kImAiYCDACBC5MWWJ6kkxZkv+WbS+gIGh5xWS0RAK7lS02VY2ELDJtiR/eCVSYBuUc21mlhOMTCrG0Kj/YS7WOBDbqmAQzKrAR0Ka4GKFLl+AfGUFgeRmg7L6sDImmJsTvvRdo0JiwAKJKCE0qH3/88SP5je2LA/ZFIoGNm1LGCV2c18xru9xGSHV+aBMNDQ2pxdI4FTaNFuRoq88sT57N5FfnJ8OxvFQy3K4qZXTnoqbUqNu/81IE7cn5qq/LuR8Eyqyvbwh1QF9fL67O+Q6skpHH10EZdRvNg2VTQZMANslzUdO31L5uKT/XA8psbG7g/OAmHr63CcFgZrrQj85HUFeZ+bwgDMxm8stzyjV9Sb2ult+MPnWJ/VjpjPeKs7ISt62sAH/1pywn7kNnZxy/8ztR2+MuG5S5OhdGbGsUJ3pPiCpHzra85c94fKqA5jBQRh6LJbkDvvT70g3O5AplCkJWefXY/nbqdEINnWCpa3rEMBXp6tWrYhsNf/n+4O/8mUbA9KRiFSa+Pjw8LCov0Qj57NmzAtDw+f39739fVKsSFd5cy0CZv9EmAiYCJgImAkctAgbKHLUrYuZjImAicNNHQKYXzc/PZ6hWpGqG33BKoKLCFX6w1n2YlmlQagqUhDUEQLJR5s7xnMCG0nlnk2NKWKMCG6ny4T4ck5aRZVtbKKFip7YWRV1dCBUXiyF1qVBcNNB0kguKm7G9eDn9DXw26MLzy6aiWVhMVpJR/HWuzgEdTT6hMHG2xbU4KksTBzb55TjZUpfYxw28SKWM7ppxka47z+HJGCYW6bljV9G0KVWwnIogVpehIoALSC/45KWSSZ2rQykj5844qFBGPSdR7clFEURg09HkncLlZvTrld7lpZQ5O7CO7Z0dvOl+faqfFQc7IEkrghLoUmKgwkUvlYyMn+opo8YoVyjjvFcIaWbX/Ji+EsDEuHVPPP2WKM6cSQOObFBmZHoHgfA0+np7tfCaUKY5We6a48+u2u+9gB+pyktuzx83pYzsTyhTbj3iRNveywQ0uQAZ7kuljIQy6nwClfWYnJwUqY00+WVlPlZQuuuuu4TxrzTwVaswsUoTQQ5TnVguWwIa/j146aWXhMrm+PG0ufrN+Pw1czYRMBEwEbjdImCgzO12xc35mgiYCFy3CBDG8H/6Begat1Gxwg/aTrgi95FmwE4FDH93k6NT5q6mLMmxKXOXjVDGOSbBDZU8OgjEMXWpUJy/bAUFBZnKmtJSAXEuXLggYsHyrbeSjF6FNYxDriqayakpEY92pbKOhDK6e4ULYreyy211Bzf5lcfwUsnI83EDNm5QhvtdnQc6kuWN+buawsXfl9cTqKvypcqRczEZi8bQ3tGeN5TxUsnwmLlAGV3s6ZUSjerfw+wf2Y/iWkOZly8uo65sS6gldE0HZWS/0VnCOwtKONPOqGZhipFOiSVjdK2hDMcldCn1+/CpTxWgsSOGikrgHW+PiiptLdWJjOpLznMeHN9AWXAVHZ2d2ng4oYzaiYBmN+JDfYUFViuKM1Vo2YCMuM4OKCOPocKZAuxnTV3ifm5QxldeK6AKlYUE2ExRovqFwFwC9lOnTgnYwuf1yZMnReoSoT5Tlli1if2plOGXAIQ3jz322A1JGb1uf1jNwCYCJgImArdBBAyUuQ0usjlFEwETgdcnAvxgzUoYOqDC13SpRZwZP4DTV0AHVlTFivSAUVUw/NnN0JGgh2DGCYFUjxnOSZcGRcWODqZwTBUo8WeOx7lLFRDHJIDgGEzXUU2Gdb41r8/Vuf5H8QI2V65cEfdFI315ki0blFEhh9yHKoTVLR/iMQtyyKZ6emRTyuSjkuFxDgJl1GiPEwwkgc3IlOWrsbS4hIJQgVg8Ti768MaTmQtn9juon4x63MNAGRru6tqPL0VRo6k0LI2R81XKsBx2R2MCTc1N2uPmCmWcO/Mei8f0visENc7qS+r+XkoZwh42t3uJUIaKnX/4hwB++ENL4fOBD0Rx//1xATIXNwMgXGRrSMIT9dgXrqygsSLsahLuBWU4zsaeD/VlcSxt2a+jBDSHgTLqPMPriygptI7hL8o0aJZ93aAMymqEOobPeVZeeuGFF8R7gioy/k0gpOvs7BSVl7q6ukTFJZr80jCcv7/66qsgHCegGR0dFalNrLxE2G6aiYCJgImAicDNEwEDZW6ea2VmaiJgInCEI0BYQdk50zJUaKFCFUIKJ1DhQp0fqt0a95ewRh2XH9hl4wdwHVgR1T40vgKEJxKkOBU7qsfMQeCSVAExBvzml4oa7s9/pQpIeuFI7xq1KhTBktNk+Ahf7gNN7YVLMQwODKChsRHVVVWpffOBMtxZhRxyMNXXY3IJaK+zgM3xWjvsyNdPhmNdCyjDcXiv8Bv+hoZ6bEZqQAPhqmOZUIZzzxfKeAEZzkGmL+kuJJUyblDGqvaU6e0iFSoT8wmb746qUHFLX+KZP/fKNE51FaOmpiZjSl5Ahp1VpYxzZ95jrPzlbEw5W9uRcM+CCq2OeyUblHEDMhxLQpm1NR8+8YkCRCJAXV0CH/tYBIGAVV2ptQ6Qxr3q/OorYjg/uIju5gJUa+LBvrlCGXVcFdBEYkBrtbsaivu5KWVssdxbR3EogEg4nUKqgzNuUCZeWiUM0cvLy4UPjCx7zWcjFTF8nUoZwpo777xTGAE/++yz4jUCXhXQUGXDvxc0A/b6m3Kgh5fpbCJgImAiYCLwukTAQJnXJczmICYCJgK3cgQIHSTMcJ4n04B0PjBqGpDODJgfyt1Si3gMHk+a9arjE7ZIxQo/mOvAipdvDf1pnIodju8Fl+QxeLyRkRHxP7/1ra2tFXMRpV8Vk2GprnH61jirQqnAKqcS3kf0JmM8f/SjHwmvB1ZGYROqGg8jTmE8rKQDqaemgzJyOxUM0rh2dDpTIUFg46ZKycdPRh7Xmb7kNV/eD1QO8Vv/5e1jqfk6Lx99aDhfWV5cbj9eYwGcg5j8Ose+1lCG48sS0lIVRPChNst3x4c2B/zg++DF84u451SlgKsZcdD4yah98oEy3F/cR0o58YyUs40E7uvVK4akya/bW05CGW7/6lcD+M53LLXM+94XxSOPxFNQxrk/IU00FsPy2i6a6grRUqMH1vlAGfVY8+txVJWmQaBUu6h9DgJlbPtpAI0blIkWV4jKS1S98Hkpy17zuUkDXzbCl7m5OTz88MPiOUxT4AceeECkN3Hf06dPC0Ui9yXE4XPGTZV5RB+RZlomAiYCJgK3fQQMlLntbwETABMBE4HDRODcuXPCdNEJP9zKVstjEeTo0pXUNKCDmgFzbKoQZMqSszS207fGqa7J5luTDS4RyhBCcWHQ0tKSUu9k861xjquqgKj2cVaE4u9ckFBZczPAGhp28j6hZ0S2tAJZFepaQBndff3KUALVLqqU1wvKUE1FT5kTJ05gZqXAFcpw/ipk4u+qImhqyYe2eksF0qKYvvL3bKlL7OOaxpWHUobjeSmJxPak745M4ZLXZ39vH6zE9Za7AgiFMiHE9VDK8NhOKOO8X34ykkC1I1WrJQnEDgJltraAj388BIr7KioS+G//LYKVHUspo2vTyxHsrY7gWG0/AkolKlldKRuQ4Zgyfcnt2b4XjqWgzPpuWkmkwpl8oYw8pqqeCcQiWqPfTYSEXwxVMHx204uLhr/0hyHcJrhk5SU+51htiebpNAXmz3xuSkDDZzkrL3V3dwsVjam8dJi/6mZfEwETAROB1z8CBsq8/jE3RzQRMBG4BSLAbzIJObi4XF5eTqlhCCXY3MpWE3y4ecCoUEUHbNzMgCVc8YIq0rdGB1acc9apa7x8azhXmk1yscBvaAkeDgOXeJ6qybBU1qgqIB7Hqazh79IL5yjBmrGxMVHalgac+SyWnOW7c1XKON9mXEg7VSeyD5UjVDe01tv3kqqUfFOXUot/RfWztLQE/t/X14eJBZ8rlHECmYzzWfRBerkQwqiNChsu+p2whn28VDJi+3WGMs7zWF5ewrnRIDqay4QRrtqYUpSvnwzHcUtfSl0XRSnjnNfkUjq+VlzSMZ5fD4h7palS71ejKmW477/+awD//M+WWuZnfiaG0/clXKHMxPwuolvjIp1HbTPJCkvbYR96G71Tjw4CZdRjqICmwB+1VV/S/tlKpi95/UkjnAmuzSAYKrK6ldWmus9tR3Dp0iVRSYnwVpa9ZoUlPlMffPBBobKjuox96FvGfm984xvFzxLQcDtTnO6++260t7d7TcdsMxEwETARMBE4ghEwUOYIXhQzJRMBE4GjHQEJZJxVlg5attpZEltXtlpGIhczYC74nb418hheIIiSeF1FKFWxQmWKrnoT58y58dteghguFghl1EpTTk+cfCtNqSogdb6ENeqY0rNGGiNLeHOjTIb57TfnyAXWtWwvD2WO5gUyvKAMR6LhrgptxubSC+5pApvkWtIJOrxSl1KLfwXK0Iw0HN5HZ2cXxufT6VbOszkIlMnYl2kwUT0wWFpL4O4uvbEwgQzbQT1luE++4Gp2dgYzqyE8cCZTOkJVjROOSFDGY3qlLllz0nvKpK7LAaCMGmMCEpkmqb4uIY0TylAlQ7UMVTOn7wP+4y9FUaSUm1bHuDK1iSIsCYNbXRPgRIFXlZrqSvlCGXk8HsMf30RZoXWgFFBxTigHKMNdfBsLCBaVIr6zkRohcawGY0sboiQ2VXSEM3zmMv2IBr58tp45c0aYx/MZymewVB2yZDa9uwg3mdZELzN6ynCcKsW36lo+b8xYJgImAiYCJgLXLwIGyly/2JqRTQRMBG7BCNDLhZJxAgoVUmTL4ed+OpVKtrLVPIZM1XELp4QqTnXNYcyAeSzpW+MENvTDUX1reO48VmtrK+rr60Xaktucc4FLPPZBKk3JMXUlvKUKiGOqsEaCmtfDt4bfYJeVlQnvh+vdXhl2P4IXlHECGecoVqpQQqhInG1mxYcHTugBiE7VMzY2ilCoUKS45QtlJhSVjO6MJxaRqu7j3P7sa4kMU1v2IWzyUsmwj5vRL7flC2WuXh3DRrgKd/enTaDVOXulcE0v+4ViRacIsuaUH5QhCGKTSqSMa77qR1ud/V7gtZaN1ZUIj+rL04qW7343gK98JYDu08CZngR+6qf0apfBqyuoLtkV94euEZjUV6SPvbCRJjQS0BwWyvC4sciuKHe9u5+eZwacOSCUkecj4cyFlUgK2NLwl88Jlr2mVwzPn2CKP9NXhqlLfNbxdab+MSWSjYCGSjymOT3xxBPi2WuaiYCJgImAicDNFQEDZW6u62VmayJgInADI8APxAQfrIrBfykZl81NoZKtCoZattrpAUNlCBuhhy6lKJtvzfUwA+Z8OC9pMkwpPWX0/FaXxzvMnK9HpSmO6UyFcl476VujVoNibOW30odJheI9873vfU8YebK87Y1oEtRcCyijmz+BTTSmV55EIvFUOWzuy3iw8hJNTfn/jYAyBA5OoMC5MQWKkOO4AzY0V6WB07WHMgm8eH5egMwzPZpa2xpfHfUaSJg2qqQWye0ENYeBMm5AhuNTKaOLoTz2/DqVNPa7pao4hk9+sgDVzT4sTrIqUwQlJY47KpHAxStLaK3ziftD15xQRu1DQBOOJlBTGkdpUuWiG0P1lHF7T0ooo27PADR5QhnxHI3F8NLorIDFBLay7HVTU1PKwJeqF1ZYomKG752LFy+KuNCDhmlNhOA9PT3idQL+N7/5zaby0o14yJpjmgiYCJgIHDICBsocMoBmdxMBE4HbIwL8QKxCB551LpWVuODXlav2qqwkF69UpKjqGvmzs2y1Dth4KXfczIA5vhOqeBkYUx3DhYGs+MF5O+csQZM6ZwIPXUzc5nw94JJULjnVS6oKiClfTpNhxkNWr8oF1nA8Lqro9VBX5+JseoPeQqqqxkspI1UybtPk9lYHyGDfsTlgdtWHFqXKs/ALWriM48ePY3W3XAwpq0U5x/dMxfJQylAlw9bmEm43KMN9nOfC9CDZZpZ9thLjTQqsYZ98lDLRaASvXFzC6e5j4n2ka15x8LpuZ0eRYeqsAiYvo19nypRzXl5QhkCGTU2z4u8cc3jYh61IAOODPnQ0xfDOd9rVMozHwNgKelpLUF6mh1ReUIbH2dlPoLo0jtXttILGCWjyhTIyDhLOhDZnUFjlMGJyBEumLjljGCmrF88GmvlSCfP8888L1Qufg0xfYroj/8bwS4CHHnpIPJuZJspGSMO0SKpqCHH4Op9VrMqUTbV5gx435rAmAiYCJgImAh4RMFDG3B4mAiYCJgJZIkAjX6pispWplsPIyko6s16Z9iMrKzl9ZfjB2ssMVpaY1o19WOUOxyZE0I2tMwNmFR3CDQKHyspKVwPjg3rtOIGNm9fOQStNqeO6qYzkmLKEtzQZZkwksCKMkabC2XxrWJmLi6pHHnlE7HPU26sjDqfZJKhg6pJbc4My7C/MgxXBw+DEvqhWRkC1uFGA5mQ1H51h7GGgjBuQkXDATeXheS4KfNKmca36cX9XVBsmN9+d7e0tXBjZxL2nalwrc+ULZegDpF4355zn1v24v1ufdnZYKOMEMjIo0Sjw118qwPa2DwUFCbzrXTEUFkJAFDa+z8ZmtnCmp0qo73QtVyij7usENIeFMqmxV6YRVCpEoTQzBc0NymyFKoQ5LwELnynnz58X/jB8f1BNRmNwqhDpHcNqS1Ql0nemuroa6+vrwkeL/jOEec8++6ww+OVY+ZiJH/XnkpmfiYCJgInArR4BA2Vu9Stszs9EwETgUBGQ307Ozc2JcXSpRFzsy6o/XgeT5rdO41su/FWjWqeShOPztWzfgF4v5Y6EKiqs4QKBAEdt9DLQKWC8DIw5Zx0Eyua1w+O4qY2uR6UpCax0vjWqCogxUP1q2J8LKy6qbpYS3s57+OxoJqiRfbwghg7KcMHJcr99/f2YXfFDllhW/Ujk2KubwOk2PTTw8pTx8pO5VlBG9z4/N+pDRUkmvGqqjKXKYTv3YzyGp/bx0J2NqfLuzj7XCso4x51Z8SOmSTtrrIxnmAtn7OuRvkSljBuU4Tg/PhvAF/86KIZ8+9NRvPOnY5iVlZVYyW0rjnt73eF0PlAmdU8l1TOJ2B4qihOu4If9delLzjj4tpZQmIRH0b2d9GYFzrhBmflIUJjzUhHD+2B0dFQ8J1gKWxr4sgoTt7HyErfzWcKfCXOYmkljdTYqFpnS5GaOfKg/gmZnEwETARMBE4HrHgEDZa57iM0BTARMBG7mCHAxroIDp+mthClccDvNfyWgyAZTpPpFVwGJH7xl05nfqka1bnE+iHLHCVV0yh1W+qDZcW9vr5De6yCTClXoq6ODNV4GxqrXjppixHHVFCvduF6A7LCVppwxlsBKB2tU5RIBki4Viq+z5ZIKddTeR4Q1B4UyNCvd2d1Fd1cXqOSQUCYTGPi0wID9CA3yhTJeqUscO1eljHO+TkWQup0Kldk1P5qr7cCmsSKGublZTC8H8cAd+hSYbBWovNKXnEqZzBj7belY3E6PH7aFjUBqvqpZrxwjW/qSF5RZ2PTjz/4ogJVVP4qKEvjEx8MoKbVGJvxeCVeguTatKiM8UdthoIwcJxIJw4808NOB44NCGTm2E87ooEwiEcfYegRjY2MCxFAZw+cc04/Onj0rngeELFTZUVV5xx13CIBDAHzPPfeIUtgENFScMX2JKhuq8dx8eI7as8PMx0TARMBEwETAHgEDZcwdYSJgImAikGMEZOoR/5Vlsemroqa6SANcFaYQEujKSWczAea0VPNbVVGiqlS4sHcrV+0lZc9HucPFC+X0TFeidN5tfNUMWIVNahpQPgbGjDvBjE5d4/TacQIbxiibb022SlMHgUtra2viG236p3BhJeGSeu14D8hUKNVo+CC+NTnevq9Lt3NjaVUNQQWbmr50dXwcwUBAxCQblHEDNgQVVFZkQI5Ka5HtpZS5EVCGc5pe8dnUI/TbYVtZXsJWtAKdTVaqTkOF3WPl9YYy8iaZW7NUTBMLmSopQprDQJnlLT+uXAL+4R8KxOGefjqKn/5p67wnJiYQD1agt71C/L6wbj8+Ac21gjJlSpGi7b1MQJMvlFHfaAQ0gcVxBIrLkKhqTG0ilLk4uw6mgFL5wrLX0vD3ueeeQ0NDgzDwpedMc3OzMArns4SpS4ThBDTSv4uvra6u4sknnxRjmGYiYCJgImAicPNFwECZm++amRmbCJgIHLEIOGGNVE/wA7cTSKgL8nxNgHn6Uv3iNAImsFB9a9yUJP9/e2caI9d1numveufS7G52s7mL+yKKlBiLkqzVEmXZjpM4MWIg9gSTyWQCxBggmL+ZAFlsT+ZHEPjXGPNrJjN/4gkmGSBwZrLYsWVbIkXtFPddJJv7pm6yyd5r8J7q0zx9+tyq6o2qLj5XIFisvnXvOc+5t4T79vu9Xzm5NbPh3PFlQKn24NMJMI6zdsLjxwJZikmWQBaLS6EYVKrTlNrUqsxL2RDeCaO10+dSzprQBeRza8JSKC/eSFjS+vk1DI9dYbeGG85HHxeCX7WpHEMdZfQb/qmKMiq7iQUbiRd+u/xJzpa3FdwVS1vGlz9ViigT8sg3rrStaxeOuVTCNbx522zb6nTraO03VaeMGK7qyM4J8qJMfD15keZGb80Y446F48dXqnxJosySRSOuE9PNmzXW2Ji3b31rwBYsMDtx/ITNa11h61eOWmeCAXiBpk/dlRbmM7sr+aDfYveCnDKhKOP3HSfODHbbvEXpsGG/f1i+lHW+3M2LlhvtpKd9JM7oO+Dd05dcCaZyYNT2Wq5DiZXKh1GAr1wven/btm2uy5K6M6kVtvbxAo2+t+S20XF2795dtByrEr8bGBMEIAABCBQIIMpwJUAAAhCYRQLeVeP/lvAQO2t8mGwcAuzFAzkompubx7r+FBuuD6pNOUnC3Jqw1Co8T7EHfFnmJTSofau2Ys6drGyZLDEoFQbshZU4wDjVbapUbk1KBCrlNioW7FyOuCRGemjSb7LjMaccO2FujR+vd16FgpV+G54qhZIbp5LFGpUBvv76664U42rfihkVZcJ7Qh2fvIsmFGu0jwSDZW15W7pootBRshQro8uUjlusfCl2yfix6n48duy4Nbast42rAttGMBmVPQ0NTszV8SVFD1qU0dCu9UiQKYyp68Z9we3+vPJFM2UkyixrG7E9e2rs+98vuGW+8IUh+/KXB5xo17p0na1Zmubhvnf6J4pJYXel6YgyY+j7eqzG7l8jNfPS4kzZosz8gvPH7txyf+l7+mcX7zoXjEQWuWN0X0hckWtm165dTlxXmahKmvS9vG/fPle61NLS4gQaOWb0eQk3+v575ZVXMsPWZ/F/cRwaAhCAAARmgACizAxA5BAQgAAEJksgFmtC50vsrikVAqwH/lJuiXLDb/XAHwoq/rXCJtWmdevWrbZ27doJ051N585shAFrAqkxexEkJZCFXHx5UQzCi0sK6zx//rytXLnSVOKmNQ3FJR+KXE6nKe8CSrlrQheQDxn25XI+g8gLVp92bo3KudS6V+UaEhlTm3fVXLxZLG9molMmPFYoysTnUNnTUCLcVvsNDowkW3v7Y0ymy1R43ixR5u7de07kXNCx2dYuLQTfThivyogWjxdl7ue+1Niy1vsCxZLm8UJTsUyZqTplNL5QlInHK5Gm+17NmEOpbf5EQcmLMsPDZt/5Tr3duFFwy/zBH/TYtWtnbMnKzbaivTbzK1WijO/WpJ1u9o4XhlTwFP48daAsp8zYvn091tRQGEN4j8XizKRFmdETDPT320+PX3COGAkxypFR22u5K48cOWIvvfSSc9lJCFfmjDoAqgX2Cy+84DLOvEAj15lEGX3PSNQp9f+Byf5/iv0hAAEIQODBEECUeTCcOQsEIACBsgiEpVD6barPffFCTej48G2qdeBUCLAe+OWeKLX58NvYXSMxIdzk+lCopI7rxQQ98JfKrcnKgJmucycrDFjz8BzlSEmJTMXCgGPmIZesMYdOGPHQg5J+o/3EE0+MIZwNcUnHvNs47AAAIABJREFUTIk1qdya0F2j8fqg5Qcl1nR1dbkHTpVZlAq/Dq+7A2fHP3Snypf8/sUEGe1TyKJJd3R652SNLQ9EDn9M70qZaVFGItXFi5esZek2WxW0DQ/nLqdMLMr4n6vEyDtWUtkvn/SabV2ZLn2aLVHGiyS+bMx3VfJjlkjjRRm9t3dPjf3VqFvmxRd7bceOE7Z8zTbrbMkurYpFmZCXBJrhoQHXWUlbY0PBiRNvkxFlws/GAs1URZnbPbftrbPXnCNGQoxve61SJIUdK7RXwq6EGXVYkninvJ0XX3zRFLTuBRqNTbkzKoHasGFDqa96fg4BCEAAAhVKAFGmQheGYUEAAhAICaRya+S80AN5/FAeiilTDQHWuX2plTp76OFfv5WVwBLm1kioSZUTZTlJ/Jym69wpJjbFYcChkBV3y5pMGLAfc6o0LHxYE3OtjQSs9vb2MREra8yz0WlKx4zzhjTucO0kjMRlULOZW6MOM3qg1G/7Z2I7eG6im2I6oowTOUbDgv34lEGj7Up3bpwrJe5INJXyJbUG1707f/HmzC5U5YoyKZ7HLtZac9N4AcrnvzwoUSYc11jb64GcdTSPWHNT3kK3TEP9iP32bx+31ZvWW+eiqYkyOt/AwKA1zzO7fe/+2WNxZqqijD+iv9/rb5y1+s5Hil7OLlPGly+N7qmW1x9c6nF5UxJkJNDJKaPvWonCO3futP3797u9JeweOnTIOe4Uri7hRgKn7iN9Th2ann32WZc7wwYBCEAAAnOTAKLM3Fw3Rg0BCEBgjEBcCuXdE3EZ1FRCgOVs0G9oVXIi54c2n1uTymmJw29jwUYP/aUs9lNtW61zFXPuhK3HY2GlWBiwF26KdcsKu2SdOnXKiVjaPxbIJpO1MxudprwLyOca+XIt/R0KVl6c8Q4sL95MJ7dG5W9yESkXY7a2H+6vm9CVKRYGspwyKVHGf1Y/Uw6KNjlm4u1qT852ZATyZpUv6b7qGVhkOza1ZeKYjihzVdkvgcjkBSadTI4SuVEWz087abKCfvXZYuVL/thxwHI4wZ57OWtvHnHH0XbqdM7+238tOFqeeeaW/fKvL5gRUSY8ZyzQTFeU8ceuuXLKauoLnbPc1jJRGIlFmfxI3i5dvmSnes25YHRf6LtC5Udhh6U9e/Y4oUVdmN5++21X8qdyp1CguXDhgmunrc5LukfZIAABCEBgbhJAlJmb68aoIQABCJQkkMqtSZVBhW2qJZj4EGCdQFZ6tWPVg0EpMcUH1aacJL7USg/lenhIOVRKlVrJuZM69kw4dzS+mQgD1jFUTqAHLOU8+DHH457OmONOU/7YOvdUO02FuTUhB40zlVsTl0KVk1ujki61+lVA6YPcDp0vOGqKlS65az3hlPHjDEWZ1NgVIDyckVUzMJgOvj1x4qQNNyyzR9dmd/iZSVEmHPf12xJlRuzCzYlBvRJqHoQo48cjt8z//Ot6u3MnZ3W1efulrwyNa6Me8y5WvqR9vVMmtU4SZ2qHe21+fcGJU9M4scuT+0GQKVPsWq355JLVNRbEkJF7Pfd3DcSZWJSRMCpB7kZ9q3PE+LbXyuryAb7Lli1zr5XhJcedXut7WB2aJNAsWrTI/UyCjPK+5LgpFnb+IO83zgUBCEAAApMngCgzeWZ8AgIQgMCcJhCLNbF7wj+UK+vAO18kpmSFAJcSU1KdlbyQkAq/jd01pR42ZtO5M9kwYD8vOYs0j6y8nawxh44VL5CFGT56XcxtNFPiUniBh86lsCtU6ALSGqVKoXxuja4BdV5Se1+JVZWwHe4aX/40VVFGgoy2ZVHpk95T2K4cIUujjJTFCwbt6NFj1tCyzjatmpeJY6qijFwy2uJyLH8iL8rEJ/YizSd3C22rtbXOG18CNVNOmfDcb76Rs//11wW3zL/794O2cf39c85vGC8cTUeUceJJf6/Nb6y1vv6hsSFMEGfKEGVCQSacSyzOxKKMvlNOnzptw51rXWi6xEp1tNP3hQQXOcn0napQbJUr6d7au3evK2NSJzcJNMqPWb16tStd0veEvm9KfQ9Xwj3HGCAAAQhAIE0AUYYrAwIQgAAEHIE4t0YPDwqMlVsiLIVKdRKKW2xLPCglpuiccpKkHCo6p99k7Y+FiTCoNmv5ZtO5k9V6XEKW30LXUTj+Yt2yys3aSQU767jFcmtSLqMwFFmf9YJYOZ2mdH2EeUa+tXsqt0bXgjrI6Lf9HR0dTuATH9/Cu5QL60Hdokciocaft5hTxrXZTggy/rNXo59fuFFjA4ODplyR2gXLbXlrYc/2hRMDiKcjymQJMjpXliijn7nSplFB5uKt8YKIBJrZEGXu3OmzP/tP82zjozn7+FjOvvWtQWtqMrt5d3ypmASamRJlwmtqgkAzDVHGH9eLMzUXTpqtDwK/BwZciO+CjU+47zXf9lrftT7AV+6Xw4cPuy5Myo1R1oxyY7R5gUZ5VXLZyFUjwaZS7qEHda9yHghAAALVRABRpppWk7lAAAIQmCUCWbk1cciwHiy8uJMKAdZDiHdPFBuqRA+fdxJn48S5NXEpVKncmtly7pw9e9Z1F9JvrVNiky8DSrmOvBiSJar4MaeEldCxIrax06iYQBZ2mgrLoFKOnVSgc+pBMHQB+bXr7u52Al8oWEmY8e4aHdu/VgCxF2u0fyU8bP7kYP1Ypkx83U5WlNHnxePChYvWvvJRW9ZqpuDdeOu+l7N59fmyui/Fn43zZOKflyvKxJ+TSHOnLzcmICmsN94k6pSTKRN+Tjz+8R8H7E7fUjv8QY195StD9tpr40UqL9AMDw7YonlmDRmdlYqVL+mc3imT+v7x4kxu4K7NW1A8oyXLKTPhuFfOmuVH59L5iBOhz587Z51PPOcEb9/2WiVNCvBVh6XTp0/bxYsXXZiv3te/fWtsCTTKotF3xc9+9jOXM7Np06aiXfBm6X8LHBYCEIAABGaIAKLMDIHkMBCAAAQeRgKxWBOLEWG5y0yEAHv3S6qzkM6tTQ/0oXMnFBNKtWKeqnNHgoLKDRSGrJyI1FZO63F1bppMGLDOE2bthFxigSx13CyBrNxOU6FjJzx+LC6pY4y6zOghMxbZJACF7d1DsSYUbXzQ8oNq4V3qfj5yoVD+NBVR5urVa84B0bpsS6aAceB83ZhjJRzL4gWFB/ywJXY81tkSZXSeT+7mrGPU1eNLt/z5JdIUE2V8yG883mtXr9m1a932/oHN9sFbNdbcnLc//dNBawgydP1nJLrEUlAo0ExHlPHnyN2+ZjVeSJGLcGH7hMthUqJM8+jne65Z751eu93TY22v/LrrpCTHlFwwcsmonFMlSwcOHHD3tUqZJPTqnnnqqadMwq/aY8tBI1eeXDZPP/20y51hgwAEIACBuUsAUWburh0jhwAEIFCxBFK5NfqtcNj1xwsIoZiSKsvRw34pMSUr/FYP/GFuTZyL4wWbYp2VBDlsWx26VcKQZO2n40mYCYWgUs6d2QgD1lhit1E47um4jcJOU6EIVKzTlFpha/0lyqRydnTMuBQqXjufW+NdNVpLvZaQpWNWglhz9OL4nBqVLmmLy5vOd3XZyPCIzWtbmynKpNwsvq20jinxQ62l2+ZPLHt6UKJM+AXkBZq7g2aLF+RtfkJQyRJlus53uXvs2idr7fv/o8Dwa18bss99buLcYtGlJ2h9LXFmpkSZ+oYmN47h/vullKE4MxVRRt9TVy5ftpo7N61999fGtb0OA3zDLkzvvvuuK/dT7kwo0MhJI5fNq6++6oRcNghAAAIQmLsEEGXm7toxcghAAAJzjkCcWyNxQKKJfusbOyjiEOAw78S7MsrJrZELIy7N0bnCchodJ+Uk8Q/8WaC9c+fDDz9081BeSkpsmopzZ7YCjFNuI88nFshSTLIEstkQl7xzKc4dCl1AcuXEIcPirQfZShBrjl8aL9ToWjp16rQtWDDfauavmJQoE16HN+7U2JLmEVPuTLwNDmWH/GrfqZYv6bOhUyZ1X9zpM2tdkDeNL9wk0mSJMqdPnbL5WrOFS+0v/nOd3b2bs9bWEfuTPxmyurr7RykluEigyQ3etvmNNZmdlYqVL/kzySnjRRn/XizOTEWU0T3ddf68jeTztvrFXzTf9lrBvT7AV0HYeq2SJL1WELC6LikUWAKNrnUFZst5dvXqVdu9e3dZ+V1z7n8WDBgCEIDAQ0QAUeYhWmymCgEIQKBSCcRijc9Q8c6aULCJxZTQlaLXzc3NY+6JYvP1nZVSOS1+PD78Ng7A1YORd3zo83pw2r59u61atcqdcjadO5MJME7lwJTKrUkFL8duo9RxswQyPYiKjwSe1tbWMdFqOp2mvGAVXh9y4sTt3bVOvhyqUnJrNPYfvH7KtQcfqmuftigTX+MSaZRHEwYHt84bX/DzIESZWEDSv/sHh1weTFPDfaFK1/Oxo0dt6dJl1rig1fa8XmP/8A+Fn3/jG4P23HP3x15KlNFnJLrE5U1hd6WpijLhfCTQ1F48YTXzms06Cvd85qZMmdHyJX3nnDl92hYsXGjtT35urO217gu5YxTYq5LCffv2udIlXb9vvvmm7dixwwm+ypBZs2aNE2j279/v3HA+X6ZSv9sZFwQgAAEIlCaAKFOaEXtAAAIQgMCnSCArt8YLNV5E0EN5sbIciQK+60+x6fjw25S7Rg9V2nxujY4pkchnPkgQKlVqVU7b6qk4dyYTBpyVW5PFJXQbhSJW2CVLY84KGf7Rj35kmzdvdg+TfpuNTlNesIoDqDXm0AWkB99UyPCDyK3RWOSQUHaIWhz77cTl8Y6aYsKJPuOdMqk1u9mbs47m+9LEle7xXYyGhnLW2TKxNEjHCrsvpY5drlMm9dl7A8M2PDJ+LDX5YTt16pStWfOIWd18a7C8/fEf11t/f846Okbsj/5oyGpGTTflijLzGu+zvNtfuGe1SZyZCVHGfQdcPWe5kftttTPFmUCU0X2kzkudnZ1Wu+GJsbbXet8H+Mo16Lsw6XtFLrxnnnnGBft6gWbJkiXuGpJQI/GmEsKwP8X/RXBqCEAAAnOeAKLMnF9CJgABCEDg4SSQyq0JhZQwZDhVlhMLE6XEFO9+CV07evhXYGu4ZbWrLie3Juw4FYofk3HupK6GrDDgVOvxWFgp1i0rzNoJHTaxQKb9JEDoIdIfv5hA5kORY9fOVDtNhc6rOBModAGpXC1VCqX33UP9qDownYdglZzI5aCwVn/crDv41NWJpU9ekNHfKl9KbbEoE+/TdbPG5jfcF23CLkrTEWV86VLWfCTKyCkTbpdv9tutm7esc2mnWa7eWufn7e/+rtZ+9KPC3H/rtwbtqacKY52KKBOeSwJN3Z1r1tjYYPmF9wWxeLyp8qUJ+0iUWdBSePv2jfs/jp0zgSija0/dlFavWmXdix8Za3t94cKFsQBfhflqH3Vh0vsqU1LnJX3PSKBRdzddNypx2rJli/uTyml6OP+vwKwhAAEIzE0CiDJzc90YNQQgAAEIZBCIS6EkCOhhXg/4YdCwHpB8m2odygfHhmKNXhcTU/TwpPBNdU/ReVLZJ36YepBKlf2Uyq2ZrHMnLLWSwFBMbJqt1uNaA19OpJDf8+fPu/IlrUPcJSsWxzT+Urk1oTDm84HCVuyT6TSl8aQCqMMyOV0DvhQqLIOaSm6NOu6og87LL788pYdpCTXFXDK63oqJMt13c7Z4tHuSvzav9dzPf+ntN1u1eGKra79vMafMVEQZdR+6cf26Exeu9wxac1PO+vrM/vhPFtrgYM6WLRuxP/zDIcvlpi/KaA65OzfHfXOkxJlJizL+iClxJhBlbt26ZZcvX7aNGzfamfwCu3Tpkgu/Pnz4sCu9U4elQ4cOuftETqpjx445MUZOGd1DctlIoNG+6va2a9culzvDBgEIQAACc5sAoszcXj9GDwEIQAACZRLIyq1JhQwXy63RA7/+qFxH5QR6rRKC1OZza2KxRg9VofslJSL4B/6s6aWcO/48odg0FedOuWHA5QQYq0uMSjM+//nPO7FFzpRUaVgskKWYZAlks9FpSsdMlUGFLiA5ZkJnTdgZSnOVg8G7GLy7Ru2OdX2plfFMbGeuTXTTTFaUCcdxu88mlBgtLBiF3DbToszFCxecOLp23Tr398LGQnnT62/W2PHjBbFox+N1tnNnftpOGR1Lokz9qPNJ/x7s7x+bmxdopizK+COF4oxKHpvb3f0ul1R3d7cTZT7qGRlrex0G+KoLk8ogH330UXv//fedKKxMmVCgkbAjIUfCnrq9sUEAAhCAwNwmgCgzt9eP0UMAAhCAwAwQSOXWhCGyXkTQA7kXU/TQLdFFJTkqzfEhw6XEFA3XB9WmQoZ9bo0e4kPRw4sUeq9U+UzYtjo8Ryg2TcW548uAQpHJv84KAxazGzduuN/wF+uWVU7WzmTHXK64JGGl3E5TYW5N6NjRPEMXkA8YjkWbDz74wD10q4OOtlJrOZXL+72P68ZlyoTHSDllwp9LlGmbHwUDB52U+gbytixDB5iKU+b06dMu3HbFihXjRJlbt3L2rW/VmzSNl14dti99adiGhoatZWF9USTKjAkzZeKdY1HG/zwUZyw/PKH70oTjhOVLRUY08tEbZi1LzFasd+VIukYU1rv30m33vaEuSwrwVd6SuiypLGn9+vXu9RtvvOG46N8SaHT/KFBcGTwSO9UOu1QJ3FSuHz4DAQhAAAIPlgCizIPlzdkgAAEIQGAOEYjFGp+h4rNkVHohJ0TcSSh+yPcP/KUewMsNv9UDf0pEyOqs5JGX07Zax5iKc2c6YcDFSrjKdRvFHbJ8sHMqbyMlLnnxaqqdprxzKeWuCV1AWguJEO3t7U50804mL1jNRG5NfIudvXHfTTMVUSY83rWevDVFusi8hoKjZdKiTD5vR48dsyUdHdbe0TFOlNHx/ur7dbZ3T+HYv/fNQdu28bbl7X6pVa5x4YRvk6mKMqE4U3f1jNU0LbB8e3ZpkAv69ZkyxUSZcyfMFi+3kWtdduPGdauvb7CWR3faT85cc4KMQnt9gK+u2b1797ouTIsWLXJdyyTeLVu2zL1WqZIEGrmtdE09//zzRcsr59BXLUOFAAQg8FATQJR5qJefyUMAAhCAwFQIhKVQcr343Je4I5T+LbHCb/4BPBQQ9CBWSkzR5334beyuKRV+q3Ppgb9YGOhsOnfU3ldCg9qFx2VcoesozvLRuIuFAcfMQy5ZbqMw0ydLIJsNcUnH9GLN8ePHHQ/9SeXWxM4aH7Q8k2JN1637wkZ8/aecMuE+vf15awlabN/qvd9NqX/QrGPR+O5K4WfjoN/BgQGXk7J69Wpb2Nw8QZS5dj1n3/l2veXzZhs3jtjvf/MTa2ooKEI6Vrh5gWa6ooyOmbveZbn5LZbvvR/iHQs0kxVlJIgqtHf1/BprbGyynw21uLJH3QM+wFduK5X6KaNK9/t7773ncmZ0DUiUeeyxx1wrdbXPVhvtz3zmMyW7vU3l+43PQAACEIDAgyWAKPNgeXM2CEAAAhCoYgKp3Bo5L/RAHjsoQjElVZbjc2tKdVYJOyvF7arD8NtUyHCpUquZcO6oHEO/6VeQa7iFYcBxcG+q9Xg4/mJhwH7MqdKwrKydUBDKEsjK7TSV5TLyoooewHVNKLzVh0PHYlVcJhd3hPKhw1m5NZO9xUKRZrKiTHiuW3eGraHuvijT2FA3biixKHPnzm07f+68y1ipb2iYIMrow3/5l3X2/vsFEemP/uCWrVox/pixQJO33JTKl8YJPKOijH8vJc5MVpTRmirgWeKkrtF3b+ddyO+VK1dcOZLK+xTmq3IuvVYI8NGjR91rfXeofEk5RFp73VNiptyZUt8Pk70W2B8CEIAABB48AUSZB8+cM0IAAhCAwENIIC6FCt0TXrCRkBA+kE+1lEh4vfslfuDXv/UzbXqoT4X16sGvVKlVOW2rJTZJgFB2hoQZL1gUc+6EAcaxsJIKA45FkGLdssKsnZBLLJClhJWsMcfiUjjmVKcpL9LpATtLXPIuoLhbWFgmp4dxL854B5YXb3TdpEKGy73tLnen3S6xSyY+Xt/A0FhQr37WfW/8cUYsN64l9s0bN1z47datW03tlcKgX3/s8+dz9ud/XnDHfO1Xu+21V7NdPtpn8OZlq29scPvnF7ZPmHJWpkwxUSYlzijsZjLlS+qipBwYlR8pXPzIyHzX9lrOKd9hSZ3cdF3KHSNXjTqXPffccy6LRkG/Emh0/cgpI5eNcmfYIAABCEBg7hNAlJn7a8gMIAABCEBgDhNI5dbo4TvVptmLKXEIcDllOWMPlvm8K5tJOUl8qZV/4E+1qy5VahU6d/Swqd/+q/xCD5PTde7MRhiwuJSTtSOxZzJuIy8uxZz1QO7FGp07Kx8oJS6FuTWx2BaWyYl37K7xZWw652RLobxIM1lRJrwtJdCMDPXZ/NHuSnUNTXbp4kW719fnhAptKVFG7/+X79XZsaM19uyuHvvSF3O2bGn2DS/Rpa6pyQb7+8Z2CsWZ6YgyoTiTP33IbFG71azaWPTbZ+TcCcu3LXMCy82bN23zpk128dIlu9yy0rW9DgN81YVJ14PKlPbv3++Oq3wZCTTKr1JZk0SsgwcP2ksvvWRtbW1z+JuPoUMAAhCAgCeAKMO1AAEIQAACEKhAAl7AkBCj17F7wj+U66E/FFP0UBdn1ujfpcQUH36balcdht/qgT/LSRJjVNeld955xzkCNC65gGbDuTMbYcCaS5bbKA52TvHIchvdunXLlLOjLjraQh7T6Y4lQSMVMhy6gOT2SZVCTSa35vrt8Z2ZwjWPnTLx9TA40G/zmmqtt6/g1NL1UVtTYx1LlxcVZY4ezdn3vldvzz7ZY/X1dfab/2p8nkx4Hi/KhO+FAo1ZblxL7NSt7zNlin0tSGyx1k6zW5fGdksJNF6UkdvFtf5eu9aVMfWv3e4cQsqKUUmT3tdruV/0es+ePdbZ2enKlFTyJiHt8ccftzNnzti5c+dci3mtGxsEIAABCMx9Aogyc38NmQEEIAABCDxEBFK5NXrwTrXwjsWUuFRJrZmLtan2WOXsSIkpEln8JmdHHNYrV4jKM77whS9klkP5FtOz4dyZrQDjcrN2fFlRyEWc1AJ5586drqQr3GZDXNIxQ7FG66h1K5Zb47tC+aBlXwqVKmkLRZpyRRk353zeXRst7cvddaNtaHjYFs0vlB6Fm2QglTCt7rxtH37QYH/6rUFrzWjLnRJl/LEkztRdP2c18xZafvGKzG+NSYky/igZ4oxEmZGWTvv47Fl3r61YvtyOnzhh83a+4NZfba/ljFFwr+/CpHI/5cZItFFLbL2vgF8JNIcOHXJrJ6GzWKneQ/SVyFQhAAEIzHkCiDJzfgmZAAQgAAEIQKBAICu3JnZQyJGRVUqkB3KJNd49UYytRA+JKbG7Rv/2pVb6vNr7xm6SUrk15batnoxzx8+lnDBgCRGTbT0eu41CoSl0rGgcmr/aIYeupiyBbDY6TYUuoDBoWQ/8YfcqMUiVQqVChrtuDI7LlImvHe+U0fvDQ0NOlJFLpHnRIrdrb3e3NQXhwDVN91teK+z36Ed37b13G233q8P21V9Lu2WKiTI6R+7mRcvNW2T5ez1jw4sFmimJMhnijESZoUVLXJcpiS0tLS0u2LfzxV90mU4+wFcuGjliFACttZHDTOVNuj4k4inUd/ny5fb222+795Q7o8+zQQACEIDA3CeAKDP315AZQAACEIAABIoSiMWa2PkSlkLFuTWx+6WUmOLFIQk/Bw4cMIkRehj154jDb1M5LaUeNrPGX8q5o3OVEpvKaT2uAOPJhAGLSZi1IzFCoo9vix0KZKnjZo25HHHJC0Ch+ONfp0ra/DFTIcNhbk2WWOPdGz33CmVONbn7Yb+hKHO3t9fOnj3r8mQaR8twRvruWONoy+u+/qGxa1rijLKp//7/3LOfvt5kjU15+/a3B23+vImXfbmizJhAlxBnyhFl9PmxEqbU3TfqnMnfvGr9Kza7rkorV650697V1WXrvvQ1V76lAN+XX37ZhQArO0ZhvsqNOXz4sMuN0TWtrJldu3Y5sVQCzZo1a1z5G52X+OKHAAQgUB0EEGWqYx2ZBQQgAAEIQGDSBGKxxrsnUiHDoZiSKstJ5daoS4z2VRaGF2tUUpUqVQpLreJcHC8ilCrXCNtWh+cInTu+49RknTszGQasEFeJVd4VEbqNwnHHXbImM+bZ6DQV59Z4oS1cO59bE5ZA6XX/cL0NDQ3a/MZC9ySFQF++csW2btliuZrCe6EoE17MXqC5cnHA/uK7hXDbX/6VIfviFwrZNOE2WVEmJc5IAcrNz6iPCk5WVJQZ3a//jX+0ewva3XyXPvO8u/YV2rv5V77h3DM+wFfijO/CJCeNWmKrZbb+VlcmCTS6BpU1o/Bf5c6wQQACEIBAdRBAlKmOdWQWEIAABCAAgRkjEOfWSBzQg7cyYsJSFz1gpnJrvHig3/zLHeBaHpfY5MJIiTWh+0UP/CkniZwrxVwDPrcmzMWZKefOVFqPi6M68bzyyisls3ZSWT6xQJZikuU2mklxyS+pdy7F10ZYJidXji+DWtjc4jqASeRZt369yUuj9Rvp77Wm0XbWqctl6OYV+/v/N8/6+sxkrvmlr7dYfd3MiDLhUfJH3zZbuNi9lVu5IfPKLUuUOXrQrtctsMGuk7asc6l19/RY75LlzikTBviqjEmi444dO5zDTEzV9loCzeXLl+355593As5HH33kXnd0dJS6pfg5BCAAAQjMEQKIMnNkoRgmBCAAAQhAoBIIxO4a754IH8j1OuwkFIcA+9yaUmKK5hu6X2KBwotHeuAPQ4y9SCERoJRYM1vOnckEGKdKuLK6ZZWbtRO6jcLjF8utSXXHijtNpcqgskrafOaQvzZ8yHDoXGpb3OECcOsbGqy5sc7q62rcv/XHBwv7NayqTbR2AAAgAElEQVTpvWU//ukC+8EP6uzpXb321FMjtnFD3vKjAooTUUZbYmfdKz5Tpti9lO86ZdayxKz76thuKXGmXFHm4ki9c0atX7fOrh9633VC6/zXv+8CfBX2u2HDBhf4q1BflXPJYaaSv82bNzsRRveABBqVe6n7kjovaX3ZIAABCECgOgggylTHOjILCEAAAhCAwKdKIJVbkyqD0oN/sbIcCSq+60+xCfnw21QLbx9Uq4f5WPDQ8SUilMqtkXMn5VIJxaapOHfESY6H9957z9atW+dY+POEYcBTCTAu122UYpIlkE2n01RWK3YdU3kqykqRKCHxRevYunC+3b1zZ2zZ6xvqxwQajW9Bvs+G8gvsO9+Zb8v7Prbd8/bYrvXXbfCxbTaybq3Zkk7JMlZXpFX0pEQZP5IMcaY8UeaAfdxnTohZuWKFnRgN/O187StjAb5yvagd9rZt21wbbHVe2rRpkwtBDgUalTHJZaVSpnK6pn2qXwicHAIQgAAEyiaAKFM2KnaEAAQgAAEIQGCyBFK5NaGQEoYMFyvL8e6XUmKKzif3S0pQkavHb1m5OOXk1mRlwJTr3JF48i//8i8uG0QddfwWhgGH4y8WYOwFlmIBxlluo1ggi0OddexiApkPRY5Zx+JSSgSSqLBv3z7nZHr66acdAu8Cun3zmltD/0fnGRocsrb6Ebt99541/O93bdv1dydcin1f/VWzLY8UWl63Lbdczf2QYb/zlESZDHGmHFHm3pEDdvL2gGt53dbWZqdOnnQlffVPvTQW4Kt5S6RTRyUJVOIiZ4w6NUmgkWNGn5GIpXXWfllOqsnen+wPAQhAAAKfPgFEmU9/DRgBBCAAAQhA4KEjkMqtkQtFD/hxC+9QTEmV5UhMKCWmCHAYfhvm14TuF+fIWLBgQnZNqVKryTp31GFHrgiVrpRy7pTTenwqAcZaAwkzqSyfuEtWnFsjRqVya1IlbWGnKa2Zzq+SHQkWOkcsLvXd/sTdGyPDIzbUfcVqf/y6LfznH5p6O02UXMzu/OIrdmPrdmuuz1ldba0TL3IdKy2n/3I51xK7ZkHxEN+x8qWsu3LUOdN34ANrfO61ovfu3UMf2omeAVu+YrnV1dbZ+fPn3Xxvb9g+FuCra+Ho0aOu85IcRAcPHnQhv7pe1QJbAo34qPOS3DMKzqbz0kP3lcmEIQCBKiaAKFPFi8vUIAABCEAAAnONQCzWePdEKmQ4LiWaTFlOyEVOkpQwofdi94uEg1CgkEhUTm5NLFCo044/tsYyFedOKsDYz2M6rce92yhVGhYLZKmQ4SyBLCUuKcRW/DyLYuLSwKVT1vTtPzO73WO5QsftcZveyu/YZKefecH6LG/5kby1NNa440uguTd/sbUO37F808JCjk39xNwaNxafKVPi5unb97rZokIgcOOW7cm9u/e/Zx/fHbY1a9dY370+u3L1qnO+XOhYPRbgq0Dsa9eu2XPPPecyYyTcvPjii+49L9Do4MqdUStsCXlsEIAABCBQPQQQZapnLZkJBCAAAQhAoKoJFMutict9skqJvHBTKgRYIH1npZRg43NrVG6SChnWez6oNrUoCnDVmB999NEJpVbTde6kwoBT7asnGwaseZSTtTMZt9Hhw4dd22e1B0+5dkJxqfPyZfvs7/2eDXz1y5nXef7RdWafe9XymzbZwOCgC9j1ZVD1Q302PDRkTXdu2KW6glvGhwpLSNK49e/G6xcs19qpllBjbpyU8NZ/9KDZ0kfccfKXP54gzmgdbr6/z7oGamzzli129eoVu3v3ngv8PdrU5q6vnTt3mlqka1M526FDh9yYn3zySSfQdHV1OYFG3brUrenZZ591Dis2CEAAAhCoHgKIMtWzlswEAhCAAAQg8FASiMUan6Hig4bD3JpQTAndKaEDppiY4h7A83n34JzKrZFooU0P8RI9Uk4SldScPHnSddN59dVXJ6xZOW2rfcepyTp3ZiMMWBOYqttIn1U7aJXoLF26dByLWFwafv992/r1r4/bJxZoJMr0Pf281T62LZ27ks/b0MkPbbC20bWdvr1gsfX3Dzjhxl8bOsHivk/sXkOzNdTXW4MXaxoaxo6p9ZUok1u2ZvyYA3FG47/69h67UbfANqxfb2fPnbO6ulpbuWKlvTfc4NpaK9B3z549TmjZuHGjK1datGiRayMvl4zGJYFG7hk5al577TXnqmKDAAQgAIHqIYAoUz1ryUwgAAEIQAACEAgIhKVQciX43JewRbN3wXgxRR/3Yk3Y/lniRznhqj78NnbXxOG3OpbGsWXLFhfoqnPJpVGsFGo2nTvltB5XadFkw4Bj5iGXUATRsZcsWTJBxBonkPX3W8O6dWa3blkuP7F+qf+rX7b89g12ZOdTNtLQaLV1tc79Ev+pu3berKVzfMvr5eucKKN1GhjoN7t4xj4Zqbd+FzJcENq0aZzeXdN48ZyNdKx0x6+rr3eumrFw4SvnpN7ZpaZma7x0zhZv3ek6L7W2tlh7e4cdP3bM2l/9Zdd9SmG+EmEU+qzXypx55JFHxgk0x44dc26Zl19+mc5LfMtBAAIQqDICiDJVtqBMBwIQgAAEIACB4gRSuTVyJMhZE4cMh2JKXJYjIaW5ubmkmKLRxO4XZcroITvcVEKTChkuJ7dmus6dLGJxGHDoDirWetyXdGWFAXu3kUQalegoW0bilEq34i5ZoRDU+b3v2cLvfjdzgQe/+U3r/Q+/O657k9ZWx1TGjLa2/m6717DQGhsbrLGxyRYM9TpRRbkzNSvWu31Guk5aTsLNaBlb2A3KvR4YsNpzp+2T+oVuH4lHLqdmtI13Y0OhFKr7xEGrOX7KFv/a15zTZcWKFc558/GZM/bIV37DiTzvvPOOc8No/71797oypsWLFzuBRvkxq1evdm4iCXkq8ypHHOQ7AAIQgAAE5g4BRJm5s1aMFAIQgAAEIACBWSYQl0LJQeOFGv+3hATln6RCgEN3TTExxbfFVnCr2iWnSqHkMtHmw29jwUaOnlKlVuW0rZbYFJdBlXLulNt63JdwxWVcYRiwBKuf/OQntnbtWlfOE3bJCrlIeMoNDdmT3/2urdyzx7EJuzAN7d5tQ3/zN5YbLe/JXzp5/2pRq/SBgYLgc+mMdVtjQbgZ6HednbTlcmYd9XknejR2nbahxz7rBJTGhvuBwOHld+/IRzbUtty5a/ok/IyKNfrbr50Tga7fcMeUCLf61d1uv4sXL9qj3/gd121JuTovvfSSSahT1pACf/X5t956ywk07e3tLuRXrhr9u9Saz/ItwuEhAAEIQGCGCSDKzDBQDgcBCEAAAhCAQPURSOXWSJzxuTVhWY5/II9DgENRRT/78Y9/7MpUlCUSb76zUipkOMytkTCTalddyk3hnTuxGBSKTVN17kwlDFidhsRSbaGzRIcxt9GdO2b/9E+26G//1movXbK7LS12/pVX7PKTT1p9U1PabfTJhYLqIiHn4ulC+dKorDM4NGQDLldGocCFfJmFZw5ab67B7XFn8TLXcr2xqckJNL4cys6csNoVayde7HkzHbPv3j3r6++z3InTdq9jmfUePeByc9yaLl9mj/3m79qpU6dc0LFaYJ87d86F+0qgkVjjBRqtpdphb9u2zV0rtMOuvu8XZgQBCDzcBBBlHu71Z/YQgAAEIAABCEyDgHfLSIjRa5+hkgoZjkOA5drQA/66detcGZREm1Jiig+/jcUaiSsSE/zW1NSUDBlWiUyxzefWzIZzp5wwYJ9bM5kA46wxi1EY7Kxjrq4fsEV3b1q+uWOs21JK5Bg8edhG2lfY0IXTTmBxglD7cuvv63MdqLTNu9xldxa0mUqVXOemxkZrGv27vq7OFDKj83/yznt2c36rc1cpL+bGh2/b8MiIbf7Db9uBAwfcsRV0fOTIEeeYeuqpp1wI9Mcff+wEmu7uble+pNIluWXYIAABCECgugggylTXejIbCEAAAhCAAAQqgEAqt0ZlLqFYc/36dVdO49s+a9i+lCh01fjcmlLT0nFSYorEAL/J8ZHqCCURp5gDYzLOnbCEy2fLFBObvKjy7rvvulItZcv4eUyn9XixLlmddy47JDLPFIJ7G62xSaVKBYGltuu01Yy2u9Z++ctnxxjWrtviSqHuHf7Ieue3jZVByWWjcF9tNbW1zlUjocZOnHSijNivWrXKuWHkcNryb/6tK1FSfszmzZtN89f7csSopEmikgQalTodPXrUderS2rFBAAIQgEB1EUCUqa71ZDYQgAAEIAABCFQ4gazcmjhkWKG3XtyJS4l8yHApMUUoJHroAd+7a8IW4XFuTSzYlMqtidtWh6LQZJ07codIfFAJk+YVhgHHYpMPAy7Vejx1KcRuo7pzh0YzYQbGXDALb1yyO/NaJ3Zv6r5qtTU17rDDA0OWW/bI2CkUJCwXjfJlwlKoocNH7HbrEmtrW2xLlnTYiRMnXaepNb/xDRfmqxydlStX2s9//nNXzqZsnVCgUUDw1atXbffu3XReqvB7m+FBAAIQmAoBRJmpUOMzEIAABCAAAQhAYIYJxGJN7HxJiSk+tyZuVV1KTNHQvfslFDz8a+/ekejh3S6xYJPVWcljyRp/lnNHocAnT560NWvWuFbhxZw75bQeT7mONIes1uMjJz90Apbr1nTikN1uanFOpv6+fhsYlAumMDPNu32414YPHbHhjpW2cOdOJ9648OJCbM24refd9214xRr33tDQsJ09+7HrqNTyxS/bvn37XOmS1uvNN9+0HTt2WEdHh8uQkTgjFh9++KH77LPPPluyvG2GL0kOBwEIQAACD4AAoswDgMwpIAABCEAAAhCAwFQJxGJNmKEiEcX/kRMmFFP0oJ9qsV1Obo2EiVTIcOh+kYiSOn6p3BqVJEmYid0vOt90nTtx63E/h8kEGEucUaZMrnP12JLJBaNOTeNaYx88ZIP9/WNuppF16wvdmtyfQrttlTD1HTho9eu32MDAoN25c9u1/96wYaONPP1ZO3jwoAv5FQuJL5/97Ged6OMFGjlq9uzZ44QaiTd0XprqXcTnIAABCFQuAUSZyl0bRgYBCEAAAhCAAAQyCcS5Nd7l0dPTM06okTARlxLFmTW+BXYp3CrPSYk1oftFokwqt0ZiRancGgkW+/fvd9krmt9MOXemEmC86NwRa2psKjhraiZaYHree89qV28slCydPOxcMENDgza4Zq3jPTI87HDWnvnYBjpXueMMDw+58qbNmzbZrS3b7Pz58/biiy/ahQsXTGVKKt1Sa2wv0IiZSpzkHCrlHiq1dvwcAhCAAAQqkwCiTGWuC6OCAAQgAAEIQAACUyYQu2tUhhN3hJLgodwav001BFifD90vsQPGi0dy6ISlUF64kaPHizXa94033nDdqHbu3OmGpvdmy7lTToDx0msfO0HFt8J2YcBNjTZw8KDVr90ybo0GTh8d+/e87TvcuHvef9/utS8vZM309bu8nJUrV9jFR9aZwp+ffPJJO3bsmBNj1GFJQo1aZUugEct33nnHdu3a5XJn2CAAAQhAoPoIIMpU35oyIwhAAAIQgAAEIJAkkJVbE5dByfmSVUrkXTbl5Nb4FuFxyLDO5zsr+dwaL9JIKFLHIYkSKpEqtsmlkuo4FYpNElTijlA6VzHnTqr1eO2Rd53IMjQ45IZUe/q03Vu8zBqbCmVKY6JNY6ONnDs5Nuz8cN7q1291/xaPwcEB16TpdOcyW7RokW3dutW1vNY4t2/fPk6gkXNInZheeeUVty8bBCAAAQhUHwFEmepbU2YEAQhAAAIQgAAEJkUglVsTCilhyHCcWxOHDEsAKRUC7N0vKUHFd1bSBLJycVyobpFNgk/YcSosuZqMcyd1ir53Xnctsbvffc/utna61y4ceGBgbHfNXyJN862rdvunH1nd+s229Iuftbq6elfCJIYHF7bY+vXrXccluYNWrFjh/h0KNHLMSKBSO2wdjw0CEIAABKqPAKJM9a0pM4IABCAAAQhAAAIzQiCVWyMXisSUuIV3KEqkQoAl3pQSUzRoHUeZKjqHhAov3ITuFwkUqZDhUrk13rmTEoOynDtedIrFpoH3f253r/WMcR7J523AtcMe/6f3zYOmoGC3qZvVc9udaHV1/UZ7/PHHraWlxbXDfuyxx2zp0qXutTJ11q1bZx999JETcJ577rmy2M3IonMQCEAAAhB4oAQQZR4obk4GAQhAAAIQgAAE5j6BWKzx5T6pkOGsUqKwpCgWU27cuOGyVJ5++mlbvHixA+bdL6muTbH7RUJK6OCRSFQqZFhiStjJyp8nFpviYw/v+VlRZ9DVf95ndZu2Wn9/n907dNAGB4es5jMb7O7jO50ooxIsuWM0V5UwyTXjBZq33nrLWltb7TOf+UxJ99Hcv6qYAQQgAIGHkwCizMO57swaAhCAAAQgAAEIzAqBVG5NKmQ4bFMdhwCrbOno0aPW1tZmTzzxRNFx+s5Kqa5Q3v2iVtKpkGG9V6rNtESZ1LFj507rsUMT8mU0r+s/fMfmPbZj3Bx6D+y31X/2H50L5vr163b8+HGXoSNOXqARA3Ve2rhxoz366KNFRaVZWUgOCgEIQAACD4QAoswDwcxJIAABCEAAAhCAwMNNIBZrfMemWLCRAOLFFBGLQ3rVmUmCRTm5NepulAoZljtFm9wzctGkWnhLUCm2SVBJ5dbUvLPXRouVrLamxvIfnLbajVusqbHRGhoVCNxkDfX1rqtU29e/bKdPn7abN2+6EiW1xlYnppdfftl1xtq3b5/9wi/8gsudYYMABCAAgeokgChTnevKrCAAAQhAAAIQgMCcIBCWQsn14nNfbt265cQK74RROZEXUzSxMLcmLCkqN7cmlSsjEcdvKqlKhRirxKhYKZQf781/+MFYvkzPT/db79JlYx2tcrkaa2xssOZf/4Kp5Esik1qAnzhxwjlnnn32Wbt69aodPHjQOWhUwsQGAQhAAALVSQBRpjrXlVlBAAIQgAAEIACBOU0glVuj3Bc5a+KQ4VhMCUOA9VrumlJiimBluV/CUiuJPqmQ4azcmk/+6f/atX9+2+Zt226DQ4PW39dv/QOFMOCRzz/j3DYK9l2zZo0L9lU5lbJmzpw5Y+fOnbPPf/7z1tTUNKfXksFDAAIQgEA2AUQZrg4IQAACEIAABCAAgTlFIC6FkoPGCzX+b4kdqdya2P1SKgRYYEK3Tpwvo59pUzlVmFvjhRu5YCS0dP33v5nAeNXvfM11m5JAI/eNwo2XLVtmGzZscC4ZiU0vvPACnZfm1NXJYCEAAQhMjgCizOR4sTcEIAABCEAAAhCAQIUSSOXWSETxuTWhoOLFlDAEOM6vKRUCrPMp+yUVBBzm1kiY8cce/PufWUNjoytfeuR3f8MJPhJfJMwoQ0ahvsuXL7e3337blU/t2rWrZH5OhS4Hw4IABCAAgTIIIMqUAYldIAABCEAAAhCAAATmLgFfCiUBRK99bk0qZDgOAQ5LlVQGpX+XCgH2LcJTYo0EmNwP33IwG3/lZSe8SLTRZ86fP+/aX7e0tLjOS2vXrrXt27fTeWnuXnqMHAIQgEBJAogyJRGxAwQgAAEIQAACEIBANRJI5dZINEmJNcVCgL1wU25uTSpkWKVWcuYo5Fei0d69e107cAkzbBCAAAQgUL0EEGWqd22ZGQQgAAEIQAACEIDAFAlk5dbEIcMqX/Lijg8BjoOAy8mt8SHDypbROQ4cOODyZNrb26c4Az4GAQhAAAJzgQCizFxYJcYIAQhAAAIQgAAEIFARBGKxRmJK6Hzxr1W6FOfWxCHDPgTYT8yH/l68eNHOnj1rr732Gp2XKmLVGQQEIACB2SOAKDN7bDkyBCAAAQhAAAIQgMBDQiAWa8KOTRJqQuFGQo42uWLCEGC9ltumq6vLBQi/9NJLdF56SK4fpgkBCDy8BBBlHt61Z+YQgAAEIAABCEAAArNMIM6tkVijTks9PT1OqAmdNXrfb0uWLLFnnnmGzkuzvD4cHgIQgMCnTQBR5tNeAc4PAQhAAAIQgAAEIPBQEojdNSpfUp5Md3e3tbW1WUdHB52XHsorg0lDAAIPEwFEmYdptZkrBCAAAQhAAAIQgEDFE/DuGpU3sUEAAhCAQHUTQJSp7vVldhCAAAQgAAEIQAACEIAABCAAAQhUKAFEmQpdGIYFAQhAAAIQgAAEIAABCEAAAhCAQHUTQJSp7vVldhCAAAQgAAEIQAACEIAABCAAAQhUKAFEmQpdGIYFAQhAAAIQgAAEIAABCEAAAhCAQHUTQJSp7vVldhCAAAQgAAEIQAACEIAABCAAAQhUKAFEmQpdGIYFAQhAAAIQgAAEIAABCEAAAhCAQHUTQJSp7vVldhCAAAQgAAEIQAACEIAABCAAAQhUKAFEmQpdGIYFAQhAAAIQgAAEIAABCEAAAhCAQHUTQJSp7vVldhCAAAQgAAEIQAACEIAABCAAAQhUKAFEmQpdGIYFAQhAAAIQgAAEIAABCEAAAhCAQHUTQJSp7vVldhCAAAQgAAEIQAACEIAABCAAAQhUKAFEmQpdGIYFAQhAAAIQgAAEIAABCEAAAhCAQHUTQJSp7vVldhCAAAQgAAEIQAACEIAABCAAAQhUKAFEmQpdGIYFAQhAAAIQgAAEIAABCEAAAhCAQHUTQJSp7vVldhCAAAQgAAEIQAACEIAABCAAAQhUKAFEmQpdGIYFAQhAAAIQgAAEIAABCEAAAhCAQHUTQJSp7vVldhCAAAQgAAEIQAACEIAABCAAAQhUKAFEmQpdGIYFAQhAAAIQgAAEIAABCEAAAhCAQHUTQJSp7vVldhCAAAQgAAEIQAACEIAABCAAAQhUKAFEmQpdGIYFAQhAAAIQgAAEIAABCEAAAhCAQHUTQJSp7vVldhCAAAQgAAEIQAACEIAABCAAAQhUKAFEmQpdGIYFAQhAAAIQgAAEIAABCEAAAhCAQHUTQJSp7vVldhCAAAQgAAEIQAACEIAABCAAAQhUKAFEmQpdGIYFAQhAAAIQgAAEIAABCEAAAhCAQHUTQJSp7vVldhCAAAQgAAEIQAACEIAABCAAAQhUKAFEmQpdGIYFAQhAAAIQgAAEIAABCEAAAhCAQHUTQJSp7vVldhCAAAQgAAEIQAACEIAABCAAAQhUKAFEmQpdGIYFAQhAAAIQgAAEIAABCEAAAhCAQHUTQJSp7vVldhCAAAQgAAEIQAACEIAABCAAAQhUKAFEmQpdGIYFAQhAAAIQgAAEIAABCEAAAhCAQHUTQJSp7vVldhCAAAQgAAEIQAACEIAABCAAAQhUKAFEmQpdGIYFAQhAAAIQgAAEIAABCEAAAhCAQHUTQJSp7vVldhCAAAQgAAEIQAACEIAABCAAAQhUKAFEmQpdGIYFAQhAAAIQgAAEIAABCEAAAhCAQHUTQJSp7vVldhCAAAQgAAEIQAACEIAABCAAAQhUKAFEmQpdGIYFAQhAAAIQgAAEIAABCEAAAhCAQHUTQJSp7vVldhCAAAQgAAEIQAACEIAABCAAAQhUKAFEmQpdGIYFAQhAAAIQgAAEIAABCEAAAhCAQHUTQJSp7vVldhCAAAQgAAEIQAACEIAABCAAAQhUKAFEmQpdGIYFAQhAAAIQgAAEIAABCEAAAhCAQHUTQJSp7vVldhCAAAQgAAEIQAACEIAABCAAAQhUKAFEmQpdGIYFAQhAAAIQgAAEIAABCEAAAhCAQHUTQJSp7vVldhCAAAQgAAEIQAACEIAABCAAAQhUKAFEmQpdGIYFAQhAAAIQgAAEIAABCEAAAhCAQHUTQJSp7vVldhCAAAQgAAEIQAACEIAABCAAAQhUKAFEmQpdGIYFAQhAAAIQgAAEIAABCEAAAhCAQHUTQJSp7vVldhCAAAQgAAEIQAACEIAABCAAAQhUKAFEmQpdGIYFAQhAAAIQgAAEIAABCEAAAhCAQHUTQJSp7vVldhCAAAQgAAEIQAACEIAABCAAAQhUKAFEmQpdGIYFAQhAAAIQgAAEIAABCEAAAhCAQHUTQJSp7vVldhCAAAQgAAEIQAACEIAABCAAAQhUKAFEmQpdGIYFAQhAAAIQgAAEIAABCEAAAhCAQHUTQJSp7vVldhCAAAQgAAEIQAACEIAABCAAAQhUKAFEmQpdGIYFAQhAAAIQgAAEIAABCEAAAhCAQHUTQJSp7vVldhCAAAQgAAEIQAACEIAABCAAAQhUKAFEmQpdGIYFAQhAAAIQgAAEIAABCEAAAhCAQHUTQJSp7vVldhCAAAQgAAEIQAACEIAABCAAAQhUKAFEmQpdGIYFAQhAAAIQgAAEIAABCEAAAhCAQHUTQJSp7vVldhCAAAQgAAEIQAACEIAABCAAAQhUKAFEmQpdGIYFAQhAAAIQgAAEIAABCEAAAhCAQHUTQJSp7vVldhCAAAQgAAEIQAACEIAABCAAAQhUKAFEmQpdGIYFAQhAAAIQgAAEIAABCEAAAhCAQHUTQJSp7vVldhCAAAQgAAEIQAACEIAABCAAAQhUKAFEmQpdGIYFAQhAAAIQgAAEIAABCEAAAhCAQHUTQJSp7vVldhCAAAQgAAEIQAACEIAABCAAAQhUKAFEmQpdGIYFAQhAAAIQgAAEIAABCEAAAhCAQHUTQJSp7vVldhCAAAQgAAEIQAACEIAABCAAAQhUKAFEmQpdGIYFAQhAAAIQgAAEIAABCEAAAhCAQHUTQJSp7vVldhCAAAQgAAEIQAACEIAABCAAAQhUKAFEmQpdGIYFAQhAAAIQgAAEIAABCEAAAhCAQHUTQJSp7vVldhCAAAQgAAEIQAACEIAABCAAAQhUKAFEmQpdGIYFAQhAAAIQgAAEIAABCEAAAhCAQHUTQJSp7vVldhCAAAQgAAEIQAACEIAABCAAAQhUKAFEmQpdGIYFAQhAAAIQgAAEIAABCEAAAhCAQHUTQJSp7vVldswrV5wAAAA4SURBVBCAAAQgAAEIQAACEIAABCAAAQhUKAFEmQpdGIYFAQhAAAIQgAAEIAABCEAAAhCAQHUT+P8omWP/5DOjKQAAAABJRU5ErkJggg==\" width=\"900\">"
      ],
      "text/plain": [
       "<IPython.core.display.HTML object>"
      ]
     },
     "metadata": {},
     "output_type": "display_data"
    }
   ],
   "source": [
    "fig = plt.figure(figsize = (9, 5))\n",
    "ax = Axes3D(fig)\n",
    "ax.set_xlabel('X')\n",
    "ax.set_ylabel('Y')\n",
    "ax.set_zlabel('Z')\n",
    "\n",
    "\n",
    "plot_surface(func, ax)\n",
    "ax.scatter(*zip(*map(lambda gd: gd[:, 0], grad_data)), c = 'r', marker = 'o')\n",
    "\n",
    "\n",
    "\n",
    "lines = []\n",
    "color_points = ['red', 'green', 'blue', 'magenta']\n",
    "for i, gd in enumerate(grad_data):\n",
    "    ln, = ax.plot(gd[0, :1], gd[1, :1], gd[2, :1], c = color_points[i], marker = None)\n",
    "    lines.append(ln)\n",
    "    \n",
    "anim = FuncAnimation(fig, update_grads, len(zs), interval = 1, fargs = (lines, grad_data))\n",
    "plt.show()"
   ]
  },
  {
   "cell_type": "code",
   "execution_count": 28,
   "metadata": {},
   "outputs": [
    {
     "name": "stdout",
     "output_type": "stream",
     "text": [
      "x =  -3.779  y =  -3.284  z =  0.0\n",
      "x =  -2.805  y =  3.132  z =  0.0\n",
      "x =  3.002  y =  2.001  z =  0.0\n",
      "x =  3.584  y =  -1.848  z =  0.0\n"
     ]
    }
   ],
   "source": [
    "for i in range(4):\n",
    "    print(\"x = \", round(grad_data[i][0, -1], 3), \" y = \", round(grad_data[i][1, -1], 3), \" z = \", round(grad_data[i][2, -1], 3))"
   ]
  },
  {
   "cell_type": "code",
   "execution_count": null,
   "metadata": {},
   "outputs": [],
   "source": []
  }
 ],
 "metadata": {
  "kernelspec": {
   "display_name": "Python 3",
   "language": "python",
   "name": "python3"
  },
  "language_info": {
   "codemirror_mode": {
    "name": "ipython",
    "version": 3
   },
   "file_extension": ".py",
   "mimetype": "text/x-python",
   "name": "python",
   "nbconvert_exporter": "python",
   "pygments_lexer": "ipython3",
   "version": "3.6.10"
  }
 },
 "nbformat": 4,
 "nbformat_minor": 4
}
